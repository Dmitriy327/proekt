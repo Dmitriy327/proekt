{
 "cells": [
  {
   "cell_type": "markdown",
   "metadata": {},
   "source": [
    "# Прогнозирование оттока клиентов в сети отелей «Как в гостях»"
   ]
  },
  {
   "cell_type": "markdown",
   "metadata": {},
   "source": [
    "# Описание проекта  \n",
    "Заказчик этого исследования — сеть отелей «Как в гостях».   \n",
    "Чтобы привлечь клиентов, эта сеть отелей добавила на свой сайт возможность забронировать номер без предоплаты. Однако если клиент отменял бронирование, то компания терпела убытки. Сотрудники отеля могли, например, закупить продукты к приезду гостя или просто не успеть найти другого клиента.  \n",
    "Чтобы решить эту проблему, вам нужно разработать систему, которая предсказывает отказ от брони. Если модель покажет, что бронь будет отменена, то клиенту предлагается внести депозит. Размер депозита — 80% от стоимости номера за одни сутки и затрат на разовую уборку. Деньги будут списаны со счёта клиента, если он всё же отменит бронь.  "
   ]
  },
  {
   "cell_type": "markdown",
   "metadata": {},
   "source": [
    "# Бизнес-метрика и другие данные\n",
    "Основная бизнес-метрика для любой сети отелей — её прибыль. Прибыль отеля — это разница между стоимостью номера за все ночи и затраты на обслуживание: как при подготовке номера, так и при проживании постояльца.  \n",
    "  \n",
    "В отеле есть несколько типов номеров. В зависимости от типа номера назначается стоимость за одну ночь. Есть также затраты на уборку. Если клиент снял номер надолго, то убираются каждые два дня.  \n",
    "  \n",
    "Стоимость номеров отеля:  \n",
    "категория A: за ночь — 1 000, разовое обслуживание — 400;  \n",
    "категория B: за ночь — 800, разовое обслуживание — 350;  \n",
    "категория C: за ночь — 600, разовое обслуживание — 350;  \n",
    "категория D: за ночь — 550, разовое обслуживание — 150;  \n",
    "категория E: за ночь — 500, разовое обслуживание — 150;  \n",
    "категория F: за ночь — 450, разовое обслуживание — 150;  \n",
    "категория G: за ночь — 350, разовое обслуживание — 150    \n",
    "В ценовой политике отеля используются сезонные коэффициенты: весной и осенью цены повышаются на 20%, летом — на 40%.  \n",
    "Убытки отеля в случае отмены брони номера — это стоимость одной уборки и одной ночи с учётом сезонного коэффициента.  \n",
    "На разработку системы прогнозирования заложен бюджет — 400 000. При этом необходимо учесть, что внедрение модели должно  окупиться за тестовый период. Затраты на разработку должны быть меньше той выручки, которую система принесёт компании.  "
   ]
  },
  {
   "cell_type": "markdown",
   "metadata": {},
   "source": [
    "### Шаг 1. Откройте файлы с данными"
   ]
  },
  {
   "cell_type": "code",
   "execution_count": 1,
   "metadata": {},
   "outputs": [],
   "source": [
    "import pandas as pd\n",
    "import numpy as np\n",
    "import os\n",
    "import seaborn as sns\n",
    "import matplotlib.pyplot as plt\n",
    "from statsmodels.stats.outliers_influence import variance_inflation_factor\n",
    "\n",
    "from sklearn.preprocessing import OneHotEncoder\n",
    "from sklearn.preprocessing import OrdinalEncoder\n",
    "from sklearn.preprocessing import StandardScaler\n",
    "from sklearn.compose import make_column_transformer\n",
    "from sklearn.compose import make_column_selector\n",
    "\n",
    "from sklearn.pipeline import make_pipeline\n",
    "from sklearn.model_selection import GridSearchCV\n",
    "\n",
    "from sklearn.metrics import f1_score\n",
    "from sklearn.metrics import confusion_matrix\n",
    "from sklearn.metrics import accuracy_score\n",
    "from sklearn.metrics import precision_score\n",
    "from sklearn.metrics import recall_score\n",
    "\n",
    "from sklearn.ensemble import RandomForestClassifier\n",
    "from sklearn.ensemble import AdaBoostClassifier\n",
    "from sklearn.ensemble import GradientBoostingClassifier\n",
    "from sklearn.linear_model import LogisticRegression\n",
    "from sklearn.svm import LinearSVC\n",
    "\n",
    "from sklearn import set_config\n",
    "from sklearn.dummy import DummyClassifier\n",
    "import warnings\n",
    "warnings.filterwarnings(\"ignore\")"
   ]
  },
  {
   "cell_type": "code",
   "execution_count": 2,
   "metadata": {},
   "outputs": [],
   "source": [
    "df_train = pd.read_csv('/datasets/hotel_train.csv')\n",
    "df_test = pd.read_csv('/datasets/hotel_test.csv')"
   ]
  },
  {
   "cell_type": "markdown",
   "metadata": {},
   "source": [
    "### Шаг 2. Предобработка и исследовательский анализ данных"
   ]
  },
  {
   "cell_type": "code",
   "execution_count": 3,
   "metadata": {
    "scrolled": true
   },
   "outputs": [
    {
     "data": {
      "text/html": [
       "<div>\n",
       "<style scoped>\n",
       "    .dataframe tbody tr th:only-of-type {\n",
       "        vertical-align: middle;\n",
       "    }\n",
       "\n",
       "    .dataframe tbody tr th {\n",
       "        vertical-align: top;\n",
       "    }\n",
       "\n",
       "    .dataframe thead th {\n",
       "        text-align: right;\n",
       "    }\n",
       "</style>\n",
       "<table border=\"1\" class=\"dataframe\">\n",
       "  <thead>\n",
       "    <tr style=\"text-align: right;\">\n",
       "      <th></th>\n",
       "      <th>id</th>\n",
       "      <th>is_canceled</th>\n",
       "      <th>lead_time</th>\n",
       "      <th>arrival_date_year</th>\n",
       "      <th>arrival_date_month</th>\n",
       "      <th>arrival_date_week_number</th>\n",
       "      <th>arrival_date_day_of_month</th>\n",
       "      <th>stays_in_weekend_nights</th>\n",
       "      <th>stays_in_week_nights</th>\n",
       "      <th>adults</th>\n",
       "      <th>...</th>\n",
       "      <th>is_repeated_guest</th>\n",
       "      <th>previous_cancellations</th>\n",
       "      <th>previous_bookings_not_canceled</th>\n",
       "      <th>reserved_room_type</th>\n",
       "      <th>booking_changes</th>\n",
       "      <th>days_in_waiting_list</th>\n",
       "      <th>customer_type</th>\n",
       "      <th>required_car_parking_spaces</th>\n",
       "      <th>total_of_special_requests</th>\n",
       "      <th>total_nights</th>\n",
       "    </tr>\n",
       "  </thead>\n",
       "  <tbody>\n",
       "    <tr>\n",
       "      <th>0</th>\n",
       "      <td>0</td>\n",
       "      <td>0</td>\n",
       "      <td>7.0</td>\n",
       "      <td>2015</td>\n",
       "      <td>July</td>\n",
       "      <td>27</td>\n",
       "      <td>1</td>\n",
       "      <td>0</td>\n",
       "      <td>1</td>\n",
       "      <td>1.0</td>\n",
       "      <td>...</td>\n",
       "      <td>0</td>\n",
       "      <td>0</td>\n",
       "      <td>0</td>\n",
       "      <td>A</td>\n",
       "      <td>0</td>\n",
       "      <td>0</td>\n",
       "      <td>Transient</td>\n",
       "      <td>0</td>\n",
       "      <td>0</td>\n",
       "      <td>1</td>\n",
       "    </tr>\n",
       "    <tr>\n",
       "      <th>1</th>\n",
       "      <td>1</td>\n",
       "      <td>0</td>\n",
       "      <td>14.0</td>\n",
       "      <td>2015</td>\n",
       "      <td>July</td>\n",
       "      <td>27</td>\n",
       "      <td>1</td>\n",
       "      <td>0</td>\n",
       "      <td>2</td>\n",
       "      <td>2.0</td>\n",
       "      <td>...</td>\n",
       "      <td>0</td>\n",
       "      <td>0</td>\n",
       "      <td>0</td>\n",
       "      <td>A</td>\n",
       "      <td>0</td>\n",
       "      <td>0</td>\n",
       "      <td>Transient</td>\n",
       "      <td>0</td>\n",
       "      <td>1</td>\n",
       "      <td>2</td>\n",
       "    </tr>\n",
       "    <tr>\n",
       "      <th>2</th>\n",
       "      <td>2</td>\n",
       "      <td>0</td>\n",
       "      <td>0.0</td>\n",
       "      <td>2015</td>\n",
       "      <td>July</td>\n",
       "      <td>27</td>\n",
       "      <td>1</td>\n",
       "      <td>0</td>\n",
       "      <td>2</td>\n",
       "      <td>2.0</td>\n",
       "      <td>...</td>\n",
       "      <td>0</td>\n",
       "      <td>0</td>\n",
       "      <td>0</td>\n",
       "      <td>C</td>\n",
       "      <td>0</td>\n",
       "      <td>0</td>\n",
       "      <td>Transient</td>\n",
       "      <td>0</td>\n",
       "      <td>0</td>\n",
       "      <td>2</td>\n",
       "    </tr>\n",
       "    <tr>\n",
       "      <th>3</th>\n",
       "      <td>3</td>\n",
       "      <td>0</td>\n",
       "      <td>9.0</td>\n",
       "      <td>2015</td>\n",
       "      <td>July</td>\n",
       "      <td>27</td>\n",
       "      <td>1</td>\n",
       "      <td>0</td>\n",
       "      <td>2</td>\n",
       "      <td>2.0</td>\n",
       "      <td>...</td>\n",
       "      <td>0</td>\n",
       "      <td>0</td>\n",
       "      <td>0</td>\n",
       "      <td>C</td>\n",
       "      <td>0</td>\n",
       "      <td>0</td>\n",
       "      <td>Transient</td>\n",
       "      <td>0</td>\n",
       "      <td>1</td>\n",
       "      <td>2</td>\n",
       "    </tr>\n",
       "    <tr>\n",
       "      <th>4</th>\n",
       "      <td>4</td>\n",
       "      <td>1</td>\n",
       "      <td>85.0</td>\n",
       "      <td>2015</td>\n",
       "      <td>July</td>\n",
       "      <td>27</td>\n",
       "      <td>1</td>\n",
       "      <td>0</td>\n",
       "      <td>3</td>\n",
       "      <td>2.0</td>\n",
       "      <td>...</td>\n",
       "      <td>0</td>\n",
       "      <td>0</td>\n",
       "      <td>0</td>\n",
       "      <td>A</td>\n",
       "      <td>0</td>\n",
       "      <td>0</td>\n",
       "      <td>Transient</td>\n",
       "      <td>0</td>\n",
       "      <td>1</td>\n",
       "      <td>3</td>\n",
       "    </tr>\n",
       "  </tbody>\n",
       "</table>\n",
       "<p>5 rows × 25 columns</p>\n",
       "</div>"
      ],
      "text/plain": [
       "   id  is_canceled  lead_time  arrival_date_year arrival_date_month  \\\n",
       "0   0            0        7.0               2015               July   \n",
       "1   1            0       14.0               2015               July   \n",
       "2   2            0        0.0               2015               July   \n",
       "3   3            0        9.0               2015               July   \n",
       "4   4            1       85.0               2015               July   \n",
       "\n",
       "   arrival_date_week_number  arrival_date_day_of_month  \\\n",
       "0                        27                          1   \n",
       "1                        27                          1   \n",
       "2                        27                          1   \n",
       "3                        27                          1   \n",
       "4                        27                          1   \n",
       "\n",
       "   stays_in_weekend_nights  stays_in_week_nights  adults  ...  \\\n",
       "0                        0                     1     1.0  ...   \n",
       "1                        0                     2     2.0  ...   \n",
       "2                        0                     2     2.0  ...   \n",
       "3                        0                     2     2.0  ...   \n",
       "4                        0                     3     2.0  ...   \n",
       "\n",
       "   is_repeated_guest  previous_cancellations previous_bookings_not_canceled  \\\n",
       "0                  0                       0                              0   \n",
       "1                  0                       0                              0   \n",
       "2                  0                       0                              0   \n",
       "3                  0                       0                              0   \n",
       "4                  0                       0                              0   \n",
       "\n",
       "  reserved_room_type booking_changes  days_in_waiting_list  customer_type  \\\n",
       "0   A                              0                     0      Transient   \n",
       "1   A                              0                     0      Transient   \n",
       "2   C                              0                     0      Transient   \n",
       "3   C                              0                     0      Transient   \n",
       "4   A                              0                     0      Transient   \n",
       "\n",
       "   required_car_parking_spaces total_of_special_requests  total_nights  \n",
       "0                            0                         0             1  \n",
       "1                            0                         1             2  \n",
       "2                            0                         0             2  \n",
       "3                            0                         1             2  \n",
       "4                            0                         1             3  \n",
       "\n",
       "[5 rows x 25 columns]"
      ]
     },
     "metadata": {},
     "output_type": "display_data"
    },
    {
     "data": {
      "text/html": [
       "<div>\n",
       "<style scoped>\n",
       "    .dataframe tbody tr th:only-of-type {\n",
       "        vertical-align: middle;\n",
       "    }\n",
       "\n",
       "    .dataframe tbody tr th {\n",
       "        vertical-align: top;\n",
       "    }\n",
       "\n",
       "    .dataframe thead th {\n",
       "        text-align: right;\n",
       "    }\n",
       "</style>\n",
       "<table border=\"1\" class=\"dataframe\">\n",
       "  <thead>\n",
       "    <tr style=\"text-align: right;\">\n",
       "      <th></th>\n",
       "      <th>id</th>\n",
       "      <th>is_canceled</th>\n",
       "      <th>lead_time</th>\n",
       "      <th>arrival_date_year</th>\n",
       "      <th>arrival_date_month</th>\n",
       "      <th>arrival_date_week_number</th>\n",
       "      <th>arrival_date_day_of_month</th>\n",
       "      <th>stays_in_weekend_nights</th>\n",
       "      <th>stays_in_week_nights</th>\n",
       "      <th>adults</th>\n",
       "      <th>...</th>\n",
       "      <th>is_repeated_guest</th>\n",
       "      <th>previous_cancellations</th>\n",
       "      <th>previous_bookings_not_canceled</th>\n",
       "      <th>reserved_room_type</th>\n",
       "      <th>booking_changes</th>\n",
       "      <th>days_in_waiting_list</th>\n",
       "      <th>customer_type</th>\n",
       "      <th>required_car_parking_spaces</th>\n",
       "      <th>total_of_special_requests</th>\n",
       "      <th>total_nights</th>\n",
       "    </tr>\n",
       "  </thead>\n",
       "  <tbody>\n",
       "    <tr>\n",
       "      <th>0</th>\n",
       "      <td>6086</td>\n",
       "      <td>1</td>\n",
       "      <td>74.0</td>\n",
       "      <td>2017</td>\n",
       "      <td>January</td>\n",
       "      <td>1</td>\n",
       "      <td>1</td>\n",
       "      <td>1</td>\n",
       "      <td>0</td>\n",
       "      <td>2.0</td>\n",
       "      <td>...</td>\n",
       "      <td>0</td>\n",
       "      <td>0</td>\n",
       "      <td>0</td>\n",
       "      <td>A</td>\n",
       "      <td>0</td>\n",
       "      <td>0</td>\n",
       "      <td>Transient</td>\n",
       "      <td>0</td>\n",
       "      <td>0</td>\n",
       "      <td>1</td>\n",
       "    </tr>\n",
       "    <tr>\n",
       "      <th>1</th>\n",
       "      <td>6087</td>\n",
       "      <td>1</td>\n",
       "      <td>62.0</td>\n",
       "      <td>2017</td>\n",
       "      <td>January</td>\n",
       "      <td>1</td>\n",
       "      <td>1</td>\n",
       "      <td>2</td>\n",
       "      <td>2</td>\n",
       "      <td>2.0</td>\n",
       "      <td>...</td>\n",
       "      <td>0</td>\n",
       "      <td>0</td>\n",
       "      <td>0</td>\n",
       "      <td>A</td>\n",
       "      <td>0</td>\n",
       "      <td>0</td>\n",
       "      <td>Transient</td>\n",
       "      <td>0</td>\n",
       "      <td>1</td>\n",
       "      <td>4</td>\n",
       "    </tr>\n",
       "    <tr>\n",
       "      <th>2</th>\n",
       "      <td>6088</td>\n",
       "      <td>1</td>\n",
       "      <td>62.0</td>\n",
       "      <td>2017</td>\n",
       "      <td>January</td>\n",
       "      <td>1</td>\n",
       "      <td>1</td>\n",
       "      <td>2</td>\n",
       "      <td>2</td>\n",
       "      <td>2.0</td>\n",
       "      <td>...</td>\n",
       "      <td>0</td>\n",
       "      <td>0</td>\n",
       "      <td>0</td>\n",
       "      <td>A</td>\n",
       "      <td>0</td>\n",
       "      <td>0</td>\n",
       "      <td>Transient</td>\n",
       "      <td>0</td>\n",
       "      <td>1</td>\n",
       "      <td>4</td>\n",
       "    </tr>\n",
       "    <tr>\n",
       "      <th>3</th>\n",
       "      <td>6089</td>\n",
       "      <td>1</td>\n",
       "      <td>71.0</td>\n",
       "      <td>2017</td>\n",
       "      <td>January</td>\n",
       "      <td>1</td>\n",
       "      <td>1</td>\n",
       "      <td>2</td>\n",
       "      <td>2</td>\n",
       "      <td>1.0</td>\n",
       "      <td>...</td>\n",
       "      <td>0</td>\n",
       "      <td>0</td>\n",
       "      <td>0</td>\n",
       "      <td>A</td>\n",
       "      <td>0</td>\n",
       "      <td>0</td>\n",
       "      <td>Transient</td>\n",
       "      <td>0</td>\n",
       "      <td>1</td>\n",
       "      <td>4</td>\n",
       "    </tr>\n",
       "    <tr>\n",
       "      <th>4</th>\n",
       "      <td>6090</td>\n",
       "      <td>1</td>\n",
       "      <td>172.0</td>\n",
       "      <td>2017</td>\n",
       "      <td>January</td>\n",
       "      <td>1</td>\n",
       "      <td>1</td>\n",
       "      <td>2</td>\n",
       "      <td>5</td>\n",
       "      <td>2.0</td>\n",
       "      <td>...</td>\n",
       "      <td>0</td>\n",
       "      <td>0</td>\n",
       "      <td>0</td>\n",
       "      <td>A</td>\n",
       "      <td>0</td>\n",
       "      <td>0</td>\n",
       "      <td>Transient</td>\n",
       "      <td>0</td>\n",
       "      <td>0</td>\n",
       "      <td>7</td>\n",
       "    </tr>\n",
       "  </tbody>\n",
       "</table>\n",
       "<p>5 rows × 25 columns</p>\n",
       "</div>"
      ],
      "text/plain": [
       "     id  is_canceled  lead_time  arrival_date_year arrival_date_month  \\\n",
       "0  6086            1       74.0               2017            January   \n",
       "1  6087            1       62.0               2017            January   \n",
       "2  6088            1       62.0               2017            January   \n",
       "3  6089            1       71.0               2017            January   \n",
       "4  6090            1      172.0               2017            January   \n",
       "\n",
       "   arrival_date_week_number  arrival_date_day_of_month  \\\n",
       "0                         1                          1   \n",
       "1                         1                          1   \n",
       "2                         1                          1   \n",
       "3                         1                          1   \n",
       "4                         1                          1   \n",
       "\n",
       "   stays_in_weekend_nights  stays_in_week_nights  adults  ...  \\\n",
       "0                        1                     0     2.0  ...   \n",
       "1                        2                     2     2.0  ...   \n",
       "2                        2                     2     2.0  ...   \n",
       "3                        2                     2     1.0  ...   \n",
       "4                        2                     5     2.0  ...   \n",
       "\n",
       "   is_repeated_guest  previous_cancellations previous_bookings_not_canceled  \\\n",
       "0                  0                       0                              0   \n",
       "1                  0                       0                              0   \n",
       "2                  0                       0                              0   \n",
       "3                  0                       0                              0   \n",
       "4                  0                       0                              0   \n",
       "\n",
       "  reserved_room_type booking_changes  days_in_waiting_list  customer_type  \\\n",
       "0   A                              0                     0      Transient   \n",
       "1   A                              0                     0      Transient   \n",
       "2   A                              0                     0      Transient   \n",
       "3   A                              0                     0      Transient   \n",
       "4   A                              0                     0      Transient   \n",
       "\n",
       "   required_car_parking_spaces total_of_special_requests  total_nights  \n",
       "0                            0                         0             1  \n",
       "1                            0                         1             4  \n",
       "2                            0                         1             4  \n",
       "3                            0                         1             4  \n",
       "4                            0                         0             7  \n",
       "\n",
       "[5 rows x 25 columns]"
      ]
     },
     "metadata": {},
     "output_type": "display_data"
    }
   ],
   "source": [
    "#Взглянем на наши данные\n",
    "display(df_train.head())\n",
    "display(df_test.head())"
   ]
  },
  {
   "cell_type": "code",
   "execution_count": 4,
   "metadata": {},
   "outputs": [
    {
     "name": "stdout",
     "output_type": "stream",
     "text": [
      "<class 'pandas.core.frame.DataFrame'>\n",
      "RangeIndex: 65229 entries, 0 to 65228\n",
      "Data columns (total 25 columns):\n",
      " #   Column                          Non-Null Count  Dtype  \n",
      "---  ------                          --------------  -----  \n",
      " 0   id                              65229 non-null  int64  \n",
      " 1   is_canceled                     65229 non-null  int64  \n",
      " 2   lead_time                       65229 non-null  float64\n",
      " 3   arrival_date_year               65229 non-null  int64  \n",
      " 4   arrival_date_month              65229 non-null  object \n",
      " 5   arrival_date_week_number        65229 non-null  int64  \n",
      " 6   arrival_date_day_of_month       65229 non-null  int64  \n",
      " 7   stays_in_weekend_nights         65229 non-null  int64  \n",
      " 8   stays_in_week_nights            65229 non-null  int64  \n",
      " 9   adults                          65229 non-null  float64\n",
      " 10  children                        65229 non-null  float64\n",
      " 11  babies                          65229 non-null  float64\n",
      " 12  meal                            65229 non-null  object \n",
      " 13  country                         65229 non-null  object \n",
      " 14  distribution_channel            65229 non-null  object \n",
      " 15  is_repeated_guest               65229 non-null  int64  \n",
      " 16  previous_cancellations          65229 non-null  int64  \n",
      " 17  previous_bookings_not_canceled  65229 non-null  int64  \n",
      " 18  reserved_room_type              65229 non-null  object \n",
      " 19  booking_changes                 65229 non-null  int64  \n",
      " 20  days_in_waiting_list            65229 non-null  int64  \n",
      " 21  customer_type                   65229 non-null  object \n",
      " 22  required_car_parking_spaces     65229 non-null  int64  \n",
      " 23  total_of_special_requests       65229 non-null  int64  \n",
      " 24  total_nights                    65229 non-null  int64  \n",
      "dtypes: float64(4), int64(15), object(6)\n",
      "memory usage: 12.4+ MB\n",
      "<class 'pandas.core.frame.DataFrame'>\n",
      "RangeIndex: 32412 entries, 0 to 32411\n",
      "Data columns (total 25 columns):\n",
      " #   Column                          Non-Null Count  Dtype  \n",
      "---  ------                          --------------  -----  \n",
      " 0   id                              32412 non-null  int64  \n",
      " 1   is_canceled                     32412 non-null  int64  \n",
      " 2   lead_time                       32412 non-null  float64\n",
      " 3   arrival_date_year               32412 non-null  int64  \n",
      " 4   arrival_date_month              32412 non-null  object \n",
      " 5   arrival_date_week_number        32412 non-null  int64  \n",
      " 6   arrival_date_day_of_month       32412 non-null  int64  \n",
      " 7   stays_in_weekend_nights         32412 non-null  int64  \n",
      " 8   stays_in_week_nights            32412 non-null  int64  \n",
      " 9   adults                          32412 non-null  float64\n",
      " 10  children                        32412 non-null  float64\n",
      " 11  babies                          32412 non-null  float64\n",
      " 12  meal                            32412 non-null  object \n",
      " 13  country                         32412 non-null  object \n",
      " 14  distribution_channel            32412 non-null  object \n",
      " 15  is_repeated_guest               32412 non-null  int64  \n",
      " 16  previous_cancellations          32412 non-null  int64  \n",
      " 17  previous_bookings_not_canceled  32412 non-null  int64  \n",
      " 18  reserved_room_type              32412 non-null  object \n",
      " 19  booking_changes                 32412 non-null  int64  \n",
      " 20  days_in_waiting_list            32412 non-null  int64  \n",
      " 21  customer_type                   32412 non-null  object \n",
      " 22  required_car_parking_spaces     32412 non-null  int64  \n",
      " 23  total_of_special_requests       32412 non-null  int64  \n",
      " 24  total_nights                    32412 non-null  int64  \n",
      "dtypes: float64(4), int64(15), object(6)\n",
      "memory usage: 6.2+ MB\n"
     ]
    }
   ],
   "source": [
    "#Отобразим инфо по нашим данным\n",
    "df_train.info()\n",
    "df_test.info()"
   ]
  },
  {
   "cell_type": "code",
   "execution_count": 5,
   "metadata": {},
   "outputs": [
    {
     "name": "stdout",
     "output_type": "stream",
     "text": [
      "False    65229\n",
      "dtype: int64\n",
      "False    32412\n",
      "dtype: int64\n"
     ]
    }
   ],
   "source": [
    "#Проверим на наличие явных дубликатов\n",
    "print(df_train.duplicated().value_counts())\n",
    "print(df_test.duplicated().value_counts())"
   ]
  },
  {
   "cell_type": "markdown",
   "metadata": {},
   "source": [
    "Явных дубликатов у нас нет."
   ]
  },
  {
   "cell_type": "code",
   "execution_count": 6,
   "metadata": {},
   "outputs": [
    {
     "data": {
      "text/plain": [
       "id                                0\n",
       "is_canceled                       0\n",
       "lead_time                         0\n",
       "arrival_date_year                 0\n",
       "arrival_date_month                0\n",
       "arrival_date_week_number          0\n",
       "arrival_date_day_of_month         0\n",
       "stays_in_weekend_nights           0\n",
       "stays_in_week_nights              0\n",
       "adults                            0\n",
       "children                          0\n",
       "babies                            0\n",
       "meal                              0\n",
       "country                           0\n",
       "distribution_channel              0\n",
       "is_repeated_guest                 0\n",
       "previous_cancellations            0\n",
       "previous_bookings_not_canceled    0\n",
       "reserved_room_type                0\n",
       "booking_changes                   0\n",
       "days_in_waiting_list              0\n",
       "customer_type                     0\n",
       "required_car_parking_spaces       0\n",
       "total_of_special_requests         0\n",
       "total_nights                      0\n",
       "dtype: int64"
      ]
     },
     "execution_count": 6,
     "metadata": {},
     "output_type": "execute_result"
    }
   ],
   "source": [
    "#Првоерим на кол-во пропусков\n",
    "df_train.isnull().sum()"
   ]
  },
  {
   "cell_type": "code",
   "execution_count": 7,
   "metadata": {},
   "outputs": [
    {
     "data": {
      "text/plain": [
       "id                                0\n",
       "is_canceled                       0\n",
       "lead_time                         0\n",
       "arrival_date_year                 0\n",
       "arrival_date_month                0\n",
       "arrival_date_week_number          0\n",
       "arrival_date_day_of_month         0\n",
       "stays_in_weekend_nights           0\n",
       "stays_in_week_nights              0\n",
       "adults                            0\n",
       "children                          0\n",
       "babies                            0\n",
       "meal                              0\n",
       "country                           0\n",
       "distribution_channel              0\n",
       "is_repeated_guest                 0\n",
       "previous_cancellations            0\n",
       "previous_bookings_not_canceled    0\n",
       "reserved_room_type                0\n",
       "booking_changes                   0\n",
       "days_in_waiting_list              0\n",
       "customer_type                     0\n",
       "required_car_parking_spaces       0\n",
       "total_of_special_requests         0\n",
       "total_nights                      0\n",
       "dtype: int64"
      ]
     },
     "execution_count": 7,
     "metadata": {},
     "output_type": "execute_result"
    }
   ],
   "source": [
    "#Првоерим на кол-во пропусков\n",
    "df_test.isnull().sum()"
   ]
  },
  {
   "cell_type": "markdown",
   "metadata": {},
   "source": [
    "Удалим лишние пробелы в столбцах."
   ]
  },
  {
   "cell_type": "code",
   "execution_count": 8,
   "metadata": {},
   "outputs": [],
   "source": [
    "df_train['reserved_room_type'] = df_train['reserved_room_type'].str.strip()\n",
    "df_test['reserved_room_type'] = df_test['reserved_room_type'].str.strip()\n",
    "df_train['meal'] = df_train['meal'].str.strip()\n",
    "df_test['meal'] = df_test['meal'].str.strip()"
   ]
  },
  {
   "cell_type": "markdown",
   "metadata": {},
   "source": [
    "Данные чистые , попробуем теперь избавиться от аномальных бронирований\n"
   ]
  },
  {
   "cell_type": "markdown",
   "metadata": {},
   "source": [
    "Дети не могут забронировать отель без взрослых , узнаем это"
   ]
  },
  {
   "cell_type": "code",
   "execution_count": 9,
   "metadata": {},
   "outputs": [
    {
     "data": {
      "text/plain": [
       "151"
      ]
     },
     "execution_count": 9,
     "metadata": {},
     "output_type": "execute_result"
    }
   ],
   "source": [
    "df_train.query('(children > 0 | babies > 0) & adults == 0').shape[0]"
   ]
  },
  {
   "cell_type": "code",
   "execution_count": 10,
   "metadata": {},
   "outputs": [],
   "source": [
    "#Удалим такие значения\n",
    "df_train.drop(df_train.query('(children > 0 | babies > 0) & adults == 0').index, inplace=True)\n",
    "df_test.drop(df_test.query('(children > 0 | babies > 0) & adults == 0').index, inplace=True)"
   ]
  },
  {
   "cell_type": "markdown",
   "metadata": {},
   "source": [
    "Проверим типы данных."
   ]
  },
  {
   "cell_type": "code",
   "execution_count": 11,
   "metadata": {},
   "outputs": [
    {
     "data": {
      "text/plain": [
       "id                                  int64\n",
       "is_canceled                         int64\n",
       "lead_time                         float64\n",
       "arrival_date_year                   int64\n",
       "arrival_date_month                 object\n",
       "arrival_date_week_number            int64\n",
       "arrival_date_day_of_month           int64\n",
       "stays_in_weekend_nights             int64\n",
       "stays_in_week_nights                int64\n",
       "adults                            float64\n",
       "children                          float64\n",
       "babies                            float64\n",
       "meal                               object\n",
       "country                            object\n",
       "distribution_channel               object\n",
       "is_repeated_guest                   int64\n",
       "previous_cancellations              int64\n",
       "previous_bookings_not_canceled      int64\n",
       "reserved_room_type                 object\n",
       "booking_changes                     int64\n",
       "days_in_waiting_list                int64\n",
       "customer_type                      object\n",
       "required_car_parking_spaces         int64\n",
       "total_of_special_requests           int64\n",
       "total_nights                        int64\n",
       "dtype: object"
      ]
     },
     "execution_count": 11,
     "metadata": {},
     "output_type": "execute_result"
    }
   ],
   "source": [
    "df_train.dtypes"
   ]
  },
  {
   "cell_type": "code",
   "execution_count": 12,
   "metadata": {
    "scrolled": true
   },
   "outputs": [
    {
     "data": {
      "text/plain": [
       "id                                  int64\n",
       "is_canceled                         int64\n",
       "lead_time                         float64\n",
       "arrival_date_year                   int64\n",
       "arrival_date_month                 object\n",
       "arrival_date_week_number            int64\n",
       "arrival_date_day_of_month           int64\n",
       "stays_in_weekend_nights             int64\n",
       "stays_in_week_nights                int64\n",
       "adults                            float64\n",
       "children                          float64\n",
       "babies                            float64\n",
       "meal                               object\n",
       "country                            object\n",
       "distribution_channel               object\n",
       "is_repeated_guest                   int64\n",
       "previous_cancellations              int64\n",
       "previous_bookings_not_canceled      int64\n",
       "reserved_room_type                 object\n",
       "booking_changes                     int64\n",
       "days_in_waiting_list                int64\n",
       "customer_type                      object\n",
       "required_car_parking_spaces         int64\n",
       "total_of_special_requests           int64\n",
       "total_nights                        int64\n",
       "dtype: object"
      ]
     },
     "execution_count": 12,
     "metadata": {},
     "output_type": "execute_result"
    }
   ],
   "source": [
    "df_test.dtypes"
   ]
  },
  {
   "cell_type": "code",
   "execution_count": 13,
   "metadata": {},
   "outputs": [],
   "source": [
    "# uint8 колонки\n",
    "uint8_columns = [\n",
    "    'is_canceled', 'arrival_date_day_of_month',\n",
    "    'stays_in_week_nights', 'adults', 'children',\n",
    "    'babies', 'is_repeated_guest', 'previous_cancellations', 'previous_bookings_not_canceled',\n",
    "    'booking_changes', 'required_car_parking_spaces', 'total_of_special_requests', 'total_nights'\n",
    "]\n",
    "\n",
    "# uint16 колонки\n",
    "uint16_columns = ['lead_time', 'days_in_waiting_list']\n",
    "\n",
    "# category колонки\n",
    "category_columns = [\n",
    "    'arrival_date_year', 'arrival_date_month', 'meal', 'country',\n",
    "    'distribution_channel', 'reserved_room_type', 'customer_type'\n",
    "]\n",
    "\n",
    "# изменяем dtypes колонок\n",
    "df_train = df_train.astype({\n",
    "    **{_:'uint8' for _ in uint8_columns},\n",
    "    **{_:'uint16' for _ in uint16_columns},\n",
    "    **{_:'category' for _ in category_columns}\n",
    "})\n",
    "\n",
    "df_test = df_test.astype({\n",
    "    **{_:'uint8' for _ in uint8_columns},\n",
    "    **{_:'uint16' for _ in uint16_columns},\n",
    "    **{_:'category' for _ in category_columns}\n",
    "})\n"
   ]
  },
  {
   "cell_type": "markdown",
   "metadata": {},
   "source": [
    "Удалим столбец id , так как он нам дальше не понадобиться"
   ]
  },
  {
   "cell_type": "code",
   "execution_count": 14,
   "metadata": {},
   "outputs": [],
   "source": [
    "df_train.drop(columns='id', inplace=True)\n",
    "df_test.drop(columns='id', inplace=True)"
   ]
  },
  {
   "cell_type": "markdown",
   "metadata": {},
   "source": [
    "Посмотрим визуально кол-во отказов."
   ]
  },
  {
   "cell_type": "code",
   "execution_count": 15,
   "metadata": {},
   "outputs": [
    {
     "data": {
      "image/png": "[encoded data removed]",
      "text/plain": [
       "<Figure size 864x432 with 1 Axes>"
      ]
     },
     "metadata": {},
     "output_type": "display_data"
    }
   ],
   "source": [
    "df_train['is_canceled'].value_counts().plot.pie(legend=True, autopct='%1.2f%%', figsize=(12,6))\n",
    "plt.legend(['Остался', 'Отменил'], shadow=True)\n",
    "plt.show()"
   ]
  },
  {
   "cell_type": "code",
   "execution_count": 16,
   "metadata": {},
   "outputs": [
    {
     "data": {
      "image/png": "[encoded data removed]",
      "text/plain": [
       "<Figure size 864x432 with 1 Axes>"
      ]
     },
     "metadata": {},
     "output_type": "display_data"
    }
   ],
   "source": [
    "df_test['is_canceled'].value_counts().plot.pie(legend=True, autopct='%1.2f%%', figsize=(12,6))\n",
    "plt.legend(['Остался', 'Отменил'], shadow=True)\n",
    "plt.show()"
   ]
  },
  {
   "cell_type": "markdown",
   "metadata": {},
   "source": [
    "Не большой дисбаланс целевого признака есть, хотя он не является критичным.При обучении применим гиперпараметр class_weight='balanced'."
   ]
  },
  {
   "cell_type": "markdown",
   "metadata": {},
   "source": [
    "Посмотрим на corr признаков."
   ]
  },
  {
   "cell_type": "code",
   "execution_count": 17,
   "metadata": {},
   "outputs": [
    {
     "data": {
      "image/png": "[encoded data removed]",
      "text/plain": [
       "<Figure size 432x288 with 2 Axes>"
      ]
     },
     "metadata": {
      "needs_background": "light"
     },
     "output_type": "display_data"
    }
   ],
   "source": [
    "\n",
    "sns.heatmap(df_train.corr(), cmap= 'coolwarm');"
   ]
  },
  {
   "cell_type": "markdown",
   "metadata": {},
   "source": [
    "Нам удалось увидеть высокий уровень корреляции между колонками total_nights и stays_in_week_nights, stays_in_weekend_nights, что вполне логично, т к эти колонки описывают по-сути, одни и те же данные - количество ночей. previous_bookings_not_canceled и is_repeated_guest т е речь идет о постоянных клиентах - они бронируют номера и есть признак, что делают это более одного раза => эта группа клиентов менее подвержена отказу от брони. Довольно высокая корреляция между is_canceled и lead_time - чем раньше забронировал номер, тем выше вероятность отказа от номера - все логично, т к жизненные обстоятельства меняются.Корреляция между is_canceled и previous_cancellations говорит нам о том, что заказы чаще отменяются у людей, которые до этого отменяли заказы. Корреляция между is_canceled и days_in_waiting_list также подтверждает ситуацию с тем, что если заказ не подтвержден в течении суток (выяснили выше), высока вероятность отмены. Также обращает на себя внимание взаимосвязь между, ранним бронированием (lead_time) и поздним подтверждением (days_in_waiting_list) тем дольше заказ ожидает подтверждения - это и есть те люди, которые не получив подтверждения быстро, ушли к конкурентам! Менеджменту стоит призадуматься относительно цепочки создания ценности в сети гостиниц. Корреляция между stays_in_week_nights и adults говорит нам о том, что на выходные гостиницу бронируют преимущественно взрослые люди ))."
   ]
  },
  {
   "cell_type": "code",
   "execution_count": 18,
   "metadata": {},
   "outputs": [],
   "source": [
    "df_train.drop(columns='stays_in_weekend_nights', inplace=True)\n",
    "df_test.drop(columns='stays_in_weekend_nights', inplace=True)"
   ]
  },
  {
   "cell_type": "markdown",
   "metadata": {},
   "source": [
    "В столбце required_car_parking_spaces отбросим значения выше 1."
   ]
  },
  {
   "cell_type": "code",
   "execution_count": 19,
   "metadata": {},
   "outputs": [],
   "source": [
    "df_train.drop(df_train[df_train['required_car_parking_spaces'] > 1].index, inplace=True)\n",
    "df_test.drop(df_test[df_test['required_car_parking_spaces'] > 1].index, inplace=True)"
   ]
  },
  {
   "cell_type": "markdown",
   "metadata": {},
   "source": [
    "Ресетним индексы , так как мы удаляли некоторые дначения."
   ]
  },
  {
   "cell_type": "code",
   "execution_count": 20,
   "metadata": {},
   "outputs": [],
   "source": [
    "df_train.reset_index(drop=True, inplace=True)\n",
    "df_test.reset_index(drop=True, inplace=True)"
   ]
  },
  {
   "cell_type": "markdown",
   "metadata": {},
   "source": [
    "### Вывод"
   ]
  },
  {
   "cell_type": "markdown",
   "metadata": {},
   "source": [
    "Мы загрузили данные, ознакомились с ними.  \n",
    "В наших данных нет пропусков , нет дубликатов, все типы данных подходят каждому столбцу.  \n",
    "Удалили лишние пробелы в столбцах.  \n",
    "Удалили не нужный нам столбец id.  \n",
    "Избавились от аномальных бронирований."
   ]
  },
  {
   "cell_type": "markdown",
   "metadata": {},
   "source": [
    "### Шаг 3. Формулировка ML-задачи на основе бизнес-задачи"
   ]
  },
  {
   "cell_type": "markdown",
   "metadata": {},
   "source": [
    "Создадим словари со стоимостью ночи и уборки , а так же сезонности"
   ]
  },
  {
   "cell_type": "code",
   "execution_count": 21,
   "metadata": {},
   "outputs": [],
   "source": [
    "price = {\n",
    "    'A':[1000, 400],\n",
    "    'B':[800, 350],\n",
    "    'C':[600, 350],\n",
    "    'D':[550, 150],\n",
    "    'E':[500, 150],\n",
    "    'F':[450, 150],\n",
    "    'G':[350, 150]\n",
    "}\n",
    "\n",
    "season = {\n",
    "    'January':1,\n",
    "    'February':1,\n",
    "    'March':1.2,\n",
    "    'April':1.2,\n",
    "    'May':1.2,\n",
    "    'June':1.4,\n",
    "    'July':1.4,\n",
    "    'August':1.4,\n",
    "    'September':1.2,\n",
    "    'October':1.2,\n",
    "    'November':1.2,\n",
    "    'December':1    \n",
    "}"
   ]
  },
  {
   "cell_type": "code",
   "execution_count": 22,
   "metadata": {},
   "outputs": [],
   "source": [
    "def income(row, refuse=False):\n",
    "    \n",
    "    '''\n",
    "    Функция вычисляет доход по каждой строке, в зависимости от типа комнаты, длительности проживания.\n",
    "    С учётом сезонности и обслуживания номеров.\n",
    "    Если появляется столбец с предсказаниями - учитывает возможность удержания залога при отмене брони.\n",
    "    Если параметр refuse == True - вводит поправку на доход от очередного клиента - 50%.\n",
    "    '''\n",
    "    # введём поправку на отказником\n",
    "    if refuse:\n",
    "        ref_mod = 0.5\n",
    "    else:\n",
    "        ref_mod = 1\n",
    "    \n",
    "    # вычислим количество уборок\n",
    "    if row['total_nights'] % 2 != 0:\n",
    "        cleanings = 1 + row['total_nights'] // 2\n",
    "    else:\n",
    "        cleanings = row['total_nights'] // 2\n",
    "        \n",
    "    # вычислим доход\n",
    "    if 'is_canceled_p' not in list(row.index):\n",
    "        if row['is_canceled'] == 1:\n",
    "            return - (price[row['reserved_room_type']][0] * season[row['arrival_date_month']]\n",
    "                      + price[row['reserved_room_type']][1] * row['total_nights'] // 2)\n",
    "        else:\n",
    "            return (price[row['reserved_room_type']][0] * row['total_nights'] * season[row['arrival_date_month']]\n",
    "                    - price[row['reserved_room_type']][1] * cleanings)\n",
    "    else:\n",
    "        if row['is_canceled'] == 1 and row['is_canceled_p'] == 0:\n",
    "            return - (price[row['reserved_room_type']][0] * season[row['arrival_date_month']]\n",
    "                      + price[row['reserved_room_type']][1] * cleanings)\n",
    "        elif row['is_canceled'] == 1 and row['is_canceled_p'] == 1:\n",
    "            return (price[row['reserved_room_type']][0] * season[row['arrival_date_month']] * .8\n",
    "                    - price[row['reserved_room_type']][1]) * ref_mod\n",
    "        elif row['is_canceled'] == 0 and row['is_canceled_p'] == 1:\n",
    "            return (price[row['reserved_room_type']][0] * row['total_nights'] * season[row['arrival_date_month']]\n",
    "                    - price[row['reserved_room_type']][1] * cleanings) * ref_mod            \n",
    "        else:\n",
    "            return (price[row['reserved_room_type']][0] * row['total_nights'] * season[row['arrival_date_month']]\n",
    "                    - price[row['reserved_room_type']][1] * cleanings)"
   ]
  },
  {
   "cell_type": "code",
   "execution_count": 23,
   "metadata": {},
   "outputs": [],
   "source": [
    "df_train['income'] = df_train.apply(income, refuse=True, axis=1)\n",
    "df_test['income'] = df_test.apply(income, refuse=True, axis=1)"
   ]
  },
  {
   "cell_type": "markdown",
   "metadata": {},
   "source": [
    "Проверим наши данные."
   ]
  },
  {
   "cell_type": "code",
   "execution_count": 24,
   "metadata": {},
   "outputs": [
    {
     "data": {
      "text/html": [
       "<div>\n",
       "<style scoped>\n",
       "    .dataframe tbody tr th:only-of-type {\n",
       "        vertical-align: middle;\n",
       "    }\n",
       "\n",
       "    .dataframe tbody tr th {\n",
       "        vertical-align: top;\n",
       "    }\n",
       "\n",
       "    .dataframe thead th {\n",
       "        text-align: right;\n",
       "    }\n",
       "</style>\n",
       "<table border=\"1\" class=\"dataframe\">\n",
       "  <thead>\n",
       "    <tr style=\"text-align: right;\">\n",
       "      <th></th>\n",
       "      <th>is_canceled</th>\n",
       "      <th>lead_time</th>\n",
       "      <th>arrival_date_year</th>\n",
       "      <th>arrival_date_month</th>\n",
       "      <th>arrival_date_week_number</th>\n",
       "      <th>arrival_date_day_of_month</th>\n",
       "      <th>stays_in_week_nights</th>\n",
       "      <th>adults</th>\n",
       "      <th>children</th>\n",
       "      <th>babies</th>\n",
       "      <th>...</th>\n",
       "      <th>previous_cancellations</th>\n",
       "      <th>previous_bookings_not_canceled</th>\n",
       "      <th>reserved_room_type</th>\n",
       "      <th>booking_changes</th>\n",
       "      <th>days_in_waiting_list</th>\n",
       "      <th>customer_type</th>\n",
       "      <th>required_car_parking_spaces</th>\n",
       "      <th>total_of_special_requests</th>\n",
       "      <th>total_nights</th>\n",
       "      <th>income</th>\n",
       "    </tr>\n",
       "  </thead>\n",
       "  <tbody>\n",
       "    <tr>\n",
       "      <th>0</th>\n",
       "      <td>0</td>\n",
       "      <td>7</td>\n",
       "      <td>2015</td>\n",
       "      <td>July</td>\n",
       "      <td>27</td>\n",
       "      <td>1</td>\n",
       "      <td>1</td>\n",
       "      <td>1</td>\n",
       "      <td>0</td>\n",
       "      <td>0</td>\n",
       "      <td>...</td>\n",
       "      <td>0</td>\n",
       "      <td>0</td>\n",
       "      <td>A</td>\n",
       "      <td>0</td>\n",
       "      <td>0</td>\n",
       "      <td>Transient</td>\n",
       "      <td>0</td>\n",
       "      <td>0</td>\n",
       "      <td>1</td>\n",
       "      <td>1000.0</td>\n",
       "    </tr>\n",
       "    <tr>\n",
       "      <th>1</th>\n",
       "      <td>0</td>\n",
       "      <td>14</td>\n",
       "      <td>2015</td>\n",
       "      <td>July</td>\n",
       "      <td>27</td>\n",
       "      <td>1</td>\n",
       "      <td>2</td>\n",
       "      <td>2</td>\n",
       "      <td>0</td>\n",
       "      <td>0</td>\n",
       "      <td>...</td>\n",
       "      <td>0</td>\n",
       "      <td>0</td>\n",
       "      <td>A</td>\n",
       "      <td>0</td>\n",
       "      <td>0</td>\n",
       "      <td>Transient</td>\n",
       "      <td>0</td>\n",
       "      <td>1</td>\n",
       "      <td>2</td>\n",
       "      <td>2400.0</td>\n",
       "    </tr>\n",
       "    <tr>\n",
       "      <th>2</th>\n",
       "      <td>0</td>\n",
       "      <td>0</td>\n",
       "      <td>2015</td>\n",
       "      <td>July</td>\n",
       "      <td>27</td>\n",
       "      <td>1</td>\n",
       "      <td>2</td>\n",
       "      <td>2</td>\n",
       "      <td>0</td>\n",
       "      <td>0</td>\n",
       "      <td>...</td>\n",
       "      <td>0</td>\n",
       "      <td>0</td>\n",
       "      <td>C</td>\n",
       "      <td>0</td>\n",
       "      <td>0</td>\n",
       "      <td>Transient</td>\n",
       "      <td>0</td>\n",
       "      <td>0</td>\n",
       "      <td>2</td>\n",
       "      <td>1330.0</td>\n",
       "    </tr>\n",
       "    <tr>\n",
       "      <th>3</th>\n",
       "      <td>0</td>\n",
       "      <td>9</td>\n",
       "      <td>2015</td>\n",
       "      <td>July</td>\n",
       "      <td>27</td>\n",
       "      <td>1</td>\n",
       "      <td>2</td>\n",
       "      <td>2</td>\n",
       "      <td>0</td>\n",
       "      <td>0</td>\n",
       "      <td>...</td>\n",
       "      <td>0</td>\n",
       "      <td>0</td>\n",
       "      <td>C</td>\n",
       "      <td>0</td>\n",
       "      <td>0</td>\n",
       "      <td>Transient</td>\n",
       "      <td>0</td>\n",
       "      <td>1</td>\n",
       "      <td>2</td>\n",
       "      <td>1330.0</td>\n",
       "    </tr>\n",
       "    <tr>\n",
       "      <th>4</th>\n",
       "      <td>1</td>\n",
       "      <td>85</td>\n",
       "      <td>2015</td>\n",
       "      <td>July</td>\n",
       "      <td>27</td>\n",
       "      <td>1</td>\n",
       "      <td>3</td>\n",
       "      <td>2</td>\n",
       "      <td>0</td>\n",
       "      <td>0</td>\n",
       "      <td>...</td>\n",
       "      <td>0</td>\n",
       "      <td>0</td>\n",
       "      <td>A</td>\n",
       "      <td>0</td>\n",
       "      <td>0</td>\n",
       "      <td>Transient</td>\n",
       "      <td>0</td>\n",
       "      <td>1</td>\n",
       "      <td>3</td>\n",
       "      <td>-2000.0</td>\n",
       "    </tr>\n",
       "    <tr>\n",
       "      <th>5</th>\n",
       "      <td>1</td>\n",
       "      <td>75</td>\n",
       "      <td>2015</td>\n",
       "      <td>July</td>\n",
       "      <td>27</td>\n",
       "      <td>1</td>\n",
       "      <td>3</td>\n",
       "      <td>2</td>\n",
       "      <td>0</td>\n",
       "      <td>0</td>\n",
       "      <td>...</td>\n",
       "      <td>0</td>\n",
       "      <td>0</td>\n",
       "      <td>D</td>\n",
       "      <td>0</td>\n",
       "      <td>0</td>\n",
       "      <td>Transient</td>\n",
       "      <td>0</td>\n",
       "      <td>0</td>\n",
       "      <td>3</td>\n",
       "      <td>-995.0</td>\n",
       "    </tr>\n",
       "    <tr>\n",
       "      <th>6</th>\n",
       "      <td>1</td>\n",
       "      <td>23</td>\n",
       "      <td>2015</td>\n",
       "      <td>July</td>\n",
       "      <td>27</td>\n",
       "      <td>1</td>\n",
       "      <td>4</td>\n",
       "      <td>2</td>\n",
       "      <td>0</td>\n",
       "      <td>0</td>\n",
       "      <td>...</td>\n",
       "      <td>0</td>\n",
       "      <td>0</td>\n",
       "      <td>E</td>\n",
       "      <td>0</td>\n",
       "      <td>0</td>\n",
       "      <td>Transient</td>\n",
       "      <td>0</td>\n",
       "      <td>0</td>\n",
       "      <td>4</td>\n",
       "      <td>-1000.0</td>\n",
       "    </tr>\n",
       "    <tr>\n",
       "      <th>7</th>\n",
       "      <td>0</td>\n",
       "      <td>18</td>\n",
       "      <td>2015</td>\n",
       "      <td>July</td>\n",
       "      <td>27</td>\n",
       "      <td>1</td>\n",
       "      <td>4</td>\n",
       "      <td>2</td>\n",
       "      <td>1</td>\n",
       "      <td>0</td>\n",
       "      <td>...</td>\n",
       "      <td>0</td>\n",
       "      <td>0</td>\n",
       "      <td>G</td>\n",
       "      <td>1</td>\n",
       "      <td>0</td>\n",
       "      <td>Transient</td>\n",
       "      <td>0</td>\n",
       "      <td>1</td>\n",
       "      <td>4</td>\n",
       "      <td>1660.0</td>\n",
       "    </tr>\n",
       "    <tr>\n",
       "      <th>8</th>\n",
       "      <td>0</td>\n",
       "      <td>68</td>\n",
       "      <td>2015</td>\n",
       "      <td>July</td>\n",
       "      <td>27</td>\n",
       "      <td>1</td>\n",
       "      <td>4</td>\n",
       "      <td>2</td>\n",
       "      <td>0</td>\n",
       "      <td>0</td>\n",
       "      <td>...</td>\n",
       "      <td>0</td>\n",
       "      <td>0</td>\n",
       "      <td>D</td>\n",
       "      <td>0</td>\n",
       "      <td>0</td>\n",
       "      <td>Transient</td>\n",
       "      <td>0</td>\n",
       "      <td>3</td>\n",
       "      <td>4</td>\n",
       "      <td>2780.0</td>\n",
       "    </tr>\n",
       "    <tr>\n",
       "      <th>9</th>\n",
       "      <td>0</td>\n",
       "      <td>37</td>\n",
       "      <td>2015</td>\n",
       "      <td>July</td>\n",
       "      <td>27</td>\n",
       "      <td>1</td>\n",
       "      <td>4</td>\n",
       "      <td>2</td>\n",
       "      <td>0</td>\n",
       "      <td>0</td>\n",
       "      <td>...</td>\n",
       "      <td>0</td>\n",
       "      <td>0</td>\n",
       "      <td>E</td>\n",
       "      <td>0</td>\n",
       "      <td>0</td>\n",
       "      <td>Contract</td>\n",
       "      <td>0</td>\n",
       "      <td>0</td>\n",
       "      <td>4</td>\n",
       "      <td>2500.0</td>\n",
       "    </tr>\n",
       "  </tbody>\n",
       "</table>\n",
       "<p>10 rows × 24 columns</p>\n",
       "</div>"
      ],
      "text/plain": [
       "   is_canceled  lead_time arrival_date_year arrival_date_month  \\\n",
       "0            0          7              2015               July   \n",
       "1            0         14              2015               July   \n",
       "2            0          0              2015               July   \n",
       "3            0          9              2015               July   \n",
       "4            1         85              2015               July   \n",
       "5            1         75              2015               July   \n",
       "6            1         23              2015               July   \n",
       "7            0         18              2015               July   \n",
       "8            0         68              2015               July   \n",
       "9            0         37              2015               July   \n",
       "\n",
       "   arrival_date_week_number  arrival_date_day_of_month  stays_in_week_nights  \\\n",
       "0                        27                          1                     1   \n",
       "1                        27                          1                     2   \n",
       "2                        27                          1                     2   \n",
       "3                        27                          1                     2   \n",
       "4                        27                          1                     3   \n",
       "5                        27                          1                     3   \n",
       "6                        27                          1                     4   \n",
       "7                        27                          1                     4   \n",
       "8                        27                          1                     4   \n",
       "9                        27                          1                     4   \n",
       "\n",
       "   adults  children  babies  ... previous_cancellations  \\\n",
       "0       1         0       0  ...                      0   \n",
       "1       2         0       0  ...                      0   \n",
       "2       2         0       0  ...                      0   \n",
       "3       2         0       0  ...                      0   \n",
       "4       2         0       0  ...                      0   \n",
       "5       2         0       0  ...                      0   \n",
       "6       2         0       0  ...                      0   \n",
       "7       2         1       0  ...                      0   \n",
       "8       2         0       0  ...                      0   \n",
       "9       2         0       0  ...                      0   \n",
       "\n",
       "  previous_bookings_not_canceled reserved_room_type  booking_changes  \\\n",
       "0                              0                  A                0   \n",
       "1                              0                  A                0   \n",
       "2                              0                  C                0   \n",
       "3                              0                  C                0   \n",
       "4                              0                  A                0   \n",
       "5                              0                  D                0   \n",
       "6                              0                  E                0   \n",
       "7                              0                  G                1   \n",
       "8                              0                  D                0   \n",
       "9                              0                  E                0   \n",
       "\n",
       "   days_in_waiting_list  customer_type required_car_parking_spaces  \\\n",
       "0                     0      Transient                           0   \n",
       "1                     0      Transient                           0   \n",
       "2                     0      Transient                           0   \n",
       "3                     0      Transient                           0   \n",
       "4                     0      Transient                           0   \n",
       "5                     0      Transient                           0   \n",
       "6                     0      Transient                           0   \n",
       "7                     0      Transient                           0   \n",
       "8                     0      Transient                           0   \n",
       "9                     0       Contract                           0   \n",
       "\n",
       "   total_of_special_requests  total_nights  income  \n",
       "0                          0             1  1000.0  \n",
       "1                          1             2  2400.0  \n",
       "2                          0             2  1330.0  \n",
       "3                          1             2  1330.0  \n",
       "4                          1             3 -2000.0  \n",
       "5                          0             3  -995.0  \n",
       "6                          0             4 -1000.0  \n",
       "7                          1             4  1660.0  \n",
       "8                          3             4  2780.0  \n",
       "9                          0             4  2500.0  \n",
       "\n",
       "[10 rows x 24 columns]"
      ]
     },
     "execution_count": 24,
     "metadata": {},
     "output_type": "execute_result"
    }
   ],
   "source": [
    "df_train.head(10)"
   ]
  },
  {
   "cell_type": "markdown",
   "metadata": {},
   "source": [
    "Посчитали прибыль отеля для каждой записи"
   ]
  },
  {
   "cell_type": "markdown",
   "metadata": {},
   "source": [
    "### Шаг 4. Разработка модели ML"
   ]
  },
  {
   "cell_type": "markdown",
   "metadata": {},
   "source": [
    "Обучим разные модели и оценим их качество кросс-валидацией. Выберем лучшую модель и проверим её на тестовой выборке.  \n",
    "Поскольку данные не сильно дисбалансированы, будем использовать метрики F1, Accuracy, матрицу ошибок, Precision, Recall и прибыль.  \n",
    "Чтобы не дать моделям максимизировать прибыль ценой задирания метрики FP, которая модет привести к вторичному падению доходов за счёт передумавших клиентов, для выбора лучших гиперпараметров будем использовать гармоническое среднее F1   \n",
    "Оценим прибыль, которую принесёт выбранная модель за последний год.    "
   ]
  },
  {
   "cell_type": "markdown",
   "metadata": {},
   "source": [
    "Напишем функцию оценки прибыли для применения в подборе параметров кросс-валидацией при поиске по сетке."
   ]
  },
  {
   "cell_type": "code",
   "execution_count": 25,
   "metadata": {},
   "outputs": [],
   "source": [
    "def income_scorer(est, X, y, df=df_train, refuse=False):\n",
    "    '''\n",
    "    Функция оценки разницы прибыли для поиска гиперпараметров по сетке.\n",
    "    '''\n",
    "    # получим предсказанные значения столбца is_canceled_p\n",
    "    y_pred = pd.Series(est.predict(X), index=X.index, name='is_canceled_p')\n",
    "\n",
    "    # добавим предсказанные значения к признакам\n",
    "    df = df.iloc[X.index].join(y_pred)\n",
    "    \n",
    "    # вычислим прибыль\n",
    "    df['income'] = df.apply(income, refuse=refuse, axis=1)\n",
    "    \n",
    "    return df['income'].sum() / 1e6"
   ]
  },
  {
   "cell_type": "markdown",
   "metadata": {},
   "source": [
    "Разделим обучающие и тестовые данные на features(X) и target(y)."
   ]
  },
  {
   "cell_type": "code",
   "execution_count": 26,
   "metadata": {},
   "outputs": [],
   "source": [
    "X = df_train.drop(['is_canceled', 'income'], axis=1)\n",
    "y = df_train['is_canceled']\n",
    "X_test = df_test.drop(['is_canceled', 'income'], axis=1)\n",
    "y_test = df_test['is_canceled']"
   ]
  },
  {
   "cell_type": "markdown",
   "metadata": {},
   "source": [
    "Найдём результаты для случайной и константной моделей."
   ]
  },
  {
   "cell_type": "code",
   "execution_count": 27,
   "metadata": {},
   "outputs": [
    {
     "name": "stdout",
     "output_type": "stream",
     "text": [
      "Метрика F1 на случайной модели составила 0.423\n",
      "Метрика Accuracy на случайной модели составила 0.499\n",
      "Метрика Precision на случайной модели составила 0.368\n",
      "Метрика Recall на случайной модели составила 0.498\n",
      "Прибыль за 2017 год составила 92.928 млн. рублей\n",
      "Прибыль с учётом модификатора отказа за 2017 год составила 62.755 млн. рублей\n"
     ]
    }
   ],
   "source": [
    "model_dc = DummyClassifier(strategy='uniform', random_state=1234)\n",
    "model_dc.fit(X, y)\n",
    "prediction_dc = model_dc.predict(X)\n",
    "\n",
    "f1 = f1_score(y, prediction_dc).round(decimals=3)\n",
    "print(f'Метрика F1 на случайной модели составила {f1}')\n",
    "accuracy = accuracy_score(y, prediction_dc).round(decimals=3)\n",
    "print(f'Метрика Accuracy на случайной модели составила {accuracy}')\n",
    "precision = precision_score(y, prediction_dc).round(decimals=3)\n",
    "print(f'Метрика Precision на случайной модели составила {precision}')\n",
    "recall = recall_score(y, prediction_dc).round(decimals=3)\n",
    "print(f'Метрика Recall на случайной модели составила {recall}')\n",
    "score = income_scorer(model_dc, X, y, df_train).round(decimals=3)\n",
    "print(f'Прибыль за 2017 год составила {score} млн. рублей')\n",
    "score_mod = income_scorer(model_dc, X, y, df_train, refuse=True).round(decimals=3)\n",
    "print(f'Прибыль с учётом модификатора отказа за 2017 год составила {score_mod} млн. рублей')"
   ]
  },
  {
   "cell_type": "code",
   "execution_count": 28,
   "metadata": {},
   "outputs": [
    {
     "data": {
      "text/plain": [
       "(20483, 20587, 12034, 11962)"
      ]
     },
     "execution_count": 28,
     "metadata": {},
     "output_type": "execute_result"
    }
   ],
   "source": [
    "tn, fp, fn, tp = confusion_matrix(y, prediction_dc).ravel()\n",
    "(tn, fp, fn, tp)"
   ]
  },
  {
   "cell_type": "markdown",
   "metadata": {},
   "source": [
    "Занесём результаты в сводную таблицу."
   ]
  },
  {
   "cell_type": "code",
   "execution_count": 29,
   "metadata": {},
   "outputs": [],
   "source": [
    "results_table = {}\n",
    "results_table['DummyClassifierRandom'] = [f1, accuracy, tn, fp, fn, tp, precision, recall, score, score_mod]"
   ]
  },
  {
   "cell_type": "markdown",
   "metadata": {},
   "source": [
    "Видно, что даже случайная модель даёт в сценарии с введением депозитов прирост выручки за счёт случайно совпавших предсказаний с реальной отменой TP. Но случайная модель даёт много ложно положительных FP что в итоге приводит к падению общего дохода с учётом модификатора отказа.  "
   ]
  },
  {
   "cell_type": "markdown",
   "metadata": {},
   "source": [
    "Проверим так же константную модель.\n",
    "\n"
   ]
  },
  {
   "cell_type": "code",
   "execution_count": 30,
   "metadata": {},
   "outputs": [
    {
     "name": "stdout",
     "output_type": "stream",
     "text": [
      "Метрика F1 на константной модели составила 0.0\n",
      "Метрика Accuracy на константной модели составила 0.631\n",
      "Метрика Precision на случайной модели составила 0.0\n",
      "Метрика Recall на случайной модели составила 0.0\n",
      "Прибыль за 2017 год составила 65.557 млн. рублей\n",
      "Прибыль с учётом модификатора отказа за 2017 год составила 65.557 млн. рублей\n"
     ]
    }
   ],
   "source": [
    "model_dc_mf = DummyClassifier(strategy='most_frequent', random_state=12345)\n",
    "model_dc_mf.fit(X, y)\n",
    "prediction_dc_mf = model_dc_mf.predict(X)\n",
    "\n",
    "f1 = f1_score(y, prediction_dc_mf)\n",
    "print(f'Метрика F1 на константной модели составила {f1}')\n",
    "accuracy = accuracy_score(y, prediction_dc_mf).round(decimals=3)\n",
    "print(f'Метрика Accuracy на константной модели составила {accuracy}')\n",
    "precision = precision_score(y, prediction_dc_mf).round(decimals=3)\n",
    "print(f'Метрика Precision на случайной модели составила {precision}')\n",
    "recall = recall_score(y, prediction_dc_mf).round(decimals=3)\n",
    "print(f'Метрика Recall на случайной модели составила {recall}')\n",
    "score = income_scorer(model_dc_mf, X, y, df_train).round(decimals=3)\n",
    "print(f'Прибыль за 2017 год составила {score} млн. рублей')\n",
    "score_mod = income_scorer(model_dc_mf, X, y, df_train, refuse=True).round(decimals=3)\n",
    "print(f'Прибыль с учётом модификатора отказа за 2017 год составила {score_mod} млн. рублей')"
   ]
  },
  {
   "cell_type": "markdown",
   "metadata": {},
   "source": [
    "Создадим функцию для оценки метрик моделей."
   ]
  },
  {
   "cell_type": "code",
   "execution_count": 31,
   "metadata": {},
   "outputs": [],
   "source": [
    "def model_score(estimator):\n",
    "    \n",
    "    '''\n",
    "    Функция вывода отчёта по результатам подбора гиперпараметров выбранной модели.\n",
    "    '''\n",
    "    \n",
    "    # основные метрики\n",
    "    f1 = f1_score(y, estimator.predict(X)).round(decimals=3)\n",
    "    print(f'Метрика F1 составила {f1}')\n",
    "    accuracy = accuracy_score(y, estimator.predict(X)).round(decimals=3)\n",
    "    print(f'Метрика Accuracy составила {accuracy}')\n",
    "    precision = precision_score(y, estimator.predict(X)).round(decimals=3)\n",
    "    print(f'Метрика Precision составила {precision}')\n",
    "    recall = recall_score(y, estimator.predict(X)).round(decimals=3)\n",
    "    print(f'Метрика Recall составила {recall}')\n",
    "    income_score = income_scorer(estimator, X, y, df_train).round(decimals=3)\n",
    "    print(f'Доход за 2017 год составил {income_score} млн. рублей')\n",
    "    income_score_mod = income_scorer(estimator, X, y, df_train, refuse=True).round(decimals=3)\n",
    "    print(f'Доход с учётом модификатора отказа за 2017 год составил {income_score_mod} млн. рублей')\n",
    "    \n",
    "    # матрица ошибок\n",
    "    display(pd.DataFrame(\n",
    "        [confusion_matrix(y, estimator.predict(X)).ravel().tolist(),\n",
    "         confusion_matrix(y, prediction_dc).ravel().tolist()],\n",
    "        columns=['TN', 'FP', 'FN', 'TP'],\n",
    "        index=['Для оцениваемой модели', 'Для случайной модели']\n",
    "    ))\n",
    "    tn, fp, fn, tp = confusion_matrix(y, estimator.predict(X)).ravel()\n",
    "    \n",
    "    # занесём результаты в сводную таблицу\n",
    "    result = pd.DataFrame(estimator.cv_results_)\n",
    "    display(result.loc[result['rank_test_f1'] == 1])\n",
    "    \n",
    "    return None"
   ]
  },
  {
   "cell_type": "markdown",
   "metadata": {},
   "source": [
    "### Модель RandomForest"
   ]
  },
  {
   "cell_type": "markdown",
   "metadata": {},
   "source": [
    "Создадим трансформер для различных колонок, в случае с \"деревянными моделями\" к категориальным применим OE, числовые оставим как есть."
   ]
  },
  {
   "cell_type": "code",
   "execution_count": 32,
   "metadata": {},
   "outputs": [],
   "source": [
    "ensemble_transformer = make_column_transformer(\n",
    "    (OrdinalEncoder(\n",
    "            dtype='int16',\n",
    "            handle_unknown='use_encoded_value',\n",
    "            unknown_value=-1\n",
    "        ), make_column_selector(dtype_include='category')\n",
    "    ),\n",
    "    remainder='passthrough'\n",
    ")"
   ]
  },
  {
   "cell_type": "markdown",
   "metadata": {},
   "source": [
    "Создадим pipeline для классификатора RandomForestClassifier()."
   ]
  },
  {
   "cell_type": "code",
   "execution_count": 33,
   "metadata": {},
   "outputs": [],
   "source": [
    "pipe_rf = make_pipeline(\n",
    "    ensemble_transformer,\n",
    "    RandomForestClassifier(\n",
    "        random_state=12345,\n",
    "        n_jobs=-1,\n",
    "        class_weight='balanced',\n",
    "        verbose=0\n",
    "    )\n",
    ")"
   ]
  },
  {
   "cell_type": "markdown",
   "metadata": {},
   "source": [
    "Зададим сетку параметров и создадим estimator."
   ]
  },
  {
   "cell_type": "code",
   "execution_count": 34,
   "metadata": {},
   "outputs": [],
   "source": [
    "param_grid = {\n",
    "    'randomforestclassifier__n_estimators':np.arange(100, 151, 50),\n",
    "    'randomforestclassifier__max_depth':np.arange(1, 10, 1),\n",
    "}\n",
    "\n",
    "gs_rf = GridSearchCV(\n",
    "    pipe_rf,\n",
    "    param_grid,\n",
    "    scoring={'income_scorer':income_scorer, 'f1':'f1', 'accuracy':'accuracy', 'precision':'precision', 'recall':'recall'},\n",
    "    n_jobs=-1,\n",
    "    verbose=1,\n",
    "    refit='f1'\n",
    ")"
   ]
  },
  {
   "cell_type": "markdown",
   "metadata": {},
   "source": [
    "Проведём обучение с кросс-валидацией выбранного оценщика."
   ]
  },
  {
   "cell_type": "code",
   "execution_count": 35,
   "metadata": {
    "scrolled": false
   },
   "outputs": [
    {
     "name": "stdout",
     "output_type": "stream",
     "text": [
      "CPU times: user 4 µs, sys: 0 ns, total: 4 µs\n",
      "Wall time: 7.87 µs\n",
      "Fitting 5 folds for each of 18 candidates, totalling 90 fits\n"
     ]
    },
    {
     "data": {
      "text/plain": [
       "GridSearchCV(estimator=Pipeline(steps=[('columntransformer',\n",
       "                                        ColumnTransformer(remainder='passthrough',\n",
       "                                                          transformers=[('ordinalencoder',\n",
       "                                                                         OrdinalEncoder(dtype='int16',\n",
       "                                                                                        handle_unknown='use_encoded_value',\n",
       "                                                                                        unknown_value=-1),\n",
       "                                                                         <sklearn.compose._column_transformer.make_column_selector object at 0x7f68fcac6ac0>)])),\n",
       "                                       ('randomforestclassifier',\n",
       "                                        RandomForestClassifier(...ht='balanced',\n",
       "                                                               n_jobs=-1,\n",
       "                                                               random_state=12345))]),\n",
       "             n_jobs=-1,\n",
       "             param_grid={'randomforestclassifier__max_depth': array([1, 2, 3, 4, 5, 6, 7, 8, 9]),\n",
       "                         'randomforestclassifier__n_estimators': array([100, 150])},\n",
       "             refit='f1',\n",
       "             scoring={'accuracy': 'accuracy', 'f1': 'f1',\n",
       "                      'income_scorer': <function income_scorer at 0x7f6901191040>,\n",
       "                      'precision': 'precision', 'recall': 'recall'},\n",
       "             verbose=1)"
      ]
     },
     "execution_count": 35,
     "metadata": {},
     "output_type": "execute_result"
    }
   ],
   "source": [
    "%time \n",
    "gs_rf.fit(X, y)"
   ]
  },
  {
   "cell_type": "markdown",
   "metadata": {},
   "source": [
    "Посмотрим на результаты обучения."
   ]
  },
  {
   "cell_type": "code",
   "execution_count": 36,
   "metadata": {},
   "outputs": [
    {
     "data": {
      "text/html": [
       "<div>\n",
       "<style scoped>\n",
       "    .dataframe tbody tr th:only-of-type {\n",
       "        vertical-align: middle;\n",
       "    }\n",
       "\n",
       "    .dataframe tbody tr th {\n",
       "        vertical-align: top;\n",
       "    }\n",
       "\n",
       "    .dataframe thead th {\n",
       "        text-align: right;\n",
       "    }\n",
       "</style>\n",
       "<table border=\"1\" class=\"dataframe\">\n",
       "  <thead>\n",
       "    <tr style=\"text-align: right;\">\n",
       "      <th></th>\n",
       "      <th>param_randomforestclassifier__max_depth</th>\n",
       "      <th>param_randomforestclassifier__n_estimators</th>\n",
       "      <th>mean_test_f1</th>\n",
       "      <th>rank_test_f1</th>\n",
       "      <th>mean_test_accuracy</th>\n",
       "      <th>rank_test_accuracy</th>\n",
       "      <th>mean_test_precision</th>\n",
       "      <th>rank_test_precision</th>\n",
       "      <th>mean_test_recall</th>\n",
       "      <th>rank_test_recall</th>\n",
       "      <th>mean_test_income_scorer</th>\n",
       "      <th>rank_test_income_scorer</th>\n",
       "    </tr>\n",
       "  </thead>\n",
       "  <tbody>\n",
       "    <tr>\n",
       "      <th>0</th>\n",
       "      <td>1</td>\n",
       "      <td>100</td>\n",
       "      <td>0.598366</td>\n",
       "      <td>1</td>\n",
       "      <td>0.708464</td>\n",
       "      <td>2</td>\n",
       "      <td>0.598501</td>\n",
       "      <td>3</td>\n",
       "      <td>0.610016</td>\n",
       "      <td>1</td>\n",
       "      <td>20.092330</td>\n",
       "      <td>1</td>\n",
       "    </tr>\n",
       "    <tr>\n",
       "      <th>1</th>\n",
       "      <td>1</td>\n",
       "      <td>150</td>\n",
       "      <td>0.572649</td>\n",
       "      <td>7</td>\n",
       "      <td>0.681615</td>\n",
       "      <td>6</td>\n",
       "      <td>0.558145</td>\n",
       "      <td>16</td>\n",
       "      <td>0.598266</td>\n",
       "      <td>2</td>\n",
       "      <td>19.919571</td>\n",
       "      <td>2</td>\n",
       "    </tr>\n",
       "    <tr>\n",
       "      <th>2</th>\n",
       "      <td>2</td>\n",
       "      <td>100</td>\n",
       "      <td>0.589696</td>\n",
       "      <td>3</td>\n",
       "      <td>0.710047</td>\n",
       "      <td>1</td>\n",
       "      <td>0.609854</td>\n",
       "      <td>1</td>\n",
       "      <td>0.586682</td>\n",
       "      <td>12</td>\n",
       "      <td>19.795918</td>\n",
       "      <td>12</td>\n",
       "    </tr>\n",
       "    <tr>\n",
       "      <th>3</th>\n",
       "      <td>2</td>\n",
       "      <td>150</td>\n",
       "      <td>0.591853</td>\n",
       "      <td>2</td>\n",
       "      <td>0.706605</td>\n",
       "      <td>3</td>\n",
       "      <td>0.600460</td>\n",
       "      <td>2</td>\n",
       "      <td>0.596641</td>\n",
       "      <td>4</td>\n",
       "      <td>19.895501</td>\n",
       "      <td>5</td>\n",
       "    </tr>\n",
       "    <tr>\n",
       "      <th>4</th>\n",
       "      <td>3</td>\n",
       "      <td>100</td>\n",
       "      <td>0.575975</td>\n",
       "      <td>5</td>\n",
       "      <td>0.690712</td>\n",
       "      <td>5</td>\n",
       "      <td>0.593895</td>\n",
       "      <td>4</td>\n",
       "      <td>0.587932</td>\n",
       "      <td>11</td>\n",
       "      <td>19.810453</td>\n",
       "      <td>11</td>\n",
       "    </tr>\n",
       "    <tr>\n",
       "      <th>5</th>\n",
       "      <td>3</td>\n",
       "      <td>150</td>\n",
       "      <td>0.581489</td>\n",
       "      <td>4</td>\n",
       "      <td>0.691988</td>\n",
       "      <td>4</td>\n",
       "      <td>0.591844</td>\n",
       "      <td>5</td>\n",
       "      <td>0.598058</td>\n",
       "      <td>3</td>\n",
       "      <td>19.916931</td>\n",
       "      <td>3</td>\n",
       "    </tr>\n",
       "    <tr>\n",
       "      <th>6</th>\n",
       "      <td>4</td>\n",
       "      <td>100</td>\n",
       "      <td>0.571039</td>\n",
       "      <td>8</td>\n",
       "      <td>0.676158</td>\n",
       "      <td>8</td>\n",
       "      <td>0.583641</td>\n",
       "      <td>7</td>\n",
       "      <td>0.595517</td>\n",
       "      <td>5</td>\n",
       "      <td>19.902174</td>\n",
       "      <td>4</td>\n",
       "    </tr>\n",
       "    <tr>\n",
       "      <th>7</th>\n",
       "      <td>4</td>\n",
       "      <td>150</td>\n",
       "      <td>0.573363</td>\n",
       "      <td>6</td>\n",
       "      <td>0.680308</td>\n",
       "      <td>7</td>\n",
       "      <td>0.586027</td>\n",
       "      <td>6</td>\n",
       "      <td>0.595058</td>\n",
       "      <td>6</td>\n",
       "      <td>19.889565</td>\n",
       "      <td>6</td>\n",
       "    </tr>\n",
       "    <tr>\n",
       "      <th>8</th>\n",
       "      <td>5</td>\n",
       "      <td>100</td>\n",
       "      <td>0.560288</td>\n",
       "      <td>12</td>\n",
       "      <td>0.664247</td>\n",
       "      <td>12</td>\n",
       "      <td>0.568010</td>\n",
       "      <td>11</td>\n",
       "      <td>0.591057</td>\n",
       "      <td>9</td>\n",
       "      <td>19.832098</td>\n",
       "      <td>9</td>\n",
       "    </tr>\n",
       "    <tr>\n",
       "      <th>9</th>\n",
       "      <td>5</td>\n",
       "      <td>150</td>\n",
       "      <td>0.561730</td>\n",
       "      <td>11</td>\n",
       "      <td>0.667213</td>\n",
       "      <td>11</td>\n",
       "      <td>0.571324</td>\n",
       "      <td>10</td>\n",
       "      <td>0.589474</td>\n",
       "      <td>10</td>\n",
       "      <td>19.818631</td>\n",
       "      <td>10</td>\n",
       "    </tr>\n",
       "    <tr>\n",
       "      <th>10</th>\n",
       "      <td>6</td>\n",
       "      <td>100</td>\n",
       "      <td>0.564652</td>\n",
       "      <td>10</td>\n",
       "      <td>0.669318</td>\n",
       "      <td>10</td>\n",
       "      <td>0.574601</td>\n",
       "      <td>9</td>\n",
       "      <td>0.593141</td>\n",
       "      <td>8</td>\n",
       "      <td>19.861879</td>\n",
       "      <td>8</td>\n",
       "    </tr>\n",
       "    <tr>\n",
       "      <th>11</th>\n",
       "      <td>6</td>\n",
       "      <td>150</td>\n",
       "      <td>0.566625</td>\n",
       "      <td>9</td>\n",
       "      <td>0.671808</td>\n",
       "      <td>9</td>\n",
       "      <td>0.576245</td>\n",
       "      <td>8</td>\n",
       "      <td>0.594016</td>\n",
       "      <td>7</td>\n",
       "      <td>19.865757</td>\n",
       "      <td>7</td>\n",
       "    </tr>\n",
       "    <tr>\n",
       "      <th>12</th>\n",
       "      <td>7</td>\n",
       "      <td>100</td>\n",
       "      <td>0.548250</td>\n",
       "      <td>15</td>\n",
       "      <td>0.658560</td>\n",
       "      <td>15</td>\n",
       "      <td>0.561268</td>\n",
       "      <td>14</td>\n",
       "      <td>0.575804</td>\n",
       "      <td>14</td>\n",
       "      <td>19.665818</td>\n",
       "      <td>14</td>\n",
       "    </tr>\n",
       "    <tr>\n",
       "      <th>13</th>\n",
       "      <td>7</td>\n",
       "      <td>150</td>\n",
       "      <td>0.550240</td>\n",
       "      <td>13</td>\n",
       "      <td>0.661526</td>\n",
       "      <td>13</td>\n",
       "      <td>0.564648</td>\n",
       "      <td>12</td>\n",
       "      <td>0.576055</td>\n",
       "      <td>13</td>\n",
       "      <td>19.666338</td>\n",
       "      <td>13</td>\n",
       "    </tr>\n",
       "    <tr>\n",
       "      <th>14</th>\n",
       "      <td>8</td>\n",
       "      <td>100</td>\n",
       "      <td>0.546180</td>\n",
       "      <td>16</td>\n",
       "      <td>0.656931</td>\n",
       "      <td>16</td>\n",
       "      <td>0.559888</td>\n",
       "      <td>15</td>\n",
       "      <td>0.573846</td>\n",
       "      <td>16</td>\n",
       "      <td>19.654150</td>\n",
       "      <td>16</td>\n",
       "    </tr>\n",
       "    <tr>\n",
       "      <th>15</th>\n",
       "      <td>8</td>\n",
       "      <td>150</td>\n",
       "      <td>0.548443</td>\n",
       "      <td>14</td>\n",
       "      <td>0.659006</td>\n",
       "      <td>14</td>\n",
       "      <td>0.563551</td>\n",
       "      <td>13</td>\n",
       "      <td>0.574930</td>\n",
       "      <td>15</td>\n",
       "      <td>19.656243</td>\n",
       "      <td>15</td>\n",
       "    </tr>\n",
       "    <tr>\n",
       "      <th>16</th>\n",
       "      <td>9</td>\n",
       "      <td>100</td>\n",
       "      <td>0.535473</td>\n",
       "      <td>18</td>\n",
       "      <td>0.649415</td>\n",
       "      <td>18</td>\n",
       "      <td>0.552925</td>\n",
       "      <td>18</td>\n",
       "      <td>0.563345</td>\n",
       "      <td>17</td>\n",
       "      <td>19.528928</td>\n",
       "      <td>17</td>\n",
       "    </tr>\n",
       "    <tr>\n",
       "      <th>17</th>\n",
       "      <td>9</td>\n",
       "      <td>150</td>\n",
       "      <td>0.536266</td>\n",
       "      <td>17</td>\n",
       "      <td>0.651260</td>\n",
       "      <td>17</td>\n",
       "      <td>0.555477</td>\n",
       "      <td>17</td>\n",
       "      <td>0.562720</td>\n",
       "      <td>18</td>\n",
       "      <td>19.515444</td>\n",
       "      <td>18</td>\n",
       "    </tr>\n",
       "  </tbody>\n",
       "</table>\n",
       "</div>"
      ],
      "text/plain": [
       "   param_randomforestclassifier__max_depth  \\\n",
       "0                                        1   \n",
       "1                                        1   \n",
       "2                                        2   \n",
       "3                                        2   \n",
       "4                                        3   \n",
       "5                                        3   \n",
       "6                                        4   \n",
       "7                                        4   \n",
       "8                                        5   \n",
       "9                                        5   \n",
       "10                                       6   \n",
       "11                                       6   \n",
       "12                                       7   \n",
       "13                                       7   \n",
       "14                                       8   \n",
       "15                                       8   \n",
       "16                                       9   \n",
       "17                                       9   \n",
       "\n",
       "   param_randomforestclassifier__n_estimators  mean_test_f1  rank_test_f1  \\\n",
       "0                                         100      0.598366             1   \n",
       "1                                         150      0.572649             7   \n",
       "2                                         100      0.589696             3   \n",
       "3                                         150      0.591853             2   \n",
       "4                                         100      0.575975             5   \n",
       "5                                         150      0.581489             4   \n",
       "6                                         100      0.571039             8   \n",
       "7                                         150      0.573363             6   \n",
       "8                                         100      0.560288            12   \n",
       "9                                         150      0.561730            11   \n",
       "10                                        100      0.564652            10   \n",
       "11                                        150      0.566625             9   \n",
       "12                                        100      0.548250            15   \n",
       "13                                        150      0.550240            13   \n",
       "14                                        100      0.546180            16   \n",
       "15                                        150      0.548443            14   \n",
       "16                                        100      0.535473            18   \n",
       "17                                        150      0.536266            17   \n",
       "\n",
       "    mean_test_accuracy  rank_test_accuracy  mean_test_precision  \\\n",
       "0             0.708464                   2             0.598501   \n",
       "1             0.681615                   6             0.558145   \n",
       "2             0.710047                   1             0.609854   \n",
       "3             0.706605                   3             0.600460   \n",
       "4             0.690712                   5             0.593895   \n",
       "5             0.691988                   4             0.591844   \n",
       "6             0.676158                   8             0.583641   \n",
       "7             0.680308                   7             0.586027   \n",
       "8             0.664247                  12             0.568010   \n",
       "9             0.667213                  11             0.571324   \n",
       "10            0.669318                  10             0.574601   \n",
       "11            0.671808                   9             0.576245   \n",
       "12            0.658560                  15             0.561268   \n",
       "13            0.661526                  13             0.564648   \n",
       "14            0.656931                  16             0.559888   \n",
       "15            0.659006                  14             0.563551   \n",
       "16            0.649415                  18             0.552925   \n",
       "17            0.651260                  17             0.555477   \n",
       "\n",
       "    rank_test_precision  mean_test_recall  rank_test_recall  \\\n",
       "0                     3          0.610016                 1   \n",
       "1                    16          0.598266                 2   \n",
       "2                     1          0.586682                12   \n",
       "3                     2          0.596641                 4   \n",
       "4                     4          0.587932                11   \n",
       "5                     5          0.598058                 3   \n",
       "6                     7          0.595517                 5   \n",
       "7                     6          0.595058                 6   \n",
       "8                    11          0.591057                 9   \n",
       "9                    10          0.589474                10   \n",
       "10                    9          0.593141                 8   \n",
       "11                    8          0.594016                 7   \n",
       "12                   14          0.575804                14   \n",
       "13                   12          0.576055                13   \n",
       "14                   15          0.573846                16   \n",
       "15                   13          0.574930                15   \n",
       "16                   18          0.563345                17   \n",
       "17                   17          0.562720                18   \n",
       "\n",
       "    mean_test_income_scorer  rank_test_income_scorer  \n",
       "0                 20.092330                        1  \n",
       "1                 19.919571                        2  \n",
       "2                 19.795918                       12  \n",
       "3                 19.895501                        5  \n",
       "4                 19.810453                       11  \n",
       "5                 19.916931                        3  \n",
       "6                 19.902174                        4  \n",
       "7                 19.889565                        6  \n",
       "8                 19.832098                        9  \n",
       "9                 19.818631                       10  \n",
       "10                19.861879                        8  \n",
       "11                19.865757                        7  \n",
       "12                19.665818                       14  \n",
       "13                19.666338                       13  \n",
       "14                19.654150                       16  \n",
       "15                19.656243                       15  \n",
       "16                19.528928                       17  \n",
       "17                19.515444                       18  "
      ]
     },
     "execution_count": 36,
     "metadata": {},
     "output_type": "execute_result"
    }
   ],
   "source": [
    "pd.DataFrame(gs_rf.cv_results_)[[\n",
    "    'param_randomforestclassifier__max_depth', 'param_randomforestclassifier__n_estimators',\n",
    "    'mean_test_f1', 'rank_test_f1',\n",
    "    'mean_test_accuracy', 'rank_test_accuracy',\n",
    "    'mean_test_precision', 'rank_test_precision',\n",
    "    'mean_test_recall', 'rank_test_recall',\n",
    "    'mean_test_income_scorer', 'rank_test_income_scorer'\n",
    "]]"
   ]
  },
  {
   "cell_type": "markdown",
   "metadata": {},
   "source": []
  },
  {
   "cell_type": "code",
   "execution_count": 37,
   "metadata": {},
   "outputs": [
    {
     "name": "stdout",
     "output_type": "stream",
     "text": [
      "Метрика F1 составила 0.69\n",
      "Метрика Accuracy составила 0.775\n",
      "Метрика Precision составила 0.702\n",
      "Метрика Recall составила 0.678\n",
      "Доход за 2017 год составил 103.955 млн. рублей\n",
      "Доход с учётом модификатора отказа за 2017 год составил 89.896 млн. рублей\n"
     ]
    },
    {
     "data": {
      "text/html": [
       "<div>\n",
       "<style scoped>\n",
       "    .dataframe tbody tr th:only-of-type {\n",
       "        vertical-align: middle;\n",
       "    }\n",
       "\n",
       "    .dataframe tbody tr th {\n",
       "        vertical-align: top;\n",
       "    }\n",
       "\n",
       "    .dataframe thead th {\n",
       "        text-align: right;\n",
       "    }\n",
       "</style>\n",
       "<table border=\"1\" class=\"dataframe\">\n",
       "  <thead>\n",
       "    <tr style=\"text-align: right;\">\n",
       "      <th></th>\n",
       "      <th>TN</th>\n",
       "      <th>FP</th>\n",
       "      <th>FN</th>\n",
       "      <th>TP</th>\n",
       "    </tr>\n",
       "  </thead>\n",
       "  <tbody>\n",
       "    <tr>\n",
       "      <th>Для оцениваемой модели</th>\n",
       "      <td>34160</td>\n",
       "      <td>6910</td>\n",
       "      <td>7732</td>\n",
       "      <td>16264</td>\n",
       "    </tr>\n",
       "    <tr>\n",
       "      <th>Для случайной модели</th>\n",
       "      <td>20483</td>\n",
       "      <td>20587</td>\n",
       "      <td>12034</td>\n",
       "      <td>11962</td>\n",
       "    </tr>\n",
       "  </tbody>\n",
       "</table>\n",
       "</div>"
      ],
      "text/plain": [
       "                           TN     FP     FN     TP\n",
       "Для оцениваемой модели  34160   6910   7732  16264\n",
       "Для случайной модели    20483  20587  12034  11962"
      ]
     },
     "metadata": {},
     "output_type": "display_data"
    },
    {
     "data": {
      "text/html": [
       "<div>\n",
       "<style scoped>\n",
       "    .dataframe tbody tr th:only-of-type {\n",
       "        vertical-align: middle;\n",
       "    }\n",
       "\n",
       "    .dataframe tbody tr th {\n",
       "        vertical-align: top;\n",
       "    }\n",
       "\n",
       "    .dataframe thead th {\n",
       "        text-align: right;\n",
       "    }\n",
       "</style>\n",
       "<table border=\"1\" class=\"dataframe\">\n",
       "  <thead>\n",
       "    <tr style=\"text-align: right;\">\n",
       "      <th></th>\n",
       "      <th>mean_fit_time</th>\n",
       "      <th>std_fit_time</th>\n",
       "      <th>mean_score_time</th>\n",
       "      <th>std_score_time</th>\n",
       "      <th>param_randomforestclassifier__max_depth</th>\n",
       "      <th>param_randomforestclassifier__n_estimators</th>\n",
       "      <th>params</th>\n",
       "      <th>split0_test_income_scorer</th>\n",
       "      <th>split1_test_income_scorer</th>\n",
       "      <th>split2_test_income_scorer</th>\n",
       "      <th>...</th>\n",
       "      <th>std_test_precision</th>\n",
       "      <th>rank_test_precision</th>\n",
       "      <th>split0_test_recall</th>\n",
       "      <th>split1_test_recall</th>\n",
       "      <th>split2_test_recall</th>\n",
       "      <th>split3_test_recall</th>\n",
       "      <th>split4_test_recall</th>\n",
       "      <th>mean_test_recall</th>\n",
       "      <th>std_test_recall</th>\n",
       "      <th>rank_test_recall</th>\n",
       "    </tr>\n",
       "  </thead>\n",
       "  <tbody>\n",
       "    <tr>\n",
       "      <th>0</th>\n",
       "      <td>0.920828</td>\n",
       "      <td>0.021658</td>\n",
       "      <td>0.603094</td>\n",
       "      <td>0.017323</td>\n",
       "      <td>1</td>\n",
       "      <td>100</td>\n",
       "      <td>{'randomforestclassifier__max_depth': 1, 'rand...</td>\n",
       "      <td>21.335426</td>\n",
       "      <td>21.306962</td>\n",
       "      <td>16.479762</td>\n",
       "      <td>...</td>\n",
       "      <td>0.088638</td>\n",
       "      <td>3</td>\n",
       "      <td>0.659583</td>\n",
       "      <td>0.540529</td>\n",
       "      <td>0.510731</td>\n",
       "      <td>0.415086</td>\n",
       "      <td>0.924151</td>\n",
       "      <td>0.610016</td>\n",
       "      <td>0.175397</td>\n",
       "      <td>1</td>\n",
       "    </tr>\n",
       "  </tbody>\n",
       "</table>\n",
       "<p>1 rows × 47 columns</p>\n",
       "</div>"
      ],
      "text/plain": [
       "   mean_fit_time  std_fit_time  mean_score_time  std_score_time  \\\n",
       "0       0.920828      0.021658         0.603094        0.017323   \n",
       "\n",
       "  param_randomforestclassifier__max_depth  \\\n",
       "0                                       1   \n",
       "\n",
       "  param_randomforestclassifier__n_estimators  \\\n",
       "0                                        100   \n",
       "\n",
       "                                              params  \\\n",
       "0  {'randomforestclassifier__max_depth': 1, 'rand...   \n",
       "\n",
       "   split0_test_income_scorer  split1_test_income_scorer  \\\n",
       "0                  21.335426                  21.306962   \n",
       "\n",
       "   split2_test_income_scorer  ...  std_test_precision  rank_test_precision  \\\n",
       "0                  16.479762  ...            0.088638                    3   \n",
       "\n",
       "   split0_test_recall  split1_test_recall  split2_test_recall  \\\n",
       "0            0.659583            0.540529            0.510731   \n",
       "\n",
       "   split3_test_recall  split4_test_recall  mean_test_recall  std_test_recall  \\\n",
       "0            0.415086            0.924151          0.610016         0.175397   \n",
       "\n",
       "   rank_test_recall  \n",
       "0                 1  \n",
       "\n",
       "[1 rows x 47 columns]"
      ]
     },
     "metadata": {},
     "output_type": "display_data"
    }
   ],
   "source": [
    "model_score(gs_rf)"
   ]
  },
  {
   "cell_type": "code",
   "execution_count": null,
   "metadata": {},
   "outputs": [],
   "source": []
  },
  {
   "cell_type": "markdown",
   "metadata": {},
   "source": [
    "### Модель LogisticRegression()"
   ]
  },
  {
   "cell_type": "markdown",
   "metadata": {},
   "source": [
    "Создадим трансформер для различных колонок, в случае с \"линейными\" моделями к категориальным применим OHE, к числовым - StandardScaler."
   ]
  },
  {
   "cell_type": "code",
   "execution_count": 38,
   "metadata": {},
   "outputs": [],
   "source": [
    "linear_transformer = make_column_transformer(\n",
    "    (\n",
    "        OneHotEncoder(\n",
    "            dtype='uint8',\n",
    "            handle_unknown='ignore'\n",
    "        ), make_column_selector(dtype_include='category')\n",
    "    ),\n",
    "    (\n",
    "        StandardScaler(\n",
    "        ), make_column_selector(dtype_include='number')\n",
    "    ),\n",
    "    remainder='passthrough'\n",
    ")"
   ]
  },
  {
   "cell_type": "markdown",
   "metadata": {},
   "source": [
    "Соберём pipeline для логистической регрессии.\n",
    "\n"
   ]
  },
  {
   "cell_type": "code",
   "execution_count": 39,
   "metadata": {},
   "outputs": [],
   "source": [
    "pipe_lr = make_pipeline(\n",
    "    linear_transformer,\n",
    "    LogisticRegression(\n",
    "        class_weight='balanced',\n",
    "        random_state=12345,\n",
    "        n_jobs=-1\n",
    "    )\n",
    ")"
   ]
  },
  {
   "cell_type": "markdown",
   "metadata": {},
   "source": [
    "Зададим сетку параметров и создадим estimator."
   ]
  },
  {
   "cell_type": "code",
   "execution_count": 40,
   "metadata": {},
   "outputs": [],
   "source": [
    "param_grid = {\n",
    "    'logisticregression__solver':['newton-cg', 'lbfgs', 'liblinear', 'sag', 'saga'],\n",
    "    'logisticregression__C':[.001, .01],\n",
    "    'logisticregression__max_iter':[500, 1000]\n",
    "}\n",
    "\n",
    "gs_lr = GridSearchCV(\n",
    "    pipe_lr,\n",
    "    param_grid,\n",
    "    scoring={'income_scorer':income_scorer, 'f1':'f1', 'accuracy':'accuracy'},\n",
    "    n_jobs=-1,\n",
    "    verbose=1,\n",
    "    refit='f1'\n",
    ")"
   ]
  },
  {
   "cell_type": "markdown",
   "metadata": {},
   "source": [
    "Проведём обучение с кросс-валидацией выбранного оценщика."
   ]
  },
  {
   "cell_type": "code",
   "execution_count": 41,
   "metadata": {},
   "outputs": [
    {
     "name": "stdout",
     "output_type": "stream",
     "text": [
      "Fitting 5 folds for each of 20 candidates, totalling 100 fits\n",
      "CPU times: user 7min 21s, sys: 1.78 s, total: 7min 22s\n",
      "Wall time: 7min 23s\n"
     ]
    },
    {
     "data": {
      "text/plain": [
       "GridSearchCV(estimator=Pipeline(steps=[('columntransformer',\n",
       "                                        ColumnTransformer(remainder='passthrough',\n",
       "                                                          transformers=[('onehotencoder',\n",
       "                                                                         OneHotEncoder(dtype='uint8',\n",
       "                                                                                       handle_unknown='ignore'),\n",
       "                                                                         <sklearn.compose._column_transformer.make_column_selector object at 0x7f68fca9ae50>),\n",
       "                                                                        ('standardscaler',\n",
       "                                                                         StandardScaler(),\n",
       "                                                                         <sklearn.compose._column_transformer.make_colum...\n",
       "                                        LogisticRegression(class_weight='balanced',\n",
       "                                                           n_jobs=-1,\n",
       "                                                           random_state=12345))]),\n",
       "             n_jobs=-1,\n",
       "             param_grid={'logisticregression__C': [0.001, 0.01],\n",
       "                         'logisticregression__max_iter': [500, 1000],\n",
       "                         'logisticregression__solver': ['newton-cg', 'lbfgs',\n",
       "                                                        'liblinear', 'sag',\n",
       "                                                        'saga']},\n",
       "             refit='f1',\n",
       "             scoring={'accuracy': 'accuracy', 'f1': 'f1',\n",
       "                      'income_scorer': <function income_scorer at 0x7f6901191040>},\n",
       "             verbose=1)"
      ]
     },
     "execution_count": 41,
     "metadata": {},
     "output_type": "execute_result"
    }
   ],
   "source": [
    "%time gs_lr.fit(X, y)"
   ]
  },
  {
   "cell_type": "markdown",
   "metadata": {},
   "source": [
    "Проверим результаты."
   ]
  },
  {
   "cell_type": "code",
   "execution_count": 42,
   "metadata": {},
   "outputs": [
    {
     "data": {
      "text/html": [
       "<div>\n",
       "<style scoped>\n",
       "    .dataframe tbody tr th:only-of-type {\n",
       "        vertical-align: middle;\n",
       "    }\n",
       "\n",
       "    .dataframe tbody tr th {\n",
       "        vertical-align: top;\n",
       "    }\n",
       "\n",
       "    .dataframe thead th {\n",
       "        text-align: right;\n",
       "    }\n",
       "</style>\n",
       "<table border=\"1\" class=\"dataframe\">\n",
       "  <thead>\n",
       "    <tr style=\"text-align: right;\">\n",
       "      <th></th>\n",
       "      <th>param_logisticregression__C</th>\n",
       "      <th>param_logisticregression__max_iter</th>\n",
       "      <th>param_logisticregression__solver</th>\n",
       "      <th>mean_test_f1</th>\n",
       "      <th>rank_test_f1</th>\n",
       "      <th>mean_test_accuracy</th>\n",
       "      <th>rank_test_accuracy</th>\n",
       "      <th>mean_test_income_scorer</th>\n",
       "      <th>rank_test_income_scorer</th>\n",
       "    </tr>\n",
       "  </thead>\n",
       "  <tbody>\n",
       "    <tr>\n",
       "      <th>0</th>\n",
       "      <td>0.001</td>\n",
       "      <td>500</td>\n",
       "      <td>newton-cg</td>\n",
       "      <td>0.559234</td>\n",
       "      <td>7</td>\n",
       "      <td>0.651029</td>\n",
       "      <td>3</td>\n",
       "      <td>19.995098</td>\n",
       "      <td>9</td>\n",
       "    </tr>\n",
       "    <tr>\n",
       "      <th>1</th>\n",
       "      <td>0.001</td>\n",
       "      <td>500</td>\n",
       "      <td>lbfgs</td>\n",
       "      <td>0.559353</td>\n",
       "      <td>3</td>\n",
       "      <td>0.651091</td>\n",
       "      <td>1</td>\n",
       "      <td>19.996830</td>\n",
       "      <td>7</td>\n",
       "    </tr>\n",
       "    <tr>\n",
       "      <th>2</th>\n",
       "      <td>0.001</td>\n",
       "      <td>500</td>\n",
       "      <td>liblinear</td>\n",
       "      <td>0.559243</td>\n",
       "      <td>5</td>\n",
       "      <td>0.645082</td>\n",
       "      <td>7</td>\n",
       "      <td>20.092917</td>\n",
       "      <td>3</td>\n",
       "    </tr>\n",
       "    <tr>\n",
       "      <th>3</th>\n",
       "      <td>0.001</td>\n",
       "      <td>500</td>\n",
       "      <td>sag</td>\n",
       "      <td>0.559896</td>\n",
       "      <td>2</td>\n",
       "      <td>0.647909</td>\n",
       "      <td>6</td>\n",
       "      <td>20.062014</td>\n",
       "      <td>5</td>\n",
       "    </tr>\n",
       "    <tr>\n",
       "      <th>4</th>\n",
       "      <td>0.001</td>\n",
       "      <td>500</td>\n",
       "      <td>saga</td>\n",
       "      <td>0.559000</td>\n",
       "      <td>10</td>\n",
       "      <td>0.644221</td>\n",
       "      <td>10</td>\n",
       "      <td>20.101146</td>\n",
       "      <td>1</td>\n",
       "    </tr>\n",
       "    <tr>\n",
       "      <th>5</th>\n",
       "      <td>0.001</td>\n",
       "      <td>1000</td>\n",
       "      <td>newton-cg</td>\n",
       "      <td>0.559234</td>\n",
       "      <td>7</td>\n",
       "      <td>0.651029</td>\n",
       "      <td>3</td>\n",
       "      <td>19.995098</td>\n",
       "      <td>9</td>\n",
       "    </tr>\n",
       "    <tr>\n",
       "      <th>6</th>\n",
       "      <td>0.001</td>\n",
       "      <td>1000</td>\n",
       "      <td>lbfgs</td>\n",
       "      <td>0.559353</td>\n",
       "      <td>3</td>\n",
       "      <td>0.651091</td>\n",
       "      <td>1</td>\n",
       "      <td>19.996830</td>\n",
       "      <td>7</td>\n",
       "    </tr>\n",
       "    <tr>\n",
       "      <th>7</th>\n",
       "      <td>0.001</td>\n",
       "      <td>1000</td>\n",
       "      <td>liblinear</td>\n",
       "      <td>0.559243</td>\n",
       "      <td>5</td>\n",
       "      <td>0.645082</td>\n",
       "      <td>7</td>\n",
       "      <td>20.092917</td>\n",
       "      <td>3</td>\n",
       "    </tr>\n",
       "    <tr>\n",
       "      <th>8</th>\n",
       "      <td>0.001</td>\n",
       "      <td>1000</td>\n",
       "      <td>sag</td>\n",
       "      <td>0.560500</td>\n",
       "      <td>1</td>\n",
       "      <td>0.649523</td>\n",
       "      <td>5</td>\n",
       "      <td>20.048477</td>\n",
       "      <td>6</td>\n",
       "    </tr>\n",
       "    <tr>\n",
       "      <th>9</th>\n",
       "      <td>0.001</td>\n",
       "      <td>1000</td>\n",
       "      <td>saga</td>\n",
       "      <td>0.559002</td>\n",
       "      <td>9</td>\n",
       "      <td>0.644405</td>\n",
       "      <td>9</td>\n",
       "      <td>20.097472</td>\n",
       "      <td>2</td>\n",
       "    </tr>\n",
       "    <tr>\n",
       "      <th>10</th>\n",
       "      <td>0.01</td>\n",
       "      <td>500</td>\n",
       "      <td>newton-cg</td>\n",
       "      <td>0.532865</td>\n",
       "      <td>19</td>\n",
       "      <td>0.630557</td>\n",
       "      <td>19</td>\n",
       "      <td>19.733002</td>\n",
       "      <td>19</td>\n",
       "    </tr>\n",
       "    <tr>\n",
       "      <th>11</th>\n",
       "      <td>0.01</td>\n",
       "      <td>500</td>\n",
       "      <td>lbfgs</td>\n",
       "      <td>0.532908</td>\n",
       "      <td>17</td>\n",
       "      <td>0.630588</td>\n",
       "      <td>17</td>\n",
       "      <td>19.733586</td>\n",
       "      <td>17</td>\n",
       "    </tr>\n",
       "    <tr>\n",
       "      <th>12</th>\n",
       "      <td>0.01</td>\n",
       "      <td>500</td>\n",
       "      <td>liblinear</td>\n",
       "      <td>0.534179</td>\n",
       "      <td>15</td>\n",
       "      <td>0.630926</td>\n",
       "      <td>11</td>\n",
       "      <td>19.758620</td>\n",
       "      <td>15</td>\n",
       "    </tr>\n",
       "    <tr>\n",
       "      <th>13</th>\n",
       "      <td>0.01</td>\n",
       "      <td>500</td>\n",
       "      <td>sag</td>\n",
       "      <td>0.534262</td>\n",
       "      <td>11</td>\n",
       "      <td>0.630680</td>\n",
       "      <td>13</td>\n",
       "      <td>19.764434</td>\n",
       "      <td>11</td>\n",
       "    </tr>\n",
       "    <tr>\n",
       "      <th>14</th>\n",
       "      <td>0.01</td>\n",
       "      <td>500</td>\n",
       "      <td>saga</td>\n",
       "      <td>0.534197</td>\n",
       "      <td>13</td>\n",
       "      <td>0.630634</td>\n",
       "      <td>15</td>\n",
       "      <td>19.763684</td>\n",
       "      <td>13</td>\n",
       "    </tr>\n",
       "    <tr>\n",
       "      <th>15</th>\n",
       "      <td>0.01</td>\n",
       "      <td>1000</td>\n",
       "      <td>newton-cg</td>\n",
       "      <td>0.532865</td>\n",
       "      <td>19</td>\n",
       "      <td>0.630557</td>\n",
       "      <td>19</td>\n",
       "      <td>19.733002</td>\n",
       "      <td>19</td>\n",
       "    </tr>\n",
       "    <tr>\n",
       "      <th>16</th>\n",
       "      <td>0.01</td>\n",
       "      <td>1000</td>\n",
       "      <td>lbfgs</td>\n",
       "      <td>0.532908</td>\n",
       "      <td>17</td>\n",
       "      <td>0.630588</td>\n",
       "      <td>17</td>\n",
       "      <td>19.733586</td>\n",
       "      <td>17</td>\n",
       "    </tr>\n",
       "    <tr>\n",
       "      <th>17</th>\n",
       "      <td>0.01</td>\n",
       "      <td>1000</td>\n",
       "      <td>liblinear</td>\n",
       "      <td>0.534179</td>\n",
       "      <td>15</td>\n",
       "      <td>0.630926</td>\n",
       "      <td>11</td>\n",
       "      <td>19.758620</td>\n",
       "      <td>15</td>\n",
       "    </tr>\n",
       "    <tr>\n",
       "      <th>18</th>\n",
       "      <td>0.01</td>\n",
       "      <td>1000</td>\n",
       "      <td>sag</td>\n",
       "      <td>0.534262</td>\n",
       "      <td>11</td>\n",
       "      <td>0.630680</td>\n",
       "      <td>13</td>\n",
       "      <td>19.764434</td>\n",
       "      <td>11</td>\n",
       "    </tr>\n",
       "    <tr>\n",
       "      <th>19</th>\n",
       "      <td>0.01</td>\n",
       "      <td>1000</td>\n",
       "      <td>saga</td>\n",
       "      <td>0.534197</td>\n",
       "      <td>13</td>\n",
       "      <td>0.630634</td>\n",
       "      <td>15</td>\n",
       "      <td>19.763684</td>\n",
       "      <td>13</td>\n",
       "    </tr>\n",
       "  </tbody>\n",
       "</table>\n",
       "</div>"
      ],
      "text/plain": [
       "   param_logisticregression__C param_logisticregression__max_iter  \\\n",
       "0                        0.001                                500   \n",
       "1                        0.001                                500   \n",
       "2                        0.001                                500   \n",
       "3                        0.001                                500   \n",
       "4                        0.001                                500   \n",
       "5                        0.001                               1000   \n",
       "6                        0.001                               1000   \n",
       "7                        0.001                               1000   \n",
       "8                        0.001                               1000   \n",
       "9                        0.001                               1000   \n",
       "10                        0.01                                500   \n",
       "11                        0.01                                500   \n",
       "12                        0.01                                500   \n",
       "13                        0.01                                500   \n",
       "14                        0.01                                500   \n",
       "15                        0.01                               1000   \n",
       "16                        0.01                               1000   \n",
       "17                        0.01                               1000   \n",
       "18                        0.01                               1000   \n",
       "19                        0.01                               1000   \n",
       "\n",
       "   param_logisticregression__solver  mean_test_f1  rank_test_f1  \\\n",
       "0                         newton-cg      0.559234             7   \n",
       "1                             lbfgs      0.559353             3   \n",
       "2                         liblinear      0.559243             5   \n",
       "3                               sag      0.559896             2   \n",
       "4                              saga      0.559000            10   \n",
       "5                         newton-cg      0.559234             7   \n",
       "6                             lbfgs      0.559353             3   \n",
       "7                         liblinear      0.559243             5   \n",
       "8                               sag      0.560500             1   \n",
       "9                              saga      0.559002             9   \n",
       "10                        newton-cg      0.532865            19   \n",
       "11                            lbfgs      0.532908            17   \n",
       "12                        liblinear      0.534179            15   \n",
       "13                              sag      0.534262            11   \n",
       "14                             saga      0.534197            13   \n",
       "15                        newton-cg      0.532865            19   \n",
       "16                            lbfgs      0.532908            17   \n",
       "17                        liblinear      0.534179            15   \n",
       "18                              sag      0.534262            11   \n",
       "19                             saga      0.534197            13   \n",
       "\n",
       "    mean_test_accuracy  rank_test_accuracy  mean_test_income_scorer  \\\n",
       "0             0.651029                   3                19.995098   \n",
       "1             0.651091                   1                19.996830   \n",
       "2             0.645082                   7                20.092917   \n",
       "3             0.647909                   6                20.062014   \n",
       "4             0.644221                  10                20.101146   \n",
       "5             0.651029                   3                19.995098   \n",
       "6             0.651091                   1                19.996830   \n",
       "7             0.645082                   7                20.092917   \n",
       "8             0.649523                   5                20.048477   \n",
       "9             0.644405                   9                20.097472   \n",
       "10            0.630557                  19                19.733002   \n",
       "11            0.630588                  17                19.733586   \n",
       "12            0.630926                  11                19.758620   \n",
       "13            0.630680                  13                19.764434   \n",
       "14            0.630634                  15                19.763684   \n",
       "15            0.630557                  19                19.733002   \n",
       "16            0.630588                  17                19.733586   \n",
       "17            0.630926                  11                19.758620   \n",
       "18            0.630680                  13                19.764434   \n",
       "19            0.630634                  15                19.763684   \n",
       "\n",
       "    rank_test_income_scorer  \n",
       "0                         9  \n",
       "1                         7  \n",
       "2                         3  \n",
       "3                         5  \n",
       "4                         1  \n",
       "5                         9  \n",
       "6                         7  \n",
       "7                         3  \n",
       "8                         6  \n",
       "9                         2  \n",
       "10                       19  \n",
       "11                       17  \n",
       "12                       15  \n",
       "13                       11  \n",
       "14                       13  \n",
       "15                       19  \n",
       "16                       17  \n",
       "17                       15  \n",
       "18                       11  \n",
       "19                       13  "
      ]
     },
     "execution_count": 42,
     "metadata": {},
     "output_type": "execute_result"
    }
   ],
   "source": [
    "pd.DataFrame(gs_lr.cv_results_)[[\n",
    "    'param_logisticregression__C', 'param_logisticregression__max_iter',\n",
    "    'param_logisticregression__solver',\n",
    "    'mean_test_f1', 'rank_test_f1',\n",
    "    'mean_test_accuracy', 'rank_test_accuracy',\n",
    "    'mean_test_income_scorer', 'rank_test_income_scorer'\n",
    "]]"
   ]
  },
  {
   "cell_type": "code",
   "execution_count": 43,
   "metadata": {
    "scrolled": true
   },
   "outputs": [
    {
     "name": "stdout",
     "output_type": "stream",
     "text": [
      "Метрика F1 составила 0.72\n",
      "Метрика Accuracy составила 0.783\n",
      "Метрика Precision составила 0.686\n",
      "Метрика Recall составила 0.757\n",
      "Доход за 2017 год составил 107.747 млн. рублей\n",
      "Доход с учётом модификатора отказа за 2017 год составил 91.632 млн. рублей\n"
     ]
    },
    {
     "data": {
      "text/html": [
       "<div>\n",
       "<style scoped>\n",
       "    .dataframe tbody tr th:only-of-type {\n",
       "        vertical-align: middle;\n",
       "    }\n",
       "\n",
       "    .dataframe tbody tr th {\n",
       "        vertical-align: top;\n",
       "    }\n",
       "\n",
       "    .dataframe thead th {\n",
       "        text-align: right;\n",
       "    }\n",
       "</style>\n",
       "<table border=\"1\" class=\"dataframe\">\n",
       "  <thead>\n",
       "    <tr style=\"text-align: right;\">\n",
       "      <th></th>\n",
       "      <th>TN</th>\n",
       "      <th>FP</th>\n",
       "      <th>FN</th>\n",
       "      <th>TP</th>\n",
       "    </tr>\n",
       "  </thead>\n",
       "  <tbody>\n",
       "    <tr>\n",
       "      <th>Для оцениваемой модели</th>\n",
       "      <td>32774</td>\n",
       "      <td>8296</td>\n",
       "      <td>5841</td>\n",
       "      <td>18155</td>\n",
       "    </tr>\n",
       "    <tr>\n",
       "      <th>Для случайной модели</th>\n",
       "      <td>20483</td>\n",
       "      <td>20587</td>\n",
       "      <td>12034</td>\n",
       "      <td>11962</td>\n",
       "    </tr>\n",
       "  </tbody>\n",
       "</table>\n",
       "</div>"
      ],
      "text/plain": [
       "                           TN     FP     FN     TP\n",
       "Для оцениваемой модели  32774   8296   5841  18155\n",
       "Для случайной модели    20483  20587  12034  11962"
      ]
     },
     "metadata": {},
     "output_type": "display_data"
    },
    {
     "data": {
      "text/html": [
       "<div>\n",
       "<style scoped>\n",
       "    .dataframe tbody tr th:only-of-type {\n",
       "        vertical-align: middle;\n",
       "    }\n",
       "\n",
       "    .dataframe tbody tr th {\n",
       "        vertical-align: top;\n",
       "    }\n",
       "\n",
       "    .dataframe thead th {\n",
       "        text-align: right;\n",
       "    }\n",
       "</style>\n",
       "<table border=\"1\" class=\"dataframe\">\n",
       "  <thead>\n",
       "    <tr style=\"text-align: right;\">\n",
       "      <th></th>\n",
       "      <th>mean_fit_time</th>\n",
       "      <th>std_fit_time</th>\n",
       "      <th>mean_score_time</th>\n",
       "      <th>std_score_time</th>\n",
       "      <th>param_logisticregression__C</th>\n",
       "      <th>param_logisticregression__max_iter</th>\n",
       "      <th>param_logisticregression__solver</th>\n",
       "      <th>params</th>\n",
       "      <th>split0_test_income_scorer</th>\n",
       "      <th>split1_test_income_scorer</th>\n",
       "      <th>...</th>\n",
       "      <th>std_test_f1</th>\n",
       "      <th>rank_test_f1</th>\n",
       "      <th>split0_test_accuracy</th>\n",
       "      <th>split1_test_accuracy</th>\n",
       "      <th>split2_test_accuracy</th>\n",
       "      <th>split3_test_accuracy</th>\n",
       "      <th>split4_test_accuracy</th>\n",
       "      <th>mean_test_accuracy</th>\n",
       "      <th>std_test_accuracy</th>\n",
       "      <th>rank_test_accuracy</th>\n",
       "    </tr>\n",
       "  </thead>\n",
       "  <tbody>\n",
       "    <tr>\n",
       "      <th>8</th>\n",
       "      <td>21.361048</td>\n",
       "      <td>2.815785</td>\n",
       "      <td>0.498881</td>\n",
       "      <td>0.022</td>\n",
       "      <td>0.001</td>\n",
       "      <td>1000</td>\n",
       "      <td>sag</td>\n",
       "      <td>{'logisticregression__C': 0.001, 'logisticregr...</td>\n",
       "      <td>20.956226</td>\n",
       "      <td>21.1337</td>\n",
       "      <td>...</td>\n",
       "      <td>0.075174</td>\n",
       "      <td>1</td>\n",
       "      <td>0.771938</td>\n",
       "      <td>0.651425</td>\n",
       "      <td>0.651502</td>\n",
       "      <td>0.592254</td>\n",
       "      <td>0.580496</td>\n",
       "      <td>0.649523</td>\n",
       "      <td>0.067878</td>\n",
       "      <td>5</td>\n",
       "    </tr>\n",
       "  </tbody>\n",
       "</table>\n",
       "<p>1 rows × 32 columns</p>\n",
       "</div>"
      ],
      "text/plain": [
       "   mean_fit_time  std_fit_time  mean_score_time  std_score_time  \\\n",
       "8      21.361048      2.815785         0.498881           0.022   \n",
       "\n",
       "  param_logisticregression__C param_logisticregression__max_iter  \\\n",
       "8                       0.001                               1000   \n",
       "\n",
       "  param_logisticregression__solver  \\\n",
       "8                              sag   \n",
       "\n",
       "                                              params  \\\n",
       "8  {'logisticregression__C': 0.001, 'logisticregr...   \n",
       "\n",
       "   split0_test_income_scorer  split1_test_income_scorer  ...  std_test_f1  \\\n",
       "8                  20.956226                    21.1337  ...     0.075174   \n",
       "\n",
       "   rank_test_f1  split0_test_accuracy  split1_test_accuracy  \\\n",
       "8             1              0.771938              0.651425   \n",
       "\n",
       "   split2_test_accuracy  split3_test_accuracy  split4_test_accuracy  \\\n",
       "8              0.651502              0.592254              0.580496   \n",
       "\n",
       "   mean_test_accuracy  std_test_accuracy  rank_test_accuracy  \n",
       "8            0.649523           0.067878                   5  \n",
       "\n",
       "[1 rows x 32 columns]"
      ]
     },
     "metadata": {},
     "output_type": "display_data"
    }
   ],
   "source": [
    "model_score(gs_lr)"
   ]
  },
  {
   "cell_type": "markdown",
   "metadata": {},
   "source": [
    "Найдем лучший индекс интерации."
   ]
  },
  {
   "cell_type": "code",
   "execution_count": 44,
   "metadata": {},
   "outputs": [
    {
     "data": {
      "text/plain": [
       "8"
      ]
     },
     "execution_count": 44,
     "metadata": {},
     "output_type": "execute_result"
    }
   ],
   "source": [
    "gs_lr.best_index_"
   ]
  },
  {
   "cell_type": "markdown",
   "metadata": {},
   "source": [
    "Найдем лучшии гиперпараметры данной модели."
   ]
  },
  {
   "cell_type": "markdown",
   "metadata": {},
   "source": [
    "Посмотрим на сводную таблицу с результатами."
   ]
  },
  {
   "cell_type": "code",
   "execution_count": 45,
   "metadata": {
    "scrolled": true
   },
   "outputs": [
    {
     "data": {
      "text/html": [
       "<div>\n",
       "<style scoped>\n",
       "    .dataframe tbody tr th:only-of-type {\n",
       "        vertical-align: middle;\n",
       "    }\n",
       "\n",
       "    .dataframe tbody tr th {\n",
       "        vertical-align: top;\n",
       "    }\n",
       "\n",
       "    .dataframe thead th {\n",
       "        text-align: right;\n",
       "    }\n",
       "</style>\n",
       "<table border=\"1\" class=\"dataframe\">\n",
       "  <thead>\n",
       "    <tr style=\"text-align: right;\">\n",
       "      <th></th>\n",
       "      <th>F1</th>\n",
       "      <th>Accuracy</th>\n",
       "      <th>TN</th>\n",
       "      <th>FP</th>\n",
       "      <th>FN</th>\n",
       "      <th>TP</th>\n",
       "      <th>Precision</th>\n",
       "      <th>Recall</th>\n",
       "      <th>Income_score</th>\n",
       "      <th>Income_score_mod</th>\n",
       "    </tr>\n",
       "  </thead>\n",
       "  <tbody>\n",
       "    <tr>\n",
       "      <th>DummyClassifierRandom</th>\n",
       "      <td>0.423</td>\n",
       "      <td>0.499</td>\n",
       "      <td>20483.0</td>\n",
       "      <td>20587.0</td>\n",
       "      <td>12034.0</td>\n",
       "      <td>11962.0</td>\n",
       "      <td>0.368</td>\n",
       "      <td>0.498</td>\n",
       "      <td>92.928</td>\n",
       "      <td>62.755</td>\n",
       "    </tr>\n",
       "  </tbody>\n",
       "</table>\n",
       "</div>"
      ],
      "text/plain": [
       "                          F1  Accuracy       TN       FP       FN       TP  \\\n",
       "DummyClassifierRandom  0.423     0.499  20483.0  20587.0  12034.0  11962.0   \n",
       "\n",
       "                       Precision  Recall  Income_score  Income_score_mod  \n",
       "DummyClassifierRandom      0.368   0.498        92.928            62.755  "
      ]
     },
     "execution_count": 45,
     "metadata": {},
     "output_type": "execute_result"
    }
   ],
   "source": [
    "pd.DataFrame(\n",
    "    results_table, index=[\n",
    "        'F1', 'Accuracy', 'TN', 'FP', 'FN', 'TP', 'Precision', 'Recall', 'Income_score', 'Income_score_mod'\n",
    "    ]\n",
    ").transpose()"
   ]
  },
  {
   "cell_type": "markdown",
   "metadata": {},
   "source": [
    "Более сбалансированная модель Случайный лес , хоть и логистическая регрессия показала наибольшую прибыль.  \n",
    "Проверим результаты RandomForest на тестовой выборке."
   ]
  },
  {
   "cell_type": "code",
   "execution_count": 46,
   "metadata": {},
   "outputs": [],
   "source": [
    "def model_score_end(estimator):\n",
    "    \n",
    "    '''\n",
    "    Функция вывода отчёта по результатам подбора гиперпараметров выбранной модели.\n",
    "    '''\n",
    "    \n",
    "    # основные метрики\n",
    "    f1 = f1_score(y_test, estimator.predict(X_test)).round(decimals=3)\n",
    "    print(f'Метрика F1 составила {f1}')\n",
    "    accuracy = accuracy_score(y_test, estimator.predict(X_test)).round(decimals=3)\n",
    "    print(f'Метрика Accuracy составила {accuracy}')\n",
    "    precision = precision_score(y_test, estimator.predict(X_test)).round(decimals=3)\n",
    "    print(f'Метрика Precision составила {precision}')\n",
    "    recall = recall_score(y_test, estimator.predict(X_test)).round(decimals=3)\n",
    "    print(f'Метрика Recall составила {recall}')\n",
    "    income_score = income_scorer(estimator, X_test, y_test, df_test).round(decimals=3)\n",
    "    print(f'Доход за 2017 год составил {income_score} млн. рублей')\n",
    "    income_score_mod = income_scorer(estimator, X_test, y_test, df_test, refuse=True).round(decimals=3)\n",
    "    print(f'Доход с учётом модификатора отказа за 2017 год составил {income_score_mod} млн. рублей')"
   ]
  },
  {
   "cell_type": "code",
   "execution_count": 47,
   "metadata": {
    "scrolled": true
   },
   "outputs": [
    {
     "name": "stdout",
     "output_type": "stream",
     "text": [
      "Метрика F1 составила 0.573\n",
      "Метрика Accuracy составила 0.729\n",
      "Метрика Precision составила 0.737\n",
      "Метрика Recall составила 0.469\n",
      "Доход за 2017 год составил 45.441 млн. рублей\n",
      "Доход с учётом модификатора отказа за 2017 год составил 40.952 млн. рублей\n"
     ]
    }
   ],
   "source": [
    "model_score_end(gs_rf)"
   ]
  },
  {
   "cell_type": "markdown",
   "metadata": {},
   "source": [
    "Проверим тестовую выборку на Логистической регрессии"
   ]
  },
  {
   "cell_type": "code",
   "execution_count": 48,
   "metadata": {},
   "outputs": [
    {
     "name": "stdout",
     "output_type": "stream",
     "text": [
      "Метрика F1 составила 0.669\n",
      "Метрика Accuracy составила 0.753\n",
      "Метрика Precision составила 0.699\n",
      "Метрика Recall составила 0.641\n",
      "Доход за 2017 год составил 50.281 млн. рублей\n",
      "Доход с учётом модификатора отказа за 2017 год составил 42.747 млн. рублей\n"
     ]
    }
   ],
   "source": [
    "model_score_end(gs_lr)"
   ]
  },
  {
   "cell_type": "markdown",
   "metadata": {},
   "source": [
    "Две метрики подходять нам , но я бы остановился на случайном лесе , так как более сбаланситрованная модель."
   ]
  },
  {
   "cell_type": "markdown",
   "metadata": {},
   "source": [
    "### Вывод"
   ]
  },
  {
   "cell_type": "markdown",
   "metadata": {},
   "source": [
    "Все модели машинного обучения показали на тестовой выборке прибыль лучше чем без введения модели оценки вероятности отмены брони и залоговой системы. Даже с учётом негативного прогноза в 50% оттока клиентов, которых система признала ненадёжными.     \n",
    "Разные модели по-разному балансируют между негативными и позитивными классами. Все модели по метрикам Accuracy и по совокупности оценок матрицы ошибок лучше случайных и константной моделей.  \n",
    "  \n",
    "При выборе модели нам следует руководствоваться увеличением потенциальной прибыли (выше TP и ниже FN), но и не стоит забывать о том, что все клиенты которых система вынудит оплачивать залог (FP) могут отказаться от услуг отеля вообще.  \n",
    "  \n",
    "С учётом влияния негативного сценария оттока клиентов, признанных системой неблагонадёжными, макссимальную прибыль показала модель LR."
   ]
  },
  {
   "cell_type": "markdown",
   "metadata": {},
   "source": [
    "### Шаг 5. Опишите портрет «ненадёжного» клиента"
   ]
  },
  {
   "cell_type": "markdown",
   "metadata": {},
   "source": [
    "На основе исследовательского анализа данных опишем клиента, склонного к отказу от брони."
   ]
  },
  {
   "cell_type": "markdown",
   "metadata": {},
   "source": [
    "Выведем корреляционную матрицу Пирсона."
   ]
  },
  {
   "cell_type": "code",
   "execution_count": 49,
   "metadata": {},
   "outputs": [
    {
     "data": {
      "image/png": "[encoded data removed]",
      "text/plain": [
       "<Figure size 1080x936 with 2 Axes>"
      ]
     },
     "metadata": {
      "needs_background": "light"
     },
     "output_type": "display_data"
    }
   ],
   "source": [
    "plt.figure(figsize=(15, 13))\n",
    "\n",
    "sns.heatmap(df_test.drop('income', axis=1).corr(), linewidth=2, annot=True)\n",
    "\n",
    "plt.show()"
   ]
  },
  {
   "cell_type": "markdown",
   "metadata": {},
   "source": [
    "Видно что наибольшая зависимость у признака is_canceled от признака lead_time, т.е. чем больше время от бронирования номера до даты заселения, тем выше вероятность отмены.  \n",
    "  \n",
    "Обратные зависимости примерно одного порядка есть с признаками is_repeated_guest, booking_changes, required_car_parking_spaces, total_of_special_requests.  \n",
    "  \n",
    "Проверим так же как коррелирует вероятность отмены c другими факторами при определённых условиях. Например, при различном количестве младенцев и детей.  "
   ]
  },
  {
   "cell_type": "code",
   "execution_count": 50,
   "metadata": {},
   "outputs": [
    {
     "data": {
      "text/plain": [
       "4775     34\n",
       "8717     48\n",
       "9388      1\n",
       "11356    14\n",
       "17475    33\n",
       "27309    21\n",
       "30748    31\n",
       "45868     6\n",
       "Name: arrival_date_week_number, dtype: int64"
      ]
     },
     "execution_count": 50,
     "metadata": {},
     "output_type": "execute_result"
    }
   ],
   "source": [
    "df_train.query('children == 3')['arrival_date_week_number']\n"
   ]
  },
  {
   "cell_type": "code",
   "execution_count": 51,
   "metadata": {},
   "outputs": [
    {
     "data": {
      "image/png": "[encoded data removed]",
      "text/plain": [
       "<Figure size 1080x216 with 2 Axes>"
      ]
     },
     "metadata": {
      "needs_background": "light"
     },
     "output_type": "display_data"
    },
    {
     "data": {
      "image/png": "[encoded data removed]",
      "text/plain": [
       "<Figure size 1080x216 with 2 Axes>"
      ]
     },
     "metadata": {
      "needs_background": "light"
     },
     "output_type": "display_data"
    }
   ],
   "source": [
    "for kids in ['babies', 'children']:\n",
    "    \n",
    "    plt.figure(figsize=(15, 3))\n",
    "\n",
    "    sns.heatmap(df_test.drop('income', axis=1).groupby(kids).corrwith(df_test['is_canceled']), linewidth=2, annot=True)\n",
    "\n",
    "    plt.show()"
   ]
  },
  {
   "cell_type": "markdown",
   "metadata": {},
   "source": [
    "Видно что вероятность отказа от брони возрастает в случае с количеством младенцев, падает в зависимости от количества детей. Вероятно, отпуск с младенцами непредсказуем, а с большой семьёй чаще делается в соответствии с планом.  \n",
    "  \n",
    "Та же ситуация с неделей заезда. Вероятность отмены отпуска с семьёй с 3мя детьми невелика и наверняка будут дополнительные запросы.  \n",
    "  \n",
    "Также с возрастанием количества детей возрастает вероятность отмены при увеличении длительности снятия номера.  \n",
    "  \n",
    "В целом эти факторы говорят о том что клиенты которые останавливаются в отеле в первый раз, не вносят в бронь изменений, не бронируют место под машину, не делают специальных запросов и бронируют номер сильно заранее более склонны к отмене и являются \"ненадёжными\".  "
   ]
  },
  {
   "cell_type": "markdown",
   "metadata": {},
   "source": [
    "### Шаг 6. Напишите общий вывод"
   ]
  },
  {
   "cell_type": "markdown",
   "metadata": {},
   "source": [
    "Мы подготовили и очистили данные. Подобрали метрики и написали функции необходимые для решения задачи.  \n",
    "Сбалансированное решение - модель RandomForestClassifier. \n",
    "Я выбрал модель Случайный лес , хоть и в линейной регресси больше доход, но RandomForest более стабильная.\n",
    "Признак is_repeated_guest хорошо коррелирует одновременно и с previous_cancelations и с previous_bookings_not_canceled, вероятно, речь о бизнес клиентах, для которых характерны частые отмены при изменении планов, но которые предпочитают останавливаться в одном и том же месте. Данные клиенты, зная что вероятность отмены всегда есть, станут фактором снижения доходов от введения системы залогов. Таких клиентов стоит перевести в отдельную категорию, которую не будет касаться система залогов.  \n",
    "  \n",
    "Таким образом можно резюмировать что машинное обучение может существенно увеличить выручку при грамотном применении и отбить затраты на введение системы оценки рисков, но при этом настоятельно рекомендуется провести А/В тест и выяснить какой процент от клиентов в действительности откажется от брони если система потребует таковую. Это поможет минимизировать риски и выбрать оптимальную по доходности модель.  "
   ]
  },
  {
   "cell_type": "code",
   "execution_count": null,
   "metadata": {},
   "outputs": [],
   "source": []
  }
 ],
 "metadata": {
  "ExecuteTimeLog": [
   {
    "duration": 53,
    "start_time": "2023-04-08T19:11:39.112Z"
   },
   {
    "duration": 86,
    "start_time": "2023-04-08T19:11:44.301Z"
   },
   {
    "duration": 89,
    "start_time": "2023-04-08T19:11:47.280Z"
   },
   {
    "duration": 57,
    "start_time": "2023-04-08T19:11:50.878Z"
   },
   {
    "duration": 0,
    "start_time": "2023-04-08T19:11:50.937Z"
   },
   {
    "duration": 51,
    "start_time": "2023-04-08T19:11:58.386Z"
   },
   {
    "duration": 0,
    "start_time": "2023-04-08T19:11:58.438Z"
   },
   {
    "duration": 403,
    "start_time": "2023-04-08T19:12:21.383Z"
   },
   {
    "duration": 910,
    "start_time": "2023-04-08T19:12:22.828Z"
   },
   {
    "duration": 70,
    "start_time": "2023-04-08T19:13:11.296Z"
   },
   {
    "duration": 36,
    "start_time": "2023-04-08T19:13:20.784Z"
   },
   {
    "duration": 53,
    "start_time": "2023-04-08T19:14:12.153Z"
   },
   {
    "duration": 84,
    "start_time": "2023-04-08T19:15:28.498Z"
   },
   {
    "duration": 97,
    "start_time": "2023-04-08T19:15:42.244Z"
   },
   {
    "duration": 35,
    "start_time": "2023-04-08T19:15:55.694Z"
   },
   {
    "duration": 33,
    "start_time": "2023-04-08T19:17:01.149Z"
   },
   {
    "duration": 22,
    "start_time": "2023-04-08T19:17:07.877Z"
   },
   {
    "duration": 39,
    "start_time": "2023-04-08T19:17:13.530Z"
   },
   {
    "duration": 20,
    "start_time": "2023-04-08T19:17:22.349Z"
   },
   {
    "duration": 60,
    "start_time": "2023-04-08T19:17:26.500Z"
   },
   {
    "duration": 22,
    "start_time": "2023-04-08T19:17:32.680Z"
   },
   {
    "duration": 7,
    "start_time": "2023-04-08T19:18:16.058Z"
   },
   {
    "duration": 46,
    "start_time": "2023-04-08T23:20:39.122Z"
   },
   {
    "duration": 6,
    "start_time": "2023-04-08T23:20:52.546Z"
   },
   {
    "duration": 436,
    "start_time": "2023-04-08T23:21:00.764Z"
   },
   {
    "duration": 761,
    "start_time": "2023-04-08T23:21:01.202Z"
   },
   {
    "duration": 60,
    "start_time": "2023-04-08T23:21:01.965Z"
   },
   {
    "duration": 30,
    "start_time": "2023-04-08T23:21:02.027Z"
   },
   {
    "duration": 33,
    "start_time": "2023-04-08T23:21:02.058Z"
   },
   {
    "duration": 62,
    "start_time": "2023-04-08T23:21:02.092Z"
   },
   {
    "duration": 48,
    "start_time": "2023-04-08T23:21:02.155Z"
   },
   {
    "duration": 1125,
    "start_time": "2023-04-08T23:24:59.607Z"
   },
   {
    "duration": 230,
    "start_time": "2023-04-08T23:25:02.027Z"
   },
   {
    "duration": 88,
    "start_time": "2023-04-08T23:26:51.202Z"
   },
   {
    "duration": 9,
    "start_time": "2023-04-08T23:29:59.738Z"
   },
   {
    "duration": 27,
    "start_time": "2023-04-08T23:33:46.712Z"
   },
   {
    "duration": 21,
    "start_time": "2023-04-08T23:33:56.829Z"
   },
   {
    "duration": 13,
    "start_time": "2023-04-08T23:34:02.322Z"
   },
   {
    "duration": 11,
    "start_time": "2023-04-08T23:34:14.427Z"
   },
   {
    "duration": 7,
    "start_time": "2023-04-08T23:35:36.839Z"
   },
   {
    "duration": 47,
    "start_time": "2023-04-08T23:36:59.911Z"
   },
   {
    "duration": 13,
    "start_time": "2023-04-08T23:37:15.169Z"
   },
   {
    "duration": 8,
    "start_time": "2023-04-08T23:37:21.928Z"
   },
   {
    "duration": 20,
    "start_time": "2023-04-08T23:37:50.392Z"
   },
   {
    "duration": 35,
    "start_time": "2023-04-08T23:38:14.894Z"
   },
   {
    "duration": 79,
    "start_time": "2023-04-08T23:39:59.136Z"
   },
   {
    "duration": 9,
    "start_time": "2023-04-08T23:40:02.357Z"
   },
   {
    "duration": 8,
    "start_time": "2023-04-08T23:40:11.153Z"
   },
   {
    "duration": 8,
    "start_time": "2023-04-08T23:40:35.678Z"
   },
   {
    "duration": 8,
    "start_time": "2023-04-08T23:40:37.563Z"
   },
   {
    "duration": 3,
    "start_time": "2023-04-08T23:41:10.041Z"
   },
   {
    "duration": 224,
    "start_time": "2023-04-08T23:41:10.049Z"
   },
   {
    "duration": 31,
    "start_time": "2023-04-08T23:41:10.275Z"
   },
   {
    "duration": 36,
    "start_time": "2023-04-08T23:41:10.308Z"
   },
   {
    "duration": 131,
    "start_time": "2023-04-08T23:41:10.345Z"
   },
   {
    "duration": 22,
    "start_time": "2023-04-08T23:41:10.478Z"
   },
   {
    "duration": 76,
    "start_time": "2023-04-08T23:41:10.501Z"
   },
   {
    "duration": 50,
    "start_time": "2023-04-08T23:41:10.579Z"
   },
   {
    "duration": 28,
    "start_time": "2023-04-08T23:41:10.631Z"
   },
   {
    "duration": 7,
    "start_time": "2023-04-08T23:41:10.660Z"
   },
   {
    "duration": 10,
    "start_time": "2023-04-08T23:41:57.343Z"
   },
   {
    "duration": 3,
    "start_time": "2023-04-08T23:42:02.020Z"
   },
   {
    "duration": 233,
    "start_time": "2023-04-08T23:42:02.025Z"
   },
   {
    "duration": 33,
    "start_time": "2023-04-08T23:42:02.260Z"
   },
   {
    "duration": 45,
    "start_time": "2023-04-08T23:42:02.295Z"
   },
   {
    "duration": 80,
    "start_time": "2023-04-08T23:42:02.342Z"
   },
   {
    "duration": 18,
    "start_time": "2023-04-08T23:42:02.424Z"
   },
   {
    "duration": 23,
    "start_time": "2023-04-08T23:42:02.443Z"
   },
   {
    "duration": 19,
    "start_time": "2023-04-08T23:42:02.472Z"
   },
   {
    "duration": 22,
    "start_time": "2023-04-08T23:42:02.492Z"
   },
   {
    "duration": 5,
    "start_time": "2023-04-08T23:42:02.516Z"
   },
   {
    "duration": 5,
    "start_time": "2023-04-08T23:42:37.075Z"
   },
   {
    "duration": 4,
    "start_time": "2023-04-08T23:42:42.838Z"
   },
   {
    "duration": 5,
    "start_time": "2023-04-08T23:42:46.326Z"
   },
   {
    "duration": 60,
    "start_time": "2023-04-08T23:44:04.376Z"
   },
   {
    "duration": 11,
    "start_time": "2023-04-08T23:44:33.439Z"
   },
   {
    "duration": 3,
    "start_time": "2023-04-08T23:45:31.948Z"
   },
   {
    "duration": 4,
    "start_time": "2023-04-09T00:02:13.805Z"
   },
   {
    "duration": 110,
    "start_time": "2023-04-09T00:02:37.530Z"
   },
   {
    "duration": 6,
    "start_time": "2023-04-09T00:03:46.674Z"
   },
   {
    "duration": 50,
    "start_time": "2023-04-09T00:04:06.194Z"
   },
   {
    "duration": 8,
    "start_time": "2023-04-09T00:05:45.531Z"
   },
   {
    "duration": 44,
    "start_time": "2023-04-09T00:05:49.897Z"
   },
   {
    "duration": 4,
    "start_time": "2023-04-09T00:05:57.797Z"
   },
   {
    "duration": 210,
    "start_time": "2023-04-09T00:05:57.803Z"
   },
   {
    "duration": 36,
    "start_time": "2023-04-09T00:05:58.014Z"
   },
   {
    "duration": 46,
    "start_time": "2023-04-09T00:05:58.051Z"
   },
   {
    "duration": 80,
    "start_time": "2023-04-09T00:05:58.099Z"
   },
   {
    "duration": 19,
    "start_time": "2023-04-09T00:05:58.180Z"
   },
   {
    "duration": 12,
    "start_time": "2023-04-09T00:05:58.201Z"
   },
   {
    "duration": 6,
    "start_time": "2023-04-09T00:05:58.215Z"
   },
   {
    "duration": 20,
    "start_time": "2023-04-09T00:05:58.223Z"
   },
   {
    "duration": 5,
    "start_time": "2023-04-09T00:05:58.271Z"
   },
   {
    "duration": 9,
    "start_time": "2023-04-09T00:05:58.278Z"
   },
   {
    "duration": 16,
    "start_time": "2023-04-09T00:05:58.288Z"
   },
   {
    "duration": 2,
    "start_time": "2023-04-09T00:05:58.306Z"
   },
   {
    "duration": 7,
    "start_time": "2023-04-09T00:05:58.309Z"
   },
   {
    "duration": 76,
    "start_time": "2023-04-09T00:05:58.318Z"
   },
   {
    "duration": 4,
    "start_time": "2023-04-09T00:09:32.699Z"
   },
   {
    "duration": 206,
    "start_time": "2023-04-09T00:09:32.704Z"
   },
   {
    "duration": 32,
    "start_time": "2023-04-09T00:09:32.911Z"
   },
   {
    "duration": 53,
    "start_time": "2023-04-09T00:09:32.944Z"
   },
   {
    "duration": 84,
    "start_time": "2023-04-09T00:09:32.999Z"
   },
   {
    "duration": 18,
    "start_time": "2023-04-09T00:09:33.085Z"
   },
   {
    "duration": 32,
    "start_time": "2023-04-09T00:09:33.105Z"
   },
   {
    "duration": 6,
    "start_time": "2023-04-09T00:09:33.139Z"
   },
   {
    "duration": 26,
    "start_time": "2023-04-09T00:09:33.146Z"
   },
   {
    "duration": 5,
    "start_time": "2023-04-09T00:09:33.173Z"
   },
   {
    "duration": 13,
    "start_time": "2023-04-09T00:09:33.180Z"
   },
   {
    "duration": 19,
    "start_time": "2023-04-09T00:09:33.194Z"
   },
   {
    "duration": 5,
    "start_time": "2023-04-09T00:09:33.215Z"
   },
   {
    "duration": 8,
    "start_time": "2023-04-09T00:09:33.221Z"
   },
   {
    "duration": 52,
    "start_time": "2023-04-09T00:09:33.230Z"
   },
   {
    "duration": 19,
    "start_time": "2023-04-09T00:09:57.893Z"
   },
   {
    "duration": 71,
    "start_time": "2023-04-09T00:11:18.372Z"
   },
   {
    "duration": 4,
    "start_time": "2023-04-09T00:11:22.840Z"
   },
   {
    "duration": 6,
    "start_time": "2023-04-09T00:11:24.906Z"
   },
   {
    "duration": 7,
    "start_time": "2023-04-09T00:12:14.045Z"
   },
   {
    "duration": 49,
    "start_time": "2023-04-09T00:12:25.810Z"
   },
   {
    "duration": 3,
    "start_time": "2023-04-09T00:12:50.101Z"
   },
   {
    "duration": 212,
    "start_time": "2023-04-09T00:12:50.106Z"
   },
   {
    "duration": 28,
    "start_time": "2023-04-09T00:12:50.320Z"
   },
   {
    "duration": 53,
    "start_time": "2023-04-09T00:12:50.349Z"
   },
   {
    "duration": 71,
    "start_time": "2023-04-09T00:12:50.404Z"
   },
   {
    "duration": 16,
    "start_time": "2023-04-09T00:12:50.477Z"
   },
   {
    "duration": 34,
    "start_time": "2023-04-09T00:12:50.495Z"
   },
   {
    "duration": 16,
    "start_time": "2023-04-09T00:12:50.531Z"
   },
   {
    "duration": 39,
    "start_time": "2023-04-09T00:12:50.548Z"
   },
   {
    "duration": 49,
    "start_time": "2023-04-09T00:12:50.588Z"
   },
   {
    "duration": 68,
    "start_time": "2023-04-09T00:12:50.640Z"
   },
   {
    "duration": 31,
    "start_time": "2023-04-09T00:12:50.710Z"
   },
   {
    "duration": 17,
    "start_time": "2023-04-09T00:12:50.742Z"
   },
   {
    "duration": 23,
    "start_time": "2023-04-09T00:12:50.761Z"
   },
   {
    "duration": 21,
    "start_time": "2023-04-09T00:12:50.785Z"
   },
   {
    "duration": 54,
    "start_time": "2023-04-09T00:12:50.807Z"
   },
   {
    "duration": 3,
    "start_time": "2023-04-09T00:14:54.269Z"
   },
   {
    "duration": 209,
    "start_time": "2023-04-09T00:14:54.274Z"
   },
   {
    "duration": 32,
    "start_time": "2023-04-09T00:14:54.484Z"
   },
   {
    "duration": 72,
    "start_time": "2023-04-09T00:14:54.518Z"
   },
   {
    "duration": 68,
    "start_time": "2023-04-09T00:14:54.592Z"
   },
   {
    "duration": 16,
    "start_time": "2023-04-09T00:14:54.672Z"
   },
   {
    "duration": 24,
    "start_time": "2023-04-09T00:14:54.690Z"
   },
   {
    "duration": 13,
    "start_time": "2023-04-09T00:14:54.715Z"
   },
   {
    "duration": 22,
    "start_time": "2023-04-09T00:14:54.729Z"
   },
   {
    "duration": 5,
    "start_time": "2023-04-09T00:14:54.752Z"
   },
   {
    "duration": 5,
    "start_time": "2023-04-09T00:14:54.773Z"
   },
   {
    "duration": 17,
    "start_time": "2023-04-09T00:14:54.779Z"
   },
   {
    "duration": 2,
    "start_time": "2023-04-09T00:14:54.798Z"
   },
   {
    "duration": 7,
    "start_time": "2023-04-09T00:14:54.801Z"
   },
   {
    "duration": 23,
    "start_time": "2023-04-09T00:14:54.809Z"
   },
   {
    "duration": 44,
    "start_time": "2023-04-09T00:14:54.833Z"
   },
   {
    "duration": 10,
    "start_time": "2023-04-09T00:17:01.438Z"
   },
   {
    "duration": 7,
    "start_time": "2023-04-09T00:17:40.477Z"
   },
   {
    "duration": 7,
    "start_time": "2023-04-09T00:18:22.412Z"
   },
   {
    "duration": 66,
    "start_time": "2023-04-09T00:19:00.666Z"
   },
   {
    "duration": 5,
    "start_time": "2023-04-09T00:19:07.185Z"
   },
   {
    "duration": 203,
    "start_time": "2023-04-09T00:19:07.192Z"
   },
   {
    "duration": 40,
    "start_time": "2023-04-09T00:19:07.396Z"
   },
   {
    "duration": 56,
    "start_time": "2023-04-09T00:19:07.438Z"
   },
   {
    "duration": 66,
    "start_time": "2023-04-09T00:19:07.495Z"
   },
   {
    "duration": 28,
    "start_time": "2023-04-09T00:19:07.571Z"
   },
   {
    "duration": 12,
    "start_time": "2023-04-09T00:19:07.601Z"
   },
   {
    "duration": 73,
    "start_time": "2023-04-09T00:19:07.615Z"
   },
   {
    "duration": 8,
    "start_time": "2023-04-09T00:19:07.691Z"
   },
   {
    "duration": 18,
    "start_time": "2023-04-09T00:19:07.701Z"
   },
   {
    "duration": 5,
    "start_time": "2023-04-09T00:19:07.721Z"
   },
   {
    "duration": 7,
    "start_time": "2023-04-09T00:19:07.728Z"
   },
   {
    "duration": 36,
    "start_time": "2023-04-09T00:19:07.736Z"
   },
   {
    "duration": 3,
    "start_time": "2023-04-09T00:19:07.773Z"
   },
   {
    "duration": 4,
    "start_time": "2023-04-09T00:19:07.777Z"
   },
   {
    "duration": 7,
    "start_time": "2023-04-09T00:19:07.783Z"
   },
   {
    "duration": 2322,
    "start_time": "2023-04-09T00:19:07.791Z"
   },
   {
    "duration": 6,
    "start_time": "2023-04-09T00:19:10.114Z"
   },
   {
    "duration": 3,
    "start_time": "2023-04-09T00:19:39.765Z"
   },
   {
    "duration": 181,
    "start_time": "2023-04-09T00:19:39.770Z"
   },
   {
    "duration": 28,
    "start_time": "2023-04-09T00:19:39.953Z"
   },
   {
    "duration": 38,
    "start_time": "2023-04-09T00:19:39.982Z"
   },
   {
    "duration": 84,
    "start_time": "2023-04-09T00:19:40.022Z"
   },
   {
    "duration": 17,
    "start_time": "2023-04-09T00:19:40.108Z"
   },
   {
    "duration": 10,
    "start_time": "2023-04-09T00:19:40.127Z"
   },
   {
    "duration": 68,
    "start_time": "2023-04-09T00:19:40.139Z"
   },
   {
    "duration": 7,
    "start_time": "2023-04-09T00:19:40.208Z"
   },
   {
    "duration": 19,
    "start_time": "2023-04-09T00:19:40.217Z"
   },
   {
    "duration": 5,
    "start_time": "2023-04-09T00:19:40.238Z"
   },
   {
    "duration": 8,
    "start_time": "2023-04-09T00:19:40.244Z"
   },
   {
    "duration": 28,
    "start_time": "2023-04-09T00:19:40.254Z"
   },
   {
    "duration": 4,
    "start_time": "2023-04-09T00:19:40.283Z"
   },
   {
    "duration": 23,
    "start_time": "2023-04-09T00:19:40.288Z"
   },
   {
    "duration": 7,
    "start_time": "2023-04-09T00:19:40.312Z"
   },
   {
    "duration": 2278,
    "start_time": "2023-04-09T00:19:40.320Z"
   },
   {
    "duration": 2325,
    "start_time": "2023-04-09T00:19:47.915Z"
   },
   {
    "duration": 19,
    "start_time": "2023-04-09T00:20:02.243Z"
   },
   {
    "duration": 10,
    "start_time": "2023-04-09T00:21:12.980Z"
   },
   {
    "duration": 20,
    "start_time": "2023-04-09T00:21:16.949Z"
   },
   {
    "duration": 4,
    "start_time": "2023-04-09T00:36:56.065Z"
   },
   {
    "duration": 215,
    "start_time": "2023-04-09T00:36:56.071Z"
   },
   {
    "duration": 34,
    "start_time": "2023-04-09T00:36:56.287Z"
   },
   {
    "duration": 51,
    "start_time": "2023-04-09T00:36:56.322Z"
   },
   {
    "duration": 73,
    "start_time": "2023-04-09T00:36:56.375Z"
   },
   {
    "duration": 34,
    "start_time": "2023-04-09T00:36:56.450Z"
   },
   {
    "duration": 13,
    "start_time": "2023-04-09T00:36:56.486Z"
   },
   {
    "duration": 72,
    "start_time": "2023-04-09T00:36:56.500Z"
   },
   {
    "duration": 9,
    "start_time": "2023-04-09T00:36:56.574Z"
   },
   {
    "duration": 26,
    "start_time": "2023-04-09T00:36:56.584Z"
   },
   {
    "duration": 5,
    "start_time": "2023-04-09T00:36:56.611Z"
   },
   {
    "duration": 19,
    "start_time": "2023-04-09T00:36:56.618Z"
   },
   {
    "duration": 23,
    "start_time": "2023-04-09T00:36:56.640Z"
   },
   {
    "duration": 7,
    "start_time": "2023-04-09T00:36:56.665Z"
   },
   {
    "duration": 19,
    "start_time": "2023-04-09T00:36:56.673Z"
   },
   {
    "duration": 12,
    "start_time": "2023-04-09T00:36:56.693Z"
   },
   {
    "duration": 2319,
    "start_time": "2023-04-09T00:36:56.706Z"
   },
   {
    "duration": 22,
    "start_time": "2023-04-09T00:36:59.026Z"
   },
   {
    "duration": 22,
    "start_time": "2023-04-09T00:36:59.050Z"
   },
   {
    "duration": 0,
    "start_time": "2023-04-09T00:36:59.073Z"
   },
   {
    "duration": 0,
    "start_time": "2023-04-09T00:36:59.074Z"
   },
   {
    "duration": 0,
    "start_time": "2023-04-09T00:36:59.076Z"
   },
   {
    "duration": 0,
    "start_time": "2023-04-09T00:36:59.077Z"
   },
   {
    "duration": 0,
    "start_time": "2023-04-09T00:36:59.078Z"
   },
   {
    "duration": 5,
    "start_time": "2023-04-09T00:37:47.996Z"
   },
   {
    "duration": 3,
    "start_time": "2023-04-09T00:38:03.984Z"
   },
   {
    "duration": 198,
    "start_time": "2023-04-09T00:38:03.991Z"
   },
   {
    "duration": 30,
    "start_time": "2023-04-09T00:38:04.190Z"
   },
   {
    "duration": 34,
    "start_time": "2023-04-09T00:38:04.221Z"
   },
   {
    "duration": 68,
    "start_time": "2023-04-09T00:38:04.271Z"
   },
   {
    "duration": 32,
    "start_time": "2023-04-09T00:38:04.341Z"
   },
   {
    "duration": 12,
    "start_time": "2023-04-09T00:38:04.375Z"
   },
   {
    "duration": 54,
    "start_time": "2023-04-09T00:38:04.389Z"
   },
   {
    "duration": 9,
    "start_time": "2023-04-09T00:38:04.445Z"
   },
   {
    "duration": 39,
    "start_time": "2023-04-09T00:38:04.455Z"
   },
   {
    "duration": 4,
    "start_time": "2023-04-09T00:38:04.496Z"
   },
   {
    "duration": 22,
    "start_time": "2023-04-09T00:38:04.501Z"
   },
   {
    "duration": 24,
    "start_time": "2023-04-09T00:38:04.524Z"
   },
   {
    "duration": 9,
    "start_time": "2023-04-09T00:38:04.549Z"
   },
   {
    "duration": 9,
    "start_time": "2023-04-09T00:38:04.559Z"
   },
   {
    "duration": 10,
    "start_time": "2023-04-09T00:38:04.569Z"
   },
   {
    "duration": 2323,
    "start_time": "2023-04-09T00:38:04.581Z"
   },
   {
    "duration": 19,
    "start_time": "2023-04-09T00:38:06.906Z"
   },
   {
    "duration": 12,
    "start_time": "2023-04-09T00:38:06.927Z"
   },
   {
    "duration": 0,
    "start_time": "2023-04-09T00:38:06.941Z"
   },
   {
    "duration": 0,
    "start_time": "2023-04-09T00:38:06.942Z"
   },
   {
    "duration": 0,
    "start_time": "2023-04-09T00:38:06.943Z"
   },
   {
    "duration": 0,
    "start_time": "2023-04-09T00:38:06.944Z"
   },
   {
    "duration": 0,
    "start_time": "2023-04-09T00:38:06.945Z"
   },
   {
    "duration": 4,
    "start_time": "2023-04-09T00:39:21.589Z"
   },
   {
    "duration": 190,
    "start_time": "2023-04-09T00:39:21.595Z"
   },
   {
    "duration": 31,
    "start_time": "2023-04-09T00:39:21.787Z"
   },
   {
    "duration": 36,
    "start_time": "2023-04-09T00:39:21.819Z"
   },
   {
    "duration": 74,
    "start_time": "2023-04-09T00:39:21.873Z"
   },
   {
    "duration": 33,
    "start_time": "2023-04-09T00:39:21.949Z"
   },
   {
    "duration": 12,
    "start_time": "2023-04-09T00:39:21.983Z"
   },
   {
    "duration": 50,
    "start_time": "2023-04-09T00:39:21.996Z"
   },
   {
    "duration": 24,
    "start_time": "2023-04-09T00:39:22.048Z"
   },
   {
    "duration": 22,
    "start_time": "2023-04-09T00:39:22.073Z"
   },
   {
    "duration": 4,
    "start_time": "2023-04-09T00:39:22.097Z"
   },
   {
    "duration": 12,
    "start_time": "2023-04-09T00:39:22.103Z"
   },
   {
    "duration": 13,
    "start_time": "2023-04-09T00:39:22.116Z"
   },
   {
    "duration": 2,
    "start_time": "2023-04-09T00:39:22.130Z"
   },
   {
    "duration": 7,
    "start_time": "2023-04-09T00:39:22.133Z"
   },
   {
    "duration": 6,
    "start_time": "2023-04-09T00:39:22.141Z"
   },
   {
    "duration": 2336,
    "start_time": "2023-04-09T00:39:22.149Z"
   },
   {
    "duration": 20,
    "start_time": "2023-04-09T00:39:24.486Z"
   },
   {
    "duration": 11,
    "start_time": "2023-04-09T00:39:24.508Z"
   },
   {
    "duration": 0,
    "start_time": "2023-04-09T00:39:24.521Z"
   },
   {
    "duration": 0,
    "start_time": "2023-04-09T00:39:24.522Z"
   },
   {
    "duration": 0,
    "start_time": "2023-04-09T00:39:24.524Z"
   },
   {
    "duration": 0,
    "start_time": "2023-04-09T00:39:24.525Z"
   },
   {
    "duration": 0,
    "start_time": "2023-04-09T00:39:24.526Z"
   },
   {
    "duration": 1447,
    "start_time": "2023-04-09T00:40:19.630Z"
   },
   {
    "duration": 208,
    "start_time": "2023-04-09T00:40:21.080Z"
   },
   {
    "duration": 38,
    "start_time": "2023-04-09T00:40:21.290Z"
   },
   {
    "duration": 50,
    "start_time": "2023-04-09T00:40:21.330Z"
   },
   {
    "duration": 75,
    "start_time": "2023-04-09T00:40:21.382Z"
   },
   {
    "duration": 42,
    "start_time": "2023-04-09T00:40:21.459Z"
   },
   {
    "duration": 18,
    "start_time": "2023-04-09T00:40:21.503Z"
   },
   {
    "duration": 111,
    "start_time": "2023-04-09T00:40:21.523Z"
   },
   {
    "duration": 11,
    "start_time": "2023-04-09T00:40:21.635Z"
   },
   {
    "duration": 37,
    "start_time": "2023-04-09T00:40:21.648Z"
   },
   {
    "duration": 4,
    "start_time": "2023-04-09T00:40:21.687Z"
   },
   {
    "duration": 7,
    "start_time": "2023-04-09T00:40:21.693Z"
   },
   {
    "duration": 22,
    "start_time": "2023-04-09T00:40:21.701Z"
   },
   {
    "duration": 3,
    "start_time": "2023-04-09T00:40:21.726Z"
   },
   {
    "duration": 7,
    "start_time": "2023-04-09T00:40:21.732Z"
   },
   {
    "duration": 31,
    "start_time": "2023-04-09T00:40:21.741Z"
   },
   {
    "duration": 2331,
    "start_time": "2023-04-09T00:40:21.774Z"
   },
   {
    "duration": 19,
    "start_time": "2023-04-09T00:40:24.106Z"
   },
   {
    "duration": 123,
    "start_time": "2023-04-09T00:40:24.126Z"
   },
   {
    "duration": 0,
    "start_time": "2023-04-09T00:40:24.251Z"
   },
   {
    "duration": 0,
    "start_time": "2023-04-09T00:40:24.252Z"
   },
   {
    "duration": 0,
    "start_time": "2023-04-09T00:40:24.253Z"
   },
   {
    "duration": 0,
    "start_time": "2023-04-09T00:40:24.254Z"
   },
   {
    "duration": 0,
    "start_time": "2023-04-09T00:40:24.256Z"
   },
   {
    "duration": 1093,
    "start_time": "2023-04-09T00:42:48.458Z"
   },
   {
    "duration": 0,
    "start_time": "2023-04-09T00:42:49.553Z"
   },
   {
    "duration": 0,
    "start_time": "2023-04-09T00:42:49.554Z"
   },
   {
    "duration": 0,
    "start_time": "2023-04-09T00:42:49.555Z"
   },
   {
    "duration": 0,
    "start_time": "2023-04-09T00:42:49.555Z"
   },
   {
    "duration": 0,
    "start_time": "2023-04-09T00:42:49.556Z"
   },
   {
    "duration": 0,
    "start_time": "2023-04-09T00:42:49.557Z"
   },
   {
    "duration": 0,
    "start_time": "2023-04-09T00:42:49.558Z"
   },
   {
    "duration": 0,
    "start_time": "2023-04-09T00:42:49.559Z"
   },
   {
    "duration": 0,
    "start_time": "2023-04-09T00:42:49.560Z"
   },
   {
    "duration": 0,
    "start_time": "2023-04-09T00:42:49.572Z"
   },
   {
    "duration": 0,
    "start_time": "2023-04-09T00:42:49.573Z"
   },
   {
    "duration": 0,
    "start_time": "2023-04-09T00:42:49.574Z"
   },
   {
    "duration": 0,
    "start_time": "2023-04-09T00:42:49.575Z"
   },
   {
    "duration": 0,
    "start_time": "2023-04-09T00:42:49.575Z"
   },
   {
    "duration": 0,
    "start_time": "2023-04-09T00:42:49.576Z"
   },
   {
    "duration": 0,
    "start_time": "2023-04-09T00:42:49.577Z"
   },
   {
    "duration": 0,
    "start_time": "2023-04-09T00:42:49.578Z"
   },
   {
    "duration": 0,
    "start_time": "2023-04-09T00:42:49.579Z"
   },
   {
    "duration": 0,
    "start_time": "2023-04-09T00:42:49.580Z"
   },
   {
    "duration": 0,
    "start_time": "2023-04-09T00:42:49.581Z"
   },
   {
    "duration": 0,
    "start_time": "2023-04-09T00:42:49.581Z"
   },
   {
    "duration": 0,
    "start_time": "2023-04-09T00:42:49.582Z"
   },
   {
    "duration": 0,
    "start_time": "2023-04-09T00:42:49.583Z"
   },
   {
    "duration": 1366,
    "start_time": "2023-04-09T00:43:22.171Z"
   },
   {
    "duration": 188,
    "start_time": "2023-04-09T00:43:23.539Z"
   },
   {
    "duration": 33,
    "start_time": "2023-04-09T00:43:23.729Z"
   },
   {
    "duration": 43,
    "start_time": "2023-04-09T00:43:23.763Z"
   },
   {
    "duration": 85,
    "start_time": "2023-04-09T00:43:23.808Z"
   },
   {
    "duration": 20,
    "start_time": "2023-04-09T00:43:23.895Z"
   },
   {
    "duration": 12,
    "start_time": "2023-04-09T00:43:23.916Z"
   },
   {
    "duration": 71,
    "start_time": "2023-04-09T00:43:23.930Z"
   },
   {
    "duration": 10,
    "start_time": "2023-04-09T00:43:24.002Z"
   },
   {
    "duration": 30,
    "start_time": "2023-04-09T00:43:24.013Z"
   },
   {
    "duration": 4,
    "start_time": "2023-04-09T00:43:24.045Z"
   },
   {
    "duration": 28,
    "start_time": "2023-04-09T00:43:24.051Z"
   },
   {
    "duration": 23,
    "start_time": "2023-04-09T00:43:24.080Z"
   },
   {
    "duration": 6,
    "start_time": "2023-04-09T00:43:24.105Z"
   },
   {
    "duration": 9,
    "start_time": "2023-04-09T00:43:24.112Z"
   },
   {
    "duration": 9,
    "start_time": "2023-04-09T00:43:24.122Z"
   },
   {
    "duration": 2424,
    "start_time": "2023-04-09T00:43:24.132Z"
   },
   {
    "duration": 24,
    "start_time": "2023-04-09T00:43:26.558Z"
   },
   {
    "duration": 11,
    "start_time": "2023-04-09T00:43:26.583Z"
   },
   {
    "duration": 126,
    "start_time": "2023-04-09T00:43:26.595Z"
   },
   {
    "duration": 0,
    "start_time": "2023-04-09T00:43:26.723Z"
   },
   {
    "duration": 0,
    "start_time": "2023-04-09T00:43:26.724Z"
   },
   {
    "duration": 0,
    "start_time": "2023-04-09T00:43:26.725Z"
   },
   {
    "duration": 0,
    "start_time": "2023-04-09T00:43:26.727Z"
   },
   {
    "duration": 2,
    "start_time": "2023-04-09T00:43:37.748Z"
   },
   {
    "duration": 9,
    "start_time": "2023-04-09T00:43:40.460Z"
   },
   {
    "duration": 1464,
    "start_time": "2023-04-09T00:44:54.111Z"
   },
   {
    "duration": 210,
    "start_time": "2023-04-09T00:44:55.577Z"
   },
   {
    "duration": 32,
    "start_time": "2023-04-09T00:44:55.788Z"
   },
   {
    "duration": 34,
    "start_time": "2023-04-09T00:44:55.822Z"
   },
   {
    "duration": 89,
    "start_time": "2023-04-09T00:44:55.872Z"
   },
   {
    "duration": 23,
    "start_time": "2023-04-09T00:44:55.971Z"
   },
   {
    "duration": 15,
    "start_time": "2023-04-09T00:44:55.996Z"
   },
   {
    "duration": 88,
    "start_time": "2023-04-09T00:44:56.012Z"
   },
   {
    "duration": 9,
    "start_time": "2023-04-09T00:44:56.102Z"
   },
   {
    "duration": 23,
    "start_time": "2023-04-09T00:44:56.114Z"
   },
   {
    "duration": 5,
    "start_time": "2023-04-09T00:44:56.139Z"
   },
   {
    "duration": 27,
    "start_time": "2023-04-09T00:44:56.146Z"
   },
   {
    "duration": 19,
    "start_time": "2023-04-09T00:44:56.174Z"
   },
   {
    "duration": 4,
    "start_time": "2023-04-09T00:44:56.194Z"
   },
   {
    "duration": 10,
    "start_time": "2023-04-09T00:44:56.199Z"
   },
   {
    "duration": 6,
    "start_time": "2023-04-09T00:44:56.211Z"
   },
   {
    "duration": 2265,
    "start_time": "2023-04-09T00:44:56.219Z"
   },
   {
    "duration": 21,
    "start_time": "2023-04-09T00:44:58.486Z"
   },
   {
    "duration": 7,
    "start_time": "2023-04-09T00:44:58.508Z"
   },
   {
    "duration": 7,
    "start_time": "2023-04-09T00:44:58.517Z"
   },
   {
    "duration": 7,
    "start_time": "2023-04-09T00:44:58.525Z"
   },
   {
    "duration": 129,
    "start_time": "2023-04-09T00:44:58.533Z"
   },
   {
    "duration": 0,
    "start_time": "2023-04-09T00:44:58.664Z"
   },
   {
    "duration": 0,
    "start_time": "2023-04-09T00:44:58.665Z"
   },
   {
    "duration": 0,
    "start_time": "2023-04-09T00:44:58.672Z"
   },
   {
    "duration": 10,
    "start_time": "2023-04-09T00:45:17.663Z"
   },
   {
    "duration": 1339,
    "start_time": "2023-04-09T00:54:55.776Z"
   },
   {
    "duration": 197,
    "start_time": "2023-04-09T00:54:57.117Z"
   },
   {
    "duration": 33,
    "start_time": "2023-04-09T00:54:57.315Z"
   },
   {
    "duration": 46,
    "start_time": "2023-04-09T00:54:57.349Z"
   },
   {
    "duration": 80,
    "start_time": "2023-04-09T00:54:57.396Z"
   },
   {
    "duration": 16,
    "start_time": "2023-04-09T00:54:57.477Z"
   },
   {
    "duration": 10,
    "start_time": "2023-04-09T00:54:57.495Z"
   },
   {
    "duration": 70,
    "start_time": "2023-04-09T00:54:57.506Z"
   },
   {
    "duration": 8,
    "start_time": "2023-04-09T00:54:57.578Z"
   },
   {
    "duration": 44,
    "start_time": "2023-04-09T00:54:57.589Z"
   },
   {
    "duration": 33,
    "start_time": "2023-04-09T00:54:57.635Z"
   },
   {
    "duration": 24,
    "start_time": "2023-04-09T00:54:57.670Z"
   },
   {
    "duration": 28,
    "start_time": "2023-04-09T00:54:57.696Z"
   },
   {
    "duration": 10,
    "start_time": "2023-04-09T00:54:57.726Z"
   },
   {
    "duration": 23,
    "start_time": "2023-04-09T00:54:57.738Z"
   },
   {
    "duration": 30,
    "start_time": "2023-04-09T00:54:57.762Z"
   },
   {
    "duration": 2250,
    "start_time": "2023-04-09T00:54:57.794Z"
   },
   {
    "duration": 18,
    "start_time": "2023-04-09T00:55:00.046Z"
   },
   {
    "duration": 4,
    "start_time": "2023-04-09T00:55:00.072Z"
   },
   {
    "duration": 38,
    "start_time": "2023-04-09T00:55:00.077Z"
   },
   {
    "duration": 2,
    "start_time": "2023-04-09T00:55:00.117Z"
   },
   {
    "duration": 10,
    "start_time": "2023-04-09T00:55:00.121Z"
   },
   {
    "duration": 28,
    "start_time": "2023-04-09T00:55:00.132Z"
   },
   {
    "duration": 44,
    "start_time": "2023-04-09T00:55:00.161Z"
   },
   {
    "duration": 148,
    "start_time": "2023-04-09T00:55:00.206Z"
   },
   {
    "duration": 0,
    "start_time": "2023-04-09T00:55:00.356Z"
   },
   {
    "duration": 0,
    "start_time": "2023-04-09T00:55:00.357Z"
   },
   {
    "duration": 0,
    "start_time": "2023-04-09T00:55:00.358Z"
   },
   {
    "duration": 4,
    "start_time": "2023-04-09T00:55:02.593Z"
   },
   {
    "duration": 1286,
    "start_time": "2023-04-09T00:55:12.712Z"
   },
   {
    "duration": 196,
    "start_time": "2023-04-09T00:55:14.000Z"
   },
   {
    "duration": 34,
    "start_time": "2023-04-09T00:55:14.197Z"
   },
   {
    "duration": 48,
    "start_time": "2023-04-09T00:55:14.233Z"
   },
   {
    "duration": 79,
    "start_time": "2023-04-09T00:55:14.283Z"
   },
   {
    "duration": 19,
    "start_time": "2023-04-09T00:55:14.371Z"
   },
   {
    "duration": 12,
    "start_time": "2023-04-09T00:55:14.391Z"
   },
   {
    "duration": 80,
    "start_time": "2023-04-09T00:55:14.404Z"
   },
   {
    "duration": 9,
    "start_time": "2023-04-09T00:55:14.486Z"
   },
   {
    "duration": 23,
    "start_time": "2023-04-09T00:55:14.498Z"
   },
   {
    "duration": 5,
    "start_time": "2023-04-09T00:55:14.523Z"
   },
   {
    "duration": 6,
    "start_time": "2023-04-09T00:55:14.529Z"
   },
   {
    "duration": 45,
    "start_time": "2023-04-09T00:55:14.537Z"
   },
   {
    "duration": 11,
    "start_time": "2023-04-09T00:55:14.583Z"
   },
   {
    "duration": 12,
    "start_time": "2023-04-09T00:55:14.595Z"
   },
   {
    "duration": 9,
    "start_time": "2023-04-09T00:55:14.608Z"
   },
   {
    "duration": 2352,
    "start_time": "2023-04-09T00:55:14.619Z"
   },
   {
    "duration": 22,
    "start_time": "2023-04-09T00:55:16.973Z"
   },
   {
    "duration": 13,
    "start_time": "2023-04-09T00:55:16.997Z"
   },
   {
    "duration": 23,
    "start_time": "2023-04-09T00:55:17.011Z"
   },
   {
    "duration": 2,
    "start_time": "2023-04-09T00:55:17.036Z"
   },
   {
    "duration": 10,
    "start_time": "2023-04-09T00:55:17.040Z"
   },
   {
    "duration": 21,
    "start_time": "2023-04-09T00:55:17.051Z"
   },
   {
    "duration": 12,
    "start_time": "2023-04-09T00:55:17.074Z"
   },
   {
    "duration": 21,
    "start_time": "2023-04-09T00:55:17.087Z"
   },
   {
    "duration": 5836,
    "start_time": "2023-04-09T00:55:17.110Z"
   },
   {
    "duration": 19,
    "start_time": "2023-04-09T00:55:22.948Z"
   },
   {
    "duration": 0,
    "start_time": "2023-04-09T00:55:22.968Z"
   },
   {
    "duration": 10,
    "start_time": "2023-04-09T00:59:45.565Z"
   },
   {
    "duration": 9,
    "start_time": "2023-04-09T00:59:54.101Z"
   },
   {
    "duration": 47,
    "start_time": "2023-04-09T08:27:52.530Z"
   },
   {
    "duration": 1524,
    "start_time": "2023-04-09T08:28:03.128Z"
   },
   {
    "duration": 714,
    "start_time": "2023-04-09T08:28:04.654Z"
   },
   {
    "duration": 38,
    "start_time": "2023-04-09T08:28:05.370Z"
   },
   {
    "duration": 61,
    "start_time": "2023-04-09T08:28:05.411Z"
   },
   {
    "duration": 94,
    "start_time": "2023-04-09T08:28:05.473Z"
   },
   {
    "duration": 19,
    "start_time": "2023-04-09T08:28:05.569Z"
   },
   {
    "duration": 136,
    "start_time": "2023-04-09T08:28:05.589Z"
   },
   {
    "duration": 0,
    "start_time": "2023-04-09T08:28:05.728Z"
   },
   {
    "duration": 0,
    "start_time": "2023-04-09T08:28:05.728Z"
   },
   {
    "duration": 1,
    "start_time": "2023-04-09T08:28:05.729Z"
   },
   {
    "duration": 0,
    "start_time": "2023-04-09T08:28:05.740Z"
   },
   {
    "duration": 0,
    "start_time": "2023-04-09T08:28:05.741Z"
   },
   {
    "duration": 0,
    "start_time": "2023-04-09T08:28:05.742Z"
   },
   {
    "duration": 0,
    "start_time": "2023-04-09T08:28:05.743Z"
   },
   {
    "duration": 0,
    "start_time": "2023-04-09T08:28:05.744Z"
   },
   {
    "duration": 0,
    "start_time": "2023-04-09T08:28:05.745Z"
   },
   {
    "duration": 0,
    "start_time": "2023-04-09T08:28:05.745Z"
   },
   {
    "duration": 0,
    "start_time": "2023-04-09T08:28:05.746Z"
   },
   {
    "duration": 0,
    "start_time": "2023-04-09T08:28:05.747Z"
   },
   {
    "duration": 0,
    "start_time": "2023-04-09T08:28:05.748Z"
   },
   {
    "duration": 0,
    "start_time": "2023-04-09T08:28:05.748Z"
   },
   {
    "duration": 0,
    "start_time": "2023-04-09T08:28:05.750Z"
   },
   {
    "duration": 0,
    "start_time": "2023-04-09T08:28:05.750Z"
   },
   {
    "duration": 0,
    "start_time": "2023-04-09T08:28:05.751Z"
   },
   {
    "duration": 0,
    "start_time": "2023-04-09T08:28:05.752Z"
   },
   {
    "duration": 0,
    "start_time": "2023-04-09T08:28:05.753Z"
   },
   {
    "duration": 0,
    "start_time": "2023-04-09T08:28:05.754Z"
   },
   {
    "duration": 0,
    "start_time": "2023-04-09T08:28:05.755Z"
   },
   {
    "duration": 1287,
    "start_time": "2023-04-09T08:28:48.676Z"
   },
   {
    "duration": 181,
    "start_time": "2023-04-09T08:28:49.965Z"
   },
   {
    "duration": 34,
    "start_time": "2023-04-09T08:28:50.147Z"
   },
   {
    "duration": 59,
    "start_time": "2023-04-09T08:28:50.183Z"
   },
   {
    "duration": 73,
    "start_time": "2023-04-09T08:28:50.244Z"
   },
   {
    "duration": 27,
    "start_time": "2023-04-09T08:28:50.318Z"
   },
   {
    "duration": 33,
    "start_time": "2023-04-09T08:28:50.346Z"
   },
   {
    "duration": 55,
    "start_time": "2023-04-09T08:28:50.380Z"
   },
   {
    "duration": 11,
    "start_time": "2023-04-09T08:28:50.437Z"
   },
   {
    "duration": 21,
    "start_time": "2023-04-09T08:28:50.451Z"
   },
   {
    "duration": 4,
    "start_time": "2023-04-09T08:28:50.474Z"
   },
   {
    "duration": 6,
    "start_time": "2023-04-09T08:28:50.480Z"
   },
   {
    "duration": 21,
    "start_time": "2023-04-09T08:28:50.487Z"
   },
   {
    "duration": 26,
    "start_time": "2023-04-09T08:28:50.509Z"
   },
   {
    "duration": 19,
    "start_time": "2023-04-09T08:28:50.537Z"
   },
   {
    "duration": 7,
    "start_time": "2023-04-09T08:28:50.557Z"
   },
   {
    "duration": 2361,
    "start_time": "2023-04-09T08:28:50.565Z"
   },
   {
    "duration": 23,
    "start_time": "2023-04-09T08:28:52.927Z"
   },
   {
    "duration": 4,
    "start_time": "2023-04-09T08:28:52.951Z"
   },
   {
    "duration": 31,
    "start_time": "2023-04-09T08:28:52.957Z"
   },
   {
    "duration": 3,
    "start_time": "2023-04-09T08:28:52.989Z"
   },
   {
    "duration": 6,
    "start_time": "2023-04-09T08:28:52.993Z"
   },
   {
    "duration": 11,
    "start_time": "2023-04-09T08:28:53.000Z"
   },
   {
    "duration": 9,
    "start_time": "2023-04-09T08:28:53.012Z"
   },
   {
    "duration": 8,
    "start_time": "2023-04-09T08:28:53.022Z"
   },
   {
    "duration": 5606,
    "start_time": "2023-04-09T08:28:53.031Z"
   },
   {
    "duration": 19,
    "start_time": "2023-04-09T08:28:58.639Z"
   },
   {
    "duration": 0,
    "start_time": "2023-04-09T08:28:58.659Z"
   },
   {
    "duration": 7,
    "start_time": "2023-04-09T08:33:12.239Z"
   },
   {
    "duration": 7,
    "start_time": "2023-04-09T08:33:23.882Z"
   },
   {
    "duration": 6,
    "start_time": "2023-04-09T08:33:30.170Z"
   },
   {
    "duration": 5,
    "start_time": "2023-04-09T08:33:38.168Z"
   },
   {
    "duration": 5595,
    "start_time": "2023-04-09T08:36:12.315Z"
   },
   {
    "duration": 1372,
    "start_time": "2023-04-09T08:37:20.522Z"
   },
   {
    "duration": 182,
    "start_time": "2023-04-09T08:37:21.896Z"
   },
   {
    "duration": 35,
    "start_time": "2023-04-09T08:37:22.080Z"
   },
   {
    "duration": 46,
    "start_time": "2023-04-09T08:37:22.116Z"
   },
   {
    "duration": 80,
    "start_time": "2023-04-09T08:37:22.163Z"
   },
   {
    "duration": 17,
    "start_time": "2023-04-09T08:37:22.245Z"
   },
   {
    "duration": 11,
    "start_time": "2023-04-09T08:37:22.263Z"
   },
   {
    "duration": 70,
    "start_time": "2023-04-09T08:37:22.275Z"
   },
   {
    "duration": 9,
    "start_time": "2023-04-09T08:37:22.347Z"
   },
   {
    "duration": 26,
    "start_time": "2023-04-09T08:37:22.358Z"
   },
   {
    "duration": 5,
    "start_time": "2023-04-09T08:37:22.385Z"
   },
   {
    "duration": 11,
    "start_time": "2023-04-09T08:37:22.391Z"
   },
   {
    "duration": 40,
    "start_time": "2023-04-09T08:37:22.404Z"
   },
   {
    "duration": 3,
    "start_time": "2023-04-09T08:37:22.446Z"
   },
   {
    "duration": 17,
    "start_time": "2023-04-09T08:37:22.451Z"
   },
   {
    "duration": 34,
    "start_time": "2023-04-09T08:37:22.470Z"
   },
   {
    "duration": 2302,
    "start_time": "2023-04-09T08:37:22.506Z"
   },
   {
    "duration": 19,
    "start_time": "2023-04-09T08:37:24.809Z"
   },
   {
    "duration": 19,
    "start_time": "2023-04-09T08:37:24.829Z"
   },
   {
    "duration": 29,
    "start_time": "2023-04-09T08:37:24.850Z"
   },
   {
    "duration": 2,
    "start_time": "2023-04-09T08:37:24.880Z"
   },
   {
    "duration": 15,
    "start_time": "2023-04-09T08:37:24.883Z"
   },
   {
    "duration": 16,
    "start_time": "2023-04-09T08:37:24.899Z"
   },
   {
    "duration": 4,
    "start_time": "2023-04-09T08:37:24.917Z"
   },
   {
    "duration": 14,
    "start_time": "2023-04-09T08:37:24.922Z"
   },
   {
    "duration": 5599,
    "start_time": "2023-04-09T08:37:24.937Z"
   },
   {
    "duration": 0,
    "start_time": "2023-04-09T08:37:30.539Z"
   },
   {
    "duration": 0,
    "start_time": "2023-04-09T08:37:30.542Z"
   },
   {
    "duration": 1353,
    "start_time": "2023-04-09T08:40:23.323Z"
   },
   {
    "duration": 181,
    "start_time": "2023-04-09T08:40:24.678Z"
   },
   {
    "duration": 34,
    "start_time": "2023-04-09T08:40:24.860Z"
   },
   {
    "duration": 45,
    "start_time": "2023-04-09T08:40:24.896Z"
   },
   {
    "duration": 76,
    "start_time": "2023-04-09T08:40:24.942Z"
   },
   {
    "duration": 42,
    "start_time": "2023-04-09T08:40:25.020Z"
   },
   {
    "duration": 19,
    "start_time": "2023-04-09T08:40:25.063Z"
   },
   {
    "duration": 70,
    "start_time": "2023-04-09T08:40:25.084Z"
   },
   {
    "duration": 10,
    "start_time": "2023-04-09T08:40:25.155Z"
   },
   {
    "duration": 23,
    "start_time": "2023-04-09T08:40:25.168Z"
   },
   {
    "duration": 5,
    "start_time": "2023-04-09T08:40:25.192Z"
   },
   {
    "duration": 6,
    "start_time": "2023-04-09T08:40:25.199Z"
   },
   {
    "duration": 38,
    "start_time": "2023-04-09T08:40:25.206Z"
   },
   {
    "duration": 3,
    "start_time": "2023-04-09T08:40:25.246Z"
   },
   {
    "duration": 5,
    "start_time": "2023-04-09T08:40:25.250Z"
   },
   {
    "duration": 10,
    "start_time": "2023-04-09T08:40:25.256Z"
   },
   {
    "duration": 2473,
    "start_time": "2023-04-09T08:40:25.269Z"
   },
   {
    "duration": 20,
    "start_time": "2023-04-09T08:40:27.744Z"
   },
   {
    "duration": 7,
    "start_time": "2023-04-09T08:40:27.765Z"
   },
   {
    "duration": 30,
    "start_time": "2023-04-09T08:40:27.773Z"
   },
   {
    "duration": 1,
    "start_time": "2023-04-09T08:40:27.805Z"
   },
   {
    "duration": 7,
    "start_time": "2023-04-09T08:40:27.808Z"
   },
   {
    "duration": 14,
    "start_time": "2023-04-09T08:40:27.816Z"
   },
   {
    "duration": 10,
    "start_time": "2023-04-09T08:40:27.831Z"
   },
   {
    "duration": 4,
    "start_time": "2023-04-09T08:40:27.842Z"
   },
   {
    "duration": 5421,
    "start_time": "2023-04-09T08:40:27.847Z"
   },
   {
    "duration": 0,
    "start_time": "2023-04-09T08:40:33.270Z"
   },
   {
    "duration": 0,
    "start_time": "2023-04-09T08:40:33.271Z"
   },
   {
    "duration": 1392,
    "start_time": "2023-04-09T09:15:30.728Z"
   },
   {
    "duration": 196,
    "start_time": "2023-04-09T09:15:32.121Z"
   },
   {
    "duration": 36,
    "start_time": "2023-04-09T09:15:32.319Z"
   },
   {
    "duration": 36,
    "start_time": "2023-04-09T09:15:32.358Z"
   },
   {
    "duration": 88,
    "start_time": "2023-04-09T09:15:32.396Z"
   },
   {
    "duration": 19,
    "start_time": "2023-04-09T09:15:32.485Z"
   },
   {
    "duration": 35,
    "start_time": "2023-04-09T09:15:32.506Z"
   },
   {
    "duration": 73,
    "start_time": "2023-04-09T09:15:32.543Z"
   },
   {
    "duration": 24,
    "start_time": "2023-04-09T09:15:32.617Z"
   },
   {
    "duration": 33,
    "start_time": "2023-04-09T09:15:32.643Z"
   },
   {
    "duration": 5,
    "start_time": "2023-04-09T09:15:32.678Z"
   },
   {
    "duration": 15,
    "start_time": "2023-04-09T09:15:32.684Z"
   },
   {
    "duration": 74,
    "start_time": "2023-04-09T09:15:32.701Z"
   },
   {
    "duration": 5,
    "start_time": "2023-04-09T09:15:32.777Z"
   },
   {
    "duration": 22,
    "start_time": "2023-04-09T09:15:32.784Z"
   },
   {
    "duration": 14,
    "start_time": "2023-04-09T09:15:32.807Z"
   },
   {
    "duration": 7,
    "start_time": "2023-04-09T09:15:32.823Z"
   },
   {
    "duration": 2339,
    "start_time": "2023-04-09T09:15:32.831Z"
   },
   {
    "duration": 21,
    "start_time": "2023-04-09T09:15:35.172Z"
   },
   {
    "duration": 4,
    "start_time": "2023-04-09T09:15:35.194Z"
   },
   {
    "duration": 7,
    "start_time": "2023-04-09T09:15:35.200Z"
   },
   {
    "duration": 4,
    "start_time": "2023-04-09T09:15:35.208Z"
   },
   {
    "duration": 30,
    "start_time": "2023-04-09T09:15:35.213Z"
   },
   {
    "duration": 6,
    "start_time": "2023-04-09T09:15:35.245Z"
   },
   {
    "duration": 9,
    "start_time": "2023-04-09T09:15:35.253Z"
   },
   {
    "duration": 15,
    "start_time": "2023-04-09T09:15:35.264Z"
   },
   {
    "duration": 1466,
    "start_time": "2023-04-09T09:19:31.327Z"
   },
   {
    "duration": 185,
    "start_time": "2023-04-09T09:19:32.795Z"
   },
   {
    "duration": 48,
    "start_time": "2023-04-09T09:19:32.983Z"
   },
   {
    "duration": 40,
    "start_time": "2023-04-09T09:19:33.033Z"
   },
   {
    "duration": 106,
    "start_time": "2023-04-09T09:19:33.075Z"
   },
   {
    "duration": 20,
    "start_time": "2023-04-09T09:19:33.182Z"
   },
   {
    "duration": 44,
    "start_time": "2023-04-09T09:19:33.203Z"
   },
   {
    "duration": 74,
    "start_time": "2023-04-09T09:19:33.249Z"
   },
   {
    "duration": 16,
    "start_time": "2023-04-09T09:19:33.324Z"
   },
   {
    "duration": 44,
    "start_time": "2023-04-09T09:19:33.343Z"
   },
   {
    "duration": 6,
    "start_time": "2023-04-09T09:19:33.389Z"
   },
   {
    "duration": 40,
    "start_time": "2023-04-09T09:19:33.396Z"
   },
   {
    "duration": 105,
    "start_time": "2023-04-09T09:19:33.439Z"
   },
   {
    "duration": 8,
    "start_time": "2023-04-09T09:19:33.547Z"
   },
   {
    "duration": 6,
    "start_time": "2023-04-09T09:19:33.557Z"
   },
   {
    "duration": 11,
    "start_time": "2023-04-09T09:19:33.564Z"
   },
   {
    "duration": 8,
    "start_time": "2023-04-09T09:19:33.577Z"
   },
   {
    "duration": 2368,
    "start_time": "2023-04-09T09:19:33.587Z"
   },
   {
    "duration": 20,
    "start_time": "2023-04-09T09:19:35.956Z"
   },
   {
    "duration": 4,
    "start_time": "2023-04-09T09:19:35.977Z"
   },
   {
    "duration": 11,
    "start_time": "2023-04-09T09:19:35.982Z"
   },
   {
    "duration": 2,
    "start_time": "2023-04-09T09:19:35.994Z"
   },
   {
    "duration": 6,
    "start_time": "2023-04-09T09:19:35.997Z"
   },
   {
    "duration": 5,
    "start_time": "2023-04-09T09:19:36.005Z"
   },
   {
    "duration": 5,
    "start_time": "2023-04-09T09:19:36.039Z"
   },
   {
    "duration": 6,
    "start_time": "2023-04-09T09:19:36.045Z"
   },
   {
    "duration": 257039,
    "start_time": "2023-04-09T09:19:36.053Z"
   },
   {
    "duration": 20,
    "start_time": "2023-04-09T09:23:53.095Z"
   },
   {
    "duration": 4680,
    "start_time": "2023-04-09T09:23:53.116Z"
   },
   {
    "duration": 74,
    "start_time": "2023-04-09T09:44:46.025Z"
   },
   {
    "duration": 1357,
    "start_time": "2023-04-09T09:48:04.790Z"
   },
   {
    "duration": 221,
    "start_time": "2023-04-09T09:48:06.149Z"
   },
   {
    "duration": 38,
    "start_time": "2023-04-09T09:48:06.371Z"
   },
   {
    "duration": 48,
    "start_time": "2023-04-09T09:48:06.411Z"
   },
   {
    "duration": 98,
    "start_time": "2023-04-09T09:48:06.460Z"
   },
   {
    "duration": 24,
    "start_time": "2023-04-09T09:48:06.559Z"
   },
   {
    "duration": 12,
    "start_time": "2023-04-09T09:48:06.585Z"
   },
   {
    "duration": 95,
    "start_time": "2023-04-09T09:48:06.598Z"
   },
   {
    "duration": 13,
    "start_time": "2023-04-09T09:48:06.695Z"
   },
   {
    "duration": 48,
    "start_time": "2023-04-09T09:48:06.711Z"
   },
   {
    "duration": 7,
    "start_time": "2023-04-09T09:48:06.761Z"
   },
   {
    "duration": 7,
    "start_time": "2023-04-09T09:48:06.770Z"
   },
   {
    "duration": 102,
    "start_time": "2023-04-09T09:48:06.779Z"
   },
   {
    "duration": 7,
    "start_time": "2023-04-09T09:48:06.883Z"
   },
   {
    "duration": 3,
    "start_time": "2023-04-09T09:48:06.893Z"
   },
   {
    "duration": 5,
    "start_time": "2023-04-09T09:48:06.898Z"
   },
   {
    "duration": 9,
    "start_time": "2023-04-09T09:48:06.905Z"
   },
   {
    "duration": 2495,
    "start_time": "2023-04-09T09:48:06.939Z"
   },
   {
    "duration": 21,
    "start_time": "2023-04-09T09:48:09.435Z"
   },
   {
    "duration": 3,
    "start_time": "2023-04-09T09:48:09.458Z"
   },
   {
    "duration": 7,
    "start_time": "2023-04-09T09:48:09.463Z"
   },
   {
    "duration": 2,
    "start_time": "2023-04-09T09:48:09.472Z"
   },
   {
    "duration": 5,
    "start_time": "2023-04-09T09:48:09.475Z"
   },
   {
    "duration": 4,
    "start_time": "2023-04-09T09:48:09.482Z"
   },
   {
    "duration": 3,
    "start_time": "2023-04-09T09:48:09.487Z"
   },
   {
    "duration": 3,
    "start_time": "2023-04-09T09:48:09.491Z"
   },
   {
    "duration": 239464,
    "start_time": "2023-04-09T09:48:09.495Z"
   },
   {
    "duration": 16,
    "start_time": "2023-04-09T09:52:08.962Z"
   },
   {
    "duration": 3515,
    "start_time": "2023-04-09T09:52:08.980Z"
   },
   {
    "duration": 0,
    "start_time": "2023-04-09T09:52:12.497Z"
   },
   {
    "duration": 100,
    "start_time": "2023-04-09T09:53:14.859Z"
   },
   {
    "duration": 1772,
    "start_time": "2023-04-09T09:53:32.850Z"
   },
   {
    "duration": 1385,
    "start_time": "2023-04-09T10:06:21.549Z"
   },
   {
    "duration": 211,
    "start_time": "2023-04-09T10:06:22.935Z"
   },
   {
    "duration": 36,
    "start_time": "2023-04-09T10:06:23.147Z"
   },
   {
    "duration": 60,
    "start_time": "2023-04-09T10:06:23.185Z"
   },
   {
    "duration": 94,
    "start_time": "2023-04-09T10:06:23.246Z"
   },
   {
    "duration": 19,
    "start_time": "2023-04-09T10:06:23.342Z"
   },
   {
    "duration": 28,
    "start_time": "2023-04-09T10:06:23.363Z"
   },
   {
    "duration": 63,
    "start_time": "2023-04-09T10:06:23.394Z"
   },
   {
    "duration": 11,
    "start_time": "2023-04-09T10:06:23.459Z"
   },
   {
    "duration": 28,
    "start_time": "2023-04-09T10:06:23.472Z"
   },
   {
    "duration": 4,
    "start_time": "2023-04-09T10:06:23.502Z"
   },
   {
    "duration": 6,
    "start_time": "2023-04-09T10:06:23.507Z"
   },
   {
    "duration": 77,
    "start_time": "2023-04-09T10:06:23.514Z"
   },
   {
    "duration": 7,
    "start_time": "2023-04-09T10:06:23.593Z"
   },
   {
    "duration": 9,
    "start_time": "2023-04-09T10:06:23.602Z"
   },
   {
    "duration": 27,
    "start_time": "2023-04-09T10:06:23.613Z"
   },
   {
    "duration": 12,
    "start_time": "2023-04-09T10:06:23.642Z"
   },
   {
    "duration": 2271,
    "start_time": "2023-04-09T10:06:23.655Z"
   },
   {
    "duration": 28,
    "start_time": "2023-04-09T10:06:25.927Z"
   },
   {
    "duration": 4,
    "start_time": "2023-04-09T10:06:25.957Z"
   },
   {
    "duration": 16,
    "start_time": "2023-04-09T10:06:25.963Z"
   },
   {
    "duration": 121,
    "start_time": "2023-04-09T10:06:25.981Z"
   },
   {
    "duration": 0,
    "start_time": "2023-04-09T10:06:26.104Z"
   },
   {
    "duration": 0,
    "start_time": "2023-04-09T10:06:26.105Z"
   },
   {
    "duration": 0,
    "start_time": "2023-04-09T10:06:26.106Z"
   },
   {
    "duration": 0,
    "start_time": "2023-04-09T10:06:26.107Z"
   },
   {
    "duration": 0,
    "start_time": "2023-04-09T10:06:26.108Z"
   },
   {
    "duration": 0,
    "start_time": "2023-04-09T10:06:26.109Z"
   },
   {
    "duration": 0,
    "start_time": "2023-04-09T10:06:26.110Z"
   },
   {
    "duration": 0,
    "start_time": "2023-04-09T10:06:26.111Z"
   },
   {
    "duration": 0,
    "start_time": "2023-04-09T10:06:26.112Z"
   },
   {
    "duration": 0,
    "start_time": "2023-04-09T10:06:26.113Z"
   },
   {
    "duration": 0,
    "start_time": "2023-04-09T10:06:26.114Z"
   },
   {
    "duration": 0,
    "start_time": "2023-04-09T10:06:26.140Z"
   },
   {
    "duration": 0,
    "start_time": "2023-04-09T10:06:26.140Z"
   },
   {
    "duration": 0,
    "start_time": "2023-04-09T10:06:26.141Z"
   },
   {
    "duration": 0,
    "start_time": "2023-04-09T10:06:26.142Z"
   },
   {
    "duration": 0,
    "start_time": "2023-04-09T10:06:26.143Z"
   },
   {
    "duration": 0,
    "start_time": "2023-04-09T10:06:26.144Z"
   },
   {
    "duration": 0,
    "start_time": "2023-04-09T10:06:26.145Z"
   },
   {
    "duration": 0,
    "start_time": "2023-04-09T10:06:26.146Z"
   },
   {
    "duration": 0,
    "start_time": "2023-04-09T10:06:26.147Z"
   },
   {
    "duration": 1361,
    "start_time": "2023-04-09T10:07:11.646Z"
   },
   {
    "duration": 192,
    "start_time": "2023-04-09T10:07:13.009Z"
   },
   {
    "duration": 39,
    "start_time": "2023-04-09T10:07:13.202Z"
   },
   {
    "duration": 35,
    "start_time": "2023-04-09T10:07:13.243Z"
   },
   {
    "duration": 91,
    "start_time": "2023-04-09T10:07:13.279Z"
   },
   {
    "duration": 18,
    "start_time": "2023-04-09T10:07:13.371Z"
   },
   {
    "duration": 11,
    "start_time": "2023-04-09T10:07:13.391Z"
   },
   {
    "duration": 69,
    "start_time": "2023-04-09T10:07:13.403Z"
   },
   {
    "duration": 9,
    "start_time": "2023-04-09T10:07:13.473Z"
   },
   {
    "duration": 22,
    "start_time": "2023-04-09T10:07:13.485Z"
   },
   {
    "duration": 5,
    "start_time": "2023-04-09T10:07:13.508Z"
   },
   {
    "duration": 5,
    "start_time": "2023-04-09T10:07:13.514Z"
   },
   {
    "duration": 60,
    "start_time": "2023-04-09T10:07:13.540Z"
   },
   {
    "duration": 5,
    "start_time": "2023-04-09T10:07:13.601Z"
   },
   {
    "duration": 3,
    "start_time": "2023-04-09T10:07:13.607Z"
   },
   {
    "duration": 4,
    "start_time": "2023-04-09T10:07:13.611Z"
   },
   {
    "duration": 26,
    "start_time": "2023-04-09T10:07:13.616Z"
   },
   {
    "duration": 2324,
    "start_time": "2023-04-09T10:07:13.644Z"
   },
   {
    "duration": 19,
    "start_time": "2023-04-09T10:07:15.970Z"
   },
   {
    "duration": 8,
    "start_time": "2023-04-09T10:07:15.990Z"
   },
   {
    "duration": 10,
    "start_time": "2023-04-09T10:07:16.000Z"
   },
   {
    "duration": 2120,
    "start_time": "2023-04-09T10:07:16.012Z"
   },
   {
    "duration": 37,
    "start_time": "2023-04-09T10:07:18.134Z"
   },
   {
    "duration": 4,
    "start_time": "2023-04-09T10:07:18.173Z"
   },
   {
    "duration": 78,
    "start_time": "2023-04-09T10:07:18.178Z"
   },
   {
    "duration": 0,
    "start_time": "2023-04-09T10:07:18.259Z"
   },
   {
    "duration": 0,
    "start_time": "2023-04-09T10:07:18.261Z"
   },
   {
    "duration": 0,
    "start_time": "2023-04-09T10:07:18.262Z"
   },
   {
    "duration": 0,
    "start_time": "2023-04-09T10:07:18.262Z"
   },
   {
    "duration": 0,
    "start_time": "2023-04-09T10:07:18.263Z"
   },
   {
    "duration": 0,
    "start_time": "2023-04-09T10:07:18.264Z"
   },
   {
    "duration": 0,
    "start_time": "2023-04-09T10:07:18.264Z"
   },
   {
    "duration": 0,
    "start_time": "2023-04-09T10:07:18.265Z"
   },
   {
    "duration": 0,
    "start_time": "2023-04-09T10:07:18.266Z"
   },
   {
    "duration": 0,
    "start_time": "2023-04-09T10:07:18.267Z"
   },
   {
    "duration": 0,
    "start_time": "2023-04-09T10:07:18.268Z"
   },
   {
    "duration": 0,
    "start_time": "2023-04-09T10:07:18.268Z"
   },
   {
    "duration": 0,
    "start_time": "2023-04-09T10:07:18.270Z"
   },
   {
    "duration": 0,
    "start_time": "2023-04-09T10:07:18.272Z"
   },
   {
    "duration": 0,
    "start_time": "2023-04-09T10:07:18.274Z"
   },
   {
    "duration": 0,
    "start_time": "2023-04-09T10:07:18.276Z"
   },
   {
    "duration": 0,
    "start_time": "2023-04-09T10:07:18.277Z"
   },
   {
    "duration": 1436,
    "start_time": "2023-04-09T10:07:42.395Z"
   },
   {
    "duration": 194,
    "start_time": "2023-04-09T10:07:43.832Z"
   },
   {
    "duration": 36,
    "start_time": "2023-04-09T10:07:44.028Z"
   },
   {
    "duration": 37,
    "start_time": "2023-04-09T10:07:44.066Z"
   },
   {
    "duration": 105,
    "start_time": "2023-04-09T10:07:44.106Z"
   },
   {
    "duration": 28,
    "start_time": "2023-04-09T10:07:44.213Z"
   },
   {
    "duration": 13,
    "start_time": "2023-04-09T10:07:44.244Z"
   },
   {
    "duration": 119,
    "start_time": "2023-04-09T10:07:44.258Z"
   },
   {
    "duration": 12,
    "start_time": "2023-04-09T10:07:44.379Z"
   },
   {
    "duration": 23,
    "start_time": "2023-04-09T10:07:44.395Z"
   },
   {
    "duration": 22,
    "start_time": "2023-04-09T10:07:44.419Z"
   },
   {
    "duration": 9,
    "start_time": "2023-04-09T10:07:44.442Z"
   },
   {
    "duration": 69,
    "start_time": "2023-04-09T10:07:44.453Z"
   },
   {
    "duration": 22,
    "start_time": "2023-04-09T10:07:44.523Z"
   },
   {
    "duration": 3,
    "start_time": "2023-04-09T10:07:44.547Z"
   },
   {
    "duration": 5,
    "start_time": "2023-04-09T10:07:44.554Z"
   },
   {
    "duration": 15,
    "start_time": "2023-04-09T10:07:44.563Z"
   },
   {
    "duration": 2999,
    "start_time": "2023-04-09T10:07:44.583Z"
   },
   {
    "duration": 32,
    "start_time": "2023-04-09T10:07:47.584Z"
   },
   {
    "duration": 6,
    "start_time": "2023-04-09T10:07:47.619Z"
   },
   {
    "duration": 24,
    "start_time": "2023-04-09T10:07:47.627Z"
   },
   {
    "duration": 2154,
    "start_time": "2023-04-09T10:07:47.654Z"
   },
   {
    "duration": 32,
    "start_time": "2023-04-09T10:07:49.809Z"
   },
   {
    "duration": 4,
    "start_time": "2023-04-09T10:07:49.843Z"
   },
   {
    "duration": 1957,
    "start_time": "2023-04-09T10:07:49.849Z"
   },
   {
    "duration": 20,
    "start_time": "2023-04-09T10:07:51.807Z"
   },
   {
    "duration": 16,
    "start_time": "2023-04-09T10:07:51.829Z"
   },
   {
    "duration": 13,
    "start_time": "2023-04-09T10:07:51.848Z"
   },
   {
    "duration": 5,
    "start_time": "2023-04-09T10:07:51.862Z"
   },
   {
    "duration": 9,
    "start_time": "2023-04-09T10:07:51.868Z"
   },
   {
    "duration": 239500,
    "start_time": "2023-04-09T10:07:51.878Z"
   },
   {
    "duration": 17,
    "start_time": "2023-04-09T10:11:51.380Z"
   },
   {
    "duration": 4110,
    "start_time": "2023-04-09T10:11:51.398Z"
   },
   {
    "duration": 4,
    "start_time": "2023-04-09T10:11:55.510Z"
   },
   {
    "duration": 4,
    "start_time": "2023-04-09T10:11:55.515Z"
   },
   {
    "duration": 3,
    "start_time": "2023-04-09T10:11:55.521Z"
   },
   {
    "duration": 1491,
    "start_time": "2023-04-09T10:17:55.647Z"
   },
   {
    "duration": 187,
    "start_time": "2023-04-09T10:17:57.140Z"
   },
   {
    "duration": 39,
    "start_time": "2023-04-09T10:17:57.329Z"
   },
   {
    "duration": 38,
    "start_time": "2023-04-09T10:17:57.370Z"
   },
   {
    "duration": 99,
    "start_time": "2023-04-09T10:17:57.410Z"
   },
   {
    "duration": 30,
    "start_time": "2023-04-09T10:17:57.510Z"
   },
   {
    "duration": 12,
    "start_time": "2023-04-09T10:17:57.541Z"
   },
   {
    "duration": 55,
    "start_time": "2023-04-09T10:17:57.555Z"
   },
   {
    "duration": 10,
    "start_time": "2023-04-09T10:17:57.611Z"
   },
   {
    "duration": 23,
    "start_time": "2023-04-09T10:17:57.641Z"
   },
   {
    "duration": 5,
    "start_time": "2023-04-09T10:17:57.666Z"
   },
   {
    "duration": 7,
    "start_time": "2023-04-09T10:17:57.673Z"
   },
   {
    "duration": 77,
    "start_time": "2023-04-09T10:17:57.682Z"
   },
   {
    "duration": 6,
    "start_time": "2023-04-09T10:17:57.761Z"
   },
   {
    "duration": 9,
    "start_time": "2023-04-09T10:17:57.768Z"
   },
   {
    "duration": 6,
    "start_time": "2023-04-09T10:17:57.778Z"
   },
   {
    "duration": 7,
    "start_time": "2023-04-09T10:17:57.785Z"
   },
   {
    "duration": 2291,
    "start_time": "2023-04-09T10:17:57.793Z"
   },
   {
    "duration": 19,
    "start_time": "2023-04-09T10:18:00.086Z"
   },
   {
    "duration": 5,
    "start_time": "2023-04-09T10:18:00.107Z"
   },
   {
    "duration": 27,
    "start_time": "2023-04-09T10:18:00.113Z"
   },
   {
    "duration": 1999,
    "start_time": "2023-04-09T10:18:00.141Z"
   },
   {
    "duration": 20,
    "start_time": "2023-04-09T10:18:02.141Z"
   },
   {
    "duration": 21,
    "start_time": "2023-04-09T10:18:02.163Z"
   },
   {
    "duration": 1917,
    "start_time": "2023-04-09T10:18:02.185Z"
   },
   {
    "duration": 19,
    "start_time": "2023-04-09T10:18:04.104Z"
   },
   {
    "duration": 16,
    "start_time": "2023-04-09T10:18:04.124Z"
   },
   {
    "duration": 3,
    "start_time": "2023-04-09T10:18:04.143Z"
   },
   {
    "duration": 6,
    "start_time": "2023-04-09T10:18:04.148Z"
   },
   {
    "duration": 8,
    "start_time": "2023-04-09T10:18:04.155Z"
   },
   {
    "duration": 237730,
    "start_time": "2023-04-09T10:18:04.165Z"
   },
   {
    "duration": 16,
    "start_time": "2023-04-09T10:22:01.897Z"
   },
   {
    "duration": 4042,
    "start_time": "2023-04-09T10:22:01.914Z"
   },
   {
    "duration": 3,
    "start_time": "2023-04-09T10:22:05.958Z"
   },
   {
    "duration": 6,
    "start_time": "2023-04-09T10:22:05.962Z"
   },
   {
    "duration": 9,
    "start_time": "2023-04-09T10:22:05.969Z"
   },
   {
    "duration": 366253,
    "start_time": "2023-04-09T10:22:05.980Z"
   },
   {
    "duration": 27,
    "start_time": "2023-04-09T10:28:12.234Z"
   },
   {
    "duration": 2846,
    "start_time": "2023-04-09T10:28:12.263Z"
   },
   {
    "duration": 14,
    "start_time": "2023-04-09T10:28:15.111Z"
   },
   {
    "duration": 1913,
    "start_time": "2023-04-09T10:28:15.126Z"
   },
   {
    "duration": 9,
    "start_time": "2023-04-09T10:28:17.054Z"
   },
   {
    "duration": 1373,
    "start_time": "2023-04-09T10:28:17.064Z"
   },
   {
    "duration": 50,
    "start_time": "2023-04-11T15:41:55.880Z"
   },
   {
    "duration": 1682,
    "start_time": "2023-04-11T15:42:04.525Z"
   },
   {
    "duration": 796,
    "start_time": "2023-04-11T15:42:06.209Z"
   },
   {
    "duration": 43,
    "start_time": "2023-04-11T15:42:07.007Z"
   },
   {
    "duration": 60,
    "start_time": "2023-04-11T15:42:07.052Z"
   },
   {
    "duration": 99,
    "start_time": "2023-04-11T15:42:07.114Z"
   },
   {
    "duration": 30,
    "start_time": "2023-04-11T15:42:07.215Z"
   },
   {
    "duration": 17,
    "start_time": "2023-04-11T15:42:07.246Z"
   },
   {
    "duration": 89,
    "start_time": "2023-04-11T15:42:07.265Z"
   },
   {
    "duration": 12,
    "start_time": "2023-04-11T15:42:07.355Z"
   },
   {
    "duration": 48,
    "start_time": "2023-04-11T15:42:07.369Z"
   },
   {
    "duration": 5,
    "start_time": "2023-04-11T15:42:07.419Z"
   },
   {
    "duration": 8,
    "start_time": "2023-04-11T15:42:07.425Z"
   },
   {
    "duration": 78,
    "start_time": "2023-04-11T15:42:07.435Z"
   },
   {
    "duration": 6,
    "start_time": "2023-04-11T15:42:07.514Z"
   },
   {
    "duration": 3,
    "start_time": "2023-04-11T15:42:07.521Z"
   },
   {
    "duration": 1262,
    "start_time": "2023-04-11T15:42:07.526Z"
   },
   {
    "duration": 5,
    "start_time": "2023-04-11T15:42:08.789Z"
   },
   {
    "duration": 23,
    "start_time": "2023-04-11T15:42:08.795Z"
   },
   {
    "duration": 2512,
    "start_time": "2023-04-11T15:42:08.819Z"
   },
   {
    "duration": 21,
    "start_time": "2023-04-11T15:42:11.333Z"
   },
   {
    "duration": 4,
    "start_time": "2023-04-11T15:42:11.356Z"
   },
   {
    "duration": 24,
    "start_time": "2023-04-11T15:42:11.362Z"
   },
   {
    "duration": 2229,
    "start_time": "2023-04-11T15:42:11.388Z"
   },
   {
    "duration": 21,
    "start_time": "2023-04-11T15:42:13.619Z"
   },
   {
    "duration": 3,
    "start_time": "2023-04-11T15:42:13.641Z"
   },
   {
    "duration": 2064,
    "start_time": "2023-04-11T15:42:13.645Z"
   },
   {
    "duration": 21,
    "start_time": "2023-04-11T15:42:15.711Z"
   },
   {
    "duration": 6,
    "start_time": "2023-04-11T15:42:15.736Z"
   },
   {
    "duration": 6,
    "start_time": "2023-04-11T15:42:15.744Z"
   },
   {
    "duration": 16,
    "start_time": "2023-04-11T15:42:15.751Z"
   },
   {
    "duration": 4,
    "start_time": "2023-04-11T15:42:15.769Z"
   },
   {
    "duration": 263624,
    "start_time": "2023-04-11T15:42:15.775Z"
   },
   {
    "duration": 20,
    "start_time": "2023-04-11T15:46:39.400Z"
   },
   {
    "duration": 4469,
    "start_time": "2023-04-11T15:46:39.422Z"
   },
   {
    "duration": 3,
    "start_time": "2023-04-11T15:46:43.893Z"
   },
   {
    "duration": 17,
    "start_time": "2023-04-11T15:46:43.898Z"
   },
   {
    "duration": 8,
    "start_time": "2023-04-11T15:46:43.917Z"
   },
   {
    "duration": 1554,
    "start_time": "2023-04-11T15:50:21.444Z"
   },
   {
    "duration": 244,
    "start_time": "2023-04-11T15:50:23.000Z"
   },
   {
    "duration": 41,
    "start_time": "2023-04-11T15:50:23.246Z"
   },
   {
    "duration": 39,
    "start_time": "2023-04-11T15:50:23.294Z"
   },
   {
    "duration": 99,
    "start_time": "2023-04-11T15:50:23.335Z"
   },
   {
    "duration": 19,
    "start_time": "2023-04-11T15:50:23.436Z"
   },
   {
    "duration": 13,
    "start_time": "2023-04-11T15:50:23.457Z"
   },
   {
    "duration": 79,
    "start_time": "2023-04-11T15:50:23.471Z"
   },
   {
    "duration": 12,
    "start_time": "2023-04-11T15:50:23.552Z"
   },
   {
    "duration": 46,
    "start_time": "2023-04-11T15:50:23.566Z"
   },
   {
    "duration": 5,
    "start_time": "2023-04-11T15:50:23.614Z"
   },
   {
    "duration": 7,
    "start_time": "2023-04-11T15:50:23.621Z"
   },
   {
    "duration": 85,
    "start_time": "2023-04-11T15:50:23.630Z"
   },
   {
    "duration": 5,
    "start_time": "2023-04-11T15:50:23.717Z"
   },
   {
    "duration": 5,
    "start_time": "2023-04-11T15:50:23.724Z"
   },
   {
    "duration": 1283,
    "start_time": "2023-04-11T15:50:23.730Z"
   },
   {
    "duration": 5,
    "start_time": "2023-04-11T15:50:25.014Z"
   },
   {
    "duration": 10,
    "start_time": "2023-04-11T15:50:25.021Z"
   },
   {
    "duration": 2623,
    "start_time": "2023-04-11T15:50:25.033Z"
   },
   {
    "duration": 24,
    "start_time": "2023-04-11T15:50:27.658Z"
   },
   {
    "duration": 4,
    "start_time": "2023-04-11T15:50:27.693Z"
   },
   {
    "duration": 23,
    "start_time": "2023-04-11T15:50:27.699Z"
   },
   {
    "duration": 2259,
    "start_time": "2023-04-11T15:50:27.724Z"
   },
   {
    "duration": 23,
    "start_time": "2023-04-11T15:50:29.985Z"
   },
   {
    "duration": 2,
    "start_time": "2023-04-11T15:50:30.010Z"
   },
   {
    "duration": 2240,
    "start_time": "2023-04-11T15:50:30.014Z"
   },
   {
    "duration": 24,
    "start_time": "2023-04-11T15:50:32.256Z"
   },
   {
    "duration": 8,
    "start_time": "2023-04-11T15:50:32.293Z"
   },
   {
    "duration": 17,
    "start_time": "2023-04-11T15:50:32.302Z"
   },
   {
    "duration": 19,
    "start_time": "2023-04-11T15:50:32.321Z"
   },
   {
    "duration": 21,
    "start_time": "2023-04-11T15:50:32.343Z"
   },
   {
    "duration": 272679,
    "start_time": "2023-04-11T15:50:32.365Z"
   },
   {
    "duration": 19,
    "start_time": "2023-04-11T15:55:05.046Z"
   },
   {
    "duration": 4629,
    "start_time": "2023-04-11T15:55:05.067Z"
   },
   {
    "duration": 4,
    "start_time": "2023-04-11T15:55:09.698Z"
   },
   {
    "duration": 8,
    "start_time": "2023-04-11T15:55:09.704Z"
   },
   {
    "duration": 4,
    "start_time": "2023-04-11T15:55:09.714Z"
   },
   {
    "duration": 503152,
    "start_time": "2023-04-11T15:55:09.720Z"
   },
   {
    "duration": 27,
    "start_time": "2023-04-11T16:03:32.874Z"
   },
   {
    "duration": 3182,
    "start_time": "2023-04-11T16:03:32.904Z"
   },
   {
    "duration": 29,
    "start_time": "2023-04-11T16:03:36.087Z"
   },
   {
    "duration": 2359,
    "start_time": "2023-04-11T16:03:36.118Z"
   },
   {
    "duration": 9,
    "start_time": "2023-04-11T16:03:38.479Z"
   },
   {
    "duration": 1852,
    "start_time": "2023-04-11T16:03:38.490Z"
   },
   {
    "duration": 210,
    "start_time": "2023-04-11T16:10:32.353Z"
   },
   {
    "duration": 29,
    "start_time": "2023-04-11T16:11:45.799Z"
   },
   {
    "duration": 56,
    "start_time": "2023-04-11T16:22:54.119Z"
   },
   {
    "duration": 4790,
    "start_time": "2023-04-11T16:23:04.995Z"
   },
   {
    "duration": 17,
    "start_time": "2023-04-11T16:26:40.605Z"
   },
   {
    "duration": 13,
    "start_time": "2023-04-11T16:29:33.810Z"
   },
   {
    "duration": 2299,
    "start_time": "2023-04-11T16:29:38.804Z"
   },
   {
    "duration": 19,
    "start_time": "2023-04-11T16:29:56.154Z"
   },
   {
    "duration": 8,
    "start_time": "2023-04-11T16:30:42.978Z"
   },
   {
    "duration": 1514,
    "start_time": "2023-04-11T16:32:10.241Z"
   },
   {
    "duration": 311,
    "start_time": "2023-04-11T16:32:11.757Z"
   },
   {
    "duration": 69,
    "start_time": "2023-04-11T16:32:12.070Z"
   },
   {
    "duration": 40,
    "start_time": "2023-04-11T16:32:12.141Z"
   },
   {
    "duration": 121,
    "start_time": "2023-04-11T16:32:12.183Z"
   },
   {
    "duration": 25,
    "start_time": "2023-04-11T16:32:12.306Z"
   },
   {
    "duration": 23,
    "start_time": "2023-04-11T16:32:12.333Z"
   },
   {
    "duration": 96,
    "start_time": "2023-04-11T16:32:12.358Z"
   },
   {
    "duration": 10,
    "start_time": "2023-04-11T16:32:12.456Z"
   },
   {
    "duration": 53,
    "start_time": "2023-04-11T16:32:12.469Z"
   },
   {
    "duration": 6,
    "start_time": "2023-04-11T16:32:12.524Z"
   },
   {
    "duration": 15,
    "start_time": "2023-04-11T16:32:12.532Z"
   },
   {
    "duration": 82,
    "start_time": "2023-04-11T16:32:12.549Z"
   },
   {
    "duration": 5,
    "start_time": "2023-04-11T16:32:12.633Z"
   },
   {
    "duration": 18,
    "start_time": "2023-04-11T16:32:12.640Z"
   },
   {
    "duration": 1417,
    "start_time": "2023-04-11T16:32:12.660Z"
   },
   {
    "duration": 4,
    "start_time": "2023-04-11T16:32:14.079Z"
   },
   {
    "duration": 16,
    "start_time": "2023-04-11T16:32:14.094Z"
   },
   {
    "duration": 2820,
    "start_time": "2023-04-11T16:32:14.113Z"
   },
   {
    "duration": 23,
    "start_time": "2023-04-11T16:32:16.935Z"
   },
   {
    "duration": 19,
    "start_time": "2023-04-11T16:32:16.960Z"
   },
   {
    "duration": 35,
    "start_time": "2023-04-11T16:32:16.981Z"
   },
   {
    "duration": 2455,
    "start_time": "2023-04-11T16:32:17.018Z"
   },
   {
    "duration": 46,
    "start_time": "2023-04-11T16:32:19.475Z"
   },
   {
    "duration": 3,
    "start_time": "2023-04-11T16:32:19.522Z"
   },
   {
    "duration": 2398,
    "start_time": "2023-04-11T16:32:19.526Z"
   },
   {
    "duration": 9,
    "start_time": "2023-04-11T16:32:21.926Z"
   },
   {
    "duration": 54,
    "start_time": "2023-04-11T16:32:21.940Z"
   },
   {
    "duration": 33,
    "start_time": "2023-04-11T16:32:21.997Z"
   },
   {
    "duration": 31,
    "start_time": "2023-04-11T16:32:22.032Z"
   },
   {
    "duration": 275413,
    "start_time": "2023-04-11T16:32:22.065Z"
   },
   {
    "duration": 26,
    "start_time": "2023-04-11T16:36:57.480Z"
   },
   {
    "duration": 4857,
    "start_time": "2023-04-11T16:36:57.508Z"
   },
   {
    "duration": 3,
    "start_time": "2023-04-11T16:37:02.367Z"
   },
   {
    "duration": 34,
    "start_time": "2023-04-11T16:37:02.372Z"
   },
   {
    "duration": 29,
    "start_time": "2023-04-11T16:37:02.408Z"
   },
   {
    "duration": 477680,
    "start_time": "2023-04-11T16:37:02.438Z"
   },
   {
    "duration": 18,
    "start_time": "2023-04-11T16:45:00.120Z"
   },
   {
    "duration": 3054,
    "start_time": "2023-04-11T16:45:00.139Z"
   },
   {
    "duration": 17,
    "start_time": "2023-04-11T16:45:03.195Z"
   },
   {
    "duration": 2174,
    "start_time": "2023-04-11T16:45:03.215Z"
   },
   {
    "duration": 11,
    "start_time": "2023-04-11T16:45:05.391Z"
   },
   {
    "duration": 1663,
    "start_time": "2023-04-11T16:45:05.405Z"
   },
   {
    "duration": 4536,
    "start_time": "2023-04-11T16:45:07.072Z"
   },
   {
    "duration": 131,
    "start_time": "2023-04-11T16:45:11.610Z"
   },
   {
    "duration": 39,
    "start_time": "2023-04-11T16:47:47.960Z"
   },
   {
    "duration": 15,
    "start_time": "2023-04-11T16:48:22.482Z"
   },
   {
    "duration": 1502,
    "start_time": "2023-04-11T17:42:40.218Z"
   },
   {
    "duration": 237,
    "start_time": "2023-04-11T17:42:41.722Z"
   },
   {
    "duration": 47,
    "start_time": "2023-04-11T17:42:41.960Z"
   },
   {
    "duration": 44,
    "start_time": "2023-04-11T17:42:42.009Z"
   },
   {
    "duration": 111,
    "start_time": "2023-04-11T17:42:42.055Z"
   },
   {
    "duration": 35,
    "start_time": "2023-04-11T17:42:42.168Z"
   },
   {
    "duration": 13,
    "start_time": "2023-04-11T17:42:42.209Z"
   },
   {
    "duration": 64,
    "start_time": "2023-04-11T17:42:42.224Z"
   },
   {
    "duration": 15,
    "start_time": "2023-04-11T17:42:42.298Z"
   },
   {
    "duration": 36,
    "start_time": "2023-04-11T17:42:42.316Z"
   },
   {
    "duration": 6,
    "start_time": "2023-04-11T17:42:42.353Z"
   },
   {
    "duration": 8,
    "start_time": "2023-04-11T17:42:42.361Z"
   },
   {
    "duration": 88,
    "start_time": "2023-04-11T17:42:42.371Z"
   },
   {
    "duration": 5,
    "start_time": "2023-04-11T17:42:42.461Z"
   },
   {
    "duration": 5,
    "start_time": "2023-04-11T17:42:42.468Z"
   },
   {
    "duration": 1409,
    "start_time": "2023-04-11T17:42:42.475Z"
   },
   {
    "duration": 20,
    "start_time": "2023-04-11T17:42:43.885Z"
   },
   {
    "duration": 8,
    "start_time": "2023-04-11T17:42:43.907Z"
   },
   {
    "duration": 2652,
    "start_time": "2023-04-11T17:42:43.916Z"
   },
   {
    "duration": 37,
    "start_time": "2023-04-11T17:42:46.570Z"
   },
   {
    "duration": 4,
    "start_time": "2023-04-11T17:42:46.609Z"
   },
   {
    "duration": 11,
    "start_time": "2023-04-11T17:42:46.615Z"
   },
   {
    "duration": 4,
    "start_time": "2023-04-11T17:42:46.627Z"
   },
   {
    "duration": 7,
    "start_time": "2023-04-11T17:42:46.632Z"
   },
   {
    "duration": 13,
    "start_time": "2023-04-11T17:42:46.641Z"
   },
   {
    "duration": 8,
    "start_time": "2023-04-11T17:42:46.655Z"
   },
   {
    "duration": 9,
    "start_time": "2023-04-11T17:42:46.665Z"
   },
   {
    "duration": 274748,
    "start_time": "2023-04-11T17:42:46.677Z"
   },
   {
    "duration": 19,
    "start_time": "2023-04-11T17:47:21.427Z"
   },
   {
    "duration": 4567,
    "start_time": "2023-04-11T17:47:21.448Z"
   },
   {
    "duration": 0,
    "start_time": "2023-04-11T17:47:26.017Z"
   },
   {
    "duration": 0,
    "start_time": "2023-04-11T17:47:26.018Z"
   },
   {
    "duration": 0,
    "start_time": "2023-04-11T17:47:26.020Z"
   },
   {
    "duration": 0,
    "start_time": "2023-04-11T17:47:26.021Z"
   },
   {
    "duration": 0,
    "start_time": "2023-04-11T17:47:26.022Z"
   },
   {
    "duration": 0,
    "start_time": "2023-04-11T17:47:26.023Z"
   },
   {
    "duration": 0,
    "start_time": "2023-04-11T17:47:26.025Z"
   },
   {
    "duration": 0,
    "start_time": "2023-04-11T17:47:26.026Z"
   },
   {
    "duration": 0,
    "start_time": "2023-04-11T17:47:26.027Z"
   },
   {
    "duration": 0,
    "start_time": "2023-04-11T17:47:26.028Z"
   },
   {
    "duration": 1479,
    "start_time": "2023-04-11T18:05:28.626Z"
   },
   {
    "duration": 250,
    "start_time": "2023-04-11T18:05:30.107Z"
   },
   {
    "duration": 44,
    "start_time": "2023-04-11T18:05:30.359Z"
   },
   {
    "duration": 43,
    "start_time": "2023-04-11T18:05:30.406Z"
   },
   {
    "duration": 112,
    "start_time": "2023-04-11T18:05:30.451Z"
   },
   {
    "duration": 33,
    "start_time": "2023-04-11T18:05:30.564Z"
   },
   {
    "duration": 38,
    "start_time": "2023-04-11T18:05:30.598Z"
   },
   {
    "duration": 87,
    "start_time": "2023-04-11T18:05:30.639Z"
   },
   {
    "duration": 13,
    "start_time": "2023-04-11T18:05:30.728Z"
   },
   {
    "duration": 66,
    "start_time": "2023-04-11T18:05:30.744Z"
   },
   {
    "duration": 41,
    "start_time": "2023-04-11T18:05:30.812Z"
   },
   {
    "duration": 54,
    "start_time": "2023-04-11T18:05:30.855Z"
   },
   {
    "duration": 72,
    "start_time": "2023-04-11T18:05:30.911Z"
   },
   {
    "duration": 5,
    "start_time": "2023-04-11T18:05:30.985Z"
   },
   {
    "duration": 23,
    "start_time": "2023-04-11T18:05:30.992Z"
   },
   {
    "duration": 1276,
    "start_time": "2023-04-11T18:05:31.017Z"
   },
   {
    "duration": 5,
    "start_time": "2023-04-11T18:05:32.295Z"
   },
   {
    "duration": 27,
    "start_time": "2023-04-11T18:05:32.302Z"
   },
   {
    "duration": 2538,
    "start_time": "2023-04-11T18:05:32.332Z"
   },
   {
    "duration": 29,
    "start_time": "2023-04-11T18:05:34.872Z"
   },
   {
    "duration": 4,
    "start_time": "2023-04-11T18:05:34.903Z"
   },
   {
    "duration": 25,
    "start_time": "2023-04-11T18:05:34.909Z"
   },
   {
    "duration": 2231,
    "start_time": "2023-04-11T18:05:34.936Z"
   },
   {
    "duration": 29,
    "start_time": "2023-04-11T18:05:37.169Z"
   },
   {
    "duration": 4,
    "start_time": "2023-04-11T18:05:37.200Z"
   },
   {
    "duration": 133,
    "start_time": "2023-04-11T18:05:37.205Z"
   },
   {
    "duration": 0,
    "start_time": "2023-04-11T18:05:37.340Z"
   },
   {
    "duration": 0,
    "start_time": "2023-04-11T18:05:37.341Z"
   },
   {
    "duration": 0,
    "start_time": "2023-04-11T18:05:37.343Z"
   },
   {
    "duration": 0,
    "start_time": "2023-04-11T18:05:37.344Z"
   },
   {
    "duration": 0,
    "start_time": "2023-04-11T18:05:37.345Z"
   },
   {
    "duration": 0,
    "start_time": "2023-04-11T18:05:37.346Z"
   },
   {
    "duration": 0,
    "start_time": "2023-04-11T18:05:37.348Z"
   },
   {
    "duration": 0,
    "start_time": "2023-04-11T18:05:37.349Z"
   },
   {
    "duration": 0,
    "start_time": "2023-04-11T18:05:37.350Z"
   },
   {
    "duration": 0,
    "start_time": "2023-04-11T18:05:37.351Z"
   },
   {
    "duration": 0,
    "start_time": "2023-04-11T18:05:37.352Z"
   },
   {
    "duration": 0,
    "start_time": "2023-04-11T18:05:37.353Z"
   },
   {
    "duration": 0,
    "start_time": "2023-04-11T18:05:37.354Z"
   },
   {
    "duration": 0,
    "start_time": "2023-04-11T18:05:37.355Z"
   },
   {
    "duration": 0,
    "start_time": "2023-04-11T18:05:37.356Z"
   },
   {
    "duration": 0,
    "start_time": "2023-04-11T18:05:37.357Z"
   },
   {
    "duration": 0,
    "start_time": "2023-04-11T18:05:37.358Z"
   },
   {
    "duration": 1564,
    "start_time": "2023-04-11T18:06:39.324Z"
   },
   {
    "duration": 245,
    "start_time": "2023-04-11T18:06:40.890Z"
   },
   {
    "duration": 41,
    "start_time": "2023-04-11T18:06:41.137Z"
   },
   {
    "duration": 51,
    "start_time": "2023-04-11T18:06:41.181Z"
   },
   {
    "duration": 104,
    "start_time": "2023-04-11T18:06:41.234Z"
   },
   {
    "duration": 21,
    "start_time": "2023-04-11T18:06:41.340Z"
   },
   {
    "duration": 13,
    "start_time": "2023-04-11T18:06:41.363Z"
   },
   {
    "duration": 63,
    "start_time": "2023-04-11T18:06:41.394Z"
   },
   {
    "duration": 13,
    "start_time": "2023-04-11T18:06:41.460Z"
   },
   {
    "duration": 49,
    "start_time": "2023-04-11T18:06:41.476Z"
   },
   {
    "duration": 6,
    "start_time": "2023-04-11T18:06:41.527Z"
   },
   {
    "duration": 7,
    "start_time": "2023-04-11T18:06:41.535Z"
   },
   {
    "duration": 96,
    "start_time": "2023-04-11T18:06:41.544Z"
   },
   {
    "duration": 7,
    "start_time": "2023-04-11T18:06:41.642Z"
   },
   {
    "duration": 3,
    "start_time": "2023-04-11T18:06:41.650Z"
   },
   {
    "duration": 1343,
    "start_time": "2023-04-11T18:06:41.655Z"
   },
   {
    "duration": 4,
    "start_time": "2023-04-11T18:06:43.000Z"
   },
   {
    "duration": 11,
    "start_time": "2023-04-11T18:06:43.006Z"
   },
   {
    "duration": 2507,
    "start_time": "2023-04-11T18:06:43.018Z"
   },
   {
    "duration": 23,
    "start_time": "2023-04-11T18:06:45.527Z"
   },
   {
    "duration": 15,
    "start_time": "2023-04-11T18:06:45.552Z"
   },
   {
    "duration": 12,
    "start_time": "2023-04-11T18:06:45.569Z"
   },
   {
    "duration": 2119,
    "start_time": "2023-04-11T18:06:45.583Z"
   },
   {
    "duration": 23,
    "start_time": "2023-04-11T18:06:47.704Z"
   },
   {
    "duration": 3,
    "start_time": "2023-04-11T18:06:47.729Z"
   },
   {
    "duration": 2118,
    "start_time": "2023-04-11T18:06:47.734Z"
   },
   {
    "duration": 8,
    "start_time": "2023-04-11T18:06:49.854Z"
   },
   {
    "duration": 12,
    "start_time": "2023-04-11T18:06:49.866Z"
   },
   {
    "duration": 19,
    "start_time": "2023-04-11T18:06:49.880Z"
   },
   {
    "duration": 6,
    "start_time": "2023-04-11T18:06:49.901Z"
   },
   {
    "duration": 263888,
    "start_time": "2023-04-11T18:06:49.909Z"
   },
   {
    "duration": 20,
    "start_time": "2023-04-11T18:11:13.798Z"
   },
   {
    "duration": 4454,
    "start_time": "2023-04-11T18:11:13.820Z"
   },
   {
    "duration": 3,
    "start_time": "2023-04-11T18:11:18.276Z"
   },
   {
    "duration": 25,
    "start_time": "2023-04-11T18:11:18.281Z"
   },
   {
    "duration": 18,
    "start_time": "2023-04-11T18:11:18.308Z"
   },
   {
    "duration": 477101,
    "start_time": "2023-04-11T18:11:18.328Z"
   },
   {
    "duration": 17,
    "start_time": "2023-04-11T18:19:15.430Z"
   },
   {
    "duration": 2867,
    "start_time": "2023-04-11T18:19:15.449Z"
   },
   {
    "duration": 17,
    "start_time": "2023-04-11T18:19:18.318Z"
   },
   {
    "duration": 2280,
    "start_time": "2023-04-11T18:19:18.337Z"
   },
   {
    "duration": 10,
    "start_time": "2023-04-11T18:19:20.619Z"
   },
   {
    "duration": 1676,
    "start_time": "2023-04-11T18:19:20.631Z"
   },
   {
    "duration": 1505,
    "start_time": "2023-04-11T18:23:29.769Z"
   },
   {
    "duration": 247,
    "start_time": "2023-04-11T18:23:31.276Z"
   },
   {
    "duration": 39,
    "start_time": "2023-04-11T18:23:31.525Z"
   },
   {
    "duration": 54,
    "start_time": "2023-04-11T18:23:31.566Z"
   },
   {
    "duration": 100,
    "start_time": "2023-04-11T18:23:31.621Z"
   },
   {
    "duration": 19,
    "start_time": "2023-04-11T18:23:31.723Z"
   },
   {
    "duration": 32,
    "start_time": "2023-04-11T18:23:31.744Z"
   },
   {
    "duration": 91,
    "start_time": "2023-04-11T18:23:31.783Z"
   },
   {
    "duration": 13,
    "start_time": "2023-04-11T18:23:31.877Z"
   },
   {
    "duration": 72,
    "start_time": "2023-04-11T18:23:31.893Z"
   },
   {
    "duration": 11,
    "start_time": "2023-04-11T18:23:31.968Z"
   },
   {
    "duration": 14,
    "start_time": "2023-04-11T18:23:31.981Z"
   },
   {
    "duration": 99,
    "start_time": "2023-04-11T18:23:31.997Z"
   },
   {
    "duration": 6,
    "start_time": "2023-04-11T18:23:32.098Z"
   },
   {
    "duration": 27,
    "start_time": "2023-04-11T18:23:32.106Z"
   },
   {
    "duration": 1308,
    "start_time": "2023-04-11T18:23:32.135Z"
   },
   {
    "duration": 6,
    "start_time": "2023-04-11T18:23:33.445Z"
   },
   {
    "duration": 46,
    "start_time": "2023-04-11T18:23:33.452Z"
   },
   {
    "duration": 5,
    "start_time": "2023-04-11T18:23:33.501Z"
   },
   {
    "duration": 10,
    "start_time": "2023-04-11T18:23:33.508Z"
   },
   {
    "duration": 2522,
    "start_time": "2023-04-11T18:23:33.519Z"
   },
   {
    "duration": 22,
    "start_time": "2023-04-11T18:23:36.043Z"
   },
   {
    "duration": 5,
    "start_time": "2023-04-11T18:23:36.066Z"
   },
   {
    "duration": 23,
    "start_time": "2023-04-11T18:23:36.073Z"
   },
   {
    "duration": 176,
    "start_time": "2023-04-11T18:23:36.098Z"
   },
   {
    "duration": 0,
    "start_time": "2023-04-11T18:23:36.276Z"
   },
   {
    "duration": 0,
    "start_time": "2023-04-11T18:23:36.277Z"
   },
   {
    "duration": 0,
    "start_time": "2023-04-11T18:23:36.279Z"
   },
   {
    "duration": 0,
    "start_time": "2023-04-11T18:23:36.293Z"
   },
   {
    "duration": 0,
    "start_time": "2023-04-11T18:23:36.294Z"
   },
   {
    "duration": 1,
    "start_time": "2023-04-11T18:23:36.295Z"
   },
   {
    "duration": 0,
    "start_time": "2023-04-11T18:23:36.296Z"
   },
   {
    "duration": 0,
    "start_time": "2023-04-11T18:23:36.297Z"
   },
   {
    "duration": 0,
    "start_time": "2023-04-11T18:23:36.298Z"
   },
   {
    "duration": 0,
    "start_time": "2023-04-11T18:23:36.299Z"
   },
   {
    "duration": 0,
    "start_time": "2023-04-11T18:23:36.301Z"
   },
   {
    "duration": 0,
    "start_time": "2023-04-11T18:23:36.302Z"
   },
   {
    "duration": 0,
    "start_time": "2023-04-11T18:23:36.303Z"
   },
   {
    "duration": 0,
    "start_time": "2023-04-11T18:23:36.304Z"
   },
   {
    "duration": 0,
    "start_time": "2023-04-11T18:23:36.305Z"
   },
   {
    "duration": 0,
    "start_time": "2023-04-11T18:23:36.306Z"
   },
   {
    "duration": 0,
    "start_time": "2023-04-11T18:23:36.309Z"
   },
   {
    "duration": 0,
    "start_time": "2023-04-11T18:23:36.310Z"
   },
   {
    "duration": 0,
    "start_time": "2023-04-11T18:23:36.311Z"
   },
   {
    "duration": 0,
    "start_time": "2023-04-11T18:23:36.312Z"
   },
   {
    "duration": 1625,
    "start_time": "2023-04-11T18:26:55.660Z"
   },
   {
    "duration": 239,
    "start_time": "2023-04-11T18:26:57.287Z"
   },
   {
    "duration": 42,
    "start_time": "2023-04-11T18:26:57.528Z"
   },
   {
    "duration": 50,
    "start_time": "2023-04-11T18:26:57.572Z"
   },
   {
    "duration": 88,
    "start_time": "2023-04-11T18:26:57.624Z"
   },
   {
    "duration": 19,
    "start_time": "2023-04-11T18:26:57.714Z"
   },
   {
    "duration": 13,
    "start_time": "2023-04-11T18:26:57.735Z"
   },
   {
    "duration": 69,
    "start_time": "2023-04-11T18:26:57.750Z"
   },
   {
    "duration": 11,
    "start_time": "2023-04-11T18:26:57.821Z"
   },
   {
    "duration": 75,
    "start_time": "2023-04-11T18:26:57.834Z"
   },
   {
    "duration": 5,
    "start_time": "2023-04-11T18:26:57.910Z"
   },
   {
    "duration": 7,
    "start_time": "2023-04-11T18:26:57.917Z"
   },
   {
    "duration": 88,
    "start_time": "2023-04-11T18:26:57.926Z"
   },
   {
    "duration": 6,
    "start_time": "2023-04-11T18:26:58.016Z"
   },
   {
    "duration": 1323,
    "start_time": "2023-04-11T18:26:58.023Z"
   },
   {
    "duration": 6,
    "start_time": "2023-04-11T18:26:59.348Z"
   },
   {
    "duration": 32,
    "start_time": "2023-04-11T18:26:59.355Z"
   },
   {
    "duration": 5,
    "start_time": "2023-04-11T18:26:59.388Z"
   },
   {
    "duration": 6,
    "start_time": "2023-04-11T18:26:59.395Z"
   },
   {
    "duration": 8,
    "start_time": "2023-04-11T18:26:59.402Z"
   },
   {
    "duration": 2508,
    "start_time": "2023-04-11T18:26:59.411Z"
   },
   {
    "duration": 23,
    "start_time": "2023-04-11T18:27:01.921Z"
   },
   {
    "duration": 35,
    "start_time": "2023-04-11T18:27:01.946Z"
   },
   {
    "duration": 46,
    "start_time": "2023-04-11T18:27:01.982Z"
   },
   {
    "duration": 2326,
    "start_time": "2023-04-11T18:27:02.030Z"
   },
   {
    "duration": 22,
    "start_time": "2023-04-11T18:27:04.357Z"
   },
   {
    "duration": 27,
    "start_time": "2023-04-11T18:27:04.381Z"
   },
   {
    "duration": 2124,
    "start_time": "2023-04-11T18:27:04.411Z"
   },
   {
    "duration": 8,
    "start_time": "2023-04-11T18:27:06.537Z"
   },
   {
    "duration": 7,
    "start_time": "2023-04-11T18:27:06.546Z"
   },
   {
    "duration": 6,
    "start_time": "2023-04-11T18:27:06.555Z"
   },
   {
    "duration": 14,
    "start_time": "2023-04-11T18:27:06.563Z"
   },
   {
    "duration": 264939,
    "start_time": "2023-04-11T18:27:06.579Z"
   },
   {
    "duration": 19,
    "start_time": "2023-04-11T18:31:31.520Z"
   },
   {
    "duration": 7029,
    "start_time": "2023-04-11T18:31:31.541Z"
   },
   {
    "duration": 0,
    "start_time": "2023-04-11T18:31:38.572Z"
   },
   {
    "duration": 0,
    "start_time": "2023-04-11T18:31:38.573Z"
   },
   {
    "duration": 0,
    "start_time": "2023-04-11T18:31:38.574Z"
   },
   {
    "duration": 0,
    "start_time": "2023-04-11T18:31:38.576Z"
   },
   {
    "duration": 0,
    "start_time": "2023-04-11T18:31:38.577Z"
   },
   {
    "duration": 0,
    "start_time": "2023-04-11T18:31:38.578Z"
   },
   {
    "duration": 0,
    "start_time": "2023-04-11T18:31:38.593Z"
   },
   {
    "duration": 0,
    "start_time": "2023-04-11T18:31:38.595Z"
   },
   {
    "duration": 0,
    "start_time": "2023-04-11T18:31:38.596Z"
   },
   {
    "duration": 0,
    "start_time": "2023-04-11T18:31:38.598Z"
   },
   {
    "duration": 1507,
    "start_time": "2023-04-11T18:43:39.601Z"
   },
   {
    "duration": 247,
    "start_time": "2023-04-11T18:43:41.110Z"
   },
   {
    "duration": 40,
    "start_time": "2023-04-11T18:43:41.359Z"
   },
   {
    "duration": 39,
    "start_time": "2023-04-11T18:43:41.402Z"
   },
   {
    "duration": 103,
    "start_time": "2023-04-11T18:43:41.443Z"
   },
   {
    "duration": 20,
    "start_time": "2023-04-11T18:43:41.548Z"
   },
   {
    "duration": 30,
    "start_time": "2023-04-11T18:43:41.570Z"
   },
   {
    "duration": 59,
    "start_time": "2023-04-11T18:43:41.602Z"
   },
   {
    "duration": 37,
    "start_time": "2023-04-11T18:43:41.663Z"
   },
   {
    "duration": 27,
    "start_time": "2023-04-11T18:43:41.705Z"
   },
   {
    "duration": 6,
    "start_time": "2023-04-11T18:43:41.734Z"
   },
   {
    "duration": 7,
    "start_time": "2023-04-11T18:43:41.742Z"
   },
   {
    "duration": 97,
    "start_time": "2023-04-11T18:43:41.750Z"
   },
   {
    "duration": 6,
    "start_time": "2023-04-11T18:43:41.850Z"
   },
   {
    "duration": 1340,
    "start_time": "2023-04-11T18:43:41.858Z"
   },
   {
    "duration": 7,
    "start_time": "2023-04-11T18:43:43.199Z"
   },
   {
    "duration": 22,
    "start_time": "2023-04-11T18:43:43.207Z"
   },
   {
    "duration": 3,
    "start_time": "2023-04-11T18:43:43.231Z"
   },
   {
    "duration": 5,
    "start_time": "2023-04-11T18:43:43.236Z"
   },
   {
    "duration": 7,
    "start_time": "2023-04-11T18:43:43.242Z"
   },
   {
    "duration": 2467,
    "start_time": "2023-04-11T18:43:43.251Z"
   },
   {
    "duration": 22,
    "start_time": "2023-04-11T18:43:45.720Z"
   },
   {
    "duration": 4,
    "start_time": "2023-04-11T18:43:45.744Z"
   },
   {
    "duration": 14,
    "start_time": "2023-04-11T18:43:45.749Z"
   },
   {
    "duration": 4430,
    "start_time": "2023-04-11T18:43:45.764Z"
   },
   {
    "duration": 39,
    "start_time": "2023-04-11T18:43:50.196Z"
   },
   {
    "duration": 3,
    "start_time": "2023-04-11T18:43:50.237Z"
   },
   {
    "duration": 4352,
    "start_time": "2023-04-11T18:43:50.243Z"
   },
   {
    "duration": 7,
    "start_time": "2023-04-11T18:43:54.597Z"
   },
   {
    "duration": 15,
    "start_time": "2023-04-11T18:43:54.606Z"
   },
   {
    "duration": 15,
    "start_time": "2023-04-11T18:43:54.622Z"
   },
   {
    "duration": 4,
    "start_time": "2023-04-11T18:43:54.639Z"
   },
   {
    "duration": 261013,
    "start_time": "2023-04-11T18:43:54.645Z"
   },
   {
    "duration": 19,
    "start_time": "2023-04-11T18:48:15.660Z"
   },
   {
    "duration": 7335,
    "start_time": "2023-04-11T18:48:15.692Z"
   },
   {
    "duration": 4,
    "start_time": "2023-04-11T18:48:23.029Z"
   },
   {
    "duration": 5,
    "start_time": "2023-04-11T18:48:23.034Z"
   },
   {
    "duration": 5,
    "start_time": "2023-04-11T18:48:23.041Z"
   },
   {
    "duration": 465063,
    "start_time": "2023-04-11T18:48:23.047Z"
   },
   {
    "duration": 18,
    "start_time": "2023-04-11T18:56:08.111Z"
   },
   {
    "duration": 5741,
    "start_time": "2023-04-11T18:56:08.130Z"
   },
   {
    "duration": 21,
    "start_time": "2023-04-11T18:56:13.873Z"
   },
   {
    "duration": 1930,
    "start_time": "2023-04-11T18:56:13.895Z"
   },
   {
    "duration": 10,
    "start_time": "2023-04-11T18:56:15.827Z"
   },
   {
    "duration": 1571,
    "start_time": "2023-04-11T18:56:15.839Z"
   },
   {
    "duration": 130,
    "start_time": "2023-04-11T19:05:11.566Z"
   },
   {
    "duration": 7,
    "start_time": "2023-04-11T19:05:14.986Z"
   },
   {
    "duration": 3647,
    "start_time": "2023-04-11T19:05:17.021Z"
   },
   {
    "duration": 7,
    "start_time": "2023-04-11T19:05:37.377Z"
   },
   {
    "duration": 3675,
    "start_time": "2023-04-11T19:05:42.536Z"
   },
   {
    "duration": 8,
    "start_time": "2023-04-11T19:06:01.771Z"
   },
   {
    "duration": 3366,
    "start_time": "2023-04-11T19:06:04.319Z"
   },
   {
    "duration": 2696,
    "start_time": "2023-04-11T19:06:53.280Z"
   },
   {
    "duration": 1517,
    "start_time": "2023-04-11T19:08:45.621Z"
   },
   {
    "duration": 240,
    "start_time": "2023-04-11T19:08:47.139Z"
   },
   {
    "duration": 55,
    "start_time": "2023-04-11T19:08:47.380Z"
   },
   {
    "duration": 40,
    "start_time": "2023-04-11T19:08:47.438Z"
   },
   {
    "duration": 93,
    "start_time": "2023-04-11T19:08:47.480Z"
   },
   {
    "duration": 29,
    "start_time": "2023-04-11T19:08:47.575Z"
   },
   {
    "duration": 14,
    "start_time": "2023-04-11T19:08:47.605Z"
   },
   {
    "duration": 77,
    "start_time": "2023-04-11T19:08:47.620Z"
   },
   {
    "duration": 11,
    "start_time": "2023-04-11T19:08:47.698Z"
   },
   {
    "duration": 32,
    "start_time": "2023-04-11T19:08:47.712Z"
   },
   {
    "duration": 5,
    "start_time": "2023-04-11T19:08:47.746Z"
   },
   {
    "duration": 9,
    "start_time": "2023-04-11T19:08:47.752Z"
   },
   {
    "duration": 86,
    "start_time": "2023-04-11T19:08:47.763Z"
   },
   {
    "duration": 6,
    "start_time": "2023-04-11T19:08:47.850Z"
   },
   {
    "duration": 1303,
    "start_time": "2023-04-11T19:08:47.858Z"
   },
   {
    "duration": 6,
    "start_time": "2023-04-11T19:08:49.163Z"
   },
   {
    "duration": 28,
    "start_time": "2023-04-11T19:08:49.171Z"
   },
   {
    "duration": 3,
    "start_time": "2023-04-11T19:08:49.201Z"
   },
   {
    "duration": 13,
    "start_time": "2023-04-11T19:08:49.205Z"
   },
   {
    "duration": 22,
    "start_time": "2023-04-11T19:08:49.220Z"
   },
   {
    "duration": 2486,
    "start_time": "2023-04-11T19:08:49.243Z"
   },
   {
    "duration": 22,
    "start_time": "2023-04-11T19:08:51.731Z"
   },
   {
    "duration": 6,
    "start_time": "2023-04-11T19:08:51.756Z"
   },
   {
    "duration": 12,
    "start_time": "2023-04-11T19:08:51.763Z"
   },
   {
    "duration": 4556,
    "start_time": "2023-04-11T19:08:51.777Z"
   },
   {
    "duration": 37,
    "start_time": "2023-04-11T19:08:56.335Z"
   },
   {
    "duration": 3,
    "start_time": "2023-04-11T19:08:56.374Z"
   },
   {
    "duration": 4600,
    "start_time": "2023-04-11T19:08:56.394Z"
   },
   {
    "duration": 7,
    "start_time": "2023-04-11T19:09:00.996Z"
   },
   {
    "duration": 42,
    "start_time": "2023-04-11T19:09:01.005Z"
   },
   {
    "duration": 36,
    "start_time": "2023-04-11T19:09:01.049Z"
   },
   {
    "duration": 28,
    "start_time": "2023-04-11T19:09:01.088Z"
   },
   {
    "duration": 266317,
    "start_time": "2023-04-11T19:09:01.118Z"
   },
   {
    "duration": 23,
    "start_time": "2023-04-11T19:13:27.437Z"
   },
   {
    "duration": 7443,
    "start_time": "2023-04-11T19:13:27.462Z"
   },
   {
    "duration": 3,
    "start_time": "2023-04-11T19:13:34.906Z"
   },
   {
    "duration": 9,
    "start_time": "2023-04-11T19:13:34.911Z"
   },
   {
    "duration": 5,
    "start_time": "2023-04-11T19:13:34.922Z"
   },
   {
    "duration": 483878,
    "start_time": "2023-04-11T19:13:34.928Z"
   },
   {
    "duration": 18,
    "start_time": "2023-04-11T19:21:38.808Z"
   },
   {
    "duration": 5972,
    "start_time": "2023-04-11T19:21:38.828Z"
   },
   {
    "duration": 20,
    "start_time": "2023-04-11T19:21:44.802Z"
   },
   {
    "duration": 11,
    "start_time": "2023-04-11T19:21:44.824Z"
   },
   {
    "duration": 3337,
    "start_time": "2023-04-11T19:21:44.836Z"
   },
   {
    "duration": 2670,
    "start_time": "2023-04-11T19:21:48.175Z"
   },
   {
    "duration": 1987,
    "start_time": "2023-04-11T19:21:50.846Z"
   },
   {
    "duration": 10,
    "start_time": "2023-04-11T19:21:52.835Z"
   },
   {
    "duration": 1462,
    "start_time": "2023-04-11T19:21:52.846Z"
   },
   {
    "duration": 1925,
    "start_time": "2023-04-12T18:35:04.830Z"
   },
   {
    "duration": 1027,
    "start_time": "2023-04-12T18:35:06.757Z"
   },
   {
    "duration": 62,
    "start_time": "2023-04-12T18:35:07.786Z"
   },
   {
    "duration": 45,
    "start_time": "2023-04-12T18:35:07.850Z"
   },
   {
    "duration": 107,
    "start_time": "2023-04-12T18:35:07.896Z"
   },
   {
    "duration": 36,
    "start_time": "2023-04-12T18:35:08.005Z"
   },
   {
    "duration": 16,
    "start_time": "2023-04-12T18:35:08.044Z"
   },
   {
    "duration": 108,
    "start_time": "2023-04-12T18:35:08.062Z"
   },
   {
    "duration": 12,
    "start_time": "2023-04-12T18:35:08.172Z"
   },
   {
    "duration": 53,
    "start_time": "2023-04-12T18:35:08.187Z"
   },
   {
    "duration": 7,
    "start_time": "2023-04-12T18:35:08.242Z"
   },
   {
    "duration": 11,
    "start_time": "2023-04-12T18:35:08.251Z"
   },
   {
    "duration": 89,
    "start_time": "2023-04-12T18:35:08.264Z"
   },
   {
    "duration": 5,
    "start_time": "2023-04-12T18:35:08.355Z"
   },
   {
    "duration": 1583,
    "start_time": "2023-04-12T18:35:08.362Z"
   },
   {
    "duration": 7,
    "start_time": "2023-04-12T18:35:09.947Z"
   },
   {
    "duration": 36,
    "start_time": "2023-04-12T18:35:09.956Z"
   },
   {
    "duration": 12,
    "start_time": "2023-04-12T18:35:09.993Z"
   },
   {
    "duration": 26,
    "start_time": "2023-04-12T18:35:10.007Z"
   },
   {
    "duration": 13,
    "start_time": "2023-04-12T18:35:10.036Z"
   },
   {
    "duration": 2753,
    "start_time": "2023-04-12T18:35:10.051Z"
   },
   {
    "duration": 37,
    "start_time": "2023-04-12T18:35:12.806Z"
   },
   {
    "duration": 10,
    "start_time": "2023-04-12T18:35:12.846Z"
   },
   {
    "duration": 11,
    "start_time": "2023-04-12T18:35:12.857Z"
   },
   {
    "duration": 4794,
    "start_time": "2023-04-12T18:35:12.872Z"
   },
   {
    "duration": 68,
    "start_time": "2023-04-12T18:35:17.669Z"
   },
   {
    "duration": 3,
    "start_time": "2023-04-12T18:35:17.739Z"
   },
   {
    "duration": 4602,
    "start_time": "2023-04-12T18:35:17.747Z"
   },
   {
    "duration": 8,
    "start_time": "2023-04-12T18:35:22.351Z"
   },
   {
    "duration": 8,
    "start_time": "2023-04-12T18:35:22.360Z"
   },
   {
    "duration": 18,
    "start_time": "2023-04-12T18:35:22.370Z"
   },
   {
    "duration": 40,
    "start_time": "2023-04-12T18:35:22.389Z"
   },
   {
    "duration": 284534,
    "start_time": "2023-04-12T18:35:22.431Z"
   },
   {
    "duration": 20,
    "start_time": "2023-04-12T18:40:06.967Z"
   },
   {
    "duration": 7949,
    "start_time": "2023-04-12T18:40:06.988Z"
   },
   {
    "duration": 5,
    "start_time": "2023-04-12T18:40:14.940Z"
   },
   {
    "duration": 22,
    "start_time": "2023-04-12T18:40:14.947Z"
   },
   {
    "duration": 6,
    "start_time": "2023-04-12T18:40:14.971Z"
   },
   {
    "duration": 474034,
    "start_time": "2023-04-12T18:40:14.979Z"
   },
   {
    "duration": 35,
    "start_time": "2023-04-12T18:48:09.017Z"
   },
   {
    "duration": 6491,
    "start_time": "2023-04-12T18:48:09.054Z"
   },
   {
    "duration": 15,
    "start_time": "2023-04-12T18:48:15.547Z"
   },
   {
    "duration": 6,
    "start_time": "2023-04-12T18:48:15.564Z"
   },
   {
    "duration": 3605,
    "start_time": "2023-04-12T18:48:15.572Z"
   },
   {
    "duration": 2914,
    "start_time": "2023-04-12T18:48:19.182Z"
   },
   {
    "duration": 2110,
    "start_time": "2023-04-12T18:48:22.098Z"
   },
   {
    "duration": 10,
    "start_time": "2023-04-12T18:48:24.211Z"
   },
   {
    "duration": 1626,
    "start_time": "2023-04-12T18:48:24.223Z"
   },
   {
    "duration": 136,
    "start_time": "2023-04-12T18:49:46.032Z"
   },
   {
    "duration": 44,
    "start_time": "2023-04-12T18:50:14.205Z"
   },
   {
    "duration": 34,
    "start_time": "2023-04-12T18:54:07.405Z"
   },
   {
    "duration": 1421,
    "start_time": "2023-04-12T18:54:17.644Z"
   },
   {
    "duration": 36,
    "start_time": "2023-04-12T18:54:59.236Z"
   },
   {
    "duration": 10,
    "start_time": "2023-04-12T18:56:13.540Z"
   },
   {
    "duration": 13,
    "start_time": "2023-04-12T19:06:39.276Z"
   },
   {
    "duration": 14,
    "start_time": "2023-04-12T19:06:50.181Z"
   },
   {
    "duration": 5,
    "start_time": "2023-04-12T19:06:52.670Z"
   },
   {
    "duration": 11,
    "start_time": "2023-04-12T19:07:22.335Z"
   },
   {
    "duration": 11,
    "start_time": "2023-04-12T19:07:30.080Z"
   },
   {
    "duration": 16,
    "start_time": "2023-04-12T19:08:38.031Z"
   },
   {
    "duration": 5,
    "start_time": "2023-04-12T19:11:50.335Z"
   },
   {
    "duration": 4,
    "start_time": "2023-04-12T19:12:08.063Z"
   },
   {
    "duration": 4,
    "start_time": "2023-04-12T19:12:38.286Z"
   },
   {
    "duration": 10,
    "start_time": "2023-04-12T19:12:58.382Z"
   },
   {
    "duration": 11,
    "start_time": "2023-04-12T19:13:19.341Z"
   },
   {
    "duration": 155,
    "start_time": "2023-04-12T19:19:54.338Z"
   },
   {
    "duration": 184,
    "start_time": "2023-04-12T19:20:23.563Z"
   },
   {
    "duration": 645,
    "start_time": "2023-04-12T19:22:40.533Z"
   },
   {
    "duration": 179,
    "start_time": "2023-04-12T19:23:21.707Z"
   },
   {
    "duration": 628,
    "start_time": "2023-04-12T19:23:34.459Z"
   },
   {
    "duration": 640,
    "start_time": "2023-04-12T19:23:40.362Z"
   },
   {
    "duration": 186,
    "start_time": "2023-04-12T19:24:39.261Z"
   },
   {
    "duration": 16,
    "start_time": "2023-04-12T19:25:11.790Z"
   },
   {
    "duration": 706,
    "start_time": "2023-04-12T19:25:59.204Z"
   },
   {
    "duration": 82,
    "start_time": "2023-04-12T19:26:11.422Z"
   },
   {
    "duration": 4104,
    "start_time": "2023-04-13T17:34:40.281Z"
   },
   {
    "duration": 2252,
    "start_time": "2023-04-13T17:34:44.392Z"
   },
   {
    "duration": 111,
    "start_time": "2023-04-13T17:34:46.652Z"
   },
   {
    "duration": 84,
    "start_time": "2023-04-13T17:34:46.769Z"
   },
   {
    "duration": 144,
    "start_time": "2023-04-13T17:34:46.860Z"
   },
   {
    "duration": 77,
    "start_time": "2023-04-13T17:34:47.006Z"
   },
   {
    "duration": 50,
    "start_time": "2023-04-13T17:34:47.085Z"
   },
   {
    "duration": 143,
    "start_time": "2023-04-13T17:34:47.138Z"
   },
   {
    "duration": 23,
    "start_time": "2023-04-13T17:34:47.286Z"
   },
   {
    "duration": 56,
    "start_time": "2023-04-13T17:34:47.317Z"
   },
   {
    "duration": 26,
    "start_time": "2023-04-13T17:34:47.390Z"
   },
   {
    "duration": 13,
    "start_time": "2023-04-13T17:34:47.422Z"
   },
   {
    "duration": 157,
    "start_time": "2023-04-13T17:34:47.441Z"
   },
   {
    "duration": 9,
    "start_time": "2023-04-13T17:34:47.614Z"
   },
   {
    "duration": 379,
    "start_time": "2023-04-13T17:34:47.634Z"
   },
   {
    "duration": 235,
    "start_time": "2023-04-13T17:34:48.023Z"
   },
   {
    "duration": 1267,
    "start_time": "2023-04-13T17:34:48.263Z"
   },
   {
    "duration": 19,
    "start_time": "2023-04-13T17:34:49.536Z"
   },
   {
    "duration": 52,
    "start_time": "2023-04-13T17:34:49.563Z"
   },
   {
    "duration": 15,
    "start_time": "2023-04-13T17:34:49.636Z"
   },
   {
    "duration": 23,
    "start_time": "2023-04-13T17:34:49.664Z"
   },
   {
    "duration": 234,
    "start_time": "2023-04-13T17:34:49.689Z"
   },
   {
    "duration": 4922,
    "start_time": "2023-04-13T17:34:49.937Z"
   },
   {
    "duration": 37,
    "start_time": "2023-04-13T17:34:54.865Z"
   },
   {
    "duration": 27,
    "start_time": "2023-04-13T17:34:54.908Z"
   },
   {
    "duration": 13,
    "start_time": "2023-04-13T17:34:54.945Z"
   },
   {
    "duration": 8267,
    "start_time": "2023-04-13T17:34:54.969Z"
   },
   {
    "duration": 96,
    "start_time": "2023-04-13T17:35:03.248Z"
   },
   {
    "duration": 6,
    "start_time": "2023-04-13T17:35:03.350Z"
   },
   {
    "duration": 7751,
    "start_time": "2023-04-13T17:35:03.364Z"
   },
   {
    "duration": 398,
    "start_time": "2023-04-13T17:35:11.120Z"
   },
   {
    "duration": 0,
    "start_time": "2023-04-13T17:35:11.526Z"
   },
   {
    "duration": 0,
    "start_time": "2023-04-13T17:35:11.536Z"
   },
   {
    "duration": 0,
    "start_time": "2023-04-13T17:35:11.546Z"
   },
   {
    "duration": 0,
    "start_time": "2023-04-13T17:35:11.561Z"
   },
   {
    "duration": 0,
    "start_time": "2023-04-13T17:35:11.566Z"
   },
   {
    "duration": 0,
    "start_time": "2023-04-13T17:35:11.575Z"
   },
   {
    "duration": 0,
    "start_time": "2023-04-13T17:35:11.576Z"
   },
   {
    "duration": 0,
    "start_time": "2023-04-13T17:35:11.577Z"
   },
   {
    "duration": 0,
    "start_time": "2023-04-13T17:35:11.587Z"
   },
   {
    "duration": 0,
    "start_time": "2023-04-13T17:35:11.589Z"
   },
   {
    "duration": 0,
    "start_time": "2023-04-13T17:35:11.596Z"
   },
   {
    "duration": 0,
    "start_time": "2023-04-13T17:35:11.609Z"
   },
   {
    "duration": 0,
    "start_time": "2023-04-13T17:35:11.610Z"
   },
   {
    "duration": 0,
    "start_time": "2023-04-13T17:35:11.611Z"
   },
   {
    "duration": 0,
    "start_time": "2023-04-13T17:35:11.618Z"
   },
   {
    "duration": 0,
    "start_time": "2023-04-13T17:35:11.619Z"
   },
   {
    "duration": 0,
    "start_time": "2023-04-13T17:35:11.621Z"
   },
   {
    "duration": 0,
    "start_time": "2023-04-13T17:35:11.631Z"
   },
   {
    "duration": 0,
    "start_time": "2023-04-13T17:35:11.640Z"
   },
   {
    "duration": 0,
    "start_time": "2023-04-13T17:35:11.641Z"
   },
   {
    "duration": 0,
    "start_time": "2023-04-13T17:35:11.643Z"
   },
   {
    "duration": 0,
    "start_time": "2023-04-13T17:35:11.644Z"
   },
   {
    "duration": 0,
    "start_time": "2023-04-13T17:35:11.649Z"
   },
   {
    "duration": 2372,
    "start_time": "2023-04-13T17:42:38.089Z"
   },
   {
    "duration": 549,
    "start_time": "2023-04-13T17:42:40.468Z"
   },
   {
    "duration": 63,
    "start_time": "2023-04-13T17:42:41.024Z"
   },
   {
    "duration": 115,
    "start_time": "2023-04-13T17:42:41.094Z"
   },
   {
    "duration": 143,
    "start_time": "2023-04-13T17:42:41.215Z"
   },
   {
    "duration": 46,
    "start_time": "2023-04-13T17:42:41.364Z"
   },
   {
    "duration": 29,
    "start_time": "2023-04-13T17:42:41.416Z"
   },
   {
    "duration": 156,
    "start_time": "2023-04-13T17:42:41.453Z"
   },
   {
    "duration": 47,
    "start_time": "2023-04-13T17:42:41.620Z"
   },
   {
    "duration": 58,
    "start_time": "2023-04-13T17:42:41.673Z"
   },
   {
    "duration": 14,
    "start_time": "2023-04-13T17:42:41.735Z"
   },
   {
    "duration": 25,
    "start_time": "2023-04-13T17:42:41.753Z"
   },
   {
    "duration": 131,
    "start_time": "2023-04-13T17:42:41.782Z"
   },
   {
    "duration": 9,
    "start_time": "2023-04-13T17:42:41.920Z"
   },
   {
    "duration": 275,
    "start_time": "2023-04-13T17:42:41.936Z"
   },
   {
    "duration": 251,
    "start_time": "2023-04-13T17:42:42.215Z"
   },
   {
    "duration": 866,
    "start_time": "2023-04-13T17:42:42.473Z"
   },
   {
    "duration": 23,
    "start_time": "2023-04-13T17:42:43.346Z"
   },
   {
    "duration": 64,
    "start_time": "2023-04-13T17:42:43.376Z"
   },
   {
    "duration": 12,
    "start_time": "2023-04-13T17:42:43.441Z"
   },
   {
    "duration": 22,
    "start_time": "2023-04-13T17:42:43.455Z"
   },
   {
    "duration": 212,
    "start_time": "2023-04-13T17:42:43.490Z"
   },
   {
    "duration": 4388,
    "start_time": "2023-04-13T17:42:43.708Z"
   },
   {
    "duration": 49,
    "start_time": "2023-04-13T17:42:48.098Z"
   },
   {
    "duration": 14,
    "start_time": "2023-04-13T17:42:48.153Z"
   },
   {
    "duration": 27,
    "start_time": "2023-04-13T17:42:48.176Z"
   },
   {
    "duration": 8128,
    "start_time": "2023-04-13T17:42:48.209Z"
   },
   {
    "duration": 147,
    "start_time": "2023-04-13T17:42:56.356Z"
   },
   {
    "duration": 8,
    "start_time": "2023-04-13T17:42:56.517Z"
   },
   {
    "duration": 7117,
    "start_time": "2023-04-13T17:42:56.529Z"
   },
   {
    "duration": 36,
    "start_time": "2023-04-13T17:43:03.659Z"
   },
   {
    "duration": 17,
    "start_time": "2023-04-13T17:43:03.708Z"
   },
   {
    "duration": 6,
    "start_time": "2023-04-13T17:43:03.727Z"
   },
   {
    "duration": 24,
    "start_time": "2023-04-13T17:43:03.735Z"
   },
   {
    "duration": 409505,
    "start_time": "2023-04-13T17:43:03.762Z"
   },
   {
    "duration": 57,
    "start_time": "2023-04-13T17:49:53.276Z"
   },
   {
    "duration": 12163,
    "start_time": "2023-04-13T17:49:53.339Z"
   },
   {
    "duration": 0,
    "start_time": "2023-04-13T17:50:05.508Z"
   },
   {
    "duration": 0,
    "start_time": "2023-04-13T17:50:05.513Z"
   },
   {
    "duration": 0,
    "start_time": "2023-04-13T17:50:05.518Z"
   },
   {
    "duration": 0,
    "start_time": "2023-04-13T17:50:05.525Z"
   },
   {
    "duration": 0,
    "start_time": "2023-04-13T17:50:05.530Z"
   },
   {
    "duration": 0,
    "start_time": "2023-04-13T17:50:05.533Z"
   },
   {
    "duration": 0,
    "start_time": "2023-04-13T17:50:05.538Z"
   },
   {
    "duration": 0,
    "start_time": "2023-04-13T17:50:05.539Z"
   },
   {
    "duration": 0,
    "start_time": "2023-04-13T17:50:05.541Z"
   },
   {
    "duration": 0,
    "start_time": "2023-04-13T17:50:05.550Z"
   },
   {
    "duration": 0,
    "start_time": "2023-04-13T17:50:05.551Z"
   },
   {
    "duration": 0,
    "start_time": "2023-04-13T17:50:05.553Z"
   },
   {
    "duration": 0,
    "start_time": "2023-04-13T17:50:05.554Z"
   },
   {
    "duration": 0,
    "start_time": "2023-04-13T17:50:05.556Z"
   },
   {
    "duration": 0,
    "start_time": "2023-04-13T17:50:05.557Z"
   },
   {
    "duration": 0,
    "start_time": "2023-04-13T17:50:05.559Z"
   },
   {
    "duration": 0,
    "start_time": "2023-04-13T17:50:05.572Z"
   },
   {
    "duration": 27,
    "start_time": "2023-04-13T17:53:19.733Z"
   },
   {
    "duration": 13465,
    "start_time": "2023-04-13T17:53:29.754Z"
   },
   {
    "duration": 17,
    "start_time": "2023-04-13T18:09:11.080Z"
   },
   {
    "duration": 20,
    "start_time": "2023-04-13T18:13:57.806Z"
   },
   {
    "duration": 22,
    "start_time": "2023-04-13T18:14:41.043Z"
   },
   {
    "duration": 29,
    "start_time": "2023-04-13T18:15:37.435Z"
   },
   {
    "duration": 27,
    "start_time": "2023-04-13T18:41:59.054Z"
   },
   {
    "duration": 870,
    "start_time": "2023-04-13T18:42:40.039Z"
   },
   {
    "duration": 16,
    "start_time": "2023-04-13T18:43:14.287Z"
   },
   {
    "duration": 10,
    "start_time": "2023-04-13T18:43:30.870Z"
   },
   {
    "duration": 18,
    "start_time": "2023-04-13T18:43:46.889Z"
   },
   {
    "duration": 1792,
    "start_time": "2023-04-13T18:44:14.288Z"
   },
   {
    "duration": 14,
    "start_time": "2023-04-13T18:44:32.157Z"
   },
   {
    "duration": 6,
    "start_time": "2023-04-13T18:44:54.680Z"
   },
   {
    "duration": 1710,
    "start_time": "2023-04-13T18:45:13.353Z"
   },
   {
    "duration": 12,
    "start_time": "2023-04-13T18:46:06.484Z"
   },
   {
    "duration": 23,
    "start_time": "2023-04-13T18:46:34.314Z"
   },
   {
    "duration": 11,
    "start_time": "2023-04-13T19:05:19.178Z"
   },
   {
    "duration": 33,
    "start_time": "2023-04-13T19:07:25.230Z"
   },
   {
    "duration": 1775,
    "start_time": "2023-04-13T19:08:14.286Z"
   },
   {
    "duration": 381,
    "start_time": "2023-04-13T19:08:16.063Z"
   },
   {
    "duration": 51,
    "start_time": "2023-04-13T19:08:16.446Z"
   },
   {
    "duration": 68,
    "start_time": "2023-04-13T19:08:16.511Z"
   },
   {
    "duration": 139,
    "start_time": "2023-04-13T19:08:16.581Z"
   },
   {
    "duration": 47,
    "start_time": "2023-04-13T19:08:16.723Z"
   },
   {
    "duration": 17,
    "start_time": "2023-04-13T19:08:16.772Z"
   },
   {
    "duration": 98,
    "start_time": "2023-04-13T19:08:16.792Z"
   },
   {
    "duration": 29,
    "start_time": "2023-04-13T19:08:16.892Z"
   },
   {
    "duration": 44,
    "start_time": "2023-04-13T19:08:16.925Z"
   },
   {
    "duration": 6,
    "start_time": "2023-04-13T19:08:16.971Z"
   },
   {
    "duration": 13,
    "start_time": "2023-04-13T19:08:16.979Z"
   },
   {
    "duration": 104,
    "start_time": "2023-04-13T19:08:16.994Z"
   },
   {
    "duration": 17,
    "start_time": "2023-04-13T19:08:17.100Z"
   },
   {
    "duration": 182,
    "start_time": "2023-04-13T19:08:17.127Z"
   },
   {
    "duration": 165,
    "start_time": "2023-04-13T19:08:17.317Z"
   },
   {
    "duration": 678,
    "start_time": "2023-04-13T19:08:17.484Z"
   },
   {
    "duration": 6,
    "start_time": "2023-04-13T19:08:18.164Z"
   },
   {
    "duration": 20,
    "start_time": "2023-04-13T19:08:18.172Z"
   },
   {
    "duration": 6,
    "start_time": "2023-04-13T19:08:18.213Z"
   },
   {
    "duration": 16,
    "start_time": "2023-04-13T19:08:18.222Z"
   },
   {
    "duration": 115,
    "start_time": "2023-04-13T19:08:18.241Z"
   },
   {
    "duration": 3074,
    "start_time": "2023-04-13T19:08:18.358Z"
   },
   {
    "duration": 30,
    "start_time": "2023-04-13T19:08:21.434Z"
   },
   {
    "duration": 5,
    "start_time": "2023-04-13T19:08:21.466Z"
   },
   {
    "duration": 31,
    "start_time": "2023-04-13T19:08:21.473Z"
   },
   {
    "duration": 5385,
    "start_time": "2023-04-13T19:08:21.505Z"
   },
   {
    "duration": 73,
    "start_time": "2023-04-13T19:08:26.893Z"
   },
   {
    "duration": 5,
    "start_time": "2023-04-13T19:08:26.968Z"
   },
   {
    "duration": 5580,
    "start_time": "2023-04-13T19:08:26.975Z"
   },
   {
    "duration": 10,
    "start_time": "2023-04-13T19:08:32.558Z"
   },
   {
    "duration": 12,
    "start_time": "2023-04-13T19:08:32.570Z"
   },
   {
    "duration": 31,
    "start_time": "2023-04-13T19:08:32.588Z"
   },
   {
    "duration": 24,
    "start_time": "2023-04-13T19:08:32.622Z"
   },
   {
    "duration": 310327,
    "start_time": "2023-04-13T19:08:32.650Z"
   },
   {
    "duration": 20,
    "start_time": "2023-04-13T19:13:42.979Z"
   },
   {
    "duration": 8391,
    "start_time": "2023-04-13T19:13:43.014Z"
   },
   {
    "duration": 26,
    "start_time": "2023-04-13T19:13:51.407Z"
   },
   {
    "duration": 104,
    "start_time": "2023-04-13T19:13:51.435Z"
   },
   {
    "duration": 0,
    "start_time": "2023-04-13T19:13:51.541Z"
   },
   {
    "duration": 0,
    "start_time": "2023-04-13T19:13:51.542Z"
   },
   {
    "duration": 0,
    "start_time": "2023-04-13T19:13:51.544Z"
   },
   {
    "duration": 0,
    "start_time": "2023-04-13T19:13:51.546Z"
   },
   {
    "duration": 0,
    "start_time": "2023-04-13T19:13:51.548Z"
   },
   {
    "duration": 1,
    "start_time": "2023-04-13T19:13:51.549Z"
   },
   {
    "duration": 0,
    "start_time": "2023-04-13T19:13:51.551Z"
   },
   {
    "duration": 0,
    "start_time": "2023-04-13T19:13:51.553Z"
   },
   {
    "duration": 0,
    "start_time": "2023-04-13T19:13:51.555Z"
   },
   {
    "duration": 0,
    "start_time": "2023-04-13T19:13:51.557Z"
   },
   {
    "duration": 0,
    "start_time": "2023-04-13T19:13:51.559Z"
   },
   {
    "duration": 0,
    "start_time": "2023-04-13T19:13:51.560Z"
   },
   {
    "duration": 0,
    "start_time": "2023-04-13T19:13:51.561Z"
   },
   {
    "duration": 0,
    "start_time": "2023-04-13T19:13:51.562Z"
   },
   {
    "duration": 0,
    "start_time": "2023-04-13T19:13:51.563Z"
   },
   {
    "duration": 0,
    "start_time": "2023-04-13T19:13:51.564Z"
   },
   {
    "duration": 3,
    "start_time": "2023-04-13T19:14:18.250Z"
   },
   {
    "duration": 3,
    "start_time": "2023-04-13T19:14:21.258Z"
   },
   {
    "duration": 4,
    "start_time": "2023-04-13T19:14:24.768Z"
   },
   {
    "duration": 519708,
    "start_time": "2023-04-13T19:14:28.569Z"
   },
   {
    "duration": 18,
    "start_time": "2023-04-13T19:23:15.584Z"
   },
   {
    "duration": 6433,
    "start_time": "2023-04-13T19:23:21.238Z"
   },
   {
    "duration": 16,
    "start_time": "2023-04-13T19:26:34.535Z"
   },
   {
    "duration": 17,
    "start_time": "2023-04-13T19:26:42.691Z"
   },
   {
    "duration": 35,
    "start_time": "2023-04-13T19:27:56.344Z"
   },
   {
    "duration": 24,
    "start_time": "2023-04-13T19:29:09.413Z"
   },
   {
    "duration": 7,
    "start_time": "2023-04-13T19:30:32.553Z"
   },
   {
    "duration": 7,
    "start_time": "2023-04-13T19:30:37.548Z"
   },
   {
    "duration": 7113,
    "start_time": "2023-04-13T19:30:43.933Z"
   },
   {
    "duration": 5597,
    "start_time": "2023-04-13T19:31:29.008Z"
   },
   {
    "duration": 18,
    "start_time": "2023-04-13T19:33:38.104Z"
   },
   {
    "duration": 7,
    "start_time": "2023-04-13T19:36:02.641Z"
   },
   {
    "duration": 7542,
    "start_time": "2023-04-13T19:36:08.441Z"
   },
   {
    "duration": 5975,
    "start_time": "2023-04-13T19:36:23.816Z"
   },
   {
    "duration": 1190,
    "start_time": "2023-04-13T20:05:38.925Z"
   },
   {
    "duration": 6,
    "start_time": "2023-04-13T20:29:12.713Z"
   },
   {
    "duration": 5,
    "start_time": "2023-04-13T20:29:33.609Z"
   },
   {
    "duration": 6,
    "start_time": "2023-04-13T20:29:40.011Z"
   },
   {
    "duration": 52,
    "start_time": "2023-04-13T20:32:16.067Z"
   },
   {
    "duration": 41,
    "start_time": "2023-04-13T20:32:42.309Z"
   },
   {
    "duration": 34,
    "start_time": "2023-04-13T20:33:36.544Z"
   },
   {
    "duration": 15,
    "start_time": "2023-04-13T21:02:52.981Z"
   },
   {
    "duration": 1465,
    "start_time": "2023-04-13T21:04:19.503Z"
   },
   {
    "duration": 249,
    "start_time": "2023-04-13T21:04:20.970Z"
   },
   {
    "duration": 1516,
    "start_time": "2023-04-13T21:04:58.487Z"
   },
   {
    "duration": 238,
    "start_time": "2023-04-13T21:05:00.005Z"
   },
   {
    "duration": 37,
    "start_time": "2023-04-13T21:05:00.244Z"
   },
   {
    "duration": 61,
    "start_time": "2023-04-13T21:05:00.283Z"
   },
   {
    "duration": 93,
    "start_time": "2023-04-13T21:05:00.345Z"
   },
   {
    "duration": 21,
    "start_time": "2023-04-13T21:05:00.439Z"
   },
   {
    "duration": 40,
    "start_time": "2023-04-13T21:05:00.462Z"
   },
   {
    "duration": 109,
    "start_time": "2023-04-13T21:05:00.504Z"
   },
   {
    "duration": 22,
    "start_time": "2023-04-13T21:05:00.615Z"
   },
   {
    "duration": 81,
    "start_time": "2023-04-13T21:05:00.639Z"
   },
   {
    "duration": 27,
    "start_time": "2023-04-13T21:05:00.721Z"
   },
   {
    "duration": 25,
    "start_time": "2023-04-13T21:05:00.749Z"
   },
   {
    "duration": 85,
    "start_time": "2023-04-13T21:05:00.775Z"
   },
   {
    "duration": 5,
    "start_time": "2023-04-13T21:05:00.862Z"
   },
   {
    "duration": 175,
    "start_time": "2023-04-13T21:05:00.868Z"
   },
   {
    "duration": 144,
    "start_time": "2023-04-13T21:05:01.044Z"
   },
   {
    "duration": 573,
    "start_time": "2023-04-13T21:05:01.189Z"
   },
   {
    "duration": 6,
    "start_time": "2023-04-13T21:05:01.763Z"
   },
   {
    "duration": 43,
    "start_time": "2023-04-13T21:05:01.771Z"
   },
   {
    "duration": 14,
    "start_time": "2023-04-13T21:05:01.815Z"
   },
   {
    "duration": 42,
    "start_time": "2023-04-13T21:05:01.831Z"
   },
   {
    "duration": 26,
    "start_time": "2023-04-13T21:05:01.875Z"
   },
   {
    "duration": 0,
    "start_time": "2023-04-13T21:05:01.988Z"
   },
   {
    "duration": 0,
    "start_time": "2023-04-13T21:05:01.989Z"
   },
   {
    "duration": 0,
    "start_time": "2023-04-13T21:05:01.990Z"
   },
   {
    "duration": 0,
    "start_time": "2023-04-13T21:05:01.991Z"
   },
   {
    "duration": 0,
    "start_time": "2023-04-13T21:05:01.992Z"
   },
   {
    "duration": 0,
    "start_time": "2023-04-13T21:05:01.993Z"
   },
   {
    "duration": 0,
    "start_time": "2023-04-13T21:05:01.993Z"
   },
   {
    "duration": 0,
    "start_time": "2023-04-13T21:05:01.994Z"
   },
   {
    "duration": 0,
    "start_time": "2023-04-13T21:05:01.995Z"
   },
   {
    "duration": 0,
    "start_time": "2023-04-13T21:05:01.996Z"
   },
   {
    "duration": 0,
    "start_time": "2023-04-13T21:05:02.011Z"
   },
   {
    "duration": 0,
    "start_time": "2023-04-13T21:05:02.012Z"
   },
   {
    "duration": 0,
    "start_time": "2023-04-13T21:05:02.013Z"
   },
   {
    "duration": 0,
    "start_time": "2023-04-13T21:05:02.015Z"
   },
   {
    "duration": 0,
    "start_time": "2023-04-13T21:05:02.015Z"
   },
   {
    "duration": 0,
    "start_time": "2023-04-13T21:05:02.017Z"
   },
   {
    "duration": 0,
    "start_time": "2023-04-13T21:05:02.018Z"
   },
   {
    "duration": 0,
    "start_time": "2023-04-13T21:05:02.019Z"
   },
   {
    "duration": 0,
    "start_time": "2023-04-13T21:05:02.020Z"
   },
   {
    "duration": 0,
    "start_time": "2023-04-13T21:05:02.021Z"
   },
   {
    "duration": 0,
    "start_time": "2023-04-13T21:05:02.022Z"
   },
   {
    "duration": 0,
    "start_time": "2023-04-13T21:05:02.023Z"
   },
   {
    "duration": 0,
    "start_time": "2023-04-13T21:05:02.024Z"
   },
   {
    "duration": 0,
    "start_time": "2023-04-13T21:05:02.025Z"
   },
   {
    "duration": 0,
    "start_time": "2023-04-13T21:05:02.027Z"
   },
   {
    "duration": 0,
    "start_time": "2023-04-13T21:05:02.029Z"
   },
   {
    "duration": 0,
    "start_time": "2023-04-13T21:05:02.030Z"
   },
   {
    "duration": 0,
    "start_time": "2023-04-13T21:05:02.032Z"
   },
   {
    "duration": 0,
    "start_time": "2023-04-13T21:05:02.033Z"
   },
   {
    "duration": 3,
    "start_time": "2023-04-13T21:06:41.267Z"
   },
   {
    "duration": 8,
    "start_time": "2023-04-13T21:07:27.068Z"
   },
   {
    "duration": 1550,
    "start_time": "2023-04-13T21:08:38.722Z"
   },
   {
    "duration": 249,
    "start_time": "2023-04-13T21:08:40.274Z"
   },
   {
    "duration": 37,
    "start_time": "2023-04-13T21:08:40.524Z"
   },
   {
    "duration": 63,
    "start_time": "2023-04-13T21:08:40.564Z"
   },
   {
    "duration": 96,
    "start_time": "2023-04-13T21:08:40.629Z"
   },
   {
    "duration": 22,
    "start_time": "2023-04-13T21:08:40.727Z"
   },
   {
    "duration": 13,
    "start_time": "2023-04-13T21:08:40.751Z"
   },
   {
    "duration": 82,
    "start_time": "2023-04-13T21:08:40.766Z"
   },
   {
    "duration": 11,
    "start_time": "2023-04-13T21:08:40.849Z"
   },
   {
    "duration": 28,
    "start_time": "2023-04-13T21:08:40.864Z"
   },
   {
    "duration": 22,
    "start_time": "2023-04-13T21:08:40.893Z"
   },
   {
    "duration": 8,
    "start_time": "2023-04-13T21:08:40.917Z"
   },
   {
    "duration": 91,
    "start_time": "2023-04-13T21:08:40.927Z"
   },
   {
    "duration": 6,
    "start_time": "2023-04-13T21:08:41.020Z"
   },
   {
    "duration": 165,
    "start_time": "2023-04-13T21:08:41.027Z"
   },
   {
    "duration": 137,
    "start_time": "2023-04-13T21:08:41.193Z"
   },
   {
    "duration": 587,
    "start_time": "2023-04-13T21:08:41.332Z"
   },
   {
    "duration": 6,
    "start_time": "2023-04-13T21:08:41.921Z"
   },
   {
    "duration": 30,
    "start_time": "2023-04-13T21:08:41.929Z"
   },
   {
    "duration": 8,
    "start_time": "2023-04-13T21:08:41.961Z"
   },
   {
    "duration": 9,
    "start_time": "2023-04-13T21:08:41.970Z"
   },
   {
    "duration": 86,
    "start_time": "2023-04-13T21:08:41.981Z"
   },
   {
    "duration": 2445,
    "start_time": "2023-04-13T21:08:42.068Z"
   },
   {
    "duration": 21,
    "start_time": "2023-04-13T21:08:44.515Z"
   },
   {
    "duration": 15,
    "start_time": "2023-04-13T21:08:44.537Z"
   },
   {
    "duration": 9,
    "start_time": "2023-04-13T21:08:44.553Z"
   },
   {
    "duration": 4064,
    "start_time": "2023-04-13T21:08:44.563Z"
   },
   {
    "duration": 38,
    "start_time": "2023-04-13T21:08:48.630Z"
   },
   {
    "duration": 3,
    "start_time": "2023-04-13T21:08:48.670Z"
   },
   {
    "duration": 3950,
    "start_time": "2023-04-13T21:08:48.675Z"
   },
   {
    "duration": 7,
    "start_time": "2023-04-13T21:08:52.627Z"
   },
   {
    "duration": 9,
    "start_time": "2023-04-13T21:08:52.636Z"
   },
   {
    "duration": 10,
    "start_time": "2023-04-13T21:08:52.647Z"
   },
   {
    "duration": 5,
    "start_time": "2023-04-13T21:08:52.659Z"
   },
   {
    "duration": 253897,
    "start_time": "2023-04-13T21:08:52.665Z"
   },
   {
    "duration": 18,
    "start_time": "2023-04-13T21:13:06.563Z"
   },
   {
    "duration": 7030,
    "start_time": "2023-04-13T21:13:06.583Z"
   },
   {
    "duration": 3,
    "start_time": "2023-04-13T21:13:13.615Z"
   },
   {
    "duration": 5,
    "start_time": "2023-04-13T21:13:13.620Z"
   },
   {
    "duration": 6,
    "start_time": "2023-04-13T21:13:13.627Z"
   },
   {
    "duration": 443432,
    "start_time": "2023-04-13T21:13:13.635Z"
   },
   {
    "duration": 17,
    "start_time": "2023-04-13T21:20:37.069Z"
   },
   {
    "duration": 5517,
    "start_time": "2023-04-13T21:20:37.088Z"
   },
   {
    "duration": 7,
    "start_time": "2023-04-13T21:20:42.606Z"
   },
   {
    "duration": 15,
    "start_time": "2023-04-13T21:20:42.615Z"
   },
   {
    "duration": 20,
    "start_time": "2023-04-13T21:20:42.632Z"
   },
   {
    "duration": 3345,
    "start_time": "2023-04-13T21:20:42.654Z"
   },
   {
    "duration": 2620,
    "start_time": "2023-04-13T21:20:46.000Z"
   },
   {
    "duration": 1934,
    "start_time": "2023-04-13T21:20:48.622Z"
   },
   {
    "duration": 11,
    "start_time": "2023-04-13T21:20:50.558Z"
   },
   {
    "duration": 1471,
    "start_time": "2023-04-13T21:20:50.570Z"
   }
  ],
  "kernelspec": {
   "display_name": "Python 3 (ipykernel)",
   "language": "python",
   "name": "python3"
  },
  "language_info": {
   "codemirror_mode": {
    "name": "ipython",
    "version": 3
   },
   "file_extension": ".py",
   "mimetype": "text/x-python",
   "name": "python",
   "nbconvert_exporter": "python",
   "pygments_lexer": "ipython3",
   "version": "3.9.5"
  },
  "toc": {
   "base_numbering": 1,
   "nav_menu": {},
   "number_sections": true,
   "sideBar": true,
   "skip_h1_title": true,
   "title_cell": "Table of Contents",
   "title_sidebar": "Contents",
   "toc_cell": false,
   "toc_position": {},
   "toc_section_display": true,
   "toc_window_display": false
  }
 },
 "nbformat": 4,
 "nbformat_minor": 2
}
