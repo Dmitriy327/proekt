{
 "cells": [
  {
   "cell_type": "markdown",
   "metadata": {},
   "source": [
    "# Выбор локации для скважины"
   ]
  },
  {
   "cell_type": "markdown",
   "metadata": {},
   "source": [
    "Допустим, вы работаете в добывающей компании «ГлавРосГосНефть». Нужно решить, где бурить новую скважину.\n",
    "\n",
    "Вам предоставлены пробы нефти в трёх регионах: в каждом 10 000 месторождений, где измерили качество нефти и объём её запасов. Постройте модель машинного обучения, которая поможет определить регион, где добыча принесёт наибольшую прибыль. Проанализируйте возможную прибыль и риски техникой *Bootstrap.*\n",
    "\n",
    "Шаги для выбора локации:\n",
    "\n",
    "- В избранном регионе ищут месторождения, для каждого определяют значения признаков;\n",
    "- Строят модель и оценивают объём запасов;\n",
    "- Выбирают месторождения с самым высокими оценками значений. Количество месторождений зависит от бюджета компании и стоимости разработки одной скважины;\n",
    "- Прибыль равна суммарной прибыли отобранных месторождений."
   ]
  },
  {
   "cell_type": "markdown",
   "metadata": {},
   "source": [
    "## Загрузка и подготовка данных"
   ]
  },
  {
   "cell_type": "code",
   "execution_count": 1,
   "metadata": {},
   "outputs": [],
   "source": [
    "#Загрузим библиотеки для анализа , визуализации и обучения моделей\n",
    "import pandas as pd\n",
    "import numpy as np\n",
    "import matplotlib.pyplot as plt\n",
    "from sklearn.model_selection import train_test_split\n",
    "from sklearn.metrics import mean_squared_error, r2_score\n",
    "from sklearn.linear_model import LinearRegression\n",
    "from sklearn.preprocessing import MinMaxScaler\n",
    "\n",
    "import warnings\n",
    "warnings.filterwarnings(\"ignore\")"
   ]
  },
  {
   "cell_type": "markdown",
   "metadata": {},
   "source": [
    "Загрузим наши датасеты и посмотрим на них."
   ]
  },
  {
   "cell_type": "code",
   "execution_count": 2,
   "metadata": {
    "scrolled": true
   },
   "outputs": [
    {
     "data": {
      "text/html": [
       "<div>\n",
       "<style scoped>\n",
       "    .dataframe tbody tr th:only-of-type {\n",
       "        vertical-align: middle;\n",
       "    }\n",
       "\n",
       "    .dataframe tbody tr th {\n",
       "        vertical-align: top;\n",
       "    }\n",
       "\n",
       "    .dataframe thead th {\n",
       "        text-align: right;\n",
       "    }\n",
       "</style>\n",
       "<table border=\"1\" class=\"dataframe\">\n",
       "  <thead>\n",
       "    <tr style=\"text-align: right;\">\n",
       "      <th></th>\n",
       "      <th>id</th>\n",
       "      <th>f0</th>\n",
       "      <th>f1</th>\n",
       "      <th>f2</th>\n",
       "      <th>product</th>\n",
       "    </tr>\n",
       "  </thead>\n",
       "  <tbody>\n",
       "    <tr>\n",
       "      <th>0</th>\n",
       "      <td>txEyH</td>\n",
       "      <td>0.705745</td>\n",
       "      <td>-0.497823</td>\n",
       "      <td>1.221170</td>\n",
       "      <td>105.280062</td>\n",
       "    </tr>\n",
       "    <tr>\n",
       "      <th>1</th>\n",
       "      <td>2acmU</td>\n",
       "      <td>1.334711</td>\n",
       "      <td>-0.340164</td>\n",
       "      <td>4.365080</td>\n",
       "      <td>73.037750</td>\n",
       "    </tr>\n",
       "    <tr>\n",
       "      <th>2</th>\n",
       "      <td>409Wp</td>\n",
       "      <td>1.022732</td>\n",
       "      <td>0.151990</td>\n",
       "      <td>1.419926</td>\n",
       "      <td>85.265647</td>\n",
       "    </tr>\n",
       "    <tr>\n",
       "      <th>3</th>\n",
       "      <td>iJLyR</td>\n",
       "      <td>-0.032172</td>\n",
       "      <td>0.139033</td>\n",
       "      <td>2.978566</td>\n",
       "      <td>168.620776</td>\n",
       "    </tr>\n",
       "    <tr>\n",
       "      <th>4</th>\n",
       "      <td>Xdl7t</td>\n",
       "      <td>1.988431</td>\n",
       "      <td>0.155413</td>\n",
       "      <td>4.751769</td>\n",
       "      <td>154.036647</td>\n",
       "    </tr>\n",
       "  </tbody>\n",
       "</table>\n",
       "</div>"
      ],
      "text/plain": [
       "      id        f0        f1        f2     product\n",
       "0  txEyH  0.705745 -0.497823  1.221170  105.280062\n",
       "1  2acmU  1.334711 -0.340164  4.365080   73.037750\n",
       "2  409Wp  1.022732  0.151990  1.419926   85.265647\n",
       "3  iJLyR -0.032172  0.139033  2.978566  168.620776\n",
       "4  Xdl7t  1.988431  0.155413  4.751769  154.036647"
      ]
     },
     "metadata": {},
     "output_type": "display_data"
    },
    {
     "data": {
      "text/html": [
       "<div>\n",
       "<style scoped>\n",
       "    .dataframe tbody tr th:only-of-type {\n",
       "        vertical-align: middle;\n",
       "    }\n",
       "\n",
       "    .dataframe tbody tr th {\n",
       "        vertical-align: top;\n",
       "    }\n",
       "\n",
       "    .dataframe thead th {\n",
       "        text-align: right;\n",
       "    }\n",
       "</style>\n",
       "<table border=\"1\" class=\"dataframe\">\n",
       "  <thead>\n",
       "    <tr style=\"text-align: right;\">\n",
       "      <th></th>\n",
       "      <th>id</th>\n",
       "      <th>f0</th>\n",
       "      <th>f1</th>\n",
       "      <th>f2</th>\n",
       "      <th>product</th>\n",
       "    </tr>\n",
       "  </thead>\n",
       "  <tbody>\n",
       "    <tr>\n",
       "      <th>0</th>\n",
       "      <td>kBEdx</td>\n",
       "      <td>-15.001348</td>\n",
       "      <td>-8.276000</td>\n",
       "      <td>-0.005876</td>\n",
       "      <td>3.179103</td>\n",
       "    </tr>\n",
       "    <tr>\n",
       "      <th>1</th>\n",
       "      <td>62mP7</td>\n",
       "      <td>14.272088</td>\n",
       "      <td>-3.475083</td>\n",
       "      <td>0.999183</td>\n",
       "      <td>26.953261</td>\n",
       "    </tr>\n",
       "    <tr>\n",
       "      <th>2</th>\n",
       "      <td>vyE1P</td>\n",
       "      <td>6.263187</td>\n",
       "      <td>-5.948386</td>\n",
       "      <td>5.001160</td>\n",
       "      <td>134.766305</td>\n",
       "    </tr>\n",
       "    <tr>\n",
       "      <th>3</th>\n",
       "      <td>KcrkZ</td>\n",
       "      <td>-13.081196</td>\n",
       "      <td>-11.506057</td>\n",
       "      <td>4.999415</td>\n",
       "      <td>137.945408</td>\n",
       "    </tr>\n",
       "    <tr>\n",
       "      <th>4</th>\n",
       "      <td>AHL4O</td>\n",
       "      <td>12.702195</td>\n",
       "      <td>-8.147433</td>\n",
       "      <td>5.004363</td>\n",
       "      <td>134.766305</td>\n",
       "    </tr>\n",
       "  </tbody>\n",
       "</table>\n",
       "</div>"
      ],
      "text/plain": [
       "      id         f0         f1        f2     product\n",
       "0  kBEdx -15.001348  -8.276000 -0.005876    3.179103\n",
       "1  62mP7  14.272088  -3.475083  0.999183   26.953261\n",
       "2  vyE1P   6.263187  -5.948386  5.001160  134.766305\n",
       "3  KcrkZ -13.081196 -11.506057  4.999415  137.945408\n",
       "4  AHL4O  12.702195  -8.147433  5.004363  134.766305"
      ]
     },
     "metadata": {},
     "output_type": "display_data"
    },
    {
     "data": {
      "text/html": [
       "<div>\n",
       "<style scoped>\n",
       "    .dataframe tbody tr th:only-of-type {\n",
       "        vertical-align: middle;\n",
       "    }\n",
       "\n",
       "    .dataframe tbody tr th {\n",
       "        vertical-align: top;\n",
       "    }\n",
       "\n",
       "    .dataframe thead th {\n",
       "        text-align: right;\n",
       "    }\n",
       "</style>\n",
       "<table border=\"1\" class=\"dataframe\">\n",
       "  <thead>\n",
       "    <tr style=\"text-align: right;\">\n",
       "      <th></th>\n",
       "      <th>id</th>\n",
       "      <th>f0</th>\n",
       "      <th>f1</th>\n",
       "      <th>f2</th>\n",
       "      <th>product</th>\n",
       "    </tr>\n",
       "  </thead>\n",
       "  <tbody>\n",
       "    <tr>\n",
       "      <th>0</th>\n",
       "      <td>fwXo0</td>\n",
       "      <td>-1.146987</td>\n",
       "      <td>0.963328</td>\n",
       "      <td>-0.828965</td>\n",
       "      <td>27.758673</td>\n",
       "    </tr>\n",
       "    <tr>\n",
       "      <th>1</th>\n",
       "      <td>WJtFt</td>\n",
       "      <td>0.262778</td>\n",
       "      <td>0.269839</td>\n",
       "      <td>-2.530187</td>\n",
       "      <td>56.069697</td>\n",
       "    </tr>\n",
       "    <tr>\n",
       "      <th>2</th>\n",
       "      <td>ovLUW</td>\n",
       "      <td>0.194587</td>\n",
       "      <td>0.289035</td>\n",
       "      <td>-5.586433</td>\n",
       "      <td>62.871910</td>\n",
       "    </tr>\n",
       "    <tr>\n",
       "      <th>3</th>\n",
       "      <td>q6cA6</td>\n",
       "      <td>2.236060</td>\n",
       "      <td>-0.553760</td>\n",
       "      <td>0.930038</td>\n",
       "      <td>114.572842</td>\n",
       "    </tr>\n",
       "    <tr>\n",
       "      <th>4</th>\n",
       "      <td>WPMUX</td>\n",
       "      <td>-0.515993</td>\n",
       "      <td>1.716266</td>\n",
       "      <td>5.899011</td>\n",
       "      <td>149.600746</td>\n",
       "    </tr>\n",
       "  </tbody>\n",
       "</table>\n",
       "</div>"
      ],
      "text/plain": [
       "      id        f0        f1        f2     product\n",
       "0  fwXo0 -1.146987  0.963328 -0.828965   27.758673\n",
       "1  WJtFt  0.262778  0.269839 -2.530187   56.069697\n",
       "2  ovLUW  0.194587  0.289035 -5.586433   62.871910\n",
       "3  q6cA6  2.236060 -0.553760  0.930038  114.572842\n",
       "4  WPMUX -0.515993  1.716266  5.899011  149.600746"
      ]
     },
     "metadata": {},
     "output_type": "display_data"
    }
   ],
   "source": [
    "data1 = pd.read_csv('/datasets/geo_data_0.csv')\n",
    "data2 = pd.read_csv('/datasets/geo_data_1.csv')\n",
    "data3 = pd.read_csv('/datasets/geo_data_2.csv')\n",
    "\n",
    "display(data1.head())\n",
    "display(data2.head())\n",
    "display(data3.head())"
   ]
  },
  {
   "cell_type": "markdown",
   "metadata": {},
   "source": [
    "Данные загруженны , теперь изучим наши датафреймы."
   ]
  },
  {
   "cell_type": "markdown",
   "metadata": {},
   "source": [
    "### Исследуем данные"
   ]
  },
  {
   "cell_type": "markdown",
   "metadata": {},
   "source": [
    "Исследуем data1"
   ]
  },
  {
   "cell_type": "code",
   "execution_count": 3,
   "metadata": {
    "scrolled": true
   },
   "outputs": [
    {
     "name": "stdout",
     "output_type": "stream",
     "text": [
      "<class 'pandas.core.frame.DataFrame'>\n",
      "RangeIndex: 100000 entries, 0 to 99999\n",
      "Data columns (total 5 columns):\n",
      " #   Column   Non-Null Count   Dtype  \n",
      "---  ------   --------------   -----  \n",
      " 0   id       100000 non-null  object \n",
      " 1   f0       100000 non-null  float64\n",
      " 2   f1       100000 non-null  float64\n",
      " 3   f2       100000 non-null  float64\n",
      " 4   product  100000 non-null  float64\n",
      "dtypes: float64(4), object(1)\n",
      "memory usage: 3.8+ MB\n"
     ]
    }
   ],
   "source": [
    "data1.info()"
   ]
  },
  {
   "cell_type": "code",
   "execution_count": 4,
   "metadata": {},
   "outputs": [
    {
     "data": {
      "text/plain": [
       "id         0\n",
       "f0         0\n",
       "f1         0\n",
       "f2         0\n",
       "product    0\n",
       "dtype: int64"
      ]
     },
     "execution_count": 4,
     "metadata": {},
     "output_type": "execute_result"
    }
   ],
   "source": [
    "#Првоерим на кол-во пропусков\n",
    "data1.isna().sum()"
   ]
  },
  {
   "cell_type": "code",
   "execution_count": 5,
   "metadata": {},
   "outputs": [
    {
     "data": {
      "text/plain": [
       "0"
      ]
     },
     "execution_count": 5,
     "metadata": {},
     "output_type": "execute_result"
    }
   ],
   "source": [
    "#Проверим на кол-во явных дубликатов\n",
    "data1.duplicated().sum()"
   ]
  },
  {
   "cell_type": "code",
   "execution_count": 6,
   "metadata": {},
   "outputs": [
    {
     "data": {
      "text/plain": [
       "bsk9y    1\n",
       "Tdehs    1\n",
       "A5aEY    1\n",
       "QcMuo    1\n",
       "bxg6G    1\n",
       "fiKDv    1\n",
       "AGS9W    1\n",
       "TtcGQ    1\n",
       "74z30    1\n",
       "HZww2    1\n",
       "Name: id, dtype: int64"
      ]
     },
     "execution_count": 6,
     "metadata": {},
     "output_type": "execute_result"
    }
   ],
   "source": [
    "#Проверим на кол-во не явных дубликатов\n",
    "data1[data1['id'].duplicated()]['id'].value_counts()"
   ]
  },
  {
   "cell_type": "code",
   "execution_count": 7,
   "metadata": {},
   "outputs": [
    {
     "data": {
      "image/png": "[encoded data removed]",
      "text/plain": [
       "<Figure size 432x288 with 1 Axes>"
      ]
     },
     "metadata": {
      "needs_background": "light"
     },
     "output_type": "display_data"
    }
   ],
   "source": [
    "#Построим график объема\n",
    "plt.title('Гистограмма объёма')\n",
    "plt.xlabel('Объём')\n",
    "plt.ylabel('Количество')\n",
    "plt.hist(x = data1['product'], bins=35, range = (0, 200))\n",
    "plt.show()"
   ]
  },
  {
   "cell_type": "markdown",
   "metadata": {},
   "source": [
    "Исследуем data2"
   ]
  },
  {
   "cell_type": "code",
   "execution_count": 8,
   "metadata": {},
   "outputs": [
    {
     "name": "stdout",
     "output_type": "stream",
     "text": [
      "<class 'pandas.core.frame.DataFrame'>\n",
      "RangeIndex: 100000 entries, 0 to 99999\n",
      "Data columns (total 5 columns):\n",
      " #   Column   Non-Null Count   Dtype  \n",
      "---  ------   --------------   -----  \n",
      " 0   id       100000 non-null  object \n",
      " 1   f0       100000 non-null  float64\n",
      " 2   f1       100000 non-null  float64\n",
      " 3   f2       100000 non-null  float64\n",
      " 4   product  100000 non-null  float64\n",
      "dtypes: float64(4), object(1)\n",
      "memory usage: 3.8+ MB\n"
     ]
    }
   ],
   "source": [
    "data2.info()"
   ]
  },
  {
   "cell_type": "code",
   "execution_count": 9,
   "metadata": {},
   "outputs": [
    {
     "data": {
      "text/plain": [
       "id         0\n",
       "f0         0\n",
       "f1         0\n",
       "f2         0\n",
       "product    0\n",
       "dtype: int64"
      ]
     },
     "execution_count": 9,
     "metadata": {},
     "output_type": "execute_result"
    }
   ],
   "source": [
    "#Првоерим на кол-во пропусков\n",
    "data2.isna().sum()"
   ]
  },
  {
   "cell_type": "code",
   "execution_count": 10,
   "metadata": {},
   "outputs": [
    {
     "data": {
      "text/plain": [
       "0"
      ]
     },
     "execution_count": 10,
     "metadata": {},
     "output_type": "execute_result"
    }
   ],
   "source": [
    "#Проверим на кол-во явных дубликатов\n",
    "data2.duplicated().sum()"
   ]
  },
  {
   "cell_type": "code",
   "execution_count": 11,
   "metadata": {},
   "outputs": [
    {
     "data": {
      "text/plain": [
       "hvrg6    1\n",
       "RFXea    1\n",
       "1mHHg    1\n",
       "ubDZy    1\n",
       "Name: id, dtype: int64"
      ]
     },
     "execution_count": 11,
     "metadata": {},
     "output_type": "execute_result"
    }
   ],
   "source": [
    "#Проверим на кол-во не явных дубликатов\n",
    "data1[data2['id'].duplicated()]['id'].value_counts()"
   ]
  },
  {
   "cell_type": "code",
   "execution_count": 12,
   "metadata": {},
   "outputs": [
    {
     "data": {
      "image/png": "[encoded data removed]",
      "text/plain": [
       "<Figure size 432x288 with 1 Axes>"
      ]
     },
     "metadata": {
      "needs_background": "light"
     },
     "output_type": "display_data"
    }
   ],
   "source": [
    "#Построим график объема\n",
    "plt.title('Гистограмма объёма')\n",
    "plt.xlabel('Объём')\n",
    "plt.ylabel('Количество')\n",
    "plt.hist(x = data2['product'], bins=35, range = (0, 200))\n",
    "plt.show()"
   ]
  },
  {
   "cell_type": "markdown",
   "metadata": {},
   "source": [
    "Исследуем data3"
   ]
  },
  {
   "cell_type": "code",
   "execution_count": 13,
   "metadata": {},
   "outputs": [
    {
     "name": "stdout",
     "output_type": "stream",
     "text": [
      "<class 'pandas.core.frame.DataFrame'>\n",
      "RangeIndex: 100000 entries, 0 to 99999\n",
      "Data columns (total 5 columns):\n",
      " #   Column   Non-Null Count   Dtype  \n",
      "---  ------   --------------   -----  \n",
      " 0   id       100000 non-null  object \n",
      " 1   f0       100000 non-null  float64\n",
      " 2   f1       100000 non-null  float64\n",
      " 3   f2       100000 non-null  float64\n",
      " 4   product  100000 non-null  float64\n",
      "dtypes: float64(4), object(1)\n",
      "memory usage: 3.8+ MB\n"
     ]
    }
   ],
   "source": [
    "data3.info()"
   ]
  },
  {
   "cell_type": "code",
   "execution_count": 14,
   "metadata": {},
   "outputs": [
    {
     "data": {
      "text/plain": [
       "id         0\n",
       "f0         0\n",
       "f1         0\n",
       "f2         0\n",
       "product    0\n",
       "dtype: int64"
      ]
     },
     "execution_count": 14,
     "metadata": {},
     "output_type": "execute_result"
    }
   ],
   "source": [
    "#Првоерим на кол-во пропусков\n",
    "data3.isna().sum()"
   ]
  },
  {
   "cell_type": "code",
   "execution_count": 15,
   "metadata": {},
   "outputs": [
    {
     "data": {
      "text/plain": [
       "0"
      ]
     },
     "execution_count": 15,
     "metadata": {},
     "output_type": "execute_result"
    }
   ],
   "source": [
    "#Проверим на кол-во явных дубликатов\n",
    "data3.duplicated().sum()"
   ]
  },
  {
   "cell_type": "code",
   "execution_count": 16,
   "metadata": {},
   "outputs": [
    {
     "data": {
      "text/plain": [
       "tmiKi    1\n",
       "mPBNw    1\n",
       "15KPx    1\n",
       "U9TtX    1\n",
       "Name: id, dtype: int64"
      ]
     },
     "execution_count": 16,
     "metadata": {},
     "output_type": "execute_result"
    }
   ],
   "source": [
    "#Проверим на кол-во не явных дубликатов\n",
    "data1[data3['id'].duplicated()]['id'].value_counts()"
   ]
  },
  {
   "cell_type": "code",
   "execution_count": 17,
   "metadata": {},
   "outputs": [
    {
     "data": {
      "image/png": "[encoded data removed]",
      "text/plain": [
       "<Figure size 432x288 with 1 Axes>"
      ]
     },
     "metadata": {
      "needs_background": "light"
     },
     "output_type": "display_data"
    }
   ],
   "source": [
    "#Построим график объема\n",
    "plt.title('Гистограмма объёма')\n",
    "plt.xlabel('Объём')\n",
    "plt.ylabel('Количество')\n",
    "plt.hist(x = data3['product'], bins=35, range = (0, 200))\n",
    "plt.show()"
   ]
  },
  {
   "cell_type": "markdown",
   "metadata": {},
   "source": [
    "### Константы"
   ]
  },
  {
   "cell_type": "code",
   "execution_count": 18,
   "metadata": {},
   "outputs": [],
   "source": [
    "# Бюджет на разработку скважин в регионе — 10 млрд рублей\n",
    "MONEY = int(10e9)\n",
    "# Доход с каждой единицы продукта составляет 450 тыс. рублей\n",
    "REVENEU = 450000\n",
    "# Количество скважин для разработки в регионе\n",
    "COUNT = 200\n",
    "# Фиксируем случайное состояние\n",
    "RANDOM_STATE = np.random.RandomState(12345)"
   ]
  },
  {
   "cell_type": "markdown",
   "metadata": {},
   "source": [
    "### Вывод"
   ]
  },
  {
   "cell_type": "markdown",
   "metadata": {},
   "source": [
    "Пропусков нет, явных дупликатов нет, типы данных указанны верно.  \n",
    "Из графика распределения объёма по второй таблице видно, что пустый скважины , возможно добыча нефти в них прекратилась , так же есть заполненые."
   ]
  },
  {
   "cell_type": "markdown",
   "metadata": {},
   "source": [
    "## Обучение и проверка модели"
   ]
  },
  {
   "cell_type": "code",
   "execution_count": 19,
   "metadata": {},
   "outputs": [],
   "source": [
    "#Удалим столбец 'id' из каждого датафрейма , он нам не понадобиться при обучении модели\n",
    "df1 = data1.drop(['id'], axis=1)\n",
    "df2 = data2.drop(['id'], axis=1)\n",
    "df3 = data3.drop(['id'], axis=1)"
   ]
  },
  {
   "cell_type": "code",
   "execution_count": 20,
   "metadata": {},
   "outputs": [],
   "source": [
    "#Обучим моедль на линейной регрессии, разделим данную на выборку \n",
    "def train_split_test(data):\n",
    " \n",
    "    features = data.drop(\"product\", axis=1)\n",
    "    target = data[\"product\"]\n",
    "    features_train, features_valid, target_train, target_valid = train_test_split(features, target, test_size=0.25, random_state=12345)\n",
    "    scaler = MinMaxScaler()\n",
    "    features_train = scaler.fit_transform(features_train)\n",
    "    features_valid = scaler.transform(features_valid)\n",
    "    model = LinearRegression(normalize=False)\n",
    "    model.fit(features_train, target_train)\n",
    "    predictions = model.predict(features_valid)\n",
    "    predictions = pd.Series(predictions)\n",
    "    rmse = (mean_squared_error(predictions, target_valid))**(0.5)\n",
    "    avg_prod = sum(predictions) / len(predictions)\n",
    "    \n",
    "    print('RMSE:', rmse.round(3))\n",
    "    print('Avg product:', avg_prod)\n",
    "    \n",
    "    return (predictions, target_valid.reset_index(drop=True), rmse, avg_prod)"
   ]
  },
  {
   "cell_type": "code",
   "execution_count": 21,
   "metadata": {},
   "outputs": [
    {
     "name": "stdout",
     "output_type": "stream",
     "text": [
      "RMSE: 37.579\n",
      "Avg product: 92.59256778438008\n",
      "RMSE: 0.893\n",
      "Avg product: 68.72854689544582\n",
      "RMSE: 40.03\n",
      "Avg product: 94.96504596800509\n"
     ]
    }
   ],
   "source": [
    "predictions_1, target_1, rmse_1, avg_1 = train_split_test(df1)\n",
    "predictions_2, target_2, rmse_2, avg_2 = train_split_test(df2)\n",
    "predictions_3, target_3, rmse_3, avg_3 = train_split_test(df3)"
   ]
  },
  {
   "cell_type": "markdown",
   "metadata": {},
   "source": [
    "### Вывод"
   ]
  },
  {
   "cell_type": "markdown",
   "metadata": {},
   "source": [
    "В 3 регионе RMSE и AVG выше , чем в остальных."
   ]
  },
  {
   "cell_type": "markdown",
   "metadata": {},
   "source": [
    "## Подготовка к расчёту прибыли"
   ]
  },
  {
   "cell_type": "code",
   "execution_count": 22,
   "metadata": {},
   "outputs": [
    {
     "name": "stdout",
     "output_type": "stream",
     "text": [
      "Достаточный объём сырья для безубыточной разработки новой скважины. 111.11111111111111\n"
     ]
    }
   ],
   "source": [
    "profit = MONEY/COUNT/REVENEU\n",
    "print('Достаточный объём сырья для безубыточной разработки новой скважины.', profit)\n"
   ]
  },
  {
   "cell_type": "markdown",
   "metadata": {},
   "source": [
    "### Вывод"
   ]
  },
  {
   "cell_type": "markdown",
   "metadata": {},
   "source": [
    "Средний объем наших скважин меньше , чем для безубыточной скважины."
   ]
  },
  {
   "cell_type": "markdown",
   "metadata": {},
   "source": [
    "## Расчёт прибыли и рисков "
   ]
  },
  {
   "cell_type": "markdown",
   "metadata": {},
   "source": [
    "Напишем функцию для подсчёта ппибыли и рисков "
   ]
  },
  {
   "cell_type": "code",
   "execution_count": 23,
   "metadata": {},
   "outputs": [],
   "source": [
    "def revenue(target, probabilities, count):\n",
    "    # Скважины с максимальным предсказанием\n",
    "    probs_sorted = probabilities.sort_values(ascending=False)\n",
    "    selected = target[probs_sorted.index][:count]\n",
    "    return REVENEU * selected.sum() - MONEY"
   ]
  },
  {
   "cell_type": "code",
   "execution_count": 24,
   "metadata": {},
   "outputs": [],
   "source": [
    "region = ['Первый регион', 'Второй регион', 'Третий регион']\n",
    "def risk_func(tgt, pred, num):\n",
    "    value = []\n",
    "    for j in range(1000):\n",
    "        target_subsample = tgt.sample(n = 500, replace = True, random_state =  RANDOM_STATE)\n",
    "        probs_subsample = pred.loc[target_subsample.index]\n",
    "\n",
    "        value.append(revenue(target_subsample, probs_subsample, COUNT))\n",
    "\n",
    "    value = pd.Series(value)\n",
    "    lower = value.quantile(0.025)\n",
    "    upper = value.quantile(0.975)\n",
    "    risk = value[value < 0].count()/value.count()*100\n",
    "    mean = value.mean()\n",
    "    print(region[num])\n",
    "    print(\"Средняя выручка:\", round(mean/10 ** 6, 2), 'млн.руб')\n",
    "    print(\"Доверительный интервал от:\", round(lower/10 ** 6, 2),'млн.руб.', 'до:', round(upper/10 ** 6, 2),'млн.руб')\n",
    "    print(\"Риск:\", round(risk, 2), '%')\n"
   ]
  },
  {
   "cell_type": "code",
   "execution_count": 25,
   "metadata": {},
   "outputs": [
    {
     "name": "stdout",
     "output_type": "stream",
     "text": [
      "Первый регион\n",
      "Средняя выручка: 425.94 млн.руб\n",
      "Доверительный интервал от: -102.09 млн.руб. до: 947.98 млн.руб\n",
      "Риск: 6.0 %\n"
     ]
    }
   ],
   "source": [
    "risk_func(target_1, predictions_1, 0)"
   ]
  },
  {
   "cell_type": "code",
   "execution_count": 26,
   "metadata": {},
   "outputs": [
    {
     "name": "stdout",
     "output_type": "stream",
     "text": [
      "Второй регион\n",
      "Средняя выручка: 518.26 млн.руб\n",
      "Доверительный интервал от: 128.12 млн.руб. до: 953.61 млн.руб\n",
      "Риск: 0.3 %\n"
     ]
    }
   ],
   "source": [
    "risk_func(target_2, predictions_2, 1)"
   ]
  },
  {
   "cell_type": "code",
   "execution_count": 27,
   "metadata": {},
   "outputs": [
    {
     "name": "stdout",
     "output_type": "stream",
     "text": [
      "Третий регион\n",
      "Средняя выручка: 420.19 млн.руб\n",
      "Доверительный интервал от: -115.85 млн.руб. до: 989.63 млн.руб\n",
      "Риск: 6.2 %\n"
     ]
    }
   ],
   "source": [
    "risk_func(target_3, predictions_3, 2)"
   ]
  },
  {
   "cell_type": "markdown",
   "metadata": {},
   "source": [
    "### Вывод"
   ]
  },
  {
   "cell_type": "markdown",
   "metadata": {},
   "source": [
    "Самая высокая средняя выручка во 2 регионе.    \n",
    "Самый низкий риск убытка у второго региона - 0.3%.    \n",
    "В третьем регионе самая низкая вырочка , а так же самый высокий риск.  "
   ]
  },
  {
   "cell_type": "markdown",
   "metadata": {},
   "source": [
    "### Итоговый вывод."
   ]
  },
  {
   "cell_type": "markdown",
   "metadata": {},
   "source": [
    "В третьем регионе средний запас сырья и RMSE выше, чем в остальных.  \n",
    "Средний объём скважен в регионах меньше, чем объём для безубыточности.  \n",
    "Самая высокая средняя выручка во 2 регионе.      \n",
    "Самый низкий риск убытка у второго региона - 0.3%.      \n",
    "В третьем регионе самая низкая вырочка , а так же самый высокий риск.    \n",
    "Регион для разработки месторождения - второй регион.  "
   ]
  },
  {
   "cell_type": "markdown",
   "metadata": {},
   "source": [
    "## Чек-лист готовности проекта"
   ]
  },
  {
   "cell_type": "markdown",
   "metadata": {},
   "source": [
    "Поставьте 'x' в выполненных пунктах. Далее нажмите Shift+Enter."
   ]
  },
  {
   "cell_type": "markdown",
   "metadata": {},
   "source": [
    "- [x]  Jupyter Notebook открыт\n",
    "- [x]  Весь код выполняется без ошибок\n",
    "- [x]  Ячейки с кодом расположены в порядке исполнения\n",
    "- [x]  Выполнен шаг 1: данные подготовлены\n",
    "- [x]  Выполнен шаг 2: модели обучены и проверены\n",
    "    - [x]  Данные корректно разбиты на обучающую и валидационную выборки\n",
    "    - [x]  Модели обучены, предсказания сделаны\n",
    "    - [x]  Предсказания и правильные ответы на валидационной выборке сохранены\n",
    "    - [x]  На экране напечатаны результаты\n",
    "    - [x]  Сделаны выводы\n",
    "- [x]  Выполнен шаг 3: проведена подготовка к расчёту прибыли\n",
    "    - [x]  Для всех ключевых значений созданы константы Python\n",
    "    - [x]  Посчитано минимальное среднее количество продукта в месторождениях региона, достаточное для разработки\n",
    "    - [x]  По предыдущему пункту сделаны выводы\n",
    "    - [x]  Написана функция расчёта прибыли\n",
    "- [x]  Выполнен шаг 4: посчитаны риски и прибыль\n",
    "    - [x]  Проведена процедура *Bootstrap*\n",
    "    - [x]  Все параметры бутстрепа соответствуют условию\n",
    "    - [x]  Найдены все нужные величины\n",
    "    - [x]  Предложен регион для разработки месторождения\n",
    "    - [x]  Выбор региона обоснован"
   ]
  },
  {
   "cell_type": "code",
   "execution_count": null,
   "metadata": {},
   "outputs": [],
   "source": []
  }
 ],
 "metadata": {
  "ExecuteTimeLog": [
   {
    "duration": 429,
    "start_time": "2023-04-08T06:44:08.471Z"
   },
   {
    "duration": 3,
    "start_time": "2023-04-08T06:44:09.926Z"
   },
   {
    "duration": 444,
    "start_time": "2023-04-08T06:44:46.775Z"
   },
   {
    "duration": 201,
    "start_time": "2023-04-08T06:45:05.341Z"
   },
   {
    "duration": 2,
    "start_time": "2023-04-08T06:45:37.074Z"
   },
   {
    "duration": 155,
    "start_time": "2023-04-08T06:45:40.896Z"
   },
   {
    "duration": 757,
    "start_time": "2023-04-08T06:48:08.970Z"
   },
   {
    "duration": 1335,
    "start_time": "2023-04-08T06:51:17.011Z"
   },
   {
    "duration": 24,
    "start_time": "2023-04-08T06:54:26.042Z"
   },
   {
    "duration": 132,
    "start_time": "2023-04-08T06:55:42.994Z"
   },
   {
    "duration": 13,
    "start_time": "2023-04-08T06:55:46.905Z"
   },
   {
    "duration": 14,
    "start_time": "2023-04-08T06:56:00.394Z"
   },
   {
    "duration": 10,
    "start_time": "2023-04-08T06:56:50.623Z"
   },
   {
    "duration": 59,
    "start_time": "2023-04-08T06:56:57.977Z"
   },
   {
    "duration": 40,
    "start_time": "2023-04-08T06:58:30.859Z"
   },
   {
    "duration": 37,
    "start_time": "2023-04-08T06:58:52.090Z"
   },
   {
    "duration": 27,
    "start_time": "2023-04-08T07:33:18.770Z"
   },
   {
    "duration": 779,
    "start_time": "2023-04-08T07:33:40.978Z"
   },
   {
    "duration": 231,
    "start_time": "2023-04-08T07:33:53.735Z"
   },
   {
    "duration": 197,
    "start_time": "2023-04-08T07:34:28.379Z"
   },
   {
    "duration": 302,
    "start_time": "2023-04-08T07:35:09.000Z"
   },
   {
    "duration": 289,
    "start_time": "2023-04-08T07:35:43.279Z"
   },
   {
    "duration": 23,
    "start_time": "2023-04-08T07:36:34.116Z"
   },
   {
    "duration": 23,
    "start_time": "2023-04-08T07:36:48.619Z"
   },
   {
    "duration": 120,
    "start_time": "2023-04-08T07:37:02.160Z"
   },
   {
    "duration": 42,
    "start_time": "2023-04-08T07:37:16.471Z"
   },
   {
    "duration": 277,
    "start_time": "2023-04-08T07:37:28.170Z"
   },
   {
    "duration": 36,
    "start_time": "2023-04-08T07:39:36.666Z"
   },
   {
    "duration": 24,
    "start_time": "2023-04-08T07:39:48.395Z"
   },
   {
    "duration": 17,
    "start_time": "2023-04-08T07:40:28.195Z"
   },
   {
    "duration": 12,
    "start_time": "2023-04-08T07:40:41.869Z"
   },
   {
    "duration": 12,
    "start_time": "2023-04-08T07:40:49.412Z"
   },
   {
    "duration": 105,
    "start_time": "2023-04-08T07:40:54.005Z"
   },
   {
    "duration": 28,
    "start_time": "2023-04-08T07:40:57.415Z"
   },
   {
    "duration": 230,
    "start_time": "2023-04-08T07:41:03.669Z"
   },
   {
    "duration": 88,
    "start_time": "2023-04-08T07:41:26.067Z"
   },
   {
    "duration": 45,
    "start_time": "2023-04-08T07:41:37.815Z"
   },
   {
    "duration": 54,
    "start_time": "2023-04-08T07:41:40.873Z"
   },
   {
    "duration": 71,
    "start_time": "2023-04-08T07:41:44.084Z"
   },
   {
    "duration": 352,
    "start_time": "2023-04-08T07:41:57.420Z"
   },
   {
    "duration": 5,
    "start_time": "2023-04-08T07:45:00.767Z"
   },
   {
    "duration": 28,
    "start_time": "2023-04-08T07:52:52.570Z"
   },
   {
    "duration": 32,
    "start_time": "2023-04-08T07:53:30.998Z"
   },
   {
    "duration": 36,
    "start_time": "2023-04-08T07:53:42.090Z"
   },
   {
    "duration": 26,
    "start_time": "2023-04-08T07:54:45.635Z"
   },
   {
    "duration": 15,
    "start_time": "2023-04-08T08:01:04.771Z"
   },
   {
    "duration": 22,
    "start_time": "2023-04-08T08:01:26.338Z"
   },
   {
    "duration": 6,
    "start_time": "2023-04-08T08:01:39.875Z"
   },
   {
    "duration": 756,
    "start_time": "2023-04-08T08:01:39.884Z"
   },
   {
    "duration": 23,
    "start_time": "2023-04-08T08:01:40.644Z"
   },
   {
    "duration": 17,
    "start_time": "2023-04-08T08:01:40.670Z"
   },
   {
    "duration": 93,
    "start_time": "2023-04-08T08:01:40.688Z"
   },
   {
    "duration": 29,
    "start_time": "2023-04-08T08:01:40.783Z"
   },
   {
    "duration": 243,
    "start_time": "2023-04-08T08:01:40.814Z"
   },
   {
    "duration": 25,
    "start_time": "2023-04-08T08:01:41.061Z"
   },
   {
    "duration": 39,
    "start_time": "2023-04-08T08:01:41.088Z"
   },
   {
    "duration": 59,
    "start_time": "2023-04-08T08:01:41.130Z"
   },
   {
    "duration": 33,
    "start_time": "2023-04-08T08:01:41.191Z"
   },
   {
    "duration": 262,
    "start_time": "2023-04-08T08:01:41.225Z"
   },
   {
    "duration": 24,
    "start_time": "2023-04-08T08:01:41.489Z"
   },
   {
    "duration": 30,
    "start_time": "2023-04-08T08:01:41.515Z"
   },
   {
    "duration": 84,
    "start_time": "2023-04-08T08:01:41.548Z"
   },
   {
    "duration": 46,
    "start_time": "2023-04-08T08:01:41.642Z"
   },
   {
    "duration": 283,
    "start_time": "2023-04-08T08:01:41.691Z"
   },
   {
    "duration": 3,
    "start_time": "2023-04-08T08:01:41.978Z"
   },
   {
    "duration": 28,
    "start_time": "2023-04-08T08:01:41.984Z"
   },
   {
    "duration": 14,
    "start_time": "2023-04-08T08:05:41.641Z"
   },
   {
    "duration": 9,
    "start_time": "2023-04-08T08:05:43.301Z"
   },
   {
    "duration": 60,
    "start_time": "2023-04-08T08:05:44.728Z"
   },
   {
    "duration": 5,
    "start_time": "2023-04-08T08:06:26.676Z"
   },
   {
    "duration": 5,
    "start_time": "2023-04-08T08:06:30.205Z"
   },
   {
    "duration": 532,
    "start_time": "2023-04-08T08:06:30.212Z"
   },
   {
    "duration": 22,
    "start_time": "2023-04-08T08:06:30.745Z"
   },
   {
    "duration": 99,
    "start_time": "2023-04-08T08:06:30.769Z"
   },
   {
    "duration": 128,
    "start_time": "2023-04-08T08:06:30.871Z"
   },
   {
    "duration": 65,
    "start_time": "2023-04-08T08:06:31.002Z"
   },
   {
    "duration": 254,
    "start_time": "2023-04-08T08:06:31.070Z"
   },
   {
    "duration": 23,
    "start_time": "2023-04-08T08:06:31.326Z"
   },
   {
    "duration": 25,
    "start_time": "2023-04-08T08:06:31.352Z"
   },
   {
    "duration": 97,
    "start_time": "2023-04-08T08:06:31.379Z"
   },
   {
    "duration": 29,
    "start_time": "2023-04-08T08:06:31.478Z"
   },
   {
    "duration": 289,
    "start_time": "2023-04-08T08:06:31.509Z"
   },
   {
    "duration": 16,
    "start_time": "2023-04-08T08:06:31.800Z"
   },
   {
    "duration": 32,
    "start_time": "2023-04-08T08:06:31.818Z"
   },
   {
    "duration": 89,
    "start_time": "2023-04-08T08:06:31.855Z"
   },
   {
    "duration": 39,
    "start_time": "2023-04-08T08:06:31.947Z"
   },
   {
    "duration": 322,
    "start_time": "2023-04-08T08:06:31.988Z"
   },
   {
    "duration": 5,
    "start_time": "2023-04-08T08:06:32.317Z"
   },
   {
    "duration": 68,
    "start_time": "2023-04-08T08:06:32.324Z"
   },
   {
    "duration": 19,
    "start_time": "2023-04-08T08:06:32.395Z"
   },
   {
    "duration": 96,
    "start_time": "2023-04-08T08:06:32.417Z"
   },
   {
    "duration": 500,
    "start_time": "2023-04-08T08:06:57.570Z"
   },
   {
    "duration": 6,
    "start_time": "2023-04-08T08:08:07.808Z"
   },
   {
    "duration": 509,
    "start_time": "2023-04-08T08:18:39.555Z"
   },
   {
    "duration": 7,
    "start_time": "2023-04-08T08:18:49.902Z"
   },
   {
    "duration": 29,
    "start_time": "2023-04-08T08:18:51.446Z"
   },
   {
    "duration": 8,
    "start_time": "2023-04-08T08:19:15.041Z"
   },
   {
    "duration": 613,
    "start_time": "2023-04-08T08:19:15.051Z"
   },
   {
    "duration": 16,
    "start_time": "2023-04-08T08:19:15.665Z"
   },
   {
    "duration": 15,
    "start_time": "2023-04-08T08:19:15.684Z"
   },
   {
    "duration": 79,
    "start_time": "2023-04-08T08:19:15.701Z"
   },
   {
    "duration": 27,
    "start_time": "2023-04-08T08:19:15.782Z"
   },
   {
    "duration": 257,
    "start_time": "2023-04-08T08:19:15.811Z"
   },
   {
    "duration": 23,
    "start_time": "2023-04-08T08:19:16.071Z"
   },
   {
    "duration": 22,
    "start_time": "2023-04-08T08:19:16.098Z"
   },
   {
    "duration": 99,
    "start_time": "2023-04-08T08:19:16.124Z"
   },
   {
    "duration": 33,
    "start_time": "2023-04-08T08:19:16.225Z"
   },
   {
    "duration": 239,
    "start_time": "2023-04-08T08:19:16.260Z"
   },
   {
    "duration": 22,
    "start_time": "2023-04-08T08:19:16.501Z"
   },
   {
    "duration": 33,
    "start_time": "2023-04-08T08:19:16.525Z"
   },
   {
    "duration": 86,
    "start_time": "2023-04-08T08:19:16.561Z"
   },
   {
    "duration": 40,
    "start_time": "2023-04-08T08:19:16.650Z"
   },
   {
    "duration": 195,
    "start_time": "2023-04-08T08:19:16.691Z"
   },
   {
    "duration": 4,
    "start_time": "2023-04-08T08:19:16.888Z"
   },
   {
    "duration": 18,
    "start_time": "2023-04-08T08:19:16.894Z"
   },
   {
    "duration": 31,
    "start_time": "2023-04-08T08:19:16.914Z"
   },
   {
    "duration": 58,
    "start_time": "2023-04-08T08:19:16.947Z"
   },
   {
    "duration": 6,
    "start_time": "2023-04-08T08:23:49.136Z"
   },
   {
    "duration": 16,
    "start_time": "2023-04-08T08:23:54.970Z"
   },
   {
    "duration": 5,
    "start_time": "2023-04-08T08:24:09.356Z"
   },
   {
    "duration": 17,
    "start_time": "2023-04-08T08:24:12.513Z"
   },
   {
    "duration": 5,
    "start_time": "2023-04-08T08:24:21.784Z"
   },
   {
    "duration": 20,
    "start_time": "2023-04-08T08:24:24.537Z"
   },
   {
    "duration": 7,
    "start_time": "2023-04-08T08:29:03.982Z"
   },
   {
    "duration": 23,
    "start_time": "2023-04-08T08:29:09.143Z"
   },
   {
    "duration": 7,
    "start_time": "2023-04-08T08:29:10.791Z"
   },
   {
    "duration": 27,
    "start_time": "2023-04-08T08:29:12.726Z"
   },
   {
    "duration": 29,
    "start_time": "2023-04-08T08:29:53.521Z"
   },
   {
    "duration": 5,
    "start_time": "2023-04-08T08:30:22.667Z"
   },
   {
    "duration": 18,
    "start_time": "2023-04-08T08:30:26.819Z"
   },
   {
    "duration": 8,
    "start_time": "2023-04-08T08:40:36.124Z"
   },
   {
    "duration": 5,
    "start_time": "2023-04-08T08:42:12.924Z"
   },
   {
    "duration": 621,
    "start_time": "2023-04-08T08:42:12.932Z"
   },
   {
    "duration": 20,
    "start_time": "2023-04-08T08:42:13.556Z"
   },
   {
    "duration": 16,
    "start_time": "2023-04-08T08:42:13.579Z"
   },
   {
    "duration": 85,
    "start_time": "2023-04-08T08:42:13.598Z"
   },
   {
    "duration": 26,
    "start_time": "2023-04-08T08:42:13.685Z"
   },
   {
    "duration": 219,
    "start_time": "2023-04-08T08:42:13.714Z"
   },
   {
    "duration": 27,
    "start_time": "2023-04-08T08:42:13.936Z"
   },
   {
    "duration": 19,
    "start_time": "2023-04-08T08:42:13.966Z"
   },
   {
    "duration": 86,
    "start_time": "2023-04-08T08:42:13.987Z"
   },
   {
    "duration": 34,
    "start_time": "2023-04-08T08:42:14.077Z"
   },
   {
    "duration": 452,
    "start_time": "2023-04-08T08:42:14.113Z"
   },
   {
    "duration": 21,
    "start_time": "2023-04-08T08:42:14.567Z"
   },
   {
    "duration": 38,
    "start_time": "2023-04-08T08:42:14.590Z"
   },
   {
    "duration": 63,
    "start_time": "2023-04-08T08:42:14.630Z"
   },
   {
    "duration": 28,
    "start_time": "2023-04-08T08:42:14.695Z"
   },
   {
    "duration": 250,
    "start_time": "2023-04-08T08:42:14.725Z"
   },
   {
    "duration": 4,
    "start_time": "2023-04-08T08:42:14.978Z"
   },
   {
    "duration": 18,
    "start_time": "2023-04-08T08:42:14.984Z"
   },
   {
    "duration": 44,
    "start_time": "2023-04-08T08:42:15.005Z"
   },
   {
    "duration": 50,
    "start_time": "2023-04-08T08:42:15.051Z"
   },
   {
    "duration": 19,
    "start_time": "2023-04-08T08:49:15.713Z"
   },
   {
    "duration": 5,
    "start_time": "2023-04-08T08:49:17.933Z"
   },
   {
    "duration": 27,
    "start_time": "2023-04-08T08:49:19.524Z"
   },
   {
    "duration": 18,
    "start_time": "2023-04-08T08:49:31.369Z"
   },
   {
    "duration": 4,
    "start_time": "2023-04-08T08:49:55.652Z"
   },
   {
    "duration": 535,
    "start_time": "2023-04-08T08:49:55.658Z"
   },
   {
    "duration": 18,
    "start_time": "2023-04-08T08:49:56.196Z"
   },
   {
    "duration": 45,
    "start_time": "2023-04-08T08:49:56.216Z"
   },
   {
    "duration": 72,
    "start_time": "2023-04-08T08:49:56.264Z"
   },
   {
    "duration": 29,
    "start_time": "2023-04-08T08:49:56.340Z"
   },
   {
    "duration": 238,
    "start_time": "2023-04-08T08:49:56.371Z"
   },
   {
    "duration": 19,
    "start_time": "2023-04-08T08:49:56.612Z"
   },
   {
    "duration": 58,
    "start_time": "2023-04-08T08:49:56.642Z"
   },
   {
    "duration": 84,
    "start_time": "2023-04-08T08:49:56.703Z"
   },
   {
    "duration": 29,
    "start_time": "2023-04-08T08:49:56.790Z"
   },
   {
    "duration": 297,
    "start_time": "2023-04-08T08:49:56.822Z"
   },
   {
    "duration": 30,
    "start_time": "2023-04-08T08:49:57.121Z"
   },
   {
    "duration": 48,
    "start_time": "2023-04-08T08:49:57.153Z"
   },
   {
    "duration": 81,
    "start_time": "2023-04-08T08:49:57.203Z"
   },
   {
    "duration": 28,
    "start_time": "2023-04-08T08:49:57.287Z"
   },
   {
    "duration": 217,
    "start_time": "2023-04-08T08:49:57.317Z"
   },
   {
    "duration": 6,
    "start_time": "2023-04-08T08:49:57.536Z"
   },
   {
    "duration": 59,
    "start_time": "2023-04-08T08:49:57.544Z"
   },
   {
    "duration": 16,
    "start_time": "2023-04-08T08:49:57.606Z"
   },
   {
    "duration": 455,
    "start_time": "2023-04-08T08:49:57.625Z"
   },
   {
    "duration": 8,
    "start_time": "2023-04-08T08:51:45.321Z"
   },
   {
    "duration": 6,
    "start_time": "2023-04-08T08:51:47.818Z"
   },
   {
    "duration": 264,
    "start_time": "2023-04-08T08:51:49.000Z"
   },
   {
    "duration": 5,
    "start_time": "2023-04-08T08:52:03.509Z"
   },
   {
    "duration": 274,
    "start_time": "2023-04-08T08:52:05.074Z"
   },
   {
    "duration": 7,
    "start_time": "2023-04-08T08:52:29.137Z"
   },
   {
    "duration": 364,
    "start_time": "2023-04-08T08:52:30.789Z"
   },
   {
    "duration": 4,
    "start_time": "2023-04-08T08:52:35.298Z"
   },
   {
    "duration": 481,
    "start_time": "2023-04-08T08:52:35.306Z"
   },
   {
    "duration": 19,
    "start_time": "2023-04-08T08:52:35.790Z"
   },
   {
    "duration": 12,
    "start_time": "2023-04-08T08:52:35.812Z"
   },
   {
    "duration": 111,
    "start_time": "2023-04-08T08:52:35.827Z"
   },
   {
    "duration": 42,
    "start_time": "2023-04-08T08:52:35.940Z"
   },
   {
    "duration": 278,
    "start_time": "2023-04-08T08:52:35.984Z"
   },
   {
    "duration": 19,
    "start_time": "2023-04-08T08:52:36.270Z"
   },
   {
    "duration": 12,
    "start_time": "2023-04-08T08:52:36.291Z"
   },
   {
    "duration": 66,
    "start_time": "2023-04-08T08:52:36.304Z"
   },
   {
    "duration": 28,
    "start_time": "2023-04-08T08:52:36.375Z"
   },
   {
    "duration": 244,
    "start_time": "2023-04-08T08:52:36.405Z"
   },
   {
    "duration": 24,
    "start_time": "2023-04-08T08:52:36.652Z"
   },
   {
    "duration": 30,
    "start_time": "2023-04-08T08:52:36.681Z"
   },
   {
    "duration": 76,
    "start_time": "2023-04-08T08:52:36.714Z"
   },
   {
    "duration": 34,
    "start_time": "2023-04-08T08:52:36.792Z"
   },
   {
    "duration": 229,
    "start_time": "2023-04-08T08:52:36.842Z"
   },
   {
    "duration": 3,
    "start_time": "2023-04-08T08:52:37.075Z"
   },
   {
    "duration": 17,
    "start_time": "2023-04-08T08:52:37.080Z"
   },
   {
    "duration": 12,
    "start_time": "2023-04-08T08:52:37.099Z"
   },
   {
    "duration": 365,
    "start_time": "2023-04-08T08:52:37.113Z"
   },
   {
    "duration": 38,
    "start_time": "2023-04-08T08:53:06.359Z"
   },
   {
    "duration": 9,
    "start_time": "2023-04-08T08:53:13.046Z"
   },
   {
    "duration": 47,
    "start_time": "2023-04-08T08:53:14.930Z"
   },
   {
    "duration": 4,
    "start_time": "2023-04-08T08:53:19.163Z"
   },
   {
    "duration": 453,
    "start_time": "2023-04-08T08:53:19.170Z"
   },
   {
    "duration": 30,
    "start_time": "2023-04-08T08:53:19.625Z"
   },
   {
    "duration": 13,
    "start_time": "2023-04-08T08:53:19.657Z"
   },
   {
    "duration": 72,
    "start_time": "2023-04-08T08:53:19.672Z"
   },
   {
    "duration": 30,
    "start_time": "2023-04-08T08:53:19.748Z"
   },
   {
    "duration": 209,
    "start_time": "2023-04-08T08:53:19.780Z"
   },
   {
    "duration": 16,
    "start_time": "2023-04-08T08:53:19.991Z"
   },
   {
    "duration": 11,
    "start_time": "2023-04-08T08:53:20.009Z"
   },
   {
    "duration": 81,
    "start_time": "2023-04-08T08:53:20.021Z"
   },
   {
    "duration": 23,
    "start_time": "2023-04-08T08:53:20.105Z"
   },
   {
    "duration": 227,
    "start_time": "2023-04-08T08:53:20.146Z"
   },
   {
    "duration": 19,
    "start_time": "2023-04-08T08:53:20.375Z"
   },
   {
    "duration": 13,
    "start_time": "2023-04-08T08:53:20.396Z"
   },
   {
    "duration": 94,
    "start_time": "2023-04-08T08:53:20.412Z"
   },
   {
    "duration": 42,
    "start_time": "2023-04-08T08:53:20.508Z"
   },
   {
    "duration": 198,
    "start_time": "2023-04-08T08:53:20.552Z"
   },
   {
    "duration": 6,
    "start_time": "2023-04-08T08:53:20.758Z"
   },
   {
    "duration": 19,
    "start_time": "2023-04-08T08:53:20.765Z"
   },
   {
    "duration": 10,
    "start_time": "2023-04-08T08:53:20.786Z"
   },
   {
    "duration": 37,
    "start_time": "2023-04-08T08:53:20.799Z"
   },
   {
    "duration": 6,
    "start_time": "2023-04-08T08:53:31.789Z"
   },
   {
    "duration": 369,
    "start_time": "2023-04-08T08:53:34.076Z"
   },
   {
    "duration": 8,
    "start_time": "2023-04-08T08:53:44.374Z"
   },
   {
    "duration": 378,
    "start_time": "2023-04-08T08:53:46.283Z"
   },
   {
    "duration": 13,
    "start_time": "2023-04-08T08:54:13.042Z"
   },
   {
    "duration": 84,
    "start_time": "2023-04-08T08:54:14.780Z"
   },
   {
    "duration": 6,
    "start_time": "2023-04-08T08:54:35.573Z"
   },
   {
    "duration": 112,
    "start_time": "2023-04-08T08:54:37.032Z"
   },
   {
    "duration": 6,
    "start_time": "2023-04-08T08:54:48.215Z"
   },
   {
    "duration": 134,
    "start_time": "2023-04-08T08:54:51.009Z"
   },
   {
    "duration": 126,
    "start_time": "2023-04-08T08:55:08.427Z"
   },
   {
    "duration": 8,
    "start_time": "2023-04-08T08:55:28.071Z"
   },
   {
    "duration": 7,
    "start_time": "2023-04-08T08:55:29.510Z"
   },
   {
    "duration": 163,
    "start_time": "2023-04-08T08:55:31.802Z"
   },
   {
    "duration": 453,
    "start_time": "2023-04-08T08:55:33.218Z"
   },
   {
    "duration": 10,
    "start_time": "2023-04-08T08:55:44.474Z"
   },
   {
    "duration": 8,
    "start_time": "2023-04-08T08:55:47.587Z"
   },
   {
    "duration": 94,
    "start_time": "2023-04-08T08:55:49.070Z"
   },
   {
    "duration": 5,
    "start_time": "2023-04-08T08:55:52.641Z"
   },
   {
    "duration": 554,
    "start_time": "2023-04-08T08:55:52.666Z"
   },
   {
    "duration": 16,
    "start_time": "2023-04-08T08:55:53.223Z"
   },
   {
    "duration": 64,
    "start_time": "2023-04-08T08:55:53.241Z"
   },
   {
    "duration": 66,
    "start_time": "2023-04-08T08:55:53.307Z"
   },
   {
    "duration": 32,
    "start_time": "2023-04-08T08:55:53.376Z"
   },
   {
    "duration": 236,
    "start_time": "2023-04-08T08:55:53.410Z"
   },
   {
    "duration": 24,
    "start_time": "2023-04-08T08:55:53.650Z"
   },
   {
    "duration": 24,
    "start_time": "2023-04-08T08:55:53.676Z"
   },
   {
    "duration": 63,
    "start_time": "2023-04-08T08:55:53.703Z"
   },
   {
    "duration": 33,
    "start_time": "2023-04-08T08:55:53.767Z"
   },
   {
    "duration": 245,
    "start_time": "2023-04-08T08:55:53.803Z"
   },
   {
    "duration": 31,
    "start_time": "2023-04-08T08:55:54.051Z"
   },
   {
    "duration": 17,
    "start_time": "2023-04-08T08:55:54.084Z"
   },
   {
    "duration": 82,
    "start_time": "2023-04-08T08:55:54.104Z"
   },
   {
    "duration": 27,
    "start_time": "2023-04-08T08:55:54.188Z"
   },
   {
    "duration": 249,
    "start_time": "2023-04-08T08:55:54.217Z"
   },
   {
    "duration": 9,
    "start_time": "2023-04-08T08:55:54.473Z"
   },
   {
    "duration": 19,
    "start_time": "2023-04-08T08:55:54.488Z"
   },
   {
    "duration": 20,
    "start_time": "2023-04-08T08:55:54.510Z"
   },
   {
    "duration": 127,
    "start_time": "2023-04-08T08:55:54.533Z"
   },
   {
    "duration": 6,
    "start_time": "2023-04-08T08:56:07.990Z"
   },
   {
    "duration": 11,
    "start_time": "2023-04-08T08:56:08.586Z"
   },
   {
    "duration": 352,
    "start_time": "2023-04-08T08:56:10.321Z"
   },
   {
    "duration": 53,
    "start_time": "2023-04-08T08:58:32.038Z"
   },
   {
    "duration": 13,
    "start_time": "2023-04-08T09:01:05.608Z"
   },
   {
    "duration": 3,
    "start_time": "2023-04-08T09:01:28.181Z"
   },
   {
    "duration": 16,
    "start_time": "2023-04-08T09:01:41.465Z"
   },
   {
    "duration": 11,
    "start_time": "2023-04-08T09:01:48.688Z"
   },
   {
    "duration": 95,
    "start_time": "2023-04-08T09:01:54.739Z"
   },
   {
    "duration": 9,
    "start_time": "2023-04-08T09:02:00.062Z"
   },
   {
    "duration": 5,
    "start_time": "2023-04-08T09:08:58.487Z"
   },
   {
    "duration": 20,
    "start_time": "2023-04-08T09:09:17.827Z"
   },
   {
    "duration": 6,
    "start_time": "2023-04-08T09:10:11.120Z"
   },
   {
    "duration": 15,
    "start_time": "2023-04-08T09:10:13.507Z"
   },
   {
    "duration": 6,
    "start_time": "2023-04-08T09:51:39.649Z"
   },
   {
    "duration": 6,
    "start_time": "2023-04-08T09:51:51.282Z"
   },
   {
    "duration": 6,
    "start_time": "2023-04-08T09:52:10.908Z"
   },
   {
    "duration": 7,
    "start_time": "2023-04-08T09:52:12.372Z"
   },
   {
    "duration": 1666,
    "start_time": "2023-04-08T09:52:15.072Z"
   },
   {
    "duration": 6,
    "start_time": "2023-04-08T09:53:30.313Z"
   },
   {
    "duration": 1498,
    "start_time": "2023-04-08T09:53:32.213Z"
   },
   {
    "duration": 4,
    "start_time": "2023-04-08T09:53:48.842Z"
   },
   {
    "duration": 519,
    "start_time": "2023-04-08T09:53:48.851Z"
   },
   {
    "duration": 17,
    "start_time": "2023-04-08T09:53:49.372Z"
   },
   {
    "duration": 24,
    "start_time": "2023-04-08T09:53:49.391Z"
   },
   {
    "duration": 98,
    "start_time": "2023-04-08T09:53:49.418Z"
   },
   {
    "duration": 35,
    "start_time": "2023-04-08T09:53:49.518Z"
   },
   {
    "duration": 261,
    "start_time": "2023-04-08T09:53:49.555Z"
   },
   {
    "duration": 26,
    "start_time": "2023-04-08T09:53:49.818Z"
   },
   {
    "duration": 13,
    "start_time": "2023-04-08T09:53:49.847Z"
   },
   {
    "duration": 81,
    "start_time": "2023-04-08T09:53:49.862Z"
   },
   {
    "duration": 37,
    "start_time": "2023-04-08T09:53:49.948Z"
   },
   {
    "duration": 230,
    "start_time": "2023-04-08T09:53:49.988Z"
   },
   {
    "duration": 29,
    "start_time": "2023-04-08T09:53:50.221Z"
   },
   {
    "duration": 19,
    "start_time": "2023-04-08T09:53:50.253Z"
   },
   {
    "duration": 78,
    "start_time": "2023-04-08T09:53:50.274Z"
   },
   {
    "duration": 26,
    "start_time": "2023-04-08T09:53:50.354Z"
   },
   {
    "duration": 269,
    "start_time": "2023-04-08T09:53:50.382Z"
   },
   {
    "duration": 6,
    "start_time": "2023-04-08T09:53:50.653Z"
   },
   {
    "duration": 26,
    "start_time": "2023-04-08T09:53:50.661Z"
   },
   {
    "duration": 11,
    "start_time": "2023-04-08T09:53:50.690Z"
   },
   {
    "duration": 439,
    "start_time": "2023-04-08T09:53:50.703Z"
   },
   {
    "duration": 5,
    "start_time": "2023-04-08T09:53:51.144Z"
   },
   {
    "duration": 115,
    "start_time": "2023-04-08T09:53:51.152Z"
   },
   {
    "duration": 27,
    "start_time": "2023-04-08T09:53:51.270Z"
   },
   {
    "duration": 31,
    "start_time": "2023-04-08T09:53:51.299Z"
   },
   {
    "duration": 6,
    "start_time": "2023-04-08T09:54:02.712Z"
   },
   {
    "duration": 4,
    "start_time": "2023-04-08T09:54:07.394Z"
   },
   {
    "duration": 522,
    "start_time": "2023-04-08T09:54:07.402Z"
   },
   {
    "duration": 28,
    "start_time": "2023-04-08T09:54:07.926Z"
   },
   {
    "duration": 12,
    "start_time": "2023-04-08T09:54:07.956Z"
   },
   {
    "duration": 85,
    "start_time": "2023-04-08T09:54:07.970Z"
   },
   {
    "duration": 29,
    "start_time": "2023-04-08T09:54:08.057Z"
   },
   {
    "duration": 273,
    "start_time": "2023-04-08T09:54:08.089Z"
   },
   {
    "duration": 23,
    "start_time": "2023-04-08T09:54:08.365Z"
   },
   {
    "duration": 29,
    "start_time": "2023-04-08T09:54:08.391Z"
   },
   {
    "duration": 101,
    "start_time": "2023-04-08T09:54:08.423Z"
   },
   {
    "duration": 34,
    "start_time": "2023-04-08T09:54:08.528Z"
   },
   {
    "duration": 277,
    "start_time": "2023-04-08T09:54:08.564Z"
   },
   {
    "duration": 22,
    "start_time": "2023-04-08T09:54:08.843Z"
   },
   {
    "duration": 16,
    "start_time": "2023-04-08T09:54:08.868Z"
   },
   {
    "duration": 127,
    "start_time": "2023-04-08T09:54:08.886Z"
   },
   {
    "duration": 46,
    "start_time": "2023-04-08T09:54:09.015Z"
   },
   {
    "duration": 215,
    "start_time": "2023-04-08T09:54:09.063Z"
   },
   {
    "duration": 10,
    "start_time": "2023-04-08T09:54:09.280Z"
   },
   {
    "duration": 18,
    "start_time": "2023-04-08T09:54:09.292Z"
   },
   {
    "duration": 13,
    "start_time": "2023-04-08T09:54:09.312Z"
   },
   {
    "duration": 434,
    "start_time": "2023-04-08T09:54:09.327Z"
   },
   {
    "duration": 5,
    "start_time": "2023-04-08T09:54:09.842Z"
   },
   {
    "duration": 14,
    "start_time": "2023-04-08T09:54:09.849Z"
   },
   {
    "duration": 13,
    "start_time": "2023-04-08T09:54:09.865Z"
   },
   {
    "duration": 1545,
    "start_time": "2023-04-08T09:54:09.880Z"
   },
   {
    "duration": 7,
    "start_time": "2023-04-08T09:55:02.760Z"
   },
   {
    "duration": 5,
    "start_time": "2023-04-08T09:55:06.361Z"
   },
   {
    "duration": 502,
    "start_time": "2023-04-08T09:55:06.369Z"
   },
   {
    "duration": 25,
    "start_time": "2023-04-08T09:55:06.874Z"
   },
   {
    "duration": 17,
    "start_time": "2023-04-08T09:55:06.902Z"
   },
   {
    "duration": 82,
    "start_time": "2023-04-08T09:55:06.942Z"
   },
   {
    "duration": 49,
    "start_time": "2023-04-08T09:55:07.026Z"
   },
   {
    "duration": 221,
    "start_time": "2023-04-08T09:55:07.077Z"
   },
   {
    "duration": 17,
    "start_time": "2023-04-08T09:55:07.301Z"
   },
   {
    "duration": 26,
    "start_time": "2023-04-08T09:55:07.321Z"
   },
   {
    "duration": 63,
    "start_time": "2023-04-08T09:55:07.349Z"
   },
   {
    "duration": 40,
    "start_time": "2023-04-08T09:55:07.417Z"
   },
   {
    "duration": 391,
    "start_time": "2023-04-08T09:55:07.459Z"
   },
   {
    "duration": 26,
    "start_time": "2023-04-08T09:55:07.852Z"
   },
   {
    "duration": 31,
    "start_time": "2023-04-08T09:55:07.880Z"
   },
   {
    "duration": 112,
    "start_time": "2023-04-08T09:55:07.914Z"
   },
   {
    "duration": 31,
    "start_time": "2023-04-08T09:55:08.029Z"
   },
   {
    "duration": 238,
    "start_time": "2023-04-08T09:55:08.062Z"
   },
   {
    "duration": 5,
    "start_time": "2023-04-08T09:55:08.302Z"
   },
   {
    "duration": 12,
    "start_time": "2023-04-08T09:55:08.309Z"
   },
   {
    "duration": 24,
    "start_time": "2023-04-08T09:55:08.323Z"
   },
   {
    "duration": 399,
    "start_time": "2023-04-08T09:55:08.350Z"
   },
   {
    "duration": 7,
    "start_time": "2023-04-08T09:55:08.752Z"
   },
   {
    "duration": 182,
    "start_time": "2023-04-08T09:55:08.764Z"
   },
   {
    "duration": 8,
    "start_time": "2023-04-08T09:55:08.949Z"
   },
   {
    "duration": 1533,
    "start_time": "2023-04-08T09:55:08.960Z"
   },
   {
    "duration": 1494,
    "start_time": "2023-04-08T09:55:32.373Z"
   },
   {
    "duration": 1615,
    "start_time": "2023-04-08T09:55:47.416Z"
   },
   {
    "duration": 4186,
    "start_time": "2023-04-08T18:06:23.932Z"
   },
   {
    "duration": 1582,
    "start_time": "2023-04-08T18:06:28.120Z"
   },
   {
    "duration": 20,
    "start_time": "2023-04-08T18:06:29.704Z"
   },
   {
    "duration": 9,
    "start_time": "2023-04-08T18:06:29.727Z"
   },
   {
    "duration": 70,
    "start_time": "2023-04-08T18:06:29.737Z"
   },
   {
    "duration": 25,
    "start_time": "2023-04-08T18:06:29.808Z"
   },
   {
    "duration": 213,
    "start_time": "2023-04-08T18:06:29.839Z"
   },
   {
    "duration": 13,
    "start_time": "2023-04-08T18:06:30.054Z"
   },
   {
    "duration": 31,
    "start_time": "2023-04-08T18:06:30.068Z"
   },
   {
    "duration": 41,
    "start_time": "2023-04-08T18:06:30.101Z"
   },
   {
    "duration": 17,
    "start_time": "2023-04-08T18:06:30.143Z"
   },
   {
    "duration": 192,
    "start_time": "2023-04-08T18:06:30.162Z"
   },
   {
    "duration": 25,
    "start_time": "2023-04-08T18:06:30.356Z"
   },
   {
    "duration": 23,
    "start_time": "2023-04-08T18:06:30.384Z"
   },
   {
    "duration": 75,
    "start_time": "2023-04-08T18:06:30.408Z"
   },
   {
    "duration": 21,
    "start_time": "2023-04-08T18:06:30.490Z"
   },
   {
    "duration": 223,
    "start_time": "2023-04-08T18:06:30.513Z"
   },
   {
    "duration": 3,
    "start_time": "2023-04-08T18:06:30.738Z"
   },
   {
    "duration": 57,
    "start_time": "2023-04-08T18:06:30.743Z"
   },
   {
    "duration": 38,
    "start_time": "2023-04-08T18:06:30.802Z"
   },
   {
    "duration": 262,
    "start_time": "2023-04-08T18:06:30.841Z"
   },
   {
    "duration": 95,
    "start_time": "2023-04-08T18:06:31.109Z"
   },
   {
    "duration": 6,
    "start_time": "2023-04-08T18:06:31.205Z"
   },
   {
    "duration": 29,
    "start_time": "2023-04-08T18:06:31.271Z"
   },
   {
    "duration": 1304,
    "start_time": "2023-04-08T18:06:31.301Z"
   },
   {
    "duration": 1367,
    "start_time": "2023-04-08T18:06:32.606Z"
   },
   {
    "duration": 1321,
    "start_time": "2023-04-08T18:06:33.976Z"
   }
  ],
  "kernelspec": {
   "display_name": "Python 3 (ipykernel)",
   "language": "python",
   "name": "python3"
  },
  "language_info": {
   "codemirror_mode": {
    "name": "ipython",
    "version": 3
   },
   "file_extension": ".py",
   "mimetype": "text/x-python",
   "name": "python",
   "nbconvert_exporter": "python",
   "pygments_lexer": "ipython3",
   "version": "3.9.5"
  },
  "toc": {
   "base_numbering": 1,
   "nav_menu": {},
   "number_sections": true,
   "sideBar": true,
   "skip_h1_title": true,
   "title_cell": "Table of Contents",
   "title_sidebar": "Contents",
   "toc_cell": false,
   "toc_position": {},
   "toc_section_display": true,
   "toc_window_display": true
  }
 },
 "nbformat": 4,
 "nbformat_minor": 2
}
