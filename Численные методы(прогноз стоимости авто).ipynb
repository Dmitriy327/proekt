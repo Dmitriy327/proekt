{
 "cells": [
  {
   "cell_type": "markdown",
   "metadata": {},
   "source": [
    "# Определение стоимости автомобилей"
   ]
  },
  {
   "cell_type": "markdown",
   "metadata": {},
   "source": [
    "Сервис по продаже автомобилей с пробегом «Не бит, не крашен» разрабатывает приложение для привлечения новых клиентов. В нём можно быстро узнать рыночную стоимость своего автомобиля. В вашем распоряжении исторические данные: технические характеристики, комплектации и цены автомобилей. Вам нужно построить модель для определения стоимости. \n",
    "\n",
    "Заказчику важны:\n",
    "\n",
    "- качество предсказания;\n",
    "- скорость предсказания;\n",
    "- время обучения."
   ]
  },
  {
   "cell_type": "markdown",
   "metadata": {},
   "source": [
    "Признаки:\n",
    "+ DateCrawled — дата скачивания анкеты из базы\n",
    "+ VehicleType — тип автомобильного кузова\n",
    "+ RegistrationYear — год регистрации автомобиля\n",
    "+ Gearbox — тип коробки передач\n",
    "+ Power — мощность (л. с.)\n",
    "+ Model — модель автомобиля\n",
    "+ Kilometer — пробег (км)\n",
    "+ RegistrationMonth — месяц регистрации автомобиля\n",
    "+ FuelType — тип топлива\n",
    "+ Brand — марка автомобиля\n",
    "+ Repaired — была машина в ремонте или нет\n",
    "+ DateCreated — дата создания анкеты\n",
    "+ NumberOfPictures — количество фотографий автомобиля\n",
    "+ PostalCode — почтовый индекс владельца анкеты (пользователя)\n",
    "+ LastSeen — дата последней активности пользователя\n",
    "   \n",
    "   Целевой признак:\n",
    "+ Price — цена (евро)"
   ]
  },
  {
   "cell_type": "markdown",
   "metadata": {},
   "source": [
    "## Подготовка данных"
   ]
  },
  {
   "cell_type": "code",
   "execution_count": 1,
   "metadata": {
    "scrolled": true
   },
   "outputs": [
    {
     "name": "stderr",
     "output_type": "stream",
     "text": [
      "/tmp/ipykernel_319/4050108477.py:2: DeprecationWarning: `import pandas_profiling` is going to be deprecated by April 1st. Please use `import ydata_profiling` instead.\n",
      "  import pandas_profiling\n"
     ]
    }
   ],
   "source": [
    "#!pip install pandas-profiling\n",
    "import pandas_profiling\n",
    "import pandas as pd\n",
    "import numpy as np \n",
    "import matplotlib.pyplot as plt\n",
    "import seaborn as sns\n",
    "import time\n",
    "import warnings\n",
    "import sklearn.metrics as metrics\n",
    "from sklearn.metrics import mean_squared_error\n",
    "from math import sqrt\n",
    "from lightgbm import LGBMRegressor\n",
    "from sklearn.preprocessing import StandardScaler\n",
    "\n",
    "\n",
    "from sklearn.linear_model import LinearRegression\n",
    "from sklearn.ensemble import RandomForestRegressor\n",
    "from sklearn.model_selection import train_test_split, GridSearchCV, RandomizedSearchCV\n",
    "from sklearn.preprocessing import OrdinalEncoder"
   ]
  },
  {
   "cell_type": "code",
   "execution_count": 2,
   "metadata": {
    "scrolled": true
   },
   "outputs": [
    {
     "data": {
      "text/html": [
       "<div>\n",
       "<style scoped>\n",
       "    .dataframe tbody tr th:only-of-type {\n",
       "        vertical-align: middle;\n",
       "    }\n",
       "\n",
       "    .dataframe tbody tr th {\n",
       "        vertical-align: top;\n",
       "    }\n",
       "\n",
       "    .dataframe thead th {\n",
       "        text-align: right;\n",
       "    }\n",
       "</style>\n",
       "<table border=\"1\" class=\"dataframe\">\n",
       "  <thead>\n",
       "    <tr style=\"text-align: right;\">\n",
       "      <th></th>\n",
       "      <th>DateCrawled</th>\n",
       "      <th>Price</th>\n",
       "      <th>VehicleType</th>\n",
       "      <th>RegistrationYear</th>\n",
       "      <th>Gearbox</th>\n",
       "      <th>Power</th>\n",
       "      <th>Model</th>\n",
       "      <th>Kilometer</th>\n",
       "      <th>RegistrationMonth</th>\n",
       "      <th>FuelType</th>\n",
       "      <th>Brand</th>\n",
       "      <th>Repaired</th>\n",
       "      <th>DateCreated</th>\n",
       "      <th>NumberOfPictures</th>\n",
       "      <th>PostalCode</th>\n",
       "      <th>LastSeen</th>\n",
       "    </tr>\n",
       "  </thead>\n",
       "  <tbody>\n",
       "    <tr>\n",
       "      <th>0</th>\n",
       "      <td>2016-03-24 11:52:17</td>\n",
       "      <td>480</td>\n",
       "      <td>NaN</td>\n",
       "      <td>1993</td>\n",
       "      <td>manual</td>\n",
       "      <td>0</td>\n",
       "      <td>golf</td>\n",
       "      <td>150000</td>\n",
       "      <td>0</td>\n",
       "      <td>petrol</td>\n",
       "      <td>volkswagen</td>\n",
       "      <td>NaN</td>\n",
       "      <td>2016-03-24 00:00:00</td>\n",
       "      <td>0</td>\n",
       "      <td>70435</td>\n",
       "      <td>2016-04-07 03:16:57</td>\n",
       "    </tr>\n",
       "    <tr>\n",
       "      <th>1</th>\n",
       "      <td>2016-03-24 10:58:45</td>\n",
       "      <td>18300</td>\n",
       "      <td>coupe</td>\n",
       "      <td>2011</td>\n",
       "      <td>manual</td>\n",
       "      <td>190</td>\n",
       "      <td>NaN</td>\n",
       "      <td>125000</td>\n",
       "      <td>5</td>\n",
       "      <td>gasoline</td>\n",
       "      <td>audi</td>\n",
       "      <td>yes</td>\n",
       "      <td>2016-03-24 00:00:00</td>\n",
       "      <td>0</td>\n",
       "      <td>66954</td>\n",
       "      <td>2016-04-07 01:46:50</td>\n",
       "    </tr>\n",
       "    <tr>\n",
       "      <th>2</th>\n",
       "      <td>2016-03-14 12:52:21</td>\n",
       "      <td>9800</td>\n",
       "      <td>suv</td>\n",
       "      <td>2004</td>\n",
       "      <td>auto</td>\n",
       "      <td>163</td>\n",
       "      <td>grand</td>\n",
       "      <td>125000</td>\n",
       "      <td>8</td>\n",
       "      <td>gasoline</td>\n",
       "      <td>jeep</td>\n",
       "      <td>NaN</td>\n",
       "      <td>2016-03-14 00:00:00</td>\n",
       "      <td>0</td>\n",
       "      <td>90480</td>\n",
       "      <td>2016-04-05 12:47:46</td>\n",
       "    </tr>\n",
       "    <tr>\n",
       "      <th>3</th>\n",
       "      <td>2016-03-17 16:54:04</td>\n",
       "      <td>1500</td>\n",
       "      <td>small</td>\n",
       "      <td>2001</td>\n",
       "      <td>manual</td>\n",
       "      <td>75</td>\n",
       "      <td>golf</td>\n",
       "      <td>150000</td>\n",
       "      <td>6</td>\n",
       "      <td>petrol</td>\n",
       "      <td>volkswagen</td>\n",
       "      <td>no</td>\n",
       "      <td>2016-03-17 00:00:00</td>\n",
       "      <td>0</td>\n",
       "      <td>91074</td>\n",
       "      <td>2016-03-17 17:40:17</td>\n",
       "    </tr>\n",
       "    <tr>\n",
       "      <th>4</th>\n",
       "      <td>2016-03-31 17:25:20</td>\n",
       "      <td>3600</td>\n",
       "      <td>small</td>\n",
       "      <td>2008</td>\n",
       "      <td>manual</td>\n",
       "      <td>69</td>\n",
       "      <td>fabia</td>\n",
       "      <td>90000</td>\n",
       "      <td>7</td>\n",
       "      <td>gasoline</td>\n",
       "      <td>skoda</td>\n",
       "      <td>no</td>\n",
       "      <td>2016-03-31 00:00:00</td>\n",
       "      <td>0</td>\n",
       "      <td>60437</td>\n",
       "      <td>2016-04-06 10:17:21</td>\n",
       "    </tr>\n",
       "    <tr>\n",
       "      <th>...</th>\n",
       "      <td>...</td>\n",
       "      <td>...</td>\n",
       "      <td>...</td>\n",
       "      <td>...</td>\n",
       "      <td>...</td>\n",
       "      <td>...</td>\n",
       "      <td>...</td>\n",
       "      <td>...</td>\n",
       "      <td>...</td>\n",
       "      <td>...</td>\n",
       "      <td>...</td>\n",
       "      <td>...</td>\n",
       "      <td>...</td>\n",
       "      <td>...</td>\n",
       "      <td>...</td>\n",
       "      <td>...</td>\n",
       "    </tr>\n",
       "    <tr>\n",
       "      <th>354364</th>\n",
       "      <td>2016-03-21 09:50:58</td>\n",
       "      <td>0</td>\n",
       "      <td>NaN</td>\n",
       "      <td>2005</td>\n",
       "      <td>manual</td>\n",
       "      <td>0</td>\n",
       "      <td>colt</td>\n",
       "      <td>150000</td>\n",
       "      <td>7</td>\n",
       "      <td>petrol</td>\n",
       "      <td>mitsubishi</td>\n",
       "      <td>yes</td>\n",
       "      <td>2016-03-21 00:00:00</td>\n",
       "      <td>0</td>\n",
       "      <td>2694</td>\n",
       "      <td>2016-03-21 10:42:49</td>\n",
       "    </tr>\n",
       "    <tr>\n",
       "      <th>354365</th>\n",
       "      <td>2016-03-14 17:48:27</td>\n",
       "      <td>2200</td>\n",
       "      <td>NaN</td>\n",
       "      <td>2005</td>\n",
       "      <td>NaN</td>\n",
       "      <td>0</td>\n",
       "      <td>NaN</td>\n",
       "      <td>20000</td>\n",
       "      <td>1</td>\n",
       "      <td>NaN</td>\n",
       "      <td>sonstige_autos</td>\n",
       "      <td>NaN</td>\n",
       "      <td>2016-03-14 00:00:00</td>\n",
       "      <td>0</td>\n",
       "      <td>39576</td>\n",
       "      <td>2016-04-06 00:46:52</td>\n",
       "    </tr>\n",
       "    <tr>\n",
       "      <th>354366</th>\n",
       "      <td>2016-03-05 19:56:21</td>\n",
       "      <td>1199</td>\n",
       "      <td>convertible</td>\n",
       "      <td>2000</td>\n",
       "      <td>auto</td>\n",
       "      <td>101</td>\n",
       "      <td>fortwo</td>\n",
       "      <td>125000</td>\n",
       "      <td>3</td>\n",
       "      <td>petrol</td>\n",
       "      <td>smart</td>\n",
       "      <td>no</td>\n",
       "      <td>2016-03-05 00:00:00</td>\n",
       "      <td>0</td>\n",
       "      <td>26135</td>\n",
       "      <td>2016-03-11 18:17:12</td>\n",
       "    </tr>\n",
       "    <tr>\n",
       "      <th>354367</th>\n",
       "      <td>2016-03-19 18:57:12</td>\n",
       "      <td>9200</td>\n",
       "      <td>bus</td>\n",
       "      <td>1996</td>\n",
       "      <td>manual</td>\n",
       "      <td>102</td>\n",
       "      <td>transporter</td>\n",
       "      <td>150000</td>\n",
       "      <td>3</td>\n",
       "      <td>gasoline</td>\n",
       "      <td>volkswagen</td>\n",
       "      <td>no</td>\n",
       "      <td>2016-03-19 00:00:00</td>\n",
       "      <td>0</td>\n",
       "      <td>87439</td>\n",
       "      <td>2016-04-07 07:15:26</td>\n",
       "    </tr>\n",
       "    <tr>\n",
       "      <th>354368</th>\n",
       "      <td>2016-03-20 19:41:08</td>\n",
       "      <td>3400</td>\n",
       "      <td>wagon</td>\n",
       "      <td>2002</td>\n",
       "      <td>manual</td>\n",
       "      <td>100</td>\n",
       "      <td>golf</td>\n",
       "      <td>150000</td>\n",
       "      <td>6</td>\n",
       "      <td>gasoline</td>\n",
       "      <td>volkswagen</td>\n",
       "      <td>NaN</td>\n",
       "      <td>2016-03-20 00:00:00</td>\n",
       "      <td>0</td>\n",
       "      <td>40764</td>\n",
       "      <td>2016-03-24 12:45:21</td>\n",
       "    </tr>\n",
       "  </tbody>\n",
       "</table>\n",
       "<p>354369 rows × 16 columns</p>\n",
       "</div>"
      ],
      "text/plain": [
       "                DateCrawled  Price  VehicleType  RegistrationYear Gearbox  \\\n",
       "0       2016-03-24 11:52:17    480          NaN              1993  manual   \n",
       "1       2016-03-24 10:58:45  18300        coupe              2011  manual   \n",
       "2       2016-03-14 12:52:21   9800          suv              2004    auto   \n",
       "3       2016-03-17 16:54:04   1500        small              2001  manual   \n",
       "4       2016-03-31 17:25:20   3600        small              2008  manual   \n",
       "...                     ...    ...          ...               ...     ...   \n",
       "354364  2016-03-21 09:50:58      0          NaN              2005  manual   \n",
       "354365  2016-03-14 17:48:27   2200          NaN              2005     NaN   \n",
       "354366  2016-03-05 19:56:21   1199  convertible              2000    auto   \n",
       "354367  2016-03-19 18:57:12   9200          bus              1996  manual   \n",
       "354368  2016-03-20 19:41:08   3400        wagon              2002  manual   \n",
       "\n",
       "        Power        Model  Kilometer  RegistrationMonth  FuelType  \\\n",
       "0           0         golf     150000                  0    petrol   \n",
       "1         190          NaN     125000                  5  gasoline   \n",
       "2         163        grand     125000                  8  gasoline   \n",
       "3          75         golf     150000                  6    petrol   \n",
       "4          69        fabia      90000                  7  gasoline   \n",
       "...       ...          ...        ...                ...       ...   \n",
       "354364      0         colt     150000                  7    petrol   \n",
       "354365      0          NaN      20000                  1       NaN   \n",
       "354366    101       fortwo     125000                  3    petrol   \n",
       "354367    102  transporter     150000                  3  gasoline   \n",
       "354368    100         golf     150000                  6  gasoline   \n",
       "\n",
       "                 Brand Repaired          DateCreated  NumberOfPictures  \\\n",
       "0           volkswagen      NaN  2016-03-24 00:00:00                 0   \n",
       "1                 audi      yes  2016-03-24 00:00:00                 0   \n",
       "2                 jeep      NaN  2016-03-14 00:00:00                 0   \n",
       "3           volkswagen       no  2016-03-17 00:00:00                 0   \n",
       "4                skoda       no  2016-03-31 00:00:00                 0   \n",
       "...                ...      ...                  ...               ...   \n",
       "354364      mitsubishi      yes  2016-03-21 00:00:00                 0   \n",
       "354365  sonstige_autos      NaN  2016-03-14 00:00:00                 0   \n",
       "354366           smart       no  2016-03-05 00:00:00                 0   \n",
       "354367      volkswagen       no  2016-03-19 00:00:00                 0   \n",
       "354368      volkswagen      NaN  2016-03-20 00:00:00                 0   \n",
       "\n",
       "        PostalCode             LastSeen  \n",
       "0            70435  2016-04-07 03:16:57  \n",
       "1            66954  2016-04-07 01:46:50  \n",
       "2            90480  2016-04-05 12:47:46  \n",
       "3            91074  2016-03-17 17:40:17  \n",
       "4            60437  2016-04-06 10:17:21  \n",
       "...            ...                  ...  \n",
       "354364        2694  2016-03-21 10:42:49  \n",
       "354365       39576  2016-04-06 00:46:52  \n",
       "354366       26135  2016-03-11 18:17:12  \n",
       "354367       87439  2016-04-07 07:15:26  \n",
       "354368       40764  2016-03-24 12:45:21  \n",
       "\n",
       "[354369 rows x 16 columns]"
      ]
     },
     "metadata": {},
     "output_type": "display_data"
    }
   ],
   "source": [
    "#сохраним наши данные в переменную data\n",
    "data = pd.read_csv(\"/datasets/autos.csv\")\n",
    "\n",
    "display(data)"
   ]
  },
  {
   "cell_type": "code",
   "execution_count": 3,
   "metadata": {
    "scrolled": true
   },
   "outputs": [
    {
     "data": {
      "application/vnd.jupyter.widget-view+json": {
       "model_id": "c63f16915bd246bbbed2681f4ba0f5bd",
       "version_major": 2,
       "version_minor": 0
      },
      "text/plain": [
       "Summarize dataset:   0%|          | 0/5 [00:00<?, ?it/s]"
      ]
     },
     "metadata": {},
     "output_type": "display_data"
    },
    {
     "data": {
      "application/vnd.jupyter.widget-view+json": {
       "model_id": "9ccddfe17fdc4935b96cabfdcdc117f1",
       "version_major": 2,
       "version_minor": 0
      },
      "text/plain": [
       "Generate report structure:   0%|          | 0/1 [00:00<?, ?it/s]"
      ]
     },
     "metadata": {},
     "output_type": "display_data"
    },
    {
     "data": {
      "application/vnd.jupyter.widget-view+json": {
       "model_id": "e908448dd5e94669b82ce435347521b4",
       "version_major": 2,
       "version_minor": 0
      },
      "text/plain": [
       "Render HTML:   0%|          | 0/1 [00:00<?, ?it/s]"
      ]
     },
     "metadata": {},
     "output_type": "display_data"
    },
    {
     "data": {
      "application/vnd.jupyter.widget-view+json": {
       "model_id": "1eee208bcdba489990cb9910f7d0ebd4",
       "version_major": 2,
       "version_minor": 0
      },
      "text/plain": [
       "Export report to file:   0%|          | 0/1 [00:00<?, ?it/s]"
      ]
     },
     "metadata": {},
     "output_type": "display_data"
    }
   ],
   "source": [
    "profile = pandas_profiling.ProfileReport(data)\n",
    "profile.to_file(\"output.html\")"
   ]
  },
  {
   "cell_type": "code",
   "execution_count": 1,
   "metadata": {
    "scrolled": true
   },
   "outputs": [
    {
     "ename": "NameError",
     "evalue": "name 'profile' is not defined",
     "output_type": "error",
     "traceback": [
      "\u001b[0;31m---------------------------------------------------------------------------\u001b[0m",
      "\u001b[0;31mNameError\u001b[0m                                 Traceback (most recent call last)",
      "\u001b[0;32m/tmp/ipykernel_31/3465791820.py\u001b[0m in \u001b[0;36m<module>\u001b[0;34m\u001b[0m\n\u001b[0;32m----> 1\u001b[0;31m \u001b[0mprofile\u001b[0m\u001b[0;34m\u001b[0m\u001b[0;34m\u001b[0m\u001b[0m\n\u001b[0m",
      "\u001b[0;31mNameError\u001b[0m: name 'profile' is not defined"
     ]
    }
   ],
   "source": [
    "profile\n"
   ]
  },
  {
   "cell_type": "code",
   "execution_count": 5,
   "metadata": {},
   "outputs": [
    {
     "name": "stdout",
     "output_type": "stream",
     "text": [
      "['golf' nan 'grand' 'fabia' '3er' '2_reihe' 'other' 'c_max' '3_reihe'\n",
      " 'passat' 'navara' 'ka' 'polo' 'twingo' 'a_klasse' 'scirocco' '5er'\n",
      " 'meriva' 'arosa' 'c4' 'civic' 'transporter' 'punto' 'e_klasse' 'clio'\n",
      " 'kadett' 'kangoo' 'corsa' 'one' 'fortwo' '1er' 'b_klasse' 'signum'\n",
      " 'astra' 'a8' 'jetta' 'fiesta' 'c_klasse' 'micra' 'vito' 'sprinter' '156'\n",
      " 'escort' 'forester' 'xc_reihe' 'scenic' 'a4' 'a1' 'insignia' 'combo'\n",
      " 'focus' 'tt' 'a6' 'jazz' 'omega' 'slk' '7er' '80' '147' '100' 'z_reihe'\n",
      " 'sportage' 'sorento' 'v40' 'ibiza' 'mustang' 'eos' 'touran' 'getz' 'a3'\n",
      " 'almera' 'megane' 'lupo' 'r19' 'zafira' 'caddy' 'mondeo' 'cordoba' 'colt'\n",
      " 'impreza' 'vectra' 'berlingo' 'tiguan' 'i_reihe' 'espace' 'sharan'\n",
      " '6_reihe' 'panda' 'up' 'seicento' 'ceed' '5_reihe' 'yeti' 'octavia' 'mii'\n",
      " 'rx_reihe' '6er' 'modus' 'fox' 'matiz' 'beetle' 'c1' 'rio' 'touareg'\n",
      " 'logan' 'spider' 'cuore' 's_max' 'a2' 'galaxy' 'c3' 'viano' 's_klasse'\n",
      " '1_reihe' 'avensis' 'roomster' 'sl' 'kaefer' 'santa' 'cooper' 'leon'\n",
      " '4_reihe' 'a5' '500' 'laguna' 'ptcruiser' 'clk' 'primera' 'x_reihe'\n",
      " 'exeo' '159' 'transit' 'juke' 'qashqai' 'carisma' 'accord' 'corolla'\n",
      " 'lanos' 'phaeton' 'verso' 'swift' 'rav' 'picanto' 'boxster' 'kalos'\n",
      " 'superb' 'stilo' 'alhambra' 'mx_reihe' 'roadster' 'ypsilon' 'cayenne'\n",
      " 'galant' 'justy' '90' 'sirion' 'crossfire' 'agila' 'duster' 'cr_reihe'\n",
      " 'v50' 'c_reihe' 'v_klasse' 'm_klasse' 'yaris' 'c5' 'aygo' 'cc' 'carnival'\n",
      " 'fusion' '911' 'bora' 'forfour' 'm_reihe' 'cl' 'tigra' '300c' 'spark'\n",
      " 'v70' 'kuga' 'x_type' 'ducato' 's_type' 'x_trail' 'toledo' 'altea'\n",
      " 'voyager' 'calibra' 'bravo' 'antara' 'tucson' 'citigo' 'jimny' 'wrangler'\n",
      " 'lybra' 'q7' 'lancer' 'captiva' 'c2' 'discovery' 'freelander' 'sandero'\n",
      " 'note' '900' 'cherokee' 'clubman' 'samara' 'defender' '601' 'cx_reihe'\n",
      " 'legacy' 'pajero' 'auris' 'niva' 's60' 'nubira' 'vivaro' 'g_klasse'\n",
      " 'lodgy' '850' 'range_rover' 'q3' 'serie_2' 'glk' 'charade' 'croma'\n",
      " 'outlander' 'doblo' 'musa' 'move' '9000' 'v60' '145' 'aveo' '200' 'b_max'\n",
      " 'range_rover_sport' 'terios' 'rangerover' 'q5' 'range_rover_evoque'\n",
      " 'materia' 'delta' 'gl' 'kalina' 'amarok' 'elefantino' 'i3' 'kappa'\n",
      " 'serie_3' 'serie_1']\n",
      "['volkswagen' 'audi' 'jeep' 'skoda' 'bmw' 'peugeot' 'ford' 'mazda'\n",
      " 'nissan' 'renault' 'mercedes_benz' 'opel' 'seat' 'citroen' 'honda' 'fiat'\n",
      " 'mini' 'smart' 'hyundai' 'sonstige_autos' 'alfa_romeo' 'subaru' 'volvo'\n",
      " 'mitsubishi' 'kia' 'suzuki' 'lancia' 'toyota' 'chevrolet' 'dacia'\n",
      " 'daihatsu' 'trabant' 'saab' 'chrysler' 'jaguar' 'daewoo' 'porsche'\n",
      " 'rover' 'land_rover' 'lada']\n",
      "[nan 'coupe' 'suv' 'small' 'sedan' 'convertible' 'bus' 'wagon' 'other']\n",
      "['manual' 'auto' nan]\n",
      "[nan 'yes' 'no']\n"
     ]
    }
   ],
   "source": [
    "#проверим на не явные дубликаты\n",
    "print(data['Model'].unique())\n",
    "print(data['Brand'].unique())\n",
    "print(data['VehicleType'].unique())\n",
    "print(data['Gearbox'].unique())\n",
    "print(data['Repaired'].unique())"
   ]
  },
  {
   "cell_type": "markdown",
   "metadata": {},
   "source": [
    "Все уникальные значения записаны корректно."
   ]
  },
  {
   "cell_type": "markdown",
   "metadata": {},
   "source": [
    "### Проверим наш датафрейм кол-во пропусков"
   ]
  },
  {
   "cell_type": "code",
   "execution_count": 6,
   "metadata": {
    "scrolled": true
   },
   "outputs": [
    {
     "data": {
      "text/plain": [
       "DateCrawled              0\n",
       "Price                    0\n",
       "VehicleType          37490\n",
       "RegistrationYear         0\n",
       "Gearbox              19833\n",
       "Power                    0\n",
       "Model                19705\n",
       "Kilometer                0\n",
       "RegistrationMonth        0\n",
       "FuelType             32895\n",
       "Brand                    0\n",
       "Repaired             71154\n",
       "DateCreated              0\n",
       "NumberOfPictures         0\n",
       "PostalCode               0\n",
       "LastSeen                 0\n",
       "dtype: int64"
      ]
     },
     "execution_count": 6,
     "metadata": {},
     "output_type": "execute_result"
    }
   ],
   "source": [
    "data.isnull().sum()"
   ]
  },
  {
   "cell_type": "markdown",
   "metadata": {},
   "source": [
    "Значение в столбце Repaired заполним 'Unknown'"
   ]
  },
  {
   "cell_type": "code",
   "execution_count": 7,
   "metadata": {
    "scrolled": true
   },
   "outputs": [
    {
     "data": {
      "text/plain": [
       "0"
      ]
     },
     "execution_count": 7,
     "metadata": {},
     "output_type": "execute_result"
    }
   ],
   "source": [
    "data['Repaired'] = data['Repaired'].fillna('Unknown')\n",
    "data['Repaired'].isnull().sum()"
   ]
  },
  {
   "cell_type": "markdown",
   "metadata": {},
   "source": [
    "Пропуски в столбце заполнили корректно."
   ]
  },
  {
   "cell_type": "code",
   "execution_count": 8,
   "metadata": {
    "scrolled": true
   },
   "outputs": [
    {
     "name": "stdout",
     "output_type": "stream",
     "text": [
      "   Price VehicleType  RegistrationYear Gearbox  Power  Model  Kilometer  \\\n",
      "0    480         NaN              1993  manual      0   golf     150000   \n",
      "1  18300       coupe              2011  manual    190    NaN     125000   \n",
      "2   9800         suv              2004    auto    163  grand     125000   \n",
      "3   1500       small              2001  manual     75   golf     150000   \n",
      "4   3600       small              2008  manual     69  fabia      90000   \n",
      "\n",
      "        Brand Repaired  \n",
      "0  volkswagen  Unknown  \n",
      "1        audi      yes  \n",
      "2        jeep  Unknown  \n",
      "3  volkswagen       no  \n",
      "4       skoda       no  \n"
     ]
    }
   ],
   "source": [
    "#удалим столбцы , которые нам не понадобяться для обучении модели.\n",
    "data.drop(['DateCrawled', 'RegistrationMonth', 'DateCreated', 'NumberOfPictures', 'PostalCode', 'LastSeen', 'FuelType'], axis = 1, inplace = True)\n",
    "\n",
    "print(data.head(5))"
   ]
  },
  {
   "cell_type": "code",
   "execution_count": 9,
   "metadata": {
    "scrolled": true
   },
   "outputs": [
    {
     "data": {
      "text/html": [
       "<div>\n",
       "<style scoped>\n",
       "    .dataframe tbody tr th:only-of-type {\n",
       "        vertical-align: middle;\n",
       "    }\n",
       "\n",
       "    .dataframe tbody tr th {\n",
       "        vertical-align: top;\n",
       "    }\n",
       "\n",
       "    .dataframe thead th {\n",
       "        text-align: right;\n",
       "    }\n",
       "</style>\n",
       "<table border=\"1\" class=\"dataframe\">\n",
       "  <thead>\n",
       "    <tr style=\"text-align: right;\">\n",
       "      <th></th>\n",
       "      <th>Price</th>\n",
       "      <th>VehicleType</th>\n",
       "      <th>RegistrationYear</th>\n",
       "      <th>Gearbox</th>\n",
       "      <th>Power</th>\n",
       "      <th>Model</th>\n",
       "      <th>Kilometer</th>\n",
       "      <th>Brand</th>\n",
       "      <th>Repaired</th>\n",
       "    </tr>\n",
       "  </thead>\n",
       "  <tbody>\n",
       "    <tr>\n",
       "      <th>0</th>\n",
       "      <td>480</td>\n",
       "      <td>NaN</td>\n",
       "      <td>1993</td>\n",
       "      <td>manual</td>\n",
       "      <td>0</td>\n",
       "      <td>golf</td>\n",
       "      <td>150000</td>\n",
       "      <td>volkswagen</td>\n",
       "      <td>Unknown</td>\n",
       "    </tr>\n",
       "    <tr>\n",
       "      <th>1</th>\n",
       "      <td>9800</td>\n",
       "      <td>suv</td>\n",
       "      <td>2004</td>\n",
       "      <td>auto</td>\n",
       "      <td>163</td>\n",
       "      <td>grand</td>\n",
       "      <td>125000</td>\n",
       "      <td>jeep</td>\n",
       "      <td>Unknown</td>\n",
       "    </tr>\n",
       "    <tr>\n",
       "      <th>2</th>\n",
       "      <td>1500</td>\n",
       "      <td>small</td>\n",
       "      <td>2001</td>\n",
       "      <td>manual</td>\n",
       "      <td>75</td>\n",
       "      <td>golf</td>\n",
       "      <td>150000</td>\n",
       "      <td>volkswagen</td>\n",
       "      <td>no</td>\n",
       "    </tr>\n",
       "    <tr>\n",
       "      <th>3</th>\n",
       "      <td>3600</td>\n",
       "      <td>small</td>\n",
       "      <td>2008</td>\n",
       "      <td>manual</td>\n",
       "      <td>69</td>\n",
       "      <td>fabia</td>\n",
       "      <td>90000</td>\n",
       "      <td>skoda</td>\n",
       "      <td>no</td>\n",
       "    </tr>\n",
       "    <tr>\n",
       "      <th>4</th>\n",
       "      <td>650</td>\n",
       "      <td>sedan</td>\n",
       "      <td>1995</td>\n",
       "      <td>manual</td>\n",
       "      <td>102</td>\n",
       "      <td>3er</td>\n",
       "      <td>150000</td>\n",
       "      <td>bmw</td>\n",
       "      <td>yes</td>\n",
       "    </tr>\n",
       "    <tr>\n",
       "      <th>...</th>\n",
       "      <td>...</td>\n",
       "      <td>...</td>\n",
       "      <td>...</td>\n",
       "      <td>...</td>\n",
       "      <td>...</td>\n",
       "      <td>...</td>\n",
       "      <td>...</td>\n",
       "      <td>...</td>\n",
       "      <td>...</td>\n",
       "    </tr>\n",
       "    <tr>\n",
       "      <th>334659</th>\n",
       "      <td>1150</td>\n",
       "      <td>bus</td>\n",
       "      <td>2000</td>\n",
       "      <td>manual</td>\n",
       "      <td>0</td>\n",
       "      <td>zafira</td>\n",
       "      <td>150000</td>\n",
       "      <td>opel</td>\n",
       "      <td>no</td>\n",
       "    </tr>\n",
       "    <tr>\n",
       "      <th>334660</th>\n",
       "      <td>0</td>\n",
       "      <td>NaN</td>\n",
       "      <td>2005</td>\n",
       "      <td>manual</td>\n",
       "      <td>0</td>\n",
       "      <td>colt</td>\n",
       "      <td>150000</td>\n",
       "      <td>mitsubishi</td>\n",
       "      <td>yes</td>\n",
       "    </tr>\n",
       "    <tr>\n",
       "      <th>334661</th>\n",
       "      <td>1199</td>\n",
       "      <td>convertible</td>\n",
       "      <td>2000</td>\n",
       "      <td>auto</td>\n",
       "      <td>101</td>\n",
       "      <td>fortwo</td>\n",
       "      <td>125000</td>\n",
       "      <td>smart</td>\n",
       "      <td>no</td>\n",
       "    </tr>\n",
       "    <tr>\n",
       "      <th>334662</th>\n",
       "      <td>9200</td>\n",
       "      <td>bus</td>\n",
       "      <td>1996</td>\n",
       "      <td>manual</td>\n",
       "      <td>102</td>\n",
       "      <td>transporter</td>\n",
       "      <td>150000</td>\n",
       "      <td>volkswagen</td>\n",
       "      <td>no</td>\n",
       "    </tr>\n",
       "    <tr>\n",
       "      <th>334663</th>\n",
       "      <td>3400</td>\n",
       "      <td>wagon</td>\n",
       "      <td>2002</td>\n",
       "      <td>manual</td>\n",
       "      <td>100</td>\n",
       "      <td>golf</td>\n",
       "      <td>150000</td>\n",
       "      <td>volkswagen</td>\n",
       "      <td>Unknown</td>\n",
       "    </tr>\n",
       "  </tbody>\n",
       "</table>\n",
       "<p>334664 rows × 9 columns</p>\n",
       "</div>"
      ],
      "text/plain": [
       "        Price  VehicleType  RegistrationYear Gearbox  Power        Model  \\\n",
       "0         480          NaN              1993  manual      0         golf   \n",
       "1        9800          suv              2004    auto    163        grand   \n",
       "2        1500        small              2001  manual     75         golf   \n",
       "3        3600        small              2008  manual     69        fabia   \n",
       "4         650        sedan              1995  manual    102          3er   \n",
       "...       ...          ...               ...     ...    ...          ...   \n",
       "334659   1150          bus              2000  manual      0       zafira   \n",
       "334660      0          NaN              2005  manual      0         colt   \n",
       "334661   1199  convertible              2000    auto    101       fortwo   \n",
       "334662   9200          bus              1996  manual    102  transporter   \n",
       "334663   3400        wagon              2002  manual    100         golf   \n",
       "\n",
       "        Kilometer       Brand Repaired  \n",
       "0          150000  volkswagen  Unknown  \n",
       "1          125000        jeep  Unknown  \n",
       "2          150000  volkswagen       no  \n",
       "3           90000       skoda       no  \n",
       "4          150000         bmw      yes  \n",
       "...           ...         ...      ...  \n",
       "334659     150000        opel       no  \n",
       "334660     150000  mitsubishi      yes  \n",
       "334661     125000       smart       no  \n",
       "334662     150000  volkswagen       no  \n",
       "334663     150000  volkswagen  Unknown  \n",
       "\n",
       "[334664 rows x 9 columns]"
      ]
     },
     "metadata": {},
     "output_type": "display_data"
    }
   ],
   "source": [
    "# пропуски в столбце Model удалим , так как логически мы не сможем их заполнить.\n",
    "data = data.dropna (subset=['Model'])\n",
    "data = data.reset_index(drop=True)\n",
    "data['Model'].isnull().sum()\n",
    "display(data)"
   ]
  },
  {
   "cell_type": "code",
   "execution_count": 10,
   "metadata": {
    "scrolled": true
   },
   "outputs": [
    {
     "data": {
      "text/plain": [
       "Price                   0\n",
       "VehicleType         30662\n",
       "RegistrationYear        0\n",
       "Gearbox             15702\n",
       "Power                   0\n",
       "Model                   0\n",
       "Kilometer               0\n",
       "Brand                   0\n",
       "Repaired                0\n",
       "dtype: int64"
      ]
     },
     "execution_count": 10,
     "metadata": {},
     "output_type": "execute_result"
    }
   ],
   "source": [
    "# проверим , какие пропуски остались в наших данных\n",
    "data.isnull().sum()\n"
   ]
  },
  {
   "cell_type": "code",
   "execution_count": 11,
   "metadata": {
    "scrolled": true
   },
   "outputs": [
    {
     "data": {
      "text/plain": [
       "Price               0\n",
       "VehicleType         0\n",
       "RegistrationYear    0\n",
       "Gearbox             0\n",
       "Power               0\n",
       "Model               0\n",
       "Kilometer           0\n",
       "Brand               0\n",
       "Repaired            0\n",
       "dtype: int64"
      ]
     },
     "execution_count": 11,
     "metadata": {},
     "output_type": "execute_result"
    }
   ],
   "source": [
    "# столбцы VehicleType и Gearbox , заполним значениями 'Unknowm'\n",
    "data['VehicleType'] = data['VehicleType'].fillna('Unknown')\n",
    "data['Gearbox'] = data['Gearbox'].fillna('Unknown')\n",
    "# првоерим ещё раз наши данные на пропуски\n",
    "data.isnull().sum()"
   ]
  },
  {
   "cell_type": "markdown",
   "metadata": {},
   "source": [
    "Отлично , мы избавились от пропусков"
   ]
  },
  {
   "cell_type": "markdown",
   "metadata": {},
   "source": [
    "### Проверим данные на наличие дубликатов"
   ]
  },
  {
   "cell_type": "code",
   "execution_count": 12,
   "metadata": {},
   "outputs": [
    {
     "data": {
      "text/plain": [
       "47476"
      ]
     },
     "execution_count": 12,
     "metadata": {},
     "output_type": "execute_result"
    }
   ],
   "source": [
    "data.duplicated().sum()"
   ]
  },
  {
   "cell_type": "code",
   "execution_count": 13,
   "metadata": {},
   "outputs": [
    {
     "data": {
      "text/plain": [
       "0"
      ]
     },
     "execution_count": 13,
     "metadata": {},
     "output_type": "execute_result"
    }
   ],
   "source": [
    "# избавимся от явных дубликатов\n",
    "data = data.drop_duplicates()\n",
    "# проверим \n",
    "data.duplicated().sum()"
   ]
  },
  {
   "cell_type": "markdown",
   "metadata": {},
   "source": [
    "От явных дубилкатов мы избавились.На неявные дубликаты мы уже проверили выше , когда смотрели уникальные значения столбцов с названием бренда и модели."
   ]
  },
  {
   "cell_type": "markdown",
   "metadata": {},
   "source": [
    "### Проверим на аномалии наши данные."
   ]
  },
  {
   "cell_type": "code",
   "execution_count": 14,
   "metadata": {
    "scrolled": true
   },
   "outputs": [
    {
     "data": {
      "text/html": [
       "<div>\n",
       "<style scoped>\n",
       "    .dataframe tbody tr th:only-of-type {\n",
       "        vertical-align: middle;\n",
       "    }\n",
       "\n",
       "    .dataframe tbody tr th {\n",
       "        vertical-align: top;\n",
       "    }\n",
       "\n",
       "    .dataframe thead th {\n",
       "        text-align: right;\n",
       "    }\n",
       "</style>\n",
       "<table border=\"1\" class=\"dataframe\">\n",
       "  <thead>\n",
       "    <tr style=\"text-align: right;\">\n",
       "      <th></th>\n",
       "      <th>Price</th>\n",
       "      <th>RegistrationYear</th>\n",
       "      <th>Power</th>\n",
       "      <th>Kilometer</th>\n",
       "    </tr>\n",
       "  </thead>\n",
       "  <tbody>\n",
       "    <tr>\n",
       "      <th>count</th>\n",
       "      <td>287188.0000</td>\n",
       "      <td>287188.000000</td>\n",
       "      <td>287188.000000</td>\n",
       "      <td>287188.000000</td>\n",
       "    </tr>\n",
       "    <tr>\n",
       "      <th>mean</th>\n",
       "      <td>4606.5210</td>\n",
       "      <td>2004.094774</td>\n",
       "      <td>112.504262</td>\n",
       "      <td>127277.166873</td>\n",
       "    </tr>\n",
       "    <tr>\n",
       "      <th>std</th>\n",
       "      <td>4595.8872</td>\n",
       "      <td>74.286838</td>\n",
       "      <td>197.434807</td>\n",
       "      <td>38041.225601</td>\n",
       "    </tr>\n",
       "    <tr>\n",
       "      <th>min</th>\n",
       "      <td>0.0000</td>\n",
       "      <td>1000.000000</td>\n",
       "      <td>0.000000</td>\n",
       "      <td>5000.000000</td>\n",
       "    </tr>\n",
       "    <tr>\n",
       "      <th>25%</th>\n",
       "      <td>1190.0000</td>\n",
       "      <td>1999.000000</td>\n",
       "      <td>71.000000</td>\n",
       "      <td>125000.000000</td>\n",
       "    </tr>\n",
       "    <tr>\n",
       "      <th>50%</th>\n",
       "      <td>2900.0000</td>\n",
       "      <td>2003.000000</td>\n",
       "      <td>105.000000</td>\n",
       "      <td>150000.000000</td>\n",
       "    </tr>\n",
       "    <tr>\n",
       "      <th>75%</th>\n",
       "      <td>6700.0000</td>\n",
       "      <td>2008.000000</td>\n",
       "      <td>143.000000</td>\n",
       "      <td>150000.000000</td>\n",
       "    </tr>\n",
       "    <tr>\n",
       "      <th>max</th>\n",
       "      <td>20000.0000</td>\n",
       "      <td>9999.000000</td>\n",
       "      <td>20000.000000</td>\n",
       "      <td>150000.000000</td>\n",
       "    </tr>\n",
       "  </tbody>\n",
       "</table>\n",
       "</div>"
      ],
      "text/plain": [
       "             Price  RegistrationYear          Power      Kilometer\n",
       "count  287188.0000     287188.000000  287188.000000  287188.000000\n",
       "mean     4606.5210       2004.094774     112.504262  127277.166873\n",
       "std      4595.8872         74.286838     197.434807   38041.225601\n",
       "min         0.0000       1000.000000       0.000000    5000.000000\n",
       "25%      1190.0000       1999.000000      71.000000  125000.000000\n",
       "50%      2900.0000       2003.000000     105.000000  150000.000000\n",
       "75%      6700.0000       2008.000000     143.000000  150000.000000\n",
       "max     20000.0000       9999.000000   20000.000000  150000.000000"
      ]
     },
     "execution_count": 14,
     "metadata": {},
     "output_type": "execute_result"
    }
   ],
   "source": [
    "data.describe()"
   ]
  },
  {
   "cell_type": "code",
   "execution_count": 15,
   "metadata": {
    "scrolled": true
   },
   "outputs": [
    {
     "data": {
      "image/png": "[encoded data removed]",
      "text/plain": [
       "<Figure size 1440x864 with 4 Axes>"
      ]
     },
     "metadata": {
      "needs_background": "light"
     },
     "output_type": "display_data"
    }
   ],
   "source": [
    "data.hist(bins=60, figsize = (20, 12), color = 'Violet');"
   ]
  },
  {
   "cell_type": "code",
   "execution_count": 16,
   "metadata": {},
   "outputs": [
    {
     "data": {
      "text/html": [
       "<div>\n",
       "<style scoped>\n",
       "    .dataframe tbody tr th:only-of-type {\n",
       "        vertical-align: middle;\n",
       "    }\n",
       "\n",
       "    .dataframe tbody tr th {\n",
       "        vertical-align: top;\n",
       "    }\n",
       "\n",
       "    .dataframe thead th {\n",
       "        text-align: right;\n",
       "    }\n",
       "</style>\n",
       "<table border=\"1\" class=\"dataframe\">\n",
       "  <thead>\n",
       "    <tr style=\"text-align: right;\">\n",
       "      <th></th>\n",
       "      <th>RegistrationYear</th>\n",
       "      <th>Power</th>\n",
       "      <th>Kilometer</th>\n",
       "    </tr>\n",
       "  </thead>\n",
       "  <tbody>\n",
       "    <tr>\n",
       "      <th>RegistrationYear</th>\n",
       "      <td>1.000000</td>\n",
       "      <td>0.001767</td>\n",
       "      <td>-0.052948</td>\n",
       "    </tr>\n",
       "    <tr>\n",
       "      <th>Power</th>\n",
       "      <td>0.001767</td>\n",
       "      <td>1.000000</td>\n",
       "      <td>0.025941</td>\n",
       "    </tr>\n",
       "    <tr>\n",
       "      <th>Kilometer</th>\n",
       "      <td>-0.052948</td>\n",
       "      <td>0.025941</td>\n",
       "      <td>1.000000</td>\n",
       "    </tr>\n",
       "  </tbody>\n",
       "</table>\n",
       "</div>"
      ],
      "text/plain": [
       "                  RegistrationYear     Power  Kilometer\n",
       "RegistrationYear          1.000000  0.001767  -0.052948\n",
       "Power                     0.001767  1.000000   0.025941\n",
       "Kilometer                -0.052948  0.025941   1.000000"
      ]
     },
     "metadata": {},
     "output_type": "display_data"
    },
    {
     "data": {
      "image/png": "[encoded data removed]",
      "text/plain": [
       "<Figure size 1800x1500 with 2 Axes>"
      ]
     },
     "metadata": {
      "needs_background": "light"
     },
     "output_type": "display_data"
    }
   ],
   "source": [
    "# Рассчитаем корреляцию параметров и проверим мультиколлениарность. Без таргета смотрим.\n",
    "display(data.drop(['Price'],axis = 1).corr())\n",
    "\n",
    "#Построим график корреляции параметров\n",
    "plt.figure(figsize=(18,15), dpi= 100)\n",
    "sns.heatmap(data.corr(), xticklabels=data.corr().columns, yticklabels=data.corr().columns, cmap='RdYlGn', center=0, annot=True)\n",
    "plt.title('График корреляции признаков', fontsize=25)\n",
    "plt.xticks(fontsize= 18\n",
    "          )\n",
    "plt.yticks(fontsize=18)\n",
    "plt.show()"
   ]
  },
  {
   "cell_type": "code",
   "execution_count": 17,
   "metadata": {
    "scrolled": true
   },
   "outputs": [
    {
     "data": {
      "text/html": [
       "<div>\n",
       "<style scoped>\n",
       "    .dataframe tbody tr th:only-of-type {\n",
       "        vertical-align: middle;\n",
       "    }\n",
       "\n",
       "    .dataframe tbody tr th {\n",
       "        vertical-align: top;\n",
       "    }\n",
       "\n",
       "    .dataframe thead th {\n",
       "        text-align: right;\n",
       "    }\n",
       "</style>\n",
       "<table border=\"1\" class=\"dataframe\">\n",
       "  <thead>\n",
       "    <tr style=\"text-align: right;\">\n",
       "      <th></th>\n",
       "      <th>Price</th>\n",
       "      <th>RegistrationYear</th>\n",
       "      <th>Power</th>\n",
       "      <th>Kilometer</th>\n",
       "    </tr>\n",
       "  </thead>\n",
       "  <tbody>\n",
       "    <tr>\n",
       "      <th>count</th>\n",
       "      <td>272924.000000</td>\n",
       "      <td>272924.000000</td>\n",
       "      <td>272924.000000</td>\n",
       "      <td>272924.000000</td>\n",
       "    </tr>\n",
       "    <tr>\n",
       "      <th>mean</th>\n",
       "      <td>4843.802429</td>\n",
       "      <td>2003.983211</td>\n",
       "      <td>114.490550</td>\n",
       "      <td>127310.130293</td>\n",
       "    </tr>\n",
       "    <tr>\n",
       "      <th>std</th>\n",
       "      <td>4592.620441</td>\n",
       "      <td>58.253593</td>\n",
       "      <td>195.109686</td>\n",
       "      <td>37578.227049</td>\n",
       "    </tr>\n",
       "    <tr>\n",
       "      <th>min</th>\n",
       "      <td>250.000000</td>\n",
       "      <td>1000.000000</td>\n",
       "      <td>0.000000</td>\n",
       "      <td>5000.000000</td>\n",
       "    </tr>\n",
       "    <tr>\n",
       "      <th>25%</th>\n",
       "      <td>1350.000000</td>\n",
       "      <td>1999.000000</td>\n",
       "      <td>75.000000</td>\n",
       "      <td>125000.000000</td>\n",
       "    </tr>\n",
       "    <tr>\n",
       "      <th>50%</th>\n",
       "      <td>3150.000000</td>\n",
       "      <td>2004.000000</td>\n",
       "      <td>106.000000</td>\n",
       "      <td>150000.000000</td>\n",
       "    </tr>\n",
       "    <tr>\n",
       "      <th>75%</th>\n",
       "      <td>6950.000000</td>\n",
       "      <td>2008.000000</td>\n",
       "      <td>143.000000</td>\n",
       "      <td>150000.000000</td>\n",
       "    </tr>\n",
       "    <tr>\n",
       "      <th>max</th>\n",
       "      <td>20000.000000</td>\n",
       "      <td>9999.000000</td>\n",
       "      <td>20000.000000</td>\n",
       "      <td>150000.000000</td>\n",
       "    </tr>\n",
       "  </tbody>\n",
       "</table>\n",
       "</div>"
      ],
      "text/plain": [
       "               Price  RegistrationYear          Power      Kilometer\n",
       "count  272924.000000     272924.000000  272924.000000  272924.000000\n",
       "mean     4843.802429       2003.983211     114.490550  127310.130293\n",
       "std      4592.620441         58.253593     195.109686   37578.227049\n",
       "min       250.000000       1000.000000       0.000000    5000.000000\n",
       "25%      1350.000000       1999.000000      75.000000  125000.000000\n",
       "50%      3150.000000       2004.000000     106.000000  150000.000000\n",
       "75%      6950.000000       2008.000000     143.000000  150000.000000\n",
       "max     20000.000000       9999.000000   20000.000000  150000.000000"
      ]
     },
     "execution_count": 17,
     "metadata": {},
     "output_type": "execute_result"
    }
   ],
   "source": [
    "# оставим значение колонки Price начиная от 250 евро\n",
    "data = data.loc[(data['Price'] >= 250)]\n",
    "\n",
    "data.describe()"
   ]
  },
  {
   "cell_type": "code",
   "execution_count": 18,
   "metadata": {
    "scrolled": true
   },
   "outputs": [
    {
     "data": {
      "text/html": [
       "<div>\n",
       "<style scoped>\n",
       "    .dataframe tbody tr th:only-of-type {\n",
       "        vertical-align: middle;\n",
       "    }\n",
       "\n",
       "    .dataframe tbody tr th {\n",
       "        vertical-align: top;\n",
       "    }\n",
       "\n",
       "    .dataframe thead th {\n",
       "        text-align: right;\n",
       "    }\n",
       "</style>\n",
       "<table border=\"1\" class=\"dataframe\">\n",
       "  <thead>\n",
       "    <tr style=\"text-align: right;\">\n",
       "      <th></th>\n",
       "      <th>Price</th>\n",
       "      <th>RegistrationYear</th>\n",
       "      <th>Power</th>\n",
       "      <th>Kilometer</th>\n",
       "    </tr>\n",
       "  </thead>\n",
       "  <tbody>\n",
       "    <tr>\n",
       "      <th>count</th>\n",
       "      <td>270673.000000</td>\n",
       "      <td>270673.000000</td>\n",
       "      <td>270673.000000</td>\n",
       "      <td>270673.000000</td>\n",
       "    </tr>\n",
       "    <tr>\n",
       "      <th>mean</th>\n",
       "      <td>4820.654945</td>\n",
       "      <td>2003.727483</td>\n",
       "      <td>114.815102</td>\n",
       "      <td>127630.277124</td>\n",
       "    </tr>\n",
       "    <tr>\n",
       "      <th>std</th>\n",
       "      <td>4578.644056</td>\n",
       "      <td>6.502752</td>\n",
       "      <td>195.690299</td>\n",
       "      <td>37271.131819</td>\n",
       "    </tr>\n",
       "    <tr>\n",
       "      <th>min</th>\n",
       "      <td>250.000000</td>\n",
       "      <td>1980.000000</td>\n",
       "      <td>0.000000</td>\n",
       "      <td>5000.000000</td>\n",
       "    </tr>\n",
       "    <tr>\n",
       "      <th>25%</th>\n",
       "      <td>1350.000000</td>\n",
       "      <td>1999.000000</td>\n",
       "      <td>75.000000</td>\n",
       "      <td>125000.000000</td>\n",
       "    </tr>\n",
       "    <tr>\n",
       "      <th>50%</th>\n",
       "      <td>3100.000000</td>\n",
       "      <td>2004.000000</td>\n",
       "      <td>107.000000</td>\n",
       "      <td>150000.000000</td>\n",
       "    </tr>\n",
       "    <tr>\n",
       "      <th>75%</th>\n",
       "      <td>6900.000000</td>\n",
       "      <td>2008.000000</td>\n",
       "      <td>143.000000</td>\n",
       "      <td>150000.000000</td>\n",
       "    </tr>\n",
       "    <tr>\n",
       "      <th>max</th>\n",
       "      <td>20000.000000</td>\n",
       "      <td>2019.000000</td>\n",
       "      <td>20000.000000</td>\n",
       "      <td>150000.000000</td>\n",
       "    </tr>\n",
       "  </tbody>\n",
       "</table>\n",
       "</div>"
      ],
      "text/plain": [
       "               Price  RegistrationYear          Power      Kilometer\n",
       "count  270673.000000     270673.000000  270673.000000  270673.000000\n",
       "mean     4820.654945       2003.727483     114.815102  127630.277124\n",
       "std      4578.644056          6.502752     195.690299   37271.131819\n",
       "min       250.000000       1980.000000       0.000000    5000.000000\n",
       "25%      1350.000000       1999.000000      75.000000  125000.000000\n",
       "50%      3100.000000       2004.000000     107.000000  150000.000000\n",
       "75%      6900.000000       2008.000000     143.000000  150000.000000\n",
       "max     20000.000000       2019.000000   20000.000000  150000.000000"
      ]
     },
     "execution_count": 18,
     "metadata": {},
     "output_type": "execute_result"
    }
   ],
   "source": [
    "# сделаем диапазон данных RegistrationYear в промежутке 1980 - 2023 г\n",
    "\n",
    "data = data.loc[(data['RegistrationYear'] >= 1980) & (data['RegistrationYear'] <= 2023)]\n",
    "data.describe()"
   ]
  },
  {
   "cell_type": "code",
   "execution_count": 19,
   "metadata": {
    "scrolled": true
   },
   "outputs": [
    {
     "data": {
      "text/html": [
       "<div>\n",
       "<style scoped>\n",
       "    .dataframe tbody tr th:only-of-type {\n",
       "        vertical-align: middle;\n",
       "    }\n",
       "\n",
       "    .dataframe tbody tr th {\n",
       "        vertical-align: top;\n",
       "    }\n",
       "\n",
       "    .dataframe thead th {\n",
       "        text-align: right;\n",
       "    }\n",
       "</style>\n",
       "<table border=\"1\" class=\"dataframe\">\n",
       "  <thead>\n",
       "    <tr style=\"text-align: right;\">\n",
       "      <th></th>\n",
       "      <th>Price</th>\n",
       "      <th>RegistrationYear</th>\n",
       "      <th>Power</th>\n",
       "      <th>Kilometer</th>\n",
       "    </tr>\n",
       "  </thead>\n",
       "  <tbody>\n",
       "    <tr>\n",
       "      <th>count</th>\n",
       "      <td>245471.000000</td>\n",
       "      <td>245471.000000</td>\n",
       "      <td>245471.000000</td>\n",
       "      <td>245471.000000</td>\n",
       "    </tr>\n",
       "    <tr>\n",
       "      <th>mean</th>\n",
       "      <td>5041.688656</td>\n",
       "      <td>2003.767431</td>\n",
       "      <td>122.211186</td>\n",
       "      <td>127282.978437</td>\n",
       "    </tr>\n",
       "    <tr>\n",
       "      <th>std</th>\n",
       "      <td>4640.172000</td>\n",
       "      <td>6.334626</td>\n",
       "      <td>53.048225</td>\n",
       "      <td>37120.616999</td>\n",
       "    </tr>\n",
       "    <tr>\n",
       "      <th>min</th>\n",
       "      <td>250.000000</td>\n",
       "      <td>1980.000000</td>\n",
       "      <td>25.000000</td>\n",
       "      <td>5000.000000</td>\n",
       "    </tr>\n",
       "    <tr>\n",
       "      <th>25%</th>\n",
       "      <td>1499.000000</td>\n",
       "      <td>1999.000000</td>\n",
       "      <td>82.000000</td>\n",
       "      <td>125000.000000</td>\n",
       "    </tr>\n",
       "    <tr>\n",
       "      <th>50%</th>\n",
       "      <td>3400.000000</td>\n",
       "      <td>2004.000000</td>\n",
       "      <td>115.000000</td>\n",
       "      <td>150000.000000</td>\n",
       "    </tr>\n",
       "    <tr>\n",
       "      <th>75%</th>\n",
       "      <td>7250.000000</td>\n",
       "      <td>2008.000000</td>\n",
       "      <td>150.000000</td>\n",
       "      <td>150000.000000</td>\n",
       "    </tr>\n",
       "    <tr>\n",
       "      <th>max</th>\n",
       "      <td>20000.000000</td>\n",
       "      <td>2019.000000</td>\n",
       "      <td>500.000000</td>\n",
       "      <td>150000.000000</td>\n",
       "    </tr>\n",
       "  </tbody>\n",
       "</table>\n",
       "</div>"
      ],
      "text/plain": [
       "               Price  RegistrationYear          Power      Kilometer\n",
       "count  245471.000000     245471.000000  245471.000000  245471.000000\n",
       "mean     5041.688656       2003.767431     122.211186  127282.978437\n",
       "std      4640.172000          6.334626      53.048225   37120.616999\n",
       "min       250.000000       1980.000000      25.000000    5000.000000\n",
       "25%      1499.000000       1999.000000      82.000000  125000.000000\n",
       "50%      3400.000000       2004.000000     115.000000  150000.000000\n",
       "75%      7250.000000       2008.000000     150.000000  150000.000000\n",
       "max     20000.000000       2019.000000     500.000000  150000.000000"
      ]
     },
     "execution_count": 19,
     "metadata": {},
     "output_type": "execute_result"
    }
   ],
   "source": [
    "# избавимся от оставшихся аномалий в столбце Power \n",
    "# значение в столбце оставим в промежутке от 25 до 500\n",
    "data = data.loc[(data['Power'] >= 25) & (data['Power'] <= 500)]\n",
    "\n",
    "data.describe()"
   ]
  },
  {
   "cell_type": "markdown",
   "metadata": {},
   "source": [
    "Все аномалии обработаны"
   ]
  },
  {
   "cell_type": "markdown",
   "metadata": {},
   "source": [
    "### Проверим тип данные "
   ]
  },
  {
   "cell_type": "code",
   "execution_count": 20,
   "metadata": {
    "scrolled": false
   },
   "outputs": [
    {
     "data": {
      "text/plain": [
       "Price                int64\n",
       "VehicleType         object\n",
       "RegistrationYear     int64\n",
       "Gearbox             object\n",
       "Power                int64\n",
       "Model               object\n",
       "Kilometer            int64\n",
       "Brand               object\n",
       "Repaired            object\n",
       "dtype: object"
      ]
     },
     "execution_count": 20,
     "metadata": {},
     "output_type": "execute_result"
    }
   ],
   "source": [
    "data.dtypes"
   ]
  },
  {
   "cell_type": "code",
   "execution_count": 21,
   "metadata": {
    "scrolled": false
   },
   "outputs": [
    {
     "name": "stdout",
     "output_type": "stream",
     "text": [
      "<class 'pandas.core.frame.DataFrame'>\n",
      "Int64Index: 245471 entries, 1 to 334663\n",
      "Data columns (total 9 columns):\n",
      " #   Column            Non-Null Count   Dtype   \n",
      "---  ------            --------------   -----   \n",
      " 0   Price             245471 non-null  int64   \n",
      " 1   VehicleType       245471 non-null  category\n",
      " 2   RegistrationYear  245471 non-null  int64   \n",
      " 3   Gearbox           245471 non-null  category\n",
      " 4   Power             245471 non-null  int64   \n",
      " 5   Model             245471 non-null  category\n",
      " 6   Kilometer         245471 non-null  int64   \n",
      " 7   Brand             245471 non-null  category\n",
      " 8   Repaired          245471 non-null  category\n",
      "dtypes: category(5), int64(4)\n",
      "memory usage: 10.8 MB\n"
     ]
    }
   ],
   "source": [
    "# переменные типа object поменяем в категориальные\n",
    "\n",
    "data['VehicleType'] = data['VehicleType'].astype('category')\n",
    "data['Gearbox'] = data['Gearbox'].astype('category')\n",
    "data['Model'] = data['Model'].astype('category')\n",
    "data['Brand'] = data['Brand'].astype('category')\n",
    "data['Repaired'] = data['Repaired'].astype('category')\n",
    "\n",
    "\n",
    "data.info()"
   ]
  },
  {
   "cell_type": "markdown",
   "metadata": {},
   "source": [
    "## Обучение моделей"
   ]
  },
  {
   "cell_type": "code",
   "execution_count": 22,
   "metadata": {},
   "outputs": [],
   "source": [
    "#Преобразуем столбец Model\n",
    "encoder = OrdinalEncoder()\n",
    "encoder.fit(data[['Model']])\n",
    "data['Model'] = encoder.transform(data[['Model']])"
   ]
  },
  {
   "cell_type": "code",
   "execution_count": 23,
   "metadata": {},
   "outputs": [
    {
     "data": {
      "text/html": [
       "<div>\n",
       "<style scoped>\n",
       "    .dataframe tbody tr th:only-of-type {\n",
       "        vertical-align: middle;\n",
       "    }\n",
       "\n",
       "    .dataframe tbody tr th {\n",
       "        vertical-align: top;\n",
       "    }\n",
       "\n",
       "    .dataframe thead th {\n",
       "        text-align: right;\n",
       "    }\n",
       "</style>\n",
       "<table border=\"1\" class=\"dataframe\">\n",
       "  <thead>\n",
       "    <tr style=\"text-align: right;\">\n",
       "      <th></th>\n",
       "      <th>Price</th>\n",
       "      <th>RegistrationYear</th>\n",
       "      <th>Power</th>\n",
       "      <th>Model</th>\n",
       "      <th>Kilometer</th>\n",
       "      <th>VehicleType_bus</th>\n",
       "      <th>VehicleType_convertible</th>\n",
       "      <th>VehicleType_coupe</th>\n",
       "      <th>VehicleType_other</th>\n",
       "      <th>VehicleType_sedan</th>\n",
       "      <th>...</th>\n",
       "      <th>Brand_skoda</th>\n",
       "      <th>Brand_smart</th>\n",
       "      <th>Brand_subaru</th>\n",
       "      <th>Brand_suzuki</th>\n",
       "      <th>Brand_toyota</th>\n",
       "      <th>Brand_trabant</th>\n",
       "      <th>Brand_volkswagen</th>\n",
       "      <th>Brand_volvo</th>\n",
       "      <th>Repaired_no</th>\n",
       "      <th>Repaired_yes</th>\n",
       "    </tr>\n",
       "  </thead>\n",
       "  <tbody>\n",
       "    <tr>\n",
       "      <th>1</th>\n",
       "      <td>9800</td>\n",
       "      <td>2004</td>\n",
       "      <td>163</td>\n",
       "      <td>117.0</td>\n",
       "      <td>125000</td>\n",
       "      <td>0</td>\n",
       "      <td>0</td>\n",
       "      <td>0</td>\n",
       "      <td>0</td>\n",
       "      <td>0</td>\n",
       "      <td>...</td>\n",
       "      <td>0</td>\n",
       "      <td>0</td>\n",
       "      <td>0</td>\n",
       "      <td>0</td>\n",
       "      <td>0</td>\n",
       "      <td>0</td>\n",
       "      <td>0</td>\n",
       "      <td>0</td>\n",
       "      <td>0</td>\n",
       "      <td>0</td>\n",
       "    </tr>\n",
       "    <tr>\n",
       "      <th>2</th>\n",
       "      <td>1500</td>\n",
       "      <td>2001</td>\n",
       "      <td>75</td>\n",
       "      <td>116.0</td>\n",
       "      <td>150000</td>\n",
       "      <td>0</td>\n",
       "      <td>0</td>\n",
       "      <td>0</td>\n",
       "      <td>0</td>\n",
       "      <td>0</td>\n",
       "      <td>...</td>\n",
       "      <td>0</td>\n",
       "      <td>0</td>\n",
       "      <td>0</td>\n",
       "      <td>0</td>\n",
       "      <td>0</td>\n",
       "      <td>0</td>\n",
       "      <td>1</td>\n",
       "      <td>0</td>\n",
       "      <td>1</td>\n",
       "      <td>0</td>\n",
       "    </tr>\n",
       "    <tr>\n",
       "      <th>3</th>\n",
       "      <td>3600</td>\n",
       "      <td>2008</td>\n",
       "      <td>69</td>\n",
       "      <td>101.0</td>\n",
       "      <td>90000</td>\n",
       "      <td>0</td>\n",
       "      <td>0</td>\n",
       "      <td>0</td>\n",
       "      <td>0</td>\n",
       "      <td>0</td>\n",
       "      <td>...</td>\n",
       "      <td>1</td>\n",
       "      <td>0</td>\n",
       "      <td>0</td>\n",
       "      <td>0</td>\n",
       "      <td>0</td>\n",
       "      <td>0</td>\n",
       "      <td>0</td>\n",
       "      <td>0</td>\n",
       "      <td>1</td>\n",
       "      <td>0</td>\n",
       "    </tr>\n",
       "    <tr>\n",
       "      <th>4</th>\n",
       "      <td>650</td>\n",
       "      <td>1995</td>\n",
       "      <td>102</td>\n",
       "      <td>11.0</td>\n",
       "      <td>150000</td>\n",
       "      <td>0</td>\n",
       "      <td>0</td>\n",
       "      <td>0</td>\n",
       "      <td>0</td>\n",
       "      <td>1</td>\n",
       "      <td>...</td>\n",
       "      <td>0</td>\n",
       "      <td>0</td>\n",
       "      <td>0</td>\n",
       "      <td>0</td>\n",
       "      <td>0</td>\n",
       "      <td>0</td>\n",
       "      <td>0</td>\n",
       "      <td>0</td>\n",
       "      <td>0</td>\n",
       "      <td>1</td>\n",
       "    </tr>\n",
       "    <tr>\n",
       "      <th>5</th>\n",
       "      <td>2200</td>\n",
       "      <td>2004</td>\n",
       "      <td>109</td>\n",
       "      <td>8.0</td>\n",
       "      <td>150000</td>\n",
       "      <td>0</td>\n",
       "      <td>1</td>\n",
       "      <td>0</td>\n",
       "      <td>0</td>\n",
       "      <td>0</td>\n",
       "      <td>...</td>\n",
       "      <td>0</td>\n",
       "      <td>0</td>\n",
       "      <td>0</td>\n",
       "      <td>0</td>\n",
       "      <td>0</td>\n",
       "      <td>0</td>\n",
       "      <td>0</td>\n",
       "      <td>0</td>\n",
       "      <td>1</td>\n",
       "      <td>0</td>\n",
       "    </tr>\n",
       "    <tr>\n",
       "      <th>...</th>\n",
       "      <td>...</td>\n",
       "      <td>...</td>\n",
       "      <td>...</td>\n",
       "      <td>...</td>\n",
       "      <td>...</td>\n",
       "      <td>...</td>\n",
       "      <td>...</td>\n",
       "      <td>...</td>\n",
       "      <td>...</td>\n",
       "      <td>...</td>\n",
       "      <td>...</td>\n",
       "      <td>...</td>\n",
       "      <td>...</td>\n",
       "      <td>...</td>\n",
       "      <td>...</td>\n",
       "      <td>...</td>\n",
       "      <td>...</td>\n",
       "      <td>...</td>\n",
       "      <td>...</td>\n",
       "      <td>...</td>\n",
       "      <td>...</td>\n",
       "    </tr>\n",
       "    <tr>\n",
       "      <th>334657</th>\n",
       "      <td>5250</td>\n",
       "      <td>2016</td>\n",
       "      <td>150</td>\n",
       "      <td>4.0</td>\n",
       "      <td>150000</td>\n",
       "      <td>0</td>\n",
       "      <td>0</td>\n",
       "      <td>0</td>\n",
       "      <td>0</td>\n",
       "      <td>0</td>\n",
       "      <td>...</td>\n",
       "      <td>0</td>\n",
       "      <td>0</td>\n",
       "      <td>0</td>\n",
       "      <td>0</td>\n",
       "      <td>0</td>\n",
       "      <td>0</td>\n",
       "      <td>0</td>\n",
       "      <td>0</td>\n",
       "      <td>1</td>\n",
       "      <td>0</td>\n",
       "    </tr>\n",
       "    <tr>\n",
       "      <th>334658</th>\n",
       "      <td>3200</td>\n",
       "      <td>2004</td>\n",
       "      <td>225</td>\n",
       "      <td>140.0</td>\n",
       "      <td>150000</td>\n",
       "      <td>0</td>\n",
       "      <td>0</td>\n",
       "      <td>0</td>\n",
       "      <td>0</td>\n",
       "      <td>1</td>\n",
       "      <td>...</td>\n",
       "      <td>0</td>\n",
       "      <td>0</td>\n",
       "      <td>0</td>\n",
       "      <td>0</td>\n",
       "      <td>0</td>\n",
       "      <td>0</td>\n",
       "      <td>0</td>\n",
       "      <td>0</td>\n",
       "      <td>0</td>\n",
       "      <td>1</td>\n",
       "    </tr>\n",
       "    <tr>\n",
       "      <th>334661</th>\n",
       "      <td>1199</td>\n",
       "      <td>2000</td>\n",
       "      <td>101</td>\n",
       "      <td>106.0</td>\n",
       "      <td>125000</td>\n",
       "      <td>0</td>\n",
       "      <td>1</td>\n",
       "      <td>0</td>\n",
       "      <td>0</td>\n",
       "      <td>0</td>\n",
       "      <td>...</td>\n",
       "      <td>0</td>\n",
       "      <td>1</td>\n",
       "      <td>0</td>\n",
       "      <td>0</td>\n",
       "      <td>0</td>\n",
       "      <td>0</td>\n",
       "      <td>0</td>\n",
       "      <td>0</td>\n",
       "      <td>1</td>\n",
       "      <td>0</td>\n",
       "    </tr>\n",
       "    <tr>\n",
       "      <th>334662</th>\n",
       "      <td>9200</td>\n",
       "      <td>1996</td>\n",
       "      <td>102</td>\n",
       "      <td>222.0</td>\n",
       "      <td>150000</td>\n",
       "      <td>1</td>\n",
       "      <td>0</td>\n",
       "      <td>0</td>\n",
       "      <td>0</td>\n",
       "      <td>0</td>\n",
       "      <td>...</td>\n",
       "      <td>0</td>\n",
       "      <td>0</td>\n",
       "      <td>0</td>\n",
       "      <td>0</td>\n",
       "      <td>0</td>\n",
       "      <td>0</td>\n",
       "      <td>1</td>\n",
       "      <td>0</td>\n",
       "      <td>1</td>\n",
       "      <td>0</td>\n",
       "    </tr>\n",
       "    <tr>\n",
       "      <th>334663</th>\n",
       "      <td>3400</td>\n",
       "      <td>2002</td>\n",
       "      <td>100</td>\n",
       "      <td>116.0</td>\n",
       "      <td>150000</td>\n",
       "      <td>0</td>\n",
       "      <td>0</td>\n",
       "      <td>0</td>\n",
       "      <td>0</td>\n",
       "      <td>0</td>\n",
       "      <td>...</td>\n",
       "      <td>0</td>\n",
       "      <td>0</td>\n",
       "      <td>0</td>\n",
       "      <td>0</td>\n",
       "      <td>0</td>\n",
       "      <td>0</td>\n",
       "      <td>1</td>\n",
       "      <td>0</td>\n",
       "      <td>0</td>\n",
       "      <td>0</td>\n",
       "    </tr>\n",
       "  </tbody>\n",
       "</table>\n",
       "<p>245471 rows × 55 columns</p>\n",
       "</div>"
      ],
      "text/plain": [
       "        Price  RegistrationYear  Power  Model  Kilometer  VehicleType_bus  \\\n",
       "1        9800              2004    163  117.0     125000                0   \n",
       "2        1500              2001     75  116.0     150000                0   \n",
       "3        3600              2008     69  101.0      90000                0   \n",
       "4         650              1995    102   11.0     150000                0   \n",
       "5        2200              2004    109    8.0     150000                0   \n",
       "...       ...               ...    ...    ...        ...              ...   \n",
       "334657   5250              2016    150    4.0     150000                0   \n",
       "334658   3200              2004    225  140.0     150000                0   \n",
       "334661   1199              2000    101  106.0     125000                0   \n",
       "334662   9200              1996    102  222.0     150000                1   \n",
       "334663   3400              2002    100  116.0     150000                0   \n",
       "\n",
       "        VehicleType_convertible  VehicleType_coupe  VehicleType_other  \\\n",
       "1                             0                  0                  0   \n",
       "2                             0                  0                  0   \n",
       "3                             0                  0                  0   \n",
       "4                             0                  0                  0   \n",
       "5                             1                  0                  0   \n",
       "...                         ...                ...                ...   \n",
       "334657                        0                  0                  0   \n",
       "334658                        0                  0                  0   \n",
       "334661                        1                  0                  0   \n",
       "334662                        0                  0                  0   \n",
       "334663                        0                  0                  0   \n",
       "\n",
       "        VehicleType_sedan  ...  Brand_skoda  Brand_smart  Brand_subaru  \\\n",
       "1                       0  ...            0            0             0   \n",
       "2                       0  ...            0            0             0   \n",
       "3                       0  ...            1            0             0   \n",
       "4                       1  ...            0            0             0   \n",
       "5                       0  ...            0            0             0   \n",
       "...                   ...  ...          ...          ...           ...   \n",
       "334657                  0  ...            0            0             0   \n",
       "334658                  1  ...            0            0             0   \n",
       "334661                  0  ...            0            1             0   \n",
       "334662                  0  ...            0            0             0   \n",
       "334663                  0  ...            0            0             0   \n",
       "\n",
       "        Brand_suzuki  Brand_toyota  Brand_trabant  Brand_volkswagen  \\\n",
       "1                  0             0              0                 0   \n",
       "2                  0             0              0                 1   \n",
       "3                  0             0              0                 0   \n",
       "4                  0             0              0                 0   \n",
       "5                  0             0              0                 0   \n",
       "...              ...           ...            ...               ...   \n",
       "334657             0             0              0                 0   \n",
       "334658             0             0              0                 0   \n",
       "334661             0             0              0                 0   \n",
       "334662             0             0              0                 1   \n",
       "334663             0             0              0                 1   \n",
       "\n",
       "        Brand_volvo  Repaired_no  Repaired_yes  \n",
       "1                 0            0             0  \n",
       "2                 0            1             0  \n",
       "3                 0            1             0  \n",
       "4                 0            0             1  \n",
       "5                 0            1             0  \n",
       "...             ...          ...           ...  \n",
       "334657            0            1             0  \n",
       "334658            0            0             1  \n",
       "334661            0            1             0  \n",
       "334662            0            1             0  \n",
       "334663            0            0             0  \n",
       "\n",
       "[245471 rows x 55 columns]"
      ]
     },
     "execution_count": 23,
     "metadata": {},
     "output_type": "execute_result"
    }
   ],
   "source": [
    "#Преобразуем остальные категории в числа\n",
    "one_hot_list = ['VehicleType','Gearbox', 'Brand', 'Repaired']\n",
    "df = data.copy()\n",
    "tenure_one_hot = pd.get_dummies(df[one_hot_list], drop_first=True)\n",
    "df = df.drop(one_hot_list,axis = 1)\n",
    "df = df.join(tenure_one_hot, how='left')\n",
    "df"
   ]
  },
  {
   "cell_type": "code",
   "execution_count": 24,
   "metadata": {},
   "outputs": [],
   "source": [
    "data = data.reset_index(drop=True)"
   ]
  },
  {
   "cell_type": "code",
   "execution_count": 25,
   "metadata": {
    "scrolled": true
   },
   "outputs": [],
   "source": [
    "features = df.drop('Price', axis = 1)\n",
    "target = df['Price']\n",
    "# Разделим на выборки\n",
    "\n",
    "#Отделение тестовой части\n",
    "x, features_test, y, target_test = train_test_split(features, target, test_size=0.2, train_size=0.8)\n",
    "\n"
   ]
  },
  {
   "cell_type": "code",
   "execution_count": 26,
   "metadata": {},
   "outputs": [],
   "source": [
    "#Отделения валидационной и обучающей выборки\n",
    "features_train, features_valid, target_train, target_valid = train_test_split(x, y, test_size = 0.25, train_size =0.75)"
   ]
  },
  {
   "cell_type": "code",
   "execution_count": 27,
   "metadata": {},
   "outputs": [],
   "source": [
    "#Скалирование\n",
    "scaler = StandardScaler()\n",
    "scaler.fit(features_train) \n",
    "features_train_scaled = scaler.transform(features_train)\n",
    "features_valid_scaled = scaler.transform(features_valid)\n",
    "features_test_scaled = scaler.transform(features_test)"
   ]
  },
  {
   "cell_type": "code",
   "execution_count": 28,
   "metadata": {},
   "outputs": [
    {
     "name": "stdout",
     "output_type": "stream",
     "text": [
      "(49094, 54)\n",
      "(49094,)\n",
      "(147282, 54)\n",
      "(49095, 54)\n",
      "(147282,)\n",
      "(49095,)\n"
     ]
    }
   ],
   "source": [
    "#Преобразуем nparray в dataframe\n",
    "def nptodf(data, ind, column):\n",
    "    frame = pd.DataFrame(data, index = ind.index, columns = column.columns)\n",
    "    return frame\n",
    "features_train_scaled = nptodf(features_train_scaled, target_train, features)\n",
    "features_valid_scaled = nptodf(features_valid_scaled, target_valid, features)\n",
    "features_test_scaled = nptodf(features_test_scaled, target_test, features)\n",
    "\n",
    "print(features_valid_scaled.shape)\n",
    "print(target_valid.shape)\n",
    "\n",
    "print(features_train_scaled.shape)\n",
    "print(features_test_scaled.shape)\n",
    "print(target_train.shape)\n",
    "print(target_test.shape)"
   ]
  },
  {
   "cell_type": "markdown",
   "metadata": {},
   "source": [
    "### Модель RandomForestRegressor"
   ]
  },
  {
   "cell_type": "code",
   "execution_count": 29,
   "metadata": {},
   "outputs": [],
   "source": [
    "model_rf = RandomForestRegressor(random_state = 12345)\n",
    "parametrs = {'n_estimators': range(1,40), 'max_depth': range(1,51)}"
   ]
  },
  {
   "cell_type": "code",
   "execution_count": 30,
   "metadata": {
    "scrolled": true
   },
   "outputs": [
    {
     "name": "stdout",
     "output_type": "stream",
     "text": [
      "Fitting 5 folds for each of 1 candidates, totalling 5 fits\n",
      "RMSE: 1670.0966554180911 при {'n_estimators': 27, 'max_depth': 36}\n",
      "CPU times: user 1min 51s, sys: 1.25 s, total: 1min 52s\n",
      "Wall time: 1min 52s\n"
     ]
    }
   ],
   "source": [
    "%%time\n",
    "model_rf_cv = RandomizedSearchCV(model_rf, parametrs, cv=5, scoring = 'neg_mean_squared_error', n_iter=1, n_jobs=-1, verbose=1)\n",
    "model_rf_cv.fit(features_train_scaled, target_train)\n",
    "predict_rf_cv = model_rf_cv.predict(features_valid_scaled)  # получаем предсказания модели\n",
    "print(\"RMSE:\", sqrt(mean_squared_error(target_valid, predict_rf_cv)), 'при', model_rf_cv.best_params_)"
   ]
  },
  {
   "cell_type": "code",
   "execution_count": 31,
   "metadata": {},
   "outputs": [
    {
     "name": "stdout",
     "output_type": "stream",
     "text": [
      "Fit time: 17.548541212081908, Predict time: 0.3525566577911377\n"
     ]
    }
   ],
   "source": [
    "results_rf = model_rf_cv.cv_results_\n",
    "best_index_rf = model_rf_cv.best_index_\n",
    "\n",
    "rf_fit_time = results_rf['mean_fit_time'][best_index_rf]\n",
    "rf_score_time = results_rf['mean_score_time'][best_index_rf]\n",
    "\n",
    "\n",
    "print(f\"Fit time: {rf_fit_time}, Predict time: {rf_score_time}\")"
   ]
  },
  {
   "cell_type": "markdown",
   "metadata": {},
   "source": [
    "### Модель LinearRegression"
   ]
  },
  {
   "cell_type": "code",
   "execution_count": 32,
   "metadata": {},
   "outputs": [],
   "source": [
    "# обцучим модель без гиперпараметров"
   ]
  },
  {
   "cell_type": "code",
   "execution_count": 33,
   "metadata": {},
   "outputs": [],
   "source": [
    "model_lr = LinearRegression()\n",
    "parametrs =  {'fit_intercept':[True,False], 'normalize':[True,False], 'copy_X':[True, False]}\n"
   ]
  },
  {
   "cell_type": "code",
   "execution_count": 34,
   "metadata": {
    "scrolled": true
   },
   "outputs": [
    {
     "name": "stdout",
     "output_type": "stream",
     "text": [
      "RMSE: 2626.0140329923715 при {'copy_X': True, 'fit_intercept': True, 'normalize': True}\n",
      "CPU times: user 35.4 s, sys: 19.7 s, total: 55.1 s\n",
      "Wall time: 55.1 s\n"
     ]
    }
   ],
   "source": [
    "%%time\n",
    "model_lr_cv = GridSearchCV(model_lr, parametrs, cv = 5, scoring = 'neg_mean_squared_error')\n",
    "model_lr_cv.fit(features_train_scaled, target_train)\n",
    "predict_lr_cv = model_lr_cv.predict(features_valid_scaled)\n",
    "print(\"RMSE:\", sqrt(mean_squared_error(target_valid, predict_lr_cv)), 'при', model_lr_cv.best_params_)"
   ]
  },
  {
   "cell_type": "code",
   "execution_count": 35,
   "metadata": {},
   "outputs": [
    {
     "name": "stdout",
     "output_type": "stream",
     "text": [
      "Fit time: 1.190300178527832, Predict time: 0.09416089057922364\n"
     ]
    }
   ],
   "source": [
    "results_rf =  model_lr_cv.cv_results_\n",
    "best_index_rf =  model_lr_cv.best_index_\n",
    "\n",
    "lr_fit_time = results_rf['mean_fit_time'][best_index_rf]\n",
    "lr_score_time = results_rf['mean_score_time'][best_index_rf]\n",
    "\n",
    "\n",
    "print(f\"Fit time: {lr_fit_time}, Predict time: {lr_score_time}\")"
   ]
  },
  {
   "cell_type": "markdown",
   "metadata": {},
   "source": [
    "### Модель LightGBM"
   ]
  },
  {
   "cell_type": "code",
   "execution_count": 36,
   "metadata": {},
   "outputs": [],
   "source": [
    "model_lgbm = LGBMRegressor()\n",
    "lgbm_params = {\"n_estimators\": [1000, 1200],\n",
    "               \"max_depth\": [12, 14]\n",
    "              }"
   ]
  },
  {
   "cell_type": "code",
   "execution_count": 37,
   "metadata": {
    "scrolled": true
   },
   "outputs": [
    {
     "name": "stdout",
     "output_type": "stream",
     "text": [
      "RMSE: 1552.1666147491749 при {'max_depth': 14, 'n_estimators': 1200}\n",
      "CPU times: user 19min 29s, sys: 6.1 s, total: 19min 35s\n",
      "Wall time: 19min 42s\n"
     ]
    }
   ],
   "source": [
    "%%time\n",
    "model_lgbm_cv = GridSearchCV(model_lgbm, lgbm_params, cv = 5, scoring = 'neg_mean_squared_error')\n",
    "model_lgbm_cv.fit(features_train_scaled, target_train)\n",
    "predict_lgbm_cv = model_lgbm_cv.predict(features_valid_scaled)\n",
    "print('RMSE:', sqrt(mean_squared_error(target_valid, predict_lgbm_cv)), 'при', model_lgbm_cv.best_params_)"
   ]
  },
  {
   "cell_type": "code",
   "execution_count": 38,
   "metadata": {},
   "outputs": [
    {
     "name": "stdout",
     "output_type": "stream",
     "text": [
      "Fit time: 119.98653321266174, Predict time: 3.676374673843384\n"
     ]
    }
   ],
   "source": [
    "results_rf =  model_lgbm_cv.cv_results_\n",
    "best_index_rf =  model_lgbm_cv.best_index_\n",
    "\n",
    "lgbm_fit_time = results_rf['mean_fit_time'][best_index_rf]\n",
    "lgbm_score_time = results_rf['mean_score_time'][best_index_rf]\n",
    "\n",
    "\n",
    "print(f\"Fit time: {lgbm_fit_time}, Predict time: {lgbm_score_time}\")"
   ]
  },
  {
   "cell_type": "markdown",
   "metadata": {},
   "source": [
    "## Анализ моделей"
   ]
  },
  {
   "cell_type": "code",
   "execution_count": 39,
   "metadata": {
    "scrolled": false
   },
   "outputs": [
    {
     "data": {
      "text/html": [
       "<div>\n",
       "<style scoped>\n",
       "    .dataframe tbody tr th:only-of-type {\n",
       "        vertical-align: middle;\n",
       "    }\n",
       "\n",
       "    .dataframe tbody tr th {\n",
       "        vertical-align: top;\n",
       "    }\n",
       "\n",
       "    .dataframe thead th {\n",
       "        text-align: right;\n",
       "    }\n",
       "</style>\n",
       "<table border=\"1\" class=\"dataframe\">\n",
       "  <thead>\n",
       "    <tr style=\"text-align: right;\">\n",
       "      <th></th>\n",
       "      <th>Model</th>\n",
       "      <th>Parametrs</th>\n",
       "      <th>RMSE</th>\n",
       "      <th>Fit time:</th>\n",
       "      <th>Predict time</th>\n",
       "    </tr>\n",
       "  </thead>\n",
       "  <tbody>\n",
       "    <tr>\n",
       "      <th>0</th>\n",
       "      <td>RandomForestRegressor</td>\n",
       "      <td>{'n_estimators': 27, 'max_depth': 36}</td>\n",
       "      <td>1670.096655</td>\n",
       "      <td>17.548541</td>\n",
       "      <td>0.352557</td>\n",
       "    </tr>\n",
       "    <tr>\n",
       "      <th>1</th>\n",
       "      <td>LinearRegression</td>\n",
       "      <td>{'copy_X': True, 'fit_intercept': True, 'norma...</td>\n",
       "      <td>2626.014033</td>\n",
       "      <td>1.190300</td>\n",
       "      <td>0.094161</td>\n",
       "    </tr>\n",
       "    <tr>\n",
       "      <th>2</th>\n",
       "      <td>LightGBM</td>\n",
       "      <td>{'max_depth': 14, 'n_estimators': 1200}</td>\n",
       "      <td>1552.166615</td>\n",
       "      <td>119.986533</td>\n",
       "      <td>3.676375</td>\n",
       "    </tr>\n",
       "  </tbody>\n",
       "</table>\n",
       "</div>"
      ],
      "text/plain": [
       "                   Model                                          Parametrs  \\\n",
       "0  RandomForestRegressor              {'n_estimators': 27, 'max_depth': 36}   \n",
       "1       LinearRegression  {'copy_X': True, 'fit_intercept': True, 'norma...   \n",
       "2               LightGBM            {'max_depth': 14, 'n_estimators': 1200}   \n",
       "\n",
       "          RMSE  Fit time:   Predict time  \n",
       "0  1670.096655   17.548541      0.352557  \n",
       "1  2626.014033    1.190300      0.094161  \n",
       "2  1552.166615  119.986533      3.676375  "
      ]
     },
     "metadata": {},
     "output_type": "display_data"
    }
   ],
   "source": [
    "# создадим ДатаФрейм со всеми результатами.\n",
    "\n",
    "result = {'Model' : ['RandomForestRegressor', 'LinearRegression', 'LightGBM'],\n",
    "          'Parametrs' : [model_rf_cv.best_params_, model_lr_cv.best_params_, model_lgbm_cv.best_params_],\n",
    "          'RMSE' : [sqrt(mean_squared_error(target_valid, predict_rf_cv)), sqrt(mean_squared_error(target_valid, predict_lr_cv)), \n",
    "                    sqrt(mean_squared_error(target_valid, predict_lgbm_cv))],\n",
    "          'Fit time: ': [rf_fit_time , lr_fit_time , lgbm_fit_time],\n",
    "          'Predict time': [rf_score_time, lr_score_time,lgbm_score_time]\n",
    "          \n",
    "    \n",
    "}\n",
    "final_result = pd.DataFrame(result)\n",
    "\n",
    "display(final_result)"
   ]
  },
  {
   "cell_type": "markdown",
   "metadata": {},
   "source": [
    "Лучшая модель на обучающих данных оказалась LightGBM"
   ]
  },
  {
   "cell_type": "code",
   "execution_count": 40,
   "metadata": {},
   "outputs": [
    {
     "name": "stdout",
     "output_type": "stream",
     "text": [
      "RMSE :  1552.201826042952\n"
     ]
    }
   ],
   "source": [
    "# Посмотрим на результат модели LightGBM на тестовых даных\n",
    "\n",
    "final_lgbm = model_lgbm_cv.predict(features_test_scaled)\n",
    "print('RMSE : ', sqrt(mean_squared_error(target_test, final_lgbm)))"
   ]
  },
  {
   "cell_type": "markdown",
   "metadata": {},
   "source": [
    "Как видим наилучшей моделей по метрике RMSE оказалась модель градиентного бустинга , но она и дольше обучалась , хотя модель Случайного леса обучалась меньше и дала тоже неплохие результаты , но думаю , если паработать подольше над гиперпараметрами LightGBM можно достичь ещё лучшего результата , но придётся пожертвовать скоростью обучения.\n"
   ]
  },
  {
   "cell_type": "markdown",
   "metadata": {},
   "source": [
    "## Итоговый вывод"
   ]
  },
  {
   "cell_type": "markdown",
   "metadata": {},
   "source": [
    "В этом проекте мы выполнили : \n",
    "+ Загрузили данные для обучения\n",
    "+ Изучили данные\n",
    "+ Обработали пропуски , избавились от аномалий , избавились от дубликатов, изменили тип данных\n",
    "+ Применили порядкое и прямое кодирование для наших категориальных данных\n",
    "+ Обучили 3 вида моделей (RandomForest , LinearRegression, LightGBM)\n",
    "+ Выбрали наилучшую модели по метрики RMSE - LightGBM"
   ]
  },
  {
   "cell_type": "markdown",
   "metadata": {},
   "source": [
    "## Чек-лист проверки"
   ]
  },
  {
   "cell_type": "markdown",
   "metadata": {},
   "source": [
    "Поставьте 'x' в выполненных пунктах. Далее нажмите Shift+Enter."
   ]
  },
  {
   "cell_type": "markdown",
   "metadata": {},
   "source": [
    "- [x]  Jupyter Notebook открыт\n",
    "- [x]  Весь код выполняется без ошибок\n",
    "- [x]  Ячейки с кодом расположены в порядке исполнения\n",
    "- [x]  Выполнена загрузка и подготовка данных\n",
    "- [x]  Выполнено обучение моделей\n",
    "- [x]  Есть анализ скорости работы и качества моделей"
   ]
  },
  {
   "cell_type": "code",
   "execution_count": null,
   "metadata": {},
   "outputs": [],
   "source": []
  }
 ],
 "metadata": {
  "ExecuteTimeLog": [
   {
    "duration": 434,
    "start_time": "2023-09-07T16:49:19.824Z"
   },
   {
    "duration": 1237,
    "start_time": "2023-09-07T16:49:46.294Z"
   },
   {
    "duration": 856,
    "start_time": "2023-09-07T16:49:55.298Z"
   },
   {
    "duration": 2507,
    "start_time": "2023-09-07T17:58:29.835Z"
   },
   {
    "duration": 22,
    "start_time": "2023-09-07T17:58:47.204Z"
   },
   {
    "duration": 41,
    "start_time": "2023-09-07T18:02:17.138Z"
   },
   {
    "duration": 40,
    "start_time": "2023-09-07T18:02:21.861Z"
   },
   {
    "duration": 38,
    "start_time": "2023-09-07T18:02:34.258Z"
   },
   {
    "duration": 45,
    "start_time": "2023-09-07T18:02:42.152Z"
   },
   {
    "duration": 132,
    "start_time": "2023-09-07T18:09:17.149Z"
   },
   {
    "duration": 148,
    "start_time": "2023-09-07T18:10:43.450Z"
   },
   {
    "duration": 52,
    "start_time": "2023-09-08T14:59:43.717Z"
   },
   {
    "duration": 449,
    "start_time": "2023-09-08T14:59:57.014Z"
   },
   {
    "duration": 1338,
    "start_time": "2023-09-08T14:59:57.465Z"
   },
   {
    "duration": 54,
    "start_time": "2023-09-08T14:59:58.807Z"
   },
   {
    "duration": 176,
    "start_time": "2023-09-08T14:59:58.863Z"
   },
   {
    "duration": 25,
    "start_time": "2023-09-08T14:59:59.041Z"
   },
   {
    "duration": 54,
    "start_time": "2023-09-08T15:00:28.375Z"
   },
   {
    "duration": 22,
    "start_time": "2023-09-08T15:02:01.556Z"
   },
   {
    "duration": 35,
    "start_time": "2023-09-08T15:06:59.049Z"
   },
   {
    "duration": 181,
    "start_time": "2023-09-08T15:07:03.648Z"
   },
   {
    "duration": 76,
    "start_time": "2023-09-08T15:07:09.048Z"
   },
   {
    "duration": 12,
    "start_time": "2023-09-08T15:07:47.060Z"
   },
   {
    "duration": 11,
    "start_time": "2023-09-08T15:51:17.691Z"
   },
   {
    "duration": 11,
    "start_time": "2023-09-08T15:52:16.504Z"
   },
   {
    "duration": 11,
    "start_time": "2023-09-08T15:53:13.258Z"
   },
   {
    "duration": 3,
    "start_time": "2023-09-08T15:53:37.758Z"
   },
   {
    "duration": 801,
    "start_time": "2023-09-08T15:53:37.764Z"
   },
   {
    "duration": 37,
    "start_time": "2023-09-08T15:53:38.567Z"
   },
   {
    "duration": 153,
    "start_time": "2023-09-08T15:53:38.606Z"
   },
   {
    "duration": 36,
    "start_time": "2023-09-08T15:53:38.761Z"
   },
   {
    "duration": 21,
    "start_time": "2023-09-08T15:53:38.798Z"
   },
   {
    "duration": 35,
    "start_time": "2023-09-08T15:54:06.184Z"
   },
   {
    "duration": 7,
    "start_time": "2023-09-08T15:54:22.333Z"
   },
   {
    "duration": 7,
    "start_time": "2023-09-08T15:54:42.494Z"
   },
   {
    "duration": 7,
    "start_time": "2023-09-08T15:54:45.386Z"
   },
   {
    "duration": 403,
    "start_time": "2023-09-08T15:54:52.716Z"
   },
   {
    "duration": 793,
    "start_time": "2023-09-08T15:54:53.121Z"
   },
   {
    "duration": 43,
    "start_time": "2023-09-08T15:54:53.915Z"
   },
   {
    "duration": 174,
    "start_time": "2023-09-08T15:54:53.960Z"
   },
   {
    "duration": 43,
    "start_time": "2023-09-08T15:54:54.136Z"
   },
   {
    "duration": 64,
    "start_time": "2023-09-08T15:54:54.180Z"
   },
   {
    "duration": 57,
    "start_time": "2023-09-08T16:00:19.457Z"
   },
   {
    "duration": 72,
    "start_time": "2023-09-08T16:00:57.431Z"
   },
   {
    "duration": 68,
    "start_time": "2023-09-08T16:01:00.926Z"
   },
   {
    "duration": 403,
    "start_time": "2023-09-08T16:01:25.617Z"
   },
   {
    "duration": 959,
    "start_time": "2023-09-08T16:01:26.022Z"
   },
   {
    "duration": 42,
    "start_time": "2023-09-08T16:01:26.982Z"
   },
   {
    "duration": 164,
    "start_time": "2023-09-08T16:01:27.033Z"
   },
   {
    "duration": 69,
    "start_time": "2023-09-08T16:01:27.198Z"
   },
   {
    "duration": 45,
    "start_time": "2023-09-08T16:01:27.268Z"
   },
   {
    "duration": 89,
    "start_time": "2023-09-08T16:01:27.315Z"
   },
   {
    "duration": 62,
    "start_time": "2023-09-08T16:02:15.140Z"
   },
   {
    "duration": 397,
    "start_time": "2023-09-08T16:02:23.533Z"
   },
   {
    "duration": 883,
    "start_time": "2023-09-08T16:02:23.932Z"
   },
   {
    "duration": 52,
    "start_time": "2023-09-08T16:02:24.817Z"
   },
   {
    "duration": 138,
    "start_time": "2023-09-08T16:02:24.871Z"
   },
   {
    "duration": 55,
    "start_time": "2023-09-08T16:02:25.010Z"
   },
   {
    "duration": 47,
    "start_time": "2023-09-08T16:02:25.067Z"
   },
   {
    "duration": 86,
    "start_time": "2023-09-08T16:02:25.116Z"
   },
   {
    "duration": 59,
    "start_time": "2023-09-08T16:02:31.102Z"
   },
   {
    "duration": 74,
    "start_time": "2023-09-08T16:02:38.768Z"
   },
   {
    "duration": 111,
    "start_time": "2023-09-08T16:03:06.205Z"
   },
   {
    "duration": 78,
    "start_time": "2023-09-08T16:03:22.170Z"
   },
   {
    "duration": 46,
    "start_time": "2023-09-08T18:18:15.887Z"
   },
   {
    "duration": 404,
    "start_time": "2023-09-08T18:18:20.541Z"
   },
   {
    "duration": 1345,
    "start_time": "2023-09-08T18:18:20.949Z"
   },
   {
    "duration": 50,
    "start_time": "2023-09-08T18:18:22.296Z"
   },
   {
    "duration": 165,
    "start_time": "2023-09-08T18:18:22.348Z"
   },
   {
    "duration": 37,
    "start_time": "2023-09-08T18:18:22.515Z"
   },
   {
    "duration": 55,
    "start_time": "2023-09-08T18:18:22.554Z"
   },
   {
    "duration": 132,
    "start_time": "2023-09-08T18:18:22.610Z"
   },
   {
    "duration": 100,
    "start_time": "2023-09-08T18:18:22.743Z"
   },
   {
    "duration": 411,
    "start_time": "2023-09-08T18:19:59.144Z"
   },
   {
    "duration": 976,
    "start_time": "2023-09-08T18:19:59.557Z"
   },
   {
    "duration": 51,
    "start_time": "2023-09-08T18:20:00.535Z"
   },
   {
    "duration": 159,
    "start_time": "2023-09-08T18:20:00.588Z"
   },
   {
    "duration": 78,
    "start_time": "2023-09-08T18:20:00.749Z"
   },
   {
    "duration": 77,
    "start_time": "2023-09-08T18:20:00.828Z"
   },
   {
    "duration": 152,
    "start_time": "2023-09-08T18:20:00.907Z"
   },
   {
    "duration": 93,
    "start_time": "2023-09-08T18:20:01.062Z"
   },
   {
    "duration": 194,
    "start_time": "2023-09-08T18:20:01.157Z"
   },
   {
    "duration": 19,
    "start_time": "2023-09-08T18:22:24.262Z"
   },
   {
    "duration": 62,
    "start_time": "2023-09-08T18:22:37.105Z"
   },
   {
    "duration": 104,
    "start_time": "2023-09-08T18:22:54.167Z"
   },
   {
    "duration": 141,
    "start_time": "2023-09-08T18:24:10.887Z"
   },
   {
    "duration": 156,
    "start_time": "2023-09-08T18:24:19.199Z"
   },
   {
    "duration": 124,
    "start_time": "2023-09-08T18:24:21.829Z"
   },
   {
    "duration": 183,
    "start_time": "2023-09-08T18:24:27.833Z"
   },
   {
    "duration": 132,
    "start_time": "2023-09-08T18:24:31.828Z"
   },
   {
    "duration": 122,
    "start_time": "2023-09-08T18:26:19.102Z"
   },
   {
    "duration": 131,
    "start_time": "2023-09-08T18:26:42.823Z"
   },
   {
    "duration": 10,
    "start_time": "2023-09-08T18:27:52.794Z"
   },
   {
    "duration": 158,
    "start_time": "2023-09-08T18:28:02.000Z"
   },
   {
    "duration": 256,
    "start_time": "2023-09-08T18:28:26.308Z"
   },
   {
    "duration": 100,
    "start_time": "2023-09-08T18:31:31.964Z"
   },
   {
    "duration": 390,
    "start_time": "2023-09-08T18:31:47.474Z"
   },
   {
    "duration": 912,
    "start_time": "2023-09-08T18:31:47.866Z"
   },
   {
    "duration": 105,
    "start_time": "2023-09-08T18:31:48.780Z"
   },
   {
    "duration": 152,
    "start_time": "2023-09-08T18:31:48.886Z"
   },
   {
    "duration": 43,
    "start_time": "2023-09-08T18:31:49.040Z"
   },
   {
    "duration": 64,
    "start_time": "2023-09-08T18:31:49.084Z"
   },
   {
    "duration": 157,
    "start_time": "2023-09-08T18:31:49.150Z"
   },
   {
    "duration": 203,
    "start_time": "2023-09-08T18:31:49.309Z"
   },
   {
    "duration": 372,
    "start_time": "2023-09-08T18:31:49.514Z"
   },
   {
    "duration": 245,
    "start_time": "2023-09-08T18:31:49.887Z"
   },
   {
    "duration": 259,
    "start_time": "2023-09-08T18:31:50.134Z"
   },
   {
    "duration": 74,
    "start_time": "2023-09-08T18:32:18.222Z"
   },
   {
    "duration": 75,
    "start_time": "2023-09-08T18:32:27.588Z"
   },
   {
    "duration": 25,
    "start_time": "2023-09-08T18:32:31.103Z"
   },
   {
    "duration": 23,
    "start_time": "2023-09-08T18:32:35.085Z"
   },
   {
    "duration": 25,
    "start_time": "2023-09-08T18:32:37.988Z"
   },
   {
    "duration": 24,
    "start_time": "2023-09-08T18:32:43.702Z"
   },
   {
    "duration": 80,
    "start_time": "2023-09-08T18:32:47.505Z"
   },
   {
    "duration": 53,
    "start_time": "2023-09-08T18:34:20.804Z"
   },
   {
    "duration": 848,
    "start_time": "2023-09-08T18:35:04.227Z"
   },
   {
    "duration": 450,
    "start_time": "2023-09-08T18:35:10.804Z"
   },
   {
    "duration": 396,
    "start_time": "2023-09-08T18:35:16.121Z"
   },
   {
    "duration": 699,
    "start_time": "2023-09-08T18:35:31.178Z"
   },
   {
    "duration": 689,
    "start_time": "2023-09-08T18:35:34.948Z"
   },
   {
    "duration": 773,
    "start_time": "2023-09-08T18:36:09.897Z"
   },
   {
    "duration": 696,
    "start_time": "2023-09-08T18:36:40.825Z"
   },
   {
    "duration": 111,
    "start_time": "2023-09-08T18:39:21.644Z"
   },
   {
    "duration": 179,
    "start_time": "2023-09-08T18:39:29.088Z"
   },
   {
    "duration": 31,
    "start_time": "2023-09-08T18:39:40.381Z"
   },
   {
    "duration": 3,
    "start_time": "2023-09-08T18:39:43.727Z"
   },
   {
    "duration": 866,
    "start_time": "2023-09-08T18:39:43.732Z"
   },
   {
    "duration": 99,
    "start_time": "2023-09-08T18:39:44.600Z"
   },
   {
    "duration": 143,
    "start_time": "2023-09-08T18:39:44.701Z"
   },
   {
    "duration": 50,
    "start_time": "2023-09-08T18:39:44.847Z"
   },
   {
    "duration": 50,
    "start_time": "2023-09-08T18:39:44.899Z"
   },
   {
    "duration": 86,
    "start_time": "2023-09-08T18:39:44.951Z"
   },
   {
    "duration": 74,
    "start_time": "2023-09-08T18:39:45.039Z"
   },
   {
    "duration": 139,
    "start_time": "2023-09-08T18:39:45.124Z"
   },
   {
    "duration": 142,
    "start_time": "2023-09-08T18:39:45.266Z"
   },
   {
    "duration": 247,
    "start_time": "2023-09-08T18:39:45.410Z"
   },
   {
    "duration": 47,
    "start_time": "2023-09-08T18:39:45.659Z"
   },
   {
    "duration": 909,
    "start_time": "2023-09-08T18:39:45.707Z"
   },
   {
    "duration": 34,
    "start_time": "2023-09-08T18:39:46.619Z"
   },
   {
    "duration": 15,
    "start_time": "2023-09-08T18:41:37.344Z"
   },
   {
    "duration": 78,
    "start_time": "2023-09-08T18:43:01.244Z"
   },
   {
    "duration": 21,
    "start_time": "2023-09-08T18:43:08.561Z"
   },
   {
    "duration": 456,
    "start_time": "2023-09-08T18:43:15.086Z"
   },
   {
    "duration": 1023,
    "start_time": "2023-09-08T18:43:15.544Z"
   },
   {
    "duration": 134,
    "start_time": "2023-09-08T18:43:16.569Z"
   },
   {
    "duration": 155,
    "start_time": "2023-09-08T18:43:16.705Z"
   },
   {
    "duration": 77,
    "start_time": "2023-09-08T18:43:16.862Z"
   },
   {
    "duration": 67,
    "start_time": "2023-09-08T18:43:16.941Z"
   },
   {
    "duration": 124,
    "start_time": "2023-09-08T18:43:17.009Z"
   },
   {
    "duration": 73,
    "start_time": "2023-09-08T18:43:17.134Z"
   },
   {
    "duration": 118,
    "start_time": "2023-09-08T18:43:17.223Z"
   },
   {
    "duration": 146,
    "start_time": "2023-09-08T18:43:17.345Z"
   },
   {
    "duration": 278,
    "start_time": "2023-09-08T18:43:17.494Z"
   },
   {
    "duration": 62,
    "start_time": "2023-09-08T18:43:17.774Z"
   },
   {
    "duration": 947,
    "start_time": "2023-09-08T18:43:17.837Z"
   },
   {
    "duration": 70,
    "start_time": "2023-09-08T18:43:18.786Z"
   },
   {
    "duration": 839,
    "start_time": "2023-09-08T18:43:34.833Z"
   },
   {
    "duration": 780,
    "start_time": "2023-09-08T18:43:44.933Z"
   },
   {
    "duration": 32,
    "start_time": "2023-09-08T18:44:18.731Z"
   },
   {
    "duration": 3,
    "start_time": "2023-09-08T18:44:24.453Z"
   },
   {
    "duration": 926,
    "start_time": "2023-09-08T18:44:24.458Z"
   },
   {
    "duration": 113,
    "start_time": "2023-09-08T18:44:25.386Z"
   },
   {
    "duration": 147,
    "start_time": "2023-09-08T18:44:25.501Z"
   },
   {
    "duration": 40,
    "start_time": "2023-09-08T18:44:25.651Z"
   },
   {
    "duration": 59,
    "start_time": "2023-09-08T18:44:25.693Z"
   },
   {
    "duration": 124,
    "start_time": "2023-09-08T18:44:25.755Z"
   },
   {
    "duration": 107,
    "start_time": "2023-09-08T18:44:25.881Z"
   },
   {
    "duration": 170,
    "start_time": "2023-09-08T18:44:25.990Z"
   },
   {
    "duration": 149,
    "start_time": "2023-09-08T18:44:26.162Z"
   },
   {
    "duration": 238,
    "start_time": "2023-09-08T18:44:26.313Z"
   },
   {
    "duration": 45,
    "start_time": "2023-09-08T18:44:26.553Z"
   },
   {
    "duration": 882,
    "start_time": "2023-09-08T18:44:26.599Z"
   },
   {
    "duration": 40,
    "start_time": "2023-09-08T18:44:27.484Z"
   },
   {
    "duration": 108,
    "start_time": "2023-09-08T18:44:42.306Z"
   },
   {
    "duration": 17,
    "start_time": "2023-09-08T18:44:54.188Z"
   },
   {
    "duration": 446,
    "start_time": "2023-09-08T18:44:59.565Z"
   },
   {
    "duration": 1001,
    "start_time": "2023-09-08T18:45:00.012Z"
   },
   {
    "duration": 103,
    "start_time": "2023-09-08T18:45:01.015Z"
   },
   {
    "duration": 179,
    "start_time": "2023-09-08T18:45:01.124Z"
   },
   {
    "duration": 85,
    "start_time": "2023-09-08T18:45:01.306Z"
   },
   {
    "duration": 53,
    "start_time": "2023-09-08T18:45:01.394Z"
   },
   {
    "duration": 215,
    "start_time": "2023-09-08T18:45:01.449Z"
   },
   {
    "duration": 81,
    "start_time": "2023-09-08T18:45:01.665Z"
   },
   {
    "duration": 279,
    "start_time": "2023-09-08T18:45:01.748Z"
   },
   {
    "duration": 137,
    "start_time": "2023-09-08T18:45:02.029Z"
   },
   {
    "duration": 286,
    "start_time": "2023-09-08T18:45:02.168Z"
   },
   {
    "duration": 54,
    "start_time": "2023-09-08T18:45:02.456Z"
   },
   {
    "duration": 1092,
    "start_time": "2023-09-08T18:45:02.525Z"
   },
   {
    "duration": 211,
    "start_time": "2023-09-08T18:45:03.623Z"
   },
   {
    "duration": 4,
    "start_time": "2023-09-08T18:51:22.607Z"
   },
   {
    "duration": 52,
    "start_time": "2023-09-08T18:52:24.951Z"
   },
   {
    "duration": 91,
    "start_time": "2023-09-08T18:54:10.409Z"
   },
   {
    "duration": 47,
    "start_time": "2023-09-08T18:54:22.938Z"
   },
   {
    "duration": 675,
    "start_time": "2023-09-08T18:54:55.887Z"
   },
   {
    "duration": 920,
    "start_time": "2023-09-08T18:54:56.564Z"
   },
   {
    "duration": 102,
    "start_time": "2023-09-08T18:54:57.486Z"
   },
   {
    "duration": 176,
    "start_time": "2023-09-08T18:54:57.590Z"
   },
   {
    "duration": 79,
    "start_time": "2023-09-08T18:54:57.768Z"
   },
   {
    "duration": 131,
    "start_time": "2023-09-08T18:54:57.848Z"
   },
   {
    "duration": 157,
    "start_time": "2023-09-08T18:54:57.981Z"
   },
   {
    "duration": 72,
    "start_time": "2023-09-08T18:54:58.140Z"
   },
   {
    "duration": 200,
    "start_time": "2023-09-08T18:54:58.224Z"
   },
   {
    "duration": 134,
    "start_time": "2023-09-08T18:54:58.425Z"
   },
   {
    "duration": 272,
    "start_time": "2023-09-08T18:54:58.561Z"
   },
   {
    "duration": 47,
    "start_time": "2023-09-08T18:54:58.834Z"
   },
   {
    "duration": 913,
    "start_time": "2023-09-08T18:54:58.882Z"
   },
   {
    "duration": 113,
    "start_time": "2023-09-08T18:54:59.798Z"
   },
   {
    "duration": 0,
    "start_time": "2023-09-08T18:54:59.913Z"
   },
   {
    "duration": 0,
    "start_time": "2023-09-08T18:54:59.924Z"
   },
   {
    "duration": 457,
    "start_time": "2023-09-08T18:55:18.027Z"
   },
   {
    "duration": 1229,
    "start_time": "2023-09-08T18:55:22.610Z"
   },
   {
    "duration": 898,
    "start_time": "2023-09-08T18:55:23.841Z"
   },
   {
    "duration": 105,
    "start_time": "2023-09-08T18:55:24.741Z"
   },
   {
    "duration": 153,
    "start_time": "2023-09-08T18:55:24.847Z"
   },
   {
    "duration": 49,
    "start_time": "2023-09-08T18:55:25.003Z"
   },
   {
    "duration": 48,
    "start_time": "2023-09-08T18:55:25.054Z"
   },
   {
    "duration": 144,
    "start_time": "2023-09-08T18:55:25.103Z"
   },
   {
    "duration": 82,
    "start_time": "2023-09-08T18:55:25.249Z"
   },
   {
    "duration": 118,
    "start_time": "2023-09-08T18:55:25.333Z"
   },
   {
    "duration": 128,
    "start_time": "2023-09-08T18:55:25.453Z"
   },
   {
    "duration": 268,
    "start_time": "2023-09-08T18:55:25.583Z"
   },
   {
    "duration": 58,
    "start_time": "2023-09-08T18:55:25.853Z"
   },
   {
    "duration": 852,
    "start_time": "2023-09-08T18:55:25.914Z"
   },
   {
    "duration": 188,
    "start_time": "2023-09-08T18:55:26.770Z"
   },
   {
    "duration": 0,
    "start_time": "2023-09-08T18:55:26.960Z"
   },
   {
    "duration": 0,
    "start_time": "2023-09-08T18:55:26.961Z"
   },
   {
    "duration": 467,
    "start_time": "2023-09-08T18:55:42.593Z"
   },
   {
    "duration": 1162,
    "start_time": "2023-09-08T18:56:17.713Z"
   },
   {
    "duration": 895,
    "start_time": "2023-09-08T18:56:18.877Z"
   },
   {
    "duration": 112,
    "start_time": "2023-09-08T18:56:19.773Z"
   },
   {
    "duration": 144,
    "start_time": "2023-09-08T18:56:19.886Z"
   },
   {
    "duration": 126,
    "start_time": "2023-09-08T18:56:20.033Z"
   },
   {
    "duration": 183,
    "start_time": "2023-09-08T18:56:20.160Z"
   },
   {
    "duration": 407,
    "start_time": "2023-09-08T18:56:20.346Z"
   },
   {
    "duration": 76,
    "start_time": "2023-09-08T18:56:20.755Z"
   },
   {
    "duration": 139,
    "start_time": "2023-09-08T18:56:20.833Z"
   },
   {
    "duration": 128,
    "start_time": "2023-09-08T18:56:20.974Z"
   },
   {
    "duration": 256,
    "start_time": "2023-09-08T18:56:21.105Z"
   },
   {
    "duration": 47,
    "start_time": "2023-09-08T18:56:21.363Z"
   },
   {
    "duration": 791,
    "start_time": "2023-09-08T18:56:21.411Z"
   },
   {
    "duration": 494,
    "start_time": "2023-09-08T18:56:22.205Z"
   },
   {
    "duration": 4,
    "start_time": "2023-09-08T18:56:22.700Z"
   },
   {
    "duration": 138,
    "start_time": "2023-09-08T18:56:22.706Z"
   },
   {
    "duration": 11,
    "start_time": "2023-09-08T18:59:11.622Z"
   },
   {
    "duration": 21,
    "start_time": "2023-09-08T18:59:20.227Z"
   },
   {
    "duration": 372,
    "start_time": "2023-09-08T19:00:24.471Z"
   },
   {
    "duration": 1572,
    "start_time": "2023-09-08T19:00:29.413Z"
   },
   {
    "duration": 953,
    "start_time": "2023-09-08T19:00:30.986Z"
   },
   {
    "duration": 104,
    "start_time": "2023-09-08T19:00:31.940Z"
   },
   {
    "duration": 137,
    "start_time": "2023-09-08T19:00:32.046Z"
   },
   {
    "duration": 50,
    "start_time": "2023-09-08T19:00:32.185Z"
   },
   {
    "duration": 49,
    "start_time": "2023-09-08T19:00:32.237Z"
   },
   {
    "duration": 126,
    "start_time": "2023-09-08T19:00:32.288Z"
   },
   {
    "duration": 100,
    "start_time": "2023-09-08T19:00:32.425Z"
   },
   {
    "duration": 126,
    "start_time": "2023-09-08T19:00:32.527Z"
   },
   {
    "duration": 136,
    "start_time": "2023-09-08T19:00:32.655Z"
   },
   {
    "duration": 265,
    "start_time": "2023-09-08T19:00:32.792Z"
   },
   {
    "duration": 51,
    "start_time": "2023-09-08T19:00:33.058Z"
   },
   {
    "duration": 818,
    "start_time": "2023-09-08T19:00:33.110Z"
   },
   {
    "duration": 520,
    "start_time": "2023-09-08T19:00:33.930Z"
   },
   {
    "duration": 3,
    "start_time": "2023-09-08T19:00:34.452Z"
   },
   {
    "duration": 79,
    "start_time": "2023-09-08T19:00:34.456Z"
   },
   {
    "duration": 70,
    "start_time": "2023-09-08T19:00:34.537Z"
   },
   {
    "duration": 62,
    "start_time": "2023-09-08T19:01:34.385Z"
   },
   {
    "duration": 103,
    "start_time": "2023-09-08T19:02:12.578Z"
   },
   {
    "duration": 6,
    "start_time": "2023-09-08T19:02:14.832Z"
   },
   {
    "duration": 45,
    "start_time": "2023-09-08T19:05:47.311Z"
   },
   {
    "duration": 1358,
    "start_time": "2023-09-08T19:05:53.157Z"
   },
   {
    "duration": 870,
    "start_time": "2023-09-08T19:05:54.517Z"
   },
   {
    "duration": 99,
    "start_time": "2023-09-08T19:05:55.388Z"
   },
   {
    "duration": 144,
    "start_time": "2023-09-08T19:05:55.489Z"
   },
   {
    "duration": 37,
    "start_time": "2023-09-08T19:05:55.635Z"
   },
   {
    "duration": 64,
    "start_time": "2023-09-08T19:05:55.674Z"
   },
   {
    "duration": 135,
    "start_time": "2023-09-08T19:05:55.740Z"
   },
   {
    "duration": 94,
    "start_time": "2023-09-08T19:05:55.877Z"
   },
   {
    "duration": 133,
    "start_time": "2023-09-08T19:05:55.973Z"
   },
   {
    "duration": 127,
    "start_time": "2023-09-08T19:05:56.108Z"
   },
   {
    "duration": 229,
    "start_time": "2023-09-08T19:05:56.237Z"
   },
   {
    "duration": 55,
    "start_time": "2023-09-08T19:05:56.468Z"
   },
   {
    "duration": 854,
    "start_time": "2023-09-08T19:05:56.525Z"
   },
   {
    "duration": 457,
    "start_time": "2023-09-08T19:05:57.382Z"
   },
   {
    "duration": 4,
    "start_time": "2023-09-08T19:05:57.840Z"
   },
   {
    "duration": 121,
    "start_time": "2023-09-08T19:05:57.846Z"
   },
   {
    "duration": 4,
    "start_time": "2023-09-08T19:05:57.969Z"
   },
   {
    "duration": 74,
    "start_time": "2023-09-08T19:05:57.975Z"
   },
   {
    "duration": 3,
    "start_time": "2023-09-08T19:20:56.015Z"
   },
   {
    "duration": 1750,
    "start_time": "2023-09-08T19:22:01.013Z"
   },
   {
    "duration": 971,
    "start_time": "2023-09-08T19:22:02.766Z"
   },
   {
    "duration": 100,
    "start_time": "2023-09-08T19:22:03.739Z"
   },
   {
    "duration": 333,
    "start_time": "2023-09-08T19:22:03.842Z"
   },
   {
    "duration": 47,
    "start_time": "2023-09-08T19:22:04.178Z"
   },
   {
    "duration": 114,
    "start_time": "2023-09-08T19:22:04.227Z"
   },
   {
    "duration": 105,
    "start_time": "2023-09-08T19:22:04.343Z"
   },
   {
    "duration": 84,
    "start_time": "2023-09-08T19:22:04.450Z"
   },
   {
    "duration": 255,
    "start_time": "2023-09-08T19:22:04.535Z"
   },
   {
    "duration": 157,
    "start_time": "2023-09-08T19:22:04.793Z"
   },
   {
    "duration": 295,
    "start_time": "2023-09-08T19:22:04.951Z"
   },
   {
    "duration": 49,
    "start_time": "2023-09-08T19:22:05.248Z"
   },
   {
    "duration": 1015,
    "start_time": "2023-09-08T19:22:05.299Z"
   },
   {
    "duration": 487,
    "start_time": "2023-09-08T19:22:06.317Z"
   },
   {
    "duration": 4,
    "start_time": "2023-09-08T19:22:06.805Z"
   },
   {
    "duration": 72,
    "start_time": "2023-09-08T19:22:06.811Z"
   },
   {
    "duration": 26,
    "start_time": "2023-09-08T19:22:06.886Z"
   },
   {
    "duration": 109,
    "start_time": "2023-09-08T19:22:06.914Z"
   },
   {
    "duration": 3,
    "start_time": "2023-09-08T19:22:07.025Z"
   },
   {
    "duration": 32,
    "start_time": "2023-09-08T19:22:07.030Z"
   },
   {
    "duration": 3,
    "start_time": "2023-09-08T19:22:54.131Z"
   },
   {
    "duration": 1253013,
    "start_time": "2023-09-08T19:22:57.473Z"
   },
   {
    "duration": 1415,
    "start_time": "2023-09-08T19:46:03.303Z"
   },
   {
    "duration": 890,
    "start_time": "2023-09-08T19:46:04.720Z"
   },
   {
    "duration": 99,
    "start_time": "2023-09-08T19:46:05.612Z"
   },
   {
    "duration": 168,
    "start_time": "2023-09-08T19:46:05.713Z"
   },
   {
    "duration": 69,
    "start_time": "2023-09-08T19:46:05.883Z"
   },
   {
    "duration": 56,
    "start_time": "2023-09-08T19:46:05.954Z"
   },
   {
    "duration": 142,
    "start_time": "2023-09-08T19:46:06.013Z"
   },
   {
    "duration": 79,
    "start_time": "2023-09-08T19:46:06.157Z"
   },
   {
    "duration": 148,
    "start_time": "2023-09-08T19:46:06.237Z"
   },
   {
    "duration": 128,
    "start_time": "2023-09-08T19:46:06.388Z"
   },
   {
    "duration": 243,
    "start_time": "2023-09-08T19:46:06.524Z"
   },
   {
    "duration": 56,
    "start_time": "2023-09-08T19:46:06.769Z"
   },
   {
    "duration": 899,
    "start_time": "2023-09-08T19:46:06.826Z"
   },
   {
    "duration": 465,
    "start_time": "2023-09-08T19:46:07.727Z"
   },
   {
    "duration": 4,
    "start_time": "2023-09-08T19:46:08.194Z"
   },
   {
    "duration": 68,
    "start_time": "2023-09-08T19:46:08.200Z"
   },
   {
    "duration": 6,
    "start_time": "2023-09-08T19:46:08.270Z"
   },
   {
    "duration": 69,
    "start_time": "2023-09-08T19:46:08.278Z"
   },
   {
    "duration": 3,
    "start_time": "2023-09-08T19:46:08.349Z"
   },
   {
    "duration": 55981,
    "start_time": "2023-09-08T19:46:08.354Z"
   },
   {
    "duration": 10,
    "start_time": "2023-09-08T20:26:25.625Z"
   },
   {
    "duration": 1485,
    "start_time": "2023-09-08T20:29:31.280Z"
   },
   {
    "duration": 927,
    "start_time": "2023-09-08T20:29:32.767Z"
   },
   {
    "duration": 105,
    "start_time": "2023-09-08T20:29:33.696Z"
   },
   {
    "duration": 154,
    "start_time": "2023-09-08T20:29:33.803Z"
   },
   {
    "duration": 40,
    "start_time": "2023-09-08T20:29:33.959Z"
   },
   {
    "duration": 68,
    "start_time": "2023-09-08T20:29:34.000Z"
   },
   {
    "duration": 198,
    "start_time": "2023-09-08T20:29:34.070Z"
   },
   {
    "duration": 78,
    "start_time": "2023-09-08T20:29:34.270Z"
   },
   {
    "duration": 132,
    "start_time": "2023-09-08T20:29:34.350Z"
   },
   {
    "duration": 125,
    "start_time": "2023-09-08T20:29:34.484Z"
   },
   {
    "duration": 246,
    "start_time": "2023-09-08T20:29:34.611Z"
   },
   {
    "duration": 50,
    "start_time": "2023-09-08T20:29:34.858Z"
   },
   {
    "duration": 893,
    "start_time": "2023-09-08T20:29:34.910Z"
   },
   {
    "duration": 499,
    "start_time": "2023-09-08T20:29:35.807Z"
   },
   {
    "duration": 4,
    "start_time": "2023-09-08T20:29:36.308Z"
   },
   {
    "duration": 66,
    "start_time": "2023-09-08T20:29:36.324Z"
   },
   {
    "duration": 5,
    "start_time": "2023-09-08T20:29:36.391Z"
   },
   {
    "duration": 28,
    "start_time": "2023-09-08T20:29:36.398Z"
   },
   {
    "duration": 67,
    "start_time": "2023-09-08T20:29:36.428Z"
   },
   {
    "duration": 3,
    "start_time": "2023-09-08T20:29:36.497Z"
   },
   {
    "duration": 58738,
    "start_time": "2023-09-08T20:29:36.502Z"
   },
   {
    "duration": 103,
    "start_time": "2023-09-08T20:38:55.182Z"
   },
   {
    "duration": 22,
    "start_time": "2023-09-08T20:38:59.218Z"
   },
   {
    "duration": 1374,
    "start_time": "2023-09-08T20:39:18.233Z"
   },
   {
    "duration": 882,
    "start_time": "2023-09-08T20:39:19.609Z"
   },
   {
    "duration": 110,
    "start_time": "2023-09-08T20:39:20.493Z"
   },
   {
    "duration": 163,
    "start_time": "2023-09-08T20:39:20.605Z"
   },
   {
    "duration": 60,
    "start_time": "2023-09-08T20:39:20.771Z"
   },
   {
    "duration": 55,
    "start_time": "2023-09-08T20:39:20.832Z"
   },
   {
    "duration": 131,
    "start_time": "2023-09-08T20:39:20.888Z"
   },
   {
    "duration": 70,
    "start_time": "2023-09-08T20:39:21.024Z"
   },
   {
    "duration": 121,
    "start_time": "2023-09-08T20:39:21.095Z"
   },
   {
    "duration": 135,
    "start_time": "2023-09-08T20:39:21.218Z"
   },
   {
    "duration": 240,
    "start_time": "2023-09-08T20:39:21.355Z"
   },
   {
    "duration": 56,
    "start_time": "2023-09-08T20:39:21.598Z"
   },
   {
    "duration": 846,
    "start_time": "2023-09-08T20:39:21.655Z"
   },
   {
    "duration": 442,
    "start_time": "2023-09-08T20:39:22.504Z"
   },
   {
    "duration": 4,
    "start_time": "2023-09-08T20:39:22.948Z"
   },
   {
    "duration": 53,
    "start_time": "2023-09-08T20:39:22.953Z"
   },
   {
    "duration": 17,
    "start_time": "2023-09-08T20:39:23.008Z"
   },
   {
    "duration": 124,
    "start_time": "2023-09-08T20:39:23.027Z"
   },
   {
    "duration": 5,
    "start_time": "2023-09-08T20:39:23.152Z"
   },
   {
    "duration": 53,
    "start_time": "2023-09-08T20:39:23.158Z"
   },
   {
    "duration": 14,
    "start_time": "2023-09-08T20:39:23.213Z"
   },
   {
    "duration": 52903,
    "start_time": "2023-09-08T20:39:23.228Z"
   },
   {
    "duration": 11,
    "start_time": "2023-09-08T20:43:59.424Z"
   },
   {
    "duration": 7,
    "start_time": "2023-09-08T20:44:17.538Z"
   },
   {
    "duration": 5,
    "start_time": "2023-09-08T20:44:23.177Z"
   },
   {
    "duration": 6,
    "start_time": "2023-09-08T20:44:31.390Z"
   },
   {
    "duration": 6,
    "start_time": "2023-09-08T20:44:37.075Z"
   },
   {
    "duration": 6,
    "start_time": "2023-09-08T20:44:41.044Z"
   },
   {
    "duration": 6,
    "start_time": "2023-09-08T20:44:48.825Z"
   },
   {
    "duration": 443,
    "start_time": "2023-09-08T20:48:31.916Z"
   },
   {
    "duration": 1443,
    "start_time": "2023-09-08T20:50:41.364Z"
   },
   {
    "duration": 900,
    "start_time": "2023-09-08T20:50:42.809Z"
   },
   {
    "duration": 95,
    "start_time": "2023-09-08T20:50:43.710Z"
   },
   {
    "duration": 144,
    "start_time": "2023-09-08T20:50:43.807Z"
   },
   {
    "duration": 93,
    "start_time": "2023-09-08T20:50:43.953Z"
   },
   {
    "duration": 168,
    "start_time": "2023-09-08T20:50:44.047Z"
   },
   {
    "duration": 115,
    "start_time": "2023-09-08T20:50:44.216Z"
   },
   {
    "duration": 72,
    "start_time": "2023-09-08T20:50:44.333Z"
   },
   {
    "duration": 494,
    "start_time": "2023-09-08T20:50:44.406Z"
   },
   {
    "duration": 130,
    "start_time": "2023-09-08T20:50:44.903Z"
   },
   {
    "duration": 259,
    "start_time": "2023-09-08T20:50:45.035Z"
   },
   {
    "duration": 0,
    "start_time": "2023-09-08T20:50:45.297Z"
   },
   {
    "duration": 0,
    "start_time": "2023-09-08T20:50:45.298Z"
   },
   {
    "duration": 0,
    "start_time": "2023-09-08T20:50:45.300Z"
   },
   {
    "duration": 0,
    "start_time": "2023-09-08T20:50:45.301Z"
   },
   {
    "duration": 0,
    "start_time": "2023-09-08T20:50:45.302Z"
   },
   {
    "duration": 0,
    "start_time": "2023-09-08T20:50:45.303Z"
   },
   {
    "duration": 0,
    "start_time": "2023-09-08T20:50:45.304Z"
   },
   {
    "duration": 0,
    "start_time": "2023-09-08T20:50:45.323Z"
   },
   {
    "duration": 0,
    "start_time": "2023-09-08T20:50:45.325Z"
   },
   {
    "duration": 0,
    "start_time": "2023-09-08T20:50:45.326Z"
   },
   {
    "duration": 0,
    "start_time": "2023-09-08T20:50:45.327Z"
   },
   {
    "duration": 0,
    "start_time": "2023-09-08T20:50:45.328Z"
   },
   {
    "duration": 1454,
    "start_time": "2023-09-08T20:51:00.418Z"
   },
   {
    "duration": 936,
    "start_time": "2023-09-08T20:51:01.874Z"
   },
   {
    "duration": 97,
    "start_time": "2023-09-08T20:51:02.812Z"
   },
   {
    "duration": 147,
    "start_time": "2023-09-08T20:51:02.911Z"
   },
   {
    "duration": 48,
    "start_time": "2023-09-08T20:51:03.060Z"
   },
   {
    "duration": 55,
    "start_time": "2023-09-08T20:51:03.109Z"
   },
   {
    "duration": 120,
    "start_time": "2023-09-08T20:51:03.166Z"
   },
   {
    "duration": 71,
    "start_time": "2023-09-08T20:51:03.288Z"
   },
   {
    "duration": 120,
    "start_time": "2023-09-08T20:51:03.361Z"
   },
   {
    "duration": 124,
    "start_time": "2023-09-08T20:51:03.483Z"
   },
   {
    "duration": 237,
    "start_time": "2023-09-08T20:51:03.609Z"
   },
   {
    "duration": 47,
    "start_time": "2023-09-08T20:51:03.848Z"
   },
   {
    "duration": 850,
    "start_time": "2023-09-08T20:51:03.897Z"
   },
   {
    "duration": 435,
    "start_time": "2023-09-08T20:51:04.751Z"
   },
   {
    "duration": 4,
    "start_time": "2023-09-08T20:51:05.189Z"
   },
   {
    "duration": 64,
    "start_time": "2023-09-08T20:51:05.195Z"
   },
   {
    "duration": 5,
    "start_time": "2023-09-08T20:51:05.261Z"
   },
   {
    "duration": 131,
    "start_time": "2023-09-08T20:51:05.268Z"
   },
   {
    "duration": 5,
    "start_time": "2023-09-08T20:51:05.401Z"
   },
   {
    "duration": 56,
    "start_time": "2023-09-08T20:51:05.408Z"
   },
   {
    "duration": 443,
    "start_time": "2023-09-08T20:51:05.465Z"
   },
   {
    "duration": 15,
    "start_time": "2023-09-08T20:51:05.910Z"
   },
   {
    "duration": 431730,
    "start_time": "2023-09-08T20:51:05.927Z"
   },
   {
    "duration": 68,
    "start_time": "2023-09-08T21:02:00.417Z"
   },
   {
    "duration": 3,
    "start_time": "2023-09-08T21:02:36.968Z"
   },
   {
    "duration": 31,
    "start_time": "2023-09-08T21:02:44.274Z"
   },
   {
    "duration": 410,
    "start_time": "2023-09-08T21:02:59.494Z"
   },
   {
    "duration": 1312,
    "start_time": "2023-09-08T22:08:46.260Z"
   },
   {
    "duration": 1173,
    "start_time": "2023-09-08T22:08:47.574Z"
   },
   {
    "duration": 100,
    "start_time": "2023-09-08T22:08:48.748Z"
   },
   {
    "duration": 140,
    "start_time": "2023-09-08T22:08:48.849Z"
   },
   {
    "duration": 45,
    "start_time": "2023-09-08T22:08:48.991Z"
   },
   {
    "duration": 49,
    "start_time": "2023-09-08T22:08:49.038Z"
   },
   {
    "duration": 129,
    "start_time": "2023-09-08T22:08:49.088Z"
   },
   {
    "duration": 71,
    "start_time": "2023-09-08T22:08:49.219Z"
   },
   {
    "duration": 115,
    "start_time": "2023-09-08T22:08:49.291Z"
   },
   {
    "duration": 125,
    "start_time": "2023-09-08T22:08:49.408Z"
   },
   {
    "duration": 231,
    "start_time": "2023-09-08T22:08:49.534Z"
   },
   {
    "duration": 44,
    "start_time": "2023-09-08T22:08:49.767Z"
   },
   {
    "duration": 843,
    "start_time": "2023-09-08T22:08:49.823Z"
   },
   {
    "duration": 442,
    "start_time": "2023-09-08T22:08:50.669Z"
   },
   {
    "duration": 3,
    "start_time": "2023-09-08T22:08:51.113Z"
   },
   {
    "duration": 127,
    "start_time": "2023-09-08T22:08:51.117Z"
   },
   {
    "duration": 5,
    "start_time": "2023-09-08T22:08:51.245Z"
   },
   {
    "duration": 132,
    "start_time": "2023-09-08T22:08:51.252Z"
   },
   {
    "duration": 5,
    "start_time": "2023-09-08T22:08:51.386Z"
   },
   {
    "duration": 44,
    "start_time": "2023-09-08T22:08:51.392Z"
   },
   {
    "duration": 415,
    "start_time": "2023-09-08T22:08:51.437Z"
   },
   {
    "duration": 414,
    "start_time": "2023-09-08T22:08:51.853Z"
   },
   {
    "duration": 3,
    "start_time": "2023-09-08T22:08:52.269Z"
   },
   {
    "duration": 1442,
    "start_time": "2023-09-08T22:09:49.194Z"
   },
   {
    "duration": 932,
    "start_time": "2023-09-08T22:09:50.638Z"
   },
   {
    "duration": 104,
    "start_time": "2023-09-08T22:09:51.573Z"
   },
   {
    "duration": 138,
    "start_time": "2023-09-08T22:09:51.679Z"
   },
   {
    "duration": 37,
    "start_time": "2023-09-08T22:09:51.825Z"
   },
   {
    "duration": 63,
    "start_time": "2023-09-08T22:09:51.864Z"
   },
   {
    "duration": 96,
    "start_time": "2023-09-08T22:09:51.929Z"
   },
   {
    "duration": 70,
    "start_time": "2023-09-08T22:09:52.027Z"
   },
   {
    "duration": 117,
    "start_time": "2023-09-08T22:09:52.098Z"
   },
   {
    "duration": 137,
    "start_time": "2023-09-08T22:09:52.217Z"
   },
   {
    "duration": 238,
    "start_time": "2023-09-08T22:09:52.356Z"
   },
   {
    "duration": 55,
    "start_time": "2023-09-08T22:09:52.595Z"
   },
   {
    "duration": 829,
    "start_time": "2023-09-08T22:09:52.652Z"
   },
   {
    "duration": 455,
    "start_time": "2023-09-08T22:09:53.483Z"
   },
   {
    "duration": 4,
    "start_time": "2023-09-08T22:09:53.939Z"
   },
   {
    "duration": 69,
    "start_time": "2023-09-08T22:09:53.945Z"
   },
   {
    "duration": 9,
    "start_time": "2023-09-08T22:09:54.016Z"
   },
   {
    "duration": 150,
    "start_time": "2023-09-08T22:09:54.027Z"
   },
   {
    "duration": 6,
    "start_time": "2023-09-08T22:09:54.179Z"
   },
   {
    "duration": 47,
    "start_time": "2023-09-08T22:09:54.187Z"
   },
   {
    "duration": 417,
    "start_time": "2023-09-08T22:09:54.236Z"
   },
   {
    "duration": 404,
    "start_time": "2023-09-08T22:09:54.655Z"
   },
   {
    "duration": 3,
    "start_time": "2023-09-08T22:09:55.061Z"
   },
   {
    "duration": 1342,
    "start_time": "2023-09-09T07:22:53.056Z"
   },
   {
    "duration": 1164,
    "start_time": "2023-09-09T07:22:54.400Z"
   },
   {
    "duration": 101,
    "start_time": "2023-09-09T07:22:55.566Z"
   },
   {
    "duration": 183,
    "start_time": "2023-09-09T07:22:55.669Z"
   },
   {
    "duration": 55,
    "start_time": "2023-09-09T07:22:55.855Z"
   },
   {
    "duration": 62,
    "start_time": "2023-09-09T07:22:55.927Z"
   },
   {
    "duration": 227,
    "start_time": "2023-09-09T07:22:55.991Z"
   },
   {
    "duration": 134,
    "start_time": "2023-09-09T07:22:56.220Z"
   },
   {
    "duration": 243,
    "start_time": "2023-09-09T07:22:56.356Z"
   },
   {
    "duration": 138,
    "start_time": "2023-09-09T07:22:56.601Z"
   },
   {
    "duration": 240,
    "start_time": "2023-09-09T07:22:56.740Z"
   },
   {
    "duration": 55,
    "start_time": "2023-09-09T07:22:56.982Z"
   },
   {
    "duration": 858,
    "start_time": "2023-09-09T07:22:57.039Z"
   },
   {
    "duration": 461,
    "start_time": "2023-09-09T07:22:57.899Z"
   },
   {
    "duration": 4,
    "start_time": "2023-09-09T07:22:58.361Z"
   },
   {
    "duration": 82,
    "start_time": "2023-09-09T07:22:58.366Z"
   },
   {
    "duration": 7,
    "start_time": "2023-09-09T07:22:58.450Z"
   },
   {
    "duration": 143,
    "start_time": "2023-09-09T07:22:58.459Z"
   },
   {
    "duration": 4,
    "start_time": "2023-09-09T07:22:58.604Z"
   },
   {
    "duration": 40,
    "start_time": "2023-09-09T07:22:58.610Z"
   },
   {
    "duration": 458,
    "start_time": "2023-09-09T07:22:58.652Z"
   },
   {
    "duration": 402,
    "start_time": "2023-09-09T07:22:59.112Z"
   },
   {
    "duration": 111,
    "start_time": "2023-09-09T07:22:59.516Z"
   },
   {
    "duration": 0,
    "start_time": "2023-09-09T07:22:59.629Z"
   },
   {
    "duration": 0,
    "start_time": "2023-09-09T07:22:59.630Z"
   },
   {
    "duration": 1485,
    "start_time": "2023-09-09T07:24:32.467Z"
   },
   {
    "duration": 919,
    "start_time": "2023-09-09T07:24:33.954Z"
   },
   {
    "duration": 124,
    "start_time": "2023-09-09T07:24:34.875Z"
   },
   {
    "duration": 162,
    "start_time": "2023-09-09T07:24:35.001Z"
   },
   {
    "duration": 40,
    "start_time": "2023-09-09T07:24:35.166Z"
   },
   {
    "duration": 63,
    "start_time": "2023-09-09T07:24:35.207Z"
   },
   {
    "duration": 122,
    "start_time": "2023-09-09T07:24:35.272Z"
   },
   {
    "duration": 95,
    "start_time": "2023-09-09T07:24:35.396Z"
   },
   {
    "duration": 146,
    "start_time": "2023-09-09T07:24:35.493Z"
   },
   {
    "duration": 142,
    "start_time": "2023-09-09T07:24:35.641Z"
   },
   {
    "duration": 321,
    "start_time": "2023-09-09T07:24:35.785Z"
   },
   {
    "duration": 63,
    "start_time": "2023-09-09T07:24:36.108Z"
   },
   {
    "duration": 937,
    "start_time": "2023-09-09T07:24:36.173Z"
   },
   {
    "duration": 492,
    "start_time": "2023-09-09T07:24:37.113Z"
   },
   {
    "duration": 4,
    "start_time": "2023-09-09T07:24:37.607Z"
   },
   {
    "duration": 101,
    "start_time": "2023-09-09T07:24:37.613Z"
   },
   {
    "duration": 5,
    "start_time": "2023-09-09T07:24:37.716Z"
   },
   {
    "duration": 127,
    "start_time": "2023-09-09T07:24:37.723Z"
   },
   {
    "duration": 5,
    "start_time": "2023-09-09T07:24:37.852Z"
   },
   {
    "duration": 39,
    "start_time": "2023-09-09T07:24:37.859Z"
   },
   {
    "duration": 456,
    "start_time": "2023-09-09T07:24:37.900Z"
   },
   {
    "duration": 413,
    "start_time": "2023-09-09T07:24:38.357Z"
   },
   {
    "duration": 2,
    "start_time": "2023-09-09T07:24:38.772Z"
   },
   {
    "duration": 66,
    "start_time": "2023-09-09T07:24:38.776Z"
   },
   {
    "duration": 0,
    "start_time": "2023-09-09T07:24:38.844Z"
   },
   {
    "duration": 223,
    "start_time": "2023-09-09T07:25:43.239Z"
   },
   {
    "duration": 1537,
    "start_time": "2023-09-09T07:26:12.839Z"
   },
   {
    "duration": 927,
    "start_time": "2023-09-09T07:26:14.378Z"
   },
   {
    "duration": 105,
    "start_time": "2023-09-09T07:26:15.307Z"
   },
   {
    "duration": 157,
    "start_time": "2023-09-09T07:26:15.413Z"
   },
   {
    "duration": 39,
    "start_time": "2023-09-09T07:26:15.572Z"
   },
   {
    "duration": 65,
    "start_time": "2023-09-09T07:26:15.613Z"
   },
   {
    "duration": 124,
    "start_time": "2023-09-09T07:26:15.680Z"
   },
   {
    "duration": 94,
    "start_time": "2023-09-09T07:26:15.807Z"
   },
   {
    "duration": 205,
    "start_time": "2023-09-09T07:26:15.903Z"
   },
   {
    "duration": 248,
    "start_time": "2023-09-09T07:26:16.110Z"
   },
   {
    "duration": 251,
    "start_time": "2023-09-09T07:26:16.359Z"
   },
   {
    "duration": 58,
    "start_time": "2023-09-09T07:26:16.612Z"
   },
   {
    "duration": 937,
    "start_time": "2023-09-09T07:26:16.671Z"
   },
   {
    "duration": 472,
    "start_time": "2023-09-09T07:26:17.610Z"
   },
   {
    "duration": 4,
    "start_time": "2023-09-09T07:26:18.084Z"
   },
   {
    "duration": 72,
    "start_time": "2023-09-09T07:26:18.089Z"
   },
   {
    "duration": 5,
    "start_time": "2023-09-09T07:26:18.162Z"
   },
   {
    "duration": 132,
    "start_time": "2023-09-09T07:26:18.169Z"
   },
   {
    "duration": 4,
    "start_time": "2023-09-09T07:26:18.303Z"
   },
   {
    "duration": 47,
    "start_time": "2023-09-09T07:26:18.308Z"
   },
   {
    "duration": 432,
    "start_time": "2023-09-09T07:26:18.356Z"
   },
   {
    "duration": 432,
    "start_time": "2023-09-09T07:26:18.790Z"
   },
   {
    "duration": 5,
    "start_time": "2023-09-09T07:26:19.225Z"
   },
   {
    "duration": 323,
    "start_time": "2023-09-09T07:26:19.232Z"
   },
   {
    "duration": 80,
    "start_time": "2023-09-09T07:26:19.557Z"
   },
   {
    "duration": 418,
    "start_time": "2023-09-09T07:26:46.741Z"
   },
   {
    "duration": 3,
    "start_time": "2023-09-09T07:27:17.223Z"
   },
   {
    "duration": 13867,
    "start_time": "2023-09-09T07:27:18.792Z"
   },
   {
    "duration": 3,
    "start_time": "2023-09-09T07:31:28.094Z"
   },
   {
    "duration": 48,
    "start_time": "2023-09-09T09:38:40.284Z"
   },
   {
    "duration": 1737,
    "start_time": "2023-09-09T09:38:49.012Z"
   },
   {
    "duration": 1161,
    "start_time": "2023-09-09T09:38:50.751Z"
   },
   {
    "duration": 94,
    "start_time": "2023-09-09T09:38:51.913Z"
   },
   {
    "duration": 138,
    "start_time": "2023-09-09T09:38:52.009Z"
   },
   {
    "duration": 111,
    "start_time": "2023-09-09T09:38:52.149Z"
   },
   {
    "duration": 76,
    "start_time": "2023-09-09T09:38:52.261Z"
   },
   {
    "duration": 114,
    "start_time": "2023-09-09T09:38:52.338Z"
   },
   {
    "duration": 76,
    "start_time": "2023-09-09T09:38:52.454Z"
   },
   {
    "duration": 136,
    "start_time": "2023-09-09T09:38:52.532Z"
   },
   {
    "duration": 142,
    "start_time": "2023-09-09T09:38:52.671Z"
   },
   {
    "duration": 248,
    "start_time": "2023-09-09T09:38:52.815Z"
   },
   {
    "duration": 59,
    "start_time": "2023-09-09T09:38:53.065Z"
   },
   {
    "duration": 836,
    "start_time": "2023-09-09T09:38:53.125Z"
   },
   {
    "duration": 443,
    "start_time": "2023-09-09T09:38:53.963Z"
   },
   {
    "duration": 4,
    "start_time": "2023-09-09T09:38:54.408Z"
   },
   {
    "duration": 53,
    "start_time": "2023-09-09T09:38:54.423Z"
   },
   {
    "duration": 4,
    "start_time": "2023-09-09T09:38:54.478Z"
   },
   {
    "duration": 122,
    "start_time": "2023-09-09T09:38:54.484Z"
   },
   {
    "duration": 5,
    "start_time": "2023-09-09T09:38:54.608Z"
   },
   {
    "duration": 29,
    "start_time": "2023-09-09T09:38:54.625Z"
   },
   {
    "duration": 408,
    "start_time": "2023-09-09T09:38:54.656Z"
   },
   {
    "duration": 406,
    "start_time": "2023-09-09T09:38:55.066Z"
   },
   {
    "duration": 4,
    "start_time": "2023-09-09T09:38:55.474Z"
   },
   {
    "duration": 12488,
    "start_time": "2023-09-09T09:38:55.480Z"
   },
   {
    "duration": 3,
    "start_time": "2023-09-09T09:39:07.970Z"
   },
   {
    "duration": 268,
    "start_time": "2023-09-09T09:39:46.070Z"
   },
   {
    "duration": 4,
    "start_time": "2023-09-09T09:39:56.288Z"
   },
   {
    "duration": 918,
    "start_time": "2023-09-09T09:39:56.294Z"
   },
   {
    "duration": 101,
    "start_time": "2023-09-09T09:39:57.214Z"
   },
   {
    "duration": 153,
    "start_time": "2023-09-09T09:39:57.317Z"
   },
   {
    "duration": 65,
    "start_time": "2023-09-09T09:39:57.472Z"
   },
   {
    "duration": 38,
    "start_time": "2023-09-09T09:39:57.539Z"
   },
   {
    "duration": 93,
    "start_time": "2023-09-09T09:39:57.580Z"
   },
   {
    "duration": 80,
    "start_time": "2023-09-09T09:39:57.674Z"
   },
   {
    "duration": 282,
    "start_time": "2023-09-09T09:39:57.756Z"
   },
   {
    "duration": 126,
    "start_time": "2023-09-09T09:39:58.040Z"
   },
   {
    "duration": 244,
    "start_time": "2023-09-09T09:39:58.169Z"
   },
   {
    "duration": 54,
    "start_time": "2023-09-09T09:39:58.415Z"
   },
   {
    "duration": 778,
    "start_time": "2023-09-09T09:39:58.470Z"
   },
   {
    "duration": 454,
    "start_time": "2023-09-09T09:39:59.250Z"
   },
   {
    "duration": 4,
    "start_time": "2023-09-09T09:39:59.706Z"
   },
   {
    "duration": 94,
    "start_time": "2023-09-09T09:39:59.712Z"
   },
   {
    "duration": 5,
    "start_time": "2023-09-09T09:39:59.807Z"
   },
   {
    "duration": 143,
    "start_time": "2023-09-09T09:39:59.813Z"
   },
   {
    "duration": 5,
    "start_time": "2023-09-09T09:39:59.957Z"
   },
   {
    "duration": 54,
    "start_time": "2023-09-09T09:39:59.963Z"
   },
   {
    "duration": 479,
    "start_time": "2023-09-09T09:40:00.018Z"
   },
   {
    "duration": 437,
    "start_time": "2023-09-09T09:40:00.499Z"
   },
   {
    "duration": 3,
    "start_time": "2023-09-09T09:40:00.938Z"
   },
   {
    "duration": 45648,
    "start_time": "2023-09-09T09:40:00.943Z"
   },
   {
    "duration": 4,
    "start_time": "2023-09-09T09:40:46.592Z"
   },
   {
    "duration": 123,
    "start_time": "2023-09-09T09:48:46.606Z"
   },
   {
    "duration": 4,
    "start_time": "2023-09-09T09:49:00.061Z"
   },
   {
    "duration": 111,
    "start_time": "2023-09-09T09:49:02.245Z"
   },
   {
    "duration": 511,
    "start_time": "2023-09-09T09:49:17.468Z"
   },
   {
    "duration": 3,
    "start_time": "2023-09-09T09:57:20.643Z"
   },
   {
    "duration": 495,
    "start_time": "2023-09-09T09:57:22.532Z"
   },
   {
    "duration": 12,
    "start_time": "2023-09-09T09:57:41.452Z"
   },
   {
    "duration": 10,
    "start_time": "2023-09-09T10:03:45.674Z"
   },
   {
    "duration": 3,
    "start_time": "2023-09-09T10:03:50.726Z"
   },
   {
    "duration": 143,
    "start_time": "2023-09-09T10:04:15.976Z"
   },
   {
    "duration": 98,
    "start_time": "2023-09-09T10:04:42.520Z"
   },
   {
    "duration": 1564,
    "start_time": "2023-09-09T10:04:52.559Z"
   },
   {
    "duration": 1174,
    "start_time": "2023-09-09T10:04:54.125Z"
   },
   {
    "duration": 94,
    "start_time": "2023-09-09T10:04:55.300Z"
   },
   {
    "duration": 143,
    "start_time": "2023-09-09T10:04:55.396Z"
   },
   {
    "duration": 46,
    "start_time": "2023-09-09T10:04:55.541Z"
   },
   {
    "duration": 62,
    "start_time": "2023-09-09T10:04:55.589Z"
   },
   {
    "duration": 116,
    "start_time": "2023-09-09T10:04:55.653Z"
   },
   {
    "duration": 91,
    "start_time": "2023-09-09T10:04:55.771Z"
   },
   {
    "duration": 147,
    "start_time": "2023-09-09T10:04:55.864Z"
   },
   {
    "duration": 129,
    "start_time": "2023-09-09T10:04:56.013Z"
   },
   {
    "duration": 230,
    "start_time": "2023-09-09T10:04:56.143Z"
   },
   {
    "duration": 57,
    "start_time": "2023-09-09T10:04:56.375Z"
   },
   {
    "duration": 843,
    "start_time": "2023-09-09T10:04:56.433Z"
   },
   {
    "duration": 440,
    "start_time": "2023-09-09T10:04:57.279Z"
   },
   {
    "duration": 4,
    "start_time": "2023-09-09T10:04:57.723Z"
   },
   {
    "duration": 48,
    "start_time": "2023-09-09T10:04:57.728Z"
   },
   {
    "duration": 5,
    "start_time": "2023-09-09T10:04:57.778Z"
   },
   {
    "duration": 133,
    "start_time": "2023-09-09T10:04:57.784Z"
   },
   {
    "duration": 7,
    "start_time": "2023-09-09T10:04:57.919Z"
   },
   {
    "duration": 32,
    "start_time": "2023-09-09T10:04:57.928Z"
   },
   {
    "duration": 415,
    "start_time": "2023-09-09T10:04:57.962Z"
   },
   {
    "duration": 393,
    "start_time": "2023-09-09T10:04:58.378Z"
   },
   {
    "duration": 3,
    "start_time": "2023-09-09T10:04:58.773Z"
   },
   {
    "duration": 45077,
    "start_time": "2023-09-09T10:04:58.777Z"
   },
   {
    "duration": 3,
    "start_time": "2023-09-09T10:05:43.855Z"
   },
   {
    "duration": 146,
    "start_time": "2023-09-09T10:09:25.491Z"
   },
   {
    "duration": 1465,
    "start_time": "2023-09-09T10:09:34.887Z"
   },
   {
    "duration": 1193,
    "start_time": "2023-09-09T10:09:36.354Z"
   },
   {
    "duration": 99,
    "start_time": "2023-09-09T10:09:37.548Z"
   },
   {
    "duration": 152,
    "start_time": "2023-09-09T10:09:37.649Z"
   },
   {
    "duration": 51,
    "start_time": "2023-09-09T10:09:37.803Z"
   },
   {
    "duration": 71,
    "start_time": "2023-09-09T10:09:37.856Z"
   },
   {
    "duration": 109,
    "start_time": "2023-09-09T10:09:37.931Z"
   },
   {
    "duration": 82,
    "start_time": "2023-09-09T10:09:38.042Z"
   },
   {
    "duration": 115,
    "start_time": "2023-09-09T10:09:38.126Z"
   },
   {
    "duration": 136,
    "start_time": "2023-09-09T10:09:38.243Z"
   },
   {
    "duration": 244,
    "start_time": "2023-09-09T10:09:38.381Z"
   },
   {
    "duration": 51,
    "start_time": "2023-09-09T10:09:38.627Z"
   },
   {
    "duration": 884,
    "start_time": "2023-09-09T10:09:38.680Z"
   },
   {
    "duration": 464,
    "start_time": "2023-09-09T10:09:39.565Z"
   },
   {
    "duration": 3,
    "start_time": "2023-09-09T10:09:40.031Z"
   },
   {
    "duration": 70,
    "start_time": "2023-09-09T10:09:40.036Z"
   },
   {
    "duration": 5,
    "start_time": "2023-09-09T10:09:40.108Z"
   },
   {
    "duration": 122,
    "start_time": "2023-09-09T10:09:40.115Z"
   },
   {
    "duration": 5,
    "start_time": "2023-09-09T10:09:40.239Z"
   },
   {
    "duration": 33,
    "start_time": "2023-09-09T10:09:40.245Z"
   },
   {
    "duration": 465,
    "start_time": "2023-09-09T10:09:40.281Z"
   },
   {
    "duration": 434,
    "start_time": "2023-09-09T10:09:40.748Z"
   },
   {
    "duration": 3,
    "start_time": "2023-09-09T10:09:41.184Z"
   },
   {
    "duration": 40869,
    "start_time": "2023-09-09T10:09:41.189Z"
   },
   {
    "duration": 3,
    "start_time": "2023-09-09T10:10:22.060Z"
   },
   {
    "duration": 1563,
    "start_time": "2023-09-09T10:15:17.371Z"
   },
   {
    "duration": 131,
    "start_time": "2023-09-09T10:33:16.159Z"
   },
   {
    "duration": 3,
    "start_time": "2023-09-09T10:33:24.073Z"
   },
   {
    "duration": 88,
    "start_time": "2023-09-09T10:35:50.468Z"
   },
   {
    "duration": 1392,
    "start_time": "2023-09-09T10:36:06.789Z"
   },
   {
    "duration": 1119,
    "start_time": "2023-09-09T10:36:08.183Z"
   },
   {
    "duration": 91,
    "start_time": "2023-09-09T10:36:09.303Z"
   },
   {
    "duration": 146,
    "start_time": "2023-09-09T10:36:09.396Z"
   },
   {
    "duration": 44,
    "start_time": "2023-09-09T10:36:09.544Z"
   },
   {
    "duration": 54,
    "start_time": "2023-09-09T10:36:09.589Z"
   },
   {
    "duration": 149,
    "start_time": "2023-09-09T10:36:09.645Z"
   },
   {
    "duration": 73,
    "start_time": "2023-09-09T10:36:09.795Z"
   },
   {
    "duration": 122,
    "start_time": "2023-09-09T10:36:09.869Z"
   },
   {
    "duration": 125,
    "start_time": "2023-09-09T10:36:09.993Z"
   },
   {
    "duration": 248,
    "start_time": "2023-09-09T10:36:10.119Z"
   },
   {
    "duration": 61,
    "start_time": "2023-09-09T10:36:10.369Z"
   },
   {
    "duration": 837,
    "start_time": "2023-09-09T10:36:10.431Z"
   },
   {
    "duration": 447,
    "start_time": "2023-09-09T10:36:11.270Z"
   },
   {
    "duration": 5,
    "start_time": "2023-09-09T10:36:11.719Z"
   },
   {
    "duration": 78,
    "start_time": "2023-09-09T10:36:11.725Z"
   },
   {
    "duration": 5,
    "start_time": "2023-09-09T10:36:11.805Z"
   },
   {
    "duration": 114,
    "start_time": "2023-09-09T10:36:11.812Z"
   },
   {
    "duration": 5,
    "start_time": "2023-09-09T10:36:11.928Z"
   },
   {
    "duration": 31,
    "start_time": "2023-09-09T10:36:11.935Z"
   },
   {
    "duration": 425,
    "start_time": "2023-09-09T10:36:11.968Z"
   },
   {
    "duration": 404,
    "start_time": "2023-09-09T10:36:12.395Z"
   },
   {
    "duration": 3,
    "start_time": "2023-09-09T10:36:12.801Z"
   },
   {
    "duration": 11459,
    "start_time": "2023-09-09T10:36:12.805Z"
   },
   {
    "duration": 2,
    "start_time": "2023-09-09T10:36:24.266Z"
   },
   {
    "duration": 1394,
    "start_time": "2023-09-09T10:38:17.190Z"
   },
   {
    "duration": 835,
    "start_time": "2023-09-09T10:38:18.586Z"
   },
   {
    "duration": 109,
    "start_time": "2023-09-09T10:38:19.422Z"
   },
   {
    "duration": 144,
    "start_time": "2023-09-09T10:38:19.533Z"
   },
   {
    "duration": 50,
    "start_time": "2023-09-09T10:38:19.680Z"
   },
   {
    "duration": 44,
    "start_time": "2023-09-09T10:38:19.731Z"
   },
   {
    "duration": 115,
    "start_time": "2023-09-09T10:38:19.777Z"
   },
   {
    "duration": 82,
    "start_time": "2023-09-09T10:38:19.893Z"
   },
   {
    "duration": 123,
    "start_time": "2023-09-09T10:38:19.976Z"
   },
   {
    "duration": 128,
    "start_time": "2023-09-09T10:38:20.100Z"
   },
   {
    "duration": 263,
    "start_time": "2023-09-09T10:38:20.230Z"
   },
   {
    "duration": 59,
    "start_time": "2023-09-09T10:38:20.495Z"
   },
   {
    "duration": 874,
    "start_time": "2023-09-09T10:38:20.556Z"
   },
   {
    "duration": 450,
    "start_time": "2023-09-09T10:38:21.433Z"
   },
   {
    "duration": 4,
    "start_time": "2023-09-09T10:38:21.884Z"
   },
   {
    "duration": 87,
    "start_time": "2023-09-09T10:38:21.890Z"
   },
   {
    "duration": 5,
    "start_time": "2023-09-09T10:38:21.978Z"
   },
   {
    "duration": 120,
    "start_time": "2023-09-09T10:38:21.985Z"
   },
   {
    "duration": 5,
    "start_time": "2023-09-09T10:38:22.107Z"
   },
   {
    "duration": 94,
    "start_time": "2023-09-09T10:38:22.113Z"
   },
   {
    "duration": 465,
    "start_time": "2023-09-09T10:38:22.209Z"
   },
   {
    "duration": 415,
    "start_time": "2023-09-09T10:38:22.676Z"
   },
   {
    "duration": 3,
    "start_time": "2023-09-09T10:38:23.093Z"
   },
   {
    "duration": 18076,
    "start_time": "2023-09-09T10:38:23.097Z"
   },
   {
    "duration": 3,
    "start_time": "2023-09-09T10:38:41.175Z"
   },
   {
    "duration": 669355,
    "start_time": "2023-09-09T10:38:41.179Z"
   },
   {
    "duration": 27,
    "start_time": "2023-09-09T11:43:43.477Z"
   },
   {
    "duration": 119,
    "start_time": "2023-09-09T12:00:33.435Z"
   },
   {
    "duration": 4252,
    "start_time": "2023-09-09T12:01:17.170Z"
   },
   {
    "duration": 3,
    "start_time": "2023-09-09T12:15:07.907Z"
   },
   {
    "duration": 49,
    "start_time": "2023-09-09T12:15:40.349Z"
   },
   {
    "duration": 2255,
    "start_time": "2023-09-09T12:27:21.550Z"
   },
   {
    "duration": 17,
    "start_time": "2023-09-09T12:28:54.149Z"
   },
   {
    "duration": 10,
    "start_time": "2023-09-09T12:29:11.340Z"
   },
   {
    "duration": 4,
    "start_time": "2023-09-09T14:51:19.333Z"
   },
   {
    "duration": 4143,
    "start_time": "2023-09-09T15:36:51.656Z"
   },
   {
    "duration": 993,
    "start_time": "2023-09-09T15:36:55.802Z"
   },
   {
    "duration": 117,
    "start_time": "2023-09-09T15:36:56.797Z"
   },
   {
    "duration": 205,
    "start_time": "2023-09-09T15:36:56.916Z"
   },
   {
    "duration": 54,
    "start_time": "2023-09-09T15:36:57.123Z"
   },
   {
    "duration": 67,
    "start_time": "2023-09-09T15:36:57.179Z"
   },
   {
    "duration": 136,
    "start_time": "2023-09-09T15:36:57.248Z"
   },
   {
    "duration": 86,
    "start_time": "2023-09-09T15:36:57.386Z"
   },
   {
    "duration": 163,
    "start_time": "2023-09-09T15:36:57.474Z"
   },
   {
    "duration": 130,
    "start_time": "2023-09-09T15:36:57.639Z"
   },
   {
    "duration": 269,
    "start_time": "2023-09-09T15:36:57.770Z"
   },
   {
    "duration": 49,
    "start_time": "2023-09-09T15:36:58.040Z"
   },
   {
    "duration": 901,
    "start_time": "2023-09-09T15:36:58.090Z"
   },
   {
    "duration": 493,
    "start_time": "2023-09-09T15:36:58.993Z"
   },
   {
    "duration": 4,
    "start_time": "2023-09-09T15:36:59.488Z"
   },
   {
    "duration": 267,
    "start_time": "2023-09-09T15:36:59.493Z"
   },
   {
    "duration": 4,
    "start_time": "2023-09-09T15:36:59.762Z"
   },
   {
    "duration": 178,
    "start_time": "2023-09-09T15:36:59.768Z"
   },
   {
    "duration": 5,
    "start_time": "2023-09-09T15:36:59.947Z"
   },
   {
    "duration": 106,
    "start_time": "2023-09-09T15:36:59.954Z"
   },
   {
    "duration": 680,
    "start_time": "2023-09-09T15:37:00.062Z"
   },
   {
    "duration": 663,
    "start_time": "2023-09-09T15:37:00.743Z"
   },
   {
    "duration": 3,
    "start_time": "2023-09-09T15:37:01.407Z"
   },
   {
    "duration": 87581,
    "start_time": "2023-09-09T15:37:01.412Z"
   },
   {
    "duration": 3,
    "start_time": "2023-09-09T15:38:28.995Z"
   },
   {
    "duration": 1407037,
    "start_time": "2023-09-09T15:38:29.000Z"
   },
   {
    "duration": 7,
    "start_time": "2023-09-09T16:01:56.040Z"
   },
   {
    "duration": 5709,
    "start_time": "2023-09-09T19:37:01.635Z"
   },
   {
    "duration": 2773,
    "start_time": "2023-09-09T19:37:07.346Z"
   },
   {
    "duration": 86,
    "start_time": "2023-09-09T19:37:10.120Z"
   },
   {
    "duration": 137,
    "start_time": "2023-09-09T19:37:10.208Z"
   },
   {
    "duration": 34,
    "start_time": "2023-09-09T19:37:10.346Z"
   },
   {
    "duration": 35,
    "start_time": "2023-09-09T19:37:10.382Z"
   },
   {
    "duration": 102,
    "start_time": "2023-09-09T19:37:10.418Z"
   },
   {
    "duration": 74,
    "start_time": "2023-09-09T19:37:10.521Z"
   },
   {
    "duration": 103,
    "start_time": "2023-09-09T19:37:10.596Z"
   },
   {
    "duration": 114,
    "start_time": "2023-09-09T19:37:10.701Z"
   },
   {
    "duration": 224,
    "start_time": "2023-09-09T19:37:10.817Z"
   },
   {
    "duration": 46,
    "start_time": "2023-09-09T19:37:11.044Z"
   },
   {
    "duration": 705,
    "start_time": "2023-09-09T19:37:11.091Z"
   },
   {
    "duration": 407,
    "start_time": "2023-09-09T19:37:11.799Z"
   },
   {
    "duration": 4,
    "start_time": "2023-09-09T19:37:12.208Z"
   },
   {
    "duration": 57,
    "start_time": "2023-09-09T19:37:12.213Z"
   },
   {
    "duration": 4,
    "start_time": "2023-09-09T19:37:12.271Z"
   },
   {
    "duration": 113,
    "start_time": "2023-09-09T19:37:12.276Z"
   },
   {
    "duration": 4,
    "start_time": "2023-09-09T19:37:12.391Z"
   },
   {
    "duration": 26,
    "start_time": "2023-09-09T19:37:12.396Z"
   },
   {
    "duration": 403,
    "start_time": "2023-09-09T19:37:12.424Z"
   },
   {
    "duration": 383,
    "start_time": "2023-09-09T19:37:12.828Z"
   },
   {
    "duration": 3,
    "start_time": "2023-09-09T19:37:13.212Z"
   },
   {
    "duration": 48790,
    "start_time": "2023-09-09T19:37:13.216Z"
   },
   {
    "duration": 2,
    "start_time": "2023-09-09T19:38:02.008Z"
   },
   {
    "duration": 574979,
    "start_time": "2023-09-09T19:38:02.012Z"
   },
   {
    "duration": 3,
    "start_time": "2023-09-09T19:47:36.993Z"
   },
   {
    "duration": 77352,
    "start_time": "2023-09-09T19:47:36.998Z"
   },
   {
    "duration": 616535,
    "start_time": "2023-09-09T19:49:18.610Z"
   },
   {
    "duration": 3,
    "start_time": "2023-09-09T20:01:00.414Z"
   },
   {
    "duration": 905508,
    "start_time": "2023-09-09T20:01:02.863Z"
   },
   {
    "duration": 2,
    "start_time": "2023-09-09T20:16:46.074Z"
   },
   {
    "duration": 11,
    "start_time": "2023-09-09T20:22:38.455Z"
   },
   {
    "duration": 11,
    "start_time": "2023-09-09T20:25:10.637Z"
   },
   {
    "duration": 6358,
    "start_time": "2023-09-10T09:08:17.204Z"
   },
   {
    "duration": 1315,
    "start_time": "2023-09-10T09:08:23.564Z"
   },
   {
    "duration": 106,
    "start_time": "2023-09-10T09:08:24.881Z"
   },
   {
    "duration": 157,
    "start_time": "2023-09-10T09:08:24.989Z"
   },
   {
    "duration": 61,
    "start_time": "2023-09-10T09:08:25.149Z"
   },
   {
    "duration": 61,
    "start_time": "2023-09-10T09:08:25.212Z"
   },
   {
    "duration": 142,
    "start_time": "2023-09-10T09:08:25.275Z"
   },
   {
    "duration": 81,
    "start_time": "2023-09-10T09:08:25.419Z"
   },
   {
    "duration": 127,
    "start_time": "2023-09-10T09:08:25.510Z"
   },
   {
    "duration": 138,
    "start_time": "2023-09-10T09:08:25.640Z"
   },
   {
    "duration": 272,
    "start_time": "2023-09-10T09:08:25.779Z"
   },
   {
    "duration": 59,
    "start_time": "2023-09-10T09:08:26.053Z"
   },
   {
    "duration": 862,
    "start_time": "2023-09-10T09:08:26.114Z"
   },
   {
    "duration": 488,
    "start_time": "2023-09-10T09:08:26.979Z"
   },
   {
    "duration": 4,
    "start_time": "2023-09-10T09:08:27.469Z"
   },
   {
    "duration": 69,
    "start_time": "2023-09-10T09:08:27.475Z"
   },
   {
    "duration": 4,
    "start_time": "2023-09-10T09:08:27.546Z"
   },
   {
    "duration": 140,
    "start_time": "2023-09-10T09:08:27.552Z"
   },
   {
    "duration": 17,
    "start_time": "2023-09-10T09:08:27.694Z"
   },
   {
    "duration": 35,
    "start_time": "2023-09-10T09:08:27.713Z"
   },
   {
    "duration": 492,
    "start_time": "2023-09-10T09:08:27.750Z"
   },
   {
    "duration": 427,
    "start_time": "2023-09-10T09:08:28.244Z"
   },
   {
    "duration": 0,
    "start_time": "2023-09-10T09:08:28.673Z"
   },
   {
    "duration": 0,
    "start_time": "2023-09-10T09:08:28.674Z"
   },
   {
    "duration": 0,
    "start_time": "2023-09-10T09:08:28.675Z"
   },
   {
    "duration": 0,
    "start_time": "2023-09-10T09:08:28.676Z"
   },
   {
    "duration": 0,
    "start_time": "2023-09-10T09:08:28.677Z"
   },
   {
    "duration": 0,
    "start_time": "2023-09-10T09:08:28.679Z"
   },
   {
    "duration": 0,
    "start_time": "2023-09-10T09:08:28.680Z"
   },
   {
    "duration": 467,
    "start_time": "2023-09-10T09:08:44.802Z"
   },
   {
    "duration": 3,
    "start_time": "2023-09-10T09:08:48.011Z"
   },
   {
    "duration": 102452,
    "start_time": "2023-09-10T09:08:49.705Z"
   },
   {
    "duration": 3,
    "start_time": "2023-09-10T09:26:21.397Z"
   },
   {
    "duration": 882594,
    "start_time": "2023-09-10T09:26:24.319Z"
   },
   {
    "duration": 6,
    "start_time": "2023-09-10T14:08:02.415Z"
   },
   {
    "duration": 4,
    "start_time": "2023-09-10T14:08:08.663Z"
   },
   {
    "duration": 16,
    "start_time": "2023-09-10T14:28:06.166Z"
   },
   {
    "duration": 63,
    "start_time": "2023-09-10T14:28:14.531Z"
   },
   {
    "duration": 1910,
    "start_time": "2023-09-10T14:30:02.349Z"
   },
   {
    "duration": 8,
    "start_time": "2023-09-10T14:30:14.118Z"
   },
   {
    "duration": 13,
    "start_time": "2023-09-10T14:33:23.494Z"
   },
   {
    "duration": 8,
    "start_time": "2023-09-10T14:55:30.206Z"
   },
   {
    "duration": 36,
    "start_time": "2023-09-10T14:55:37.001Z"
   },
   {
    "duration": 26,
    "start_time": "2023-09-10T14:55:44.547Z"
   },
   {
    "duration": 18,
    "start_time": "2023-09-10T14:59:58.694Z"
   },
   {
    "duration": 13,
    "start_time": "2023-09-10T15:00:04.925Z"
   },
   {
    "duration": 5,
    "start_time": "2023-09-10T15:02:49.976Z"
   },
   {
    "duration": 24,
    "start_time": "2023-09-10T15:02:58.871Z"
   },
   {
    "duration": 24,
    "start_time": "2023-09-10T15:03:40.143Z"
   },
   {
    "duration": 1609,
    "start_time": "2023-09-10T15:03:46.183Z"
   },
   {
    "duration": 993,
    "start_time": "2023-09-10T15:03:47.794Z"
   },
   {
    "duration": 134,
    "start_time": "2023-09-10T15:03:48.789Z"
   },
   {
    "duration": 178,
    "start_time": "2023-09-10T15:03:48.925Z"
   },
   {
    "duration": 44,
    "start_time": "2023-09-10T15:03:49.111Z"
   },
   {
    "duration": 57,
    "start_time": "2023-09-10T15:03:49.157Z"
   },
   {
    "duration": 115,
    "start_time": "2023-09-10T15:03:49.216Z"
   },
   {
    "duration": 81,
    "start_time": "2023-09-10T15:03:49.333Z"
   },
   {
    "duration": 126,
    "start_time": "2023-09-10T15:03:49.415Z"
   },
   {
    "duration": 140,
    "start_time": "2023-09-10T15:03:49.543Z"
   },
   {
    "duration": 276,
    "start_time": "2023-09-10T15:03:49.684Z"
   },
   {
    "duration": 57,
    "start_time": "2023-09-10T15:03:49.962Z"
   },
   {
    "duration": 948,
    "start_time": "2023-09-10T15:03:50.021Z"
   },
   {
    "duration": 479,
    "start_time": "2023-09-10T15:03:50.972Z"
   },
   {
    "duration": 148,
    "start_time": "2023-09-10T15:03:51.453Z"
   },
   {
    "duration": 0,
    "start_time": "2023-09-10T15:03:51.602Z"
   },
   {
    "duration": 0,
    "start_time": "2023-09-10T15:03:51.610Z"
   },
   {
    "duration": 0,
    "start_time": "2023-09-10T15:03:51.611Z"
   },
   {
    "duration": 0,
    "start_time": "2023-09-10T15:03:51.612Z"
   },
   {
    "duration": 0,
    "start_time": "2023-09-10T15:03:51.613Z"
   },
   {
    "duration": 0,
    "start_time": "2023-09-10T15:03:51.614Z"
   },
   {
    "duration": 0,
    "start_time": "2023-09-10T15:03:51.615Z"
   },
   {
    "duration": 0,
    "start_time": "2023-09-10T15:03:51.616Z"
   },
   {
    "duration": 0,
    "start_time": "2023-09-10T15:03:51.617Z"
   },
   {
    "duration": 0,
    "start_time": "2023-09-10T15:03:51.618Z"
   },
   {
    "duration": 0,
    "start_time": "2023-09-10T15:03:51.619Z"
   },
   {
    "duration": 0,
    "start_time": "2023-09-10T15:03:51.620Z"
   },
   {
    "duration": 0,
    "start_time": "2023-09-10T15:03:51.621Z"
   },
   {
    "duration": 0,
    "start_time": "2023-09-10T15:03:51.622Z"
   },
   {
    "duration": 88,
    "start_time": "2023-09-10T15:04:25.740Z"
   },
   {
    "duration": 71,
    "start_time": "2023-09-10T15:04:37.949Z"
   },
   {
    "duration": 65,
    "start_time": "2023-09-10T15:04:44.295Z"
   },
   {
    "duration": 68,
    "start_time": "2023-09-10T15:04:48.268Z"
   },
   {
    "duration": 60,
    "start_time": "2023-09-10T15:10:16.416Z"
   },
   {
    "duration": 26,
    "start_time": "2023-09-10T15:31:18.450Z"
   },
   {
    "duration": 17282,
    "start_time": "2023-09-10T15:31:37.577Z"
   },
   {
    "duration": 5,
    "start_time": "2023-09-10T15:32:25.799Z"
   },
   {
    "duration": 5,
    "start_time": "2023-09-10T15:33:10.374Z"
   },
   {
    "duration": 14712,
    "start_time": "2023-09-10T15:33:39.022Z"
   },
   {
    "duration": 59,
    "start_time": "2023-09-10T15:39:19.813Z"
   },
   {
    "duration": 89,
    "start_time": "2023-09-10T15:43:12.359Z"
   },
   {
    "duration": 5,
    "start_time": "2023-09-10T15:43:16.318Z"
   },
   {
    "duration": 972,
    "start_time": "2023-09-10T15:43:16.326Z"
   },
   {
    "duration": 41236,
    "start_time": "2023-09-10T15:43:17.301Z"
   },
   {
    "duration": 121,
    "start_time": "2023-09-10T15:43:58.540Z"
   },
   {
    "duration": 180,
    "start_time": "2023-09-10T15:43:58.664Z"
   },
   {
    "duration": 210,
    "start_time": "2023-09-10T15:43:58.846Z"
   },
   {
    "duration": 54,
    "start_time": "2023-09-10T15:43:59.058Z"
   },
   {
    "duration": 19,
    "start_time": "2023-09-10T15:43:59.114Z"
   },
   {
    "duration": 123,
    "start_time": "2023-09-10T15:43:59.137Z"
   },
   {
    "duration": 78,
    "start_time": "2023-09-10T15:43:59.262Z"
   },
   {
    "duration": 129,
    "start_time": "2023-09-10T15:43:59.342Z"
   },
   {
    "duration": 142,
    "start_time": "2023-09-10T15:43:59.473Z"
   },
   {
    "duration": 261,
    "start_time": "2023-09-10T15:43:59.616Z"
   },
   {
    "duration": 65,
    "start_time": "2023-09-10T15:43:59.879Z"
   },
   {
    "duration": 872,
    "start_time": "2023-09-10T15:43:59.946Z"
   },
   {
    "duration": 889,
    "start_time": "2023-09-10T15:44:00.820Z"
   },
   {
    "duration": 67,
    "start_time": "2023-09-10T15:44:01.711Z"
   },
   {
    "duration": 90,
    "start_time": "2023-09-10T15:44:01.780Z"
   },
   {
    "duration": 74,
    "start_time": "2023-09-10T15:44:01.872Z"
   },
   {
    "duration": 11,
    "start_time": "2023-09-10T15:44:01.948Z"
   },
   {
    "duration": 272,
    "start_time": "2023-09-10T15:44:01.960Z"
   },
   {
    "duration": 5,
    "start_time": "2023-09-10T15:44:02.234Z"
   },
   {
    "duration": 74,
    "start_time": "2023-09-10T15:44:02.241Z"
   },
   {
    "duration": 476,
    "start_time": "2023-09-10T15:44:02.319Z"
   },
   {
    "duration": 405,
    "start_time": "2023-09-10T15:44:02.796Z"
   },
   {
    "duration": 6,
    "start_time": "2023-09-10T15:44:03.203Z"
   },
   {
    "duration": 70543,
    "start_time": "2023-09-10T15:44:03.211Z"
   },
   {
    "duration": 3,
    "start_time": "2023-09-10T15:45:13.756Z"
   },
   {
    "duration": 155807,
    "start_time": "2023-09-10T15:45:13.760Z"
   },
   {
    "duration": 4,
    "start_time": "2023-09-10T15:47:49.568Z"
   },
   {
    "duration": 403555,
    "start_time": "2023-09-10T15:47:49.573Z"
   },
   {
    "duration": 16,
    "start_time": "2023-09-10T15:54:33.130Z"
   },
   {
    "duration": 0,
    "start_time": "2023-09-10T15:54:33.151Z"
   },
   {
    "duration": 1588,
    "start_time": "2023-09-10T15:55:45.502Z"
   },
   {
    "duration": 377,
    "start_time": "2023-09-10T15:55:58.051Z"
   },
   {
    "duration": 359,
    "start_time": "2023-09-10T15:56:41.513Z"
   },
   {
    "duration": 13,
    "start_time": "2023-09-10T16:03:18.716Z"
   },
   {
    "duration": 4,
    "start_time": "2023-09-10T16:03:36.932Z"
   },
   {
    "duration": 45,
    "start_time": "2023-09-10T16:03:51.263Z"
   },
   {
    "duration": 74,
    "start_time": "2023-09-10T19:03:09.377Z"
   },
   {
    "duration": 20,
    "start_time": "2023-09-10T19:07:11.528Z"
   },
   {
    "duration": 87,
    "start_time": "2023-09-10T19:07:17.793Z"
   },
   {
    "duration": 49,
    "start_time": "2023-09-10T19:09:34.533Z"
   },
   {
    "duration": 2146,
    "start_time": "2023-09-10T19:09:46.548Z"
   },
   {
    "duration": 989,
    "start_time": "2023-09-10T19:09:48.696Z"
   },
   {
    "duration": 41010,
    "start_time": "2023-09-10T19:09:49.687Z"
   },
   {
    "duration": 121,
    "start_time": "2023-09-10T19:10:30.699Z"
   },
   {
    "duration": 142,
    "start_time": "2023-09-10T19:10:30.823Z"
   },
   {
    "duration": 150,
    "start_time": "2023-09-10T19:10:31.010Z"
   },
   {
    "duration": 56,
    "start_time": "2023-09-10T19:10:31.162Z"
   },
   {
    "duration": 22,
    "start_time": "2023-09-10T19:10:31.220Z"
   },
   {
    "duration": 151,
    "start_time": "2023-09-10T19:10:31.244Z"
   },
   {
    "duration": 80,
    "start_time": "2023-09-10T19:10:31.397Z"
   },
   {
    "duration": 133,
    "start_time": "2023-09-10T19:10:31.479Z"
   },
   {
    "duration": 140,
    "start_time": "2023-09-10T19:10:31.614Z"
   },
   {
    "duration": 262,
    "start_time": "2023-09-10T19:10:31.758Z"
   },
   {
    "duration": 51,
    "start_time": "2023-09-10T19:10:32.023Z"
   },
   {
    "duration": 1014,
    "start_time": "2023-09-10T19:10:32.076Z"
   },
   {
    "duration": 540,
    "start_time": "2023-09-10T19:10:33.092Z"
   },
   {
    "duration": 77,
    "start_time": "2023-09-10T19:10:33.634Z"
   },
   {
    "duration": 66,
    "start_time": "2023-09-10T19:10:33.713Z"
   },
   {
    "duration": 81,
    "start_time": "2023-09-10T19:10:33.781Z"
   },
   {
    "duration": 5,
    "start_time": "2023-09-10T19:10:33.864Z"
   },
   {
    "duration": 125,
    "start_time": "2023-09-10T19:10:33.871Z"
   },
   {
    "duration": 70,
    "start_time": "2023-09-10T19:10:33.999Z"
   },
   {
    "duration": 125,
    "start_time": "2023-09-10T19:10:34.071Z"
   },
   {
    "duration": 15,
    "start_time": "2023-09-10T19:10:34.197Z"
   },
   {
    "duration": 37,
    "start_time": "2023-09-10T19:10:34.214Z"
   },
   {
    "duration": 252,
    "start_time": "2023-09-10T19:10:34.253Z"
   },
   {
    "duration": 0,
    "start_time": "2023-09-10T19:10:34.510Z"
   },
   {
    "duration": 0,
    "start_time": "2023-09-10T19:10:34.511Z"
   },
   {
    "duration": 0,
    "start_time": "2023-09-10T19:10:34.512Z"
   },
   {
    "duration": 0,
    "start_time": "2023-09-10T19:10:34.513Z"
   },
   {
    "duration": 0,
    "start_time": "2023-09-10T19:10:34.514Z"
   },
   {
    "duration": 0,
    "start_time": "2023-09-10T19:10:34.515Z"
   },
   {
    "duration": 0,
    "start_time": "2023-09-10T19:10:34.516Z"
   },
   {
    "duration": 1,
    "start_time": "2023-09-10T19:10:34.517Z"
   },
   {
    "duration": 81,
    "start_time": "2023-09-10T19:11:10.952Z"
   },
   {
    "duration": 302,
    "start_time": "2023-09-10T19:11:14.059Z"
   },
   {
    "duration": 5,
    "start_time": "2023-09-10T19:11:50.899Z"
   },
   {
    "duration": 5,
    "start_time": "2023-09-10T19:14:04.385Z"
   },
   {
    "duration": 6,
    "start_time": "2023-09-10T19:14:14.004Z"
   },
   {
    "duration": 2170,
    "start_time": "2023-09-10T19:18:34.231Z"
   },
   {
    "duration": 1009,
    "start_time": "2023-09-10T19:18:36.403Z"
   },
   {
    "duration": 40292,
    "start_time": "2023-09-10T19:18:37.415Z"
   },
   {
    "duration": 127,
    "start_time": "2023-09-10T19:19:17.709Z"
   },
   {
    "duration": 183,
    "start_time": "2023-09-10T19:19:17.838Z"
   },
   {
    "duration": 167,
    "start_time": "2023-09-10T19:19:18.022Z"
   },
   {
    "duration": 45,
    "start_time": "2023-09-10T19:19:18.191Z"
   },
   {
    "duration": 19,
    "start_time": "2023-09-10T19:19:18.238Z"
   },
   {
    "duration": 117,
    "start_time": "2023-09-10T19:19:18.258Z"
   },
   {
    "duration": 82,
    "start_time": "2023-09-10T19:19:18.378Z"
   },
   {
    "duration": 143,
    "start_time": "2023-09-10T19:19:18.462Z"
   },
   {
    "duration": 142,
    "start_time": "2023-09-10T19:19:18.613Z"
   },
   {
    "duration": 247,
    "start_time": "2023-09-10T19:19:18.757Z"
   },
   {
    "duration": 55,
    "start_time": "2023-09-10T19:19:19.005Z"
   },
   {
    "duration": 804,
    "start_time": "2023-09-10T19:19:19.062Z"
   },
   {
    "duration": 488,
    "start_time": "2023-09-10T19:19:19.868Z"
   },
   {
    "duration": 76,
    "start_time": "2023-09-10T19:19:20.358Z"
   },
   {
    "duration": 74,
    "start_time": "2023-09-10T19:19:20.436Z"
   },
   {
    "duration": 64,
    "start_time": "2023-09-10T19:19:20.513Z"
   },
   {
    "duration": 6,
    "start_time": "2023-09-10T19:19:20.579Z"
   },
   {
    "duration": 123,
    "start_time": "2023-09-10T19:19:20.609Z"
   },
   {
    "duration": 75,
    "start_time": "2023-09-10T19:19:20.734Z"
   },
   {
    "duration": 119,
    "start_time": "2023-09-10T19:19:20.811Z"
   },
   {
    "duration": 6,
    "start_time": "2023-09-10T19:19:20.932Z"
   },
   {
    "duration": 93,
    "start_time": "2023-09-10T19:19:20.940Z"
   },
   {
    "duration": 304,
    "start_time": "2023-09-10T19:19:21.035Z"
   },
   {
    "duration": 6,
    "start_time": "2023-09-10T19:19:21.341Z"
   },
   {
    "duration": 740,
    "start_time": "2023-09-10T19:19:21.351Z"
   },
   {
    "duration": 3,
    "start_time": "2023-09-10T19:19:22.093Z"
   },
   {
    "duration": 124888,
    "start_time": "2023-09-10T19:19:22.098Z"
   },
   {
    "duration": 3,
    "start_time": "2023-09-10T19:21:26.988Z"
   },
   {
    "duration": 65828,
    "start_time": "2023-09-10T19:21:26.992Z"
   },
   {
    "duration": 89,
    "start_time": "2023-09-10T19:22:32.823Z"
   },
   {
    "duration": 187605,
    "start_time": "2023-09-10T19:22:32.915Z"
   },
   {
    "duration": 15,
    "start_time": "2023-09-10T19:25:40.522Z"
   },
   {
    "duration": 0,
    "start_time": "2023-09-10T19:25:40.541Z"
   },
   {
    "duration": 0,
    "start_time": "2023-09-10T19:25:40.542Z"
   },
   {
    "duration": 0,
    "start_time": "2023-09-10T19:25:40.543Z"
   },
   {
    "duration": 64,
    "start_time": "2023-09-10T19:25:46.731Z"
   },
   {
    "duration": 42,
    "start_time": "2023-09-10T19:25:48.373Z"
   },
   {
    "duration": 203,
    "start_time": "2023-09-10T19:25:50.156Z"
   },
   {
    "duration": 7,
    "start_time": "2023-09-10T19:25:52.194Z"
   },
   {
    "duration": 2172,
    "start_time": "2023-09-10T19:30:38.718Z"
   },
   {
    "duration": 974,
    "start_time": "2023-09-10T19:30:40.892Z"
   },
   {
    "duration": 41004,
    "start_time": "2023-09-10T19:30:41.868Z"
   },
   {
    "duration": 130,
    "start_time": "2023-09-10T19:31:22.874Z"
   },
   {
    "duration": 155,
    "start_time": "2023-09-10T19:31:23.005Z"
   },
   {
    "duration": 153,
    "start_time": "2023-09-10T19:31:23.209Z"
   },
   {
    "duration": 55,
    "start_time": "2023-09-10T19:31:23.363Z"
   },
   {
    "duration": 18,
    "start_time": "2023-09-10T19:31:23.420Z"
   },
   {
    "duration": 112,
    "start_time": "2023-09-10T19:31:23.440Z"
   },
   {
    "duration": 77,
    "start_time": "2023-09-10T19:31:23.554Z"
   },
   {
    "duration": 130,
    "start_time": "2023-09-10T19:31:23.633Z"
   },
   {
    "duration": 146,
    "start_time": "2023-09-10T19:31:23.765Z"
   },
   {
    "duration": 266,
    "start_time": "2023-09-10T19:31:23.913Z"
   },
   {
    "duration": 59,
    "start_time": "2023-09-10T19:31:24.181Z"
   },
   {
    "duration": 833,
    "start_time": "2023-09-10T19:31:24.242Z"
   },
   {
    "duration": 513,
    "start_time": "2023-09-10T19:31:25.077Z"
   },
   {
    "duration": 70,
    "start_time": "2023-09-10T19:31:25.592Z"
   },
   {
    "duration": 76,
    "start_time": "2023-09-10T19:31:25.664Z"
   },
   {
    "duration": 71,
    "start_time": "2023-09-10T19:31:25.742Z"
   },
   {
    "duration": 6,
    "start_time": "2023-09-10T19:31:25.815Z"
   },
   {
    "duration": 134,
    "start_time": "2023-09-10T19:31:25.823Z"
   },
   {
    "duration": 70,
    "start_time": "2023-09-10T19:31:25.959Z"
   },
   {
    "duration": 115,
    "start_time": "2023-09-10T19:31:26.031Z"
   },
   {
    "duration": 6,
    "start_time": "2023-09-10T19:31:26.147Z"
   },
   {
    "duration": 92,
    "start_time": "2023-09-10T19:31:26.154Z"
   },
   {
    "duration": 47,
    "start_time": "2023-09-10T19:31:26.248Z"
   },
   {
    "duration": 288,
    "start_time": "2023-09-10T19:31:26.297Z"
   },
   {
    "duration": 8,
    "start_time": "2023-09-10T19:31:26.590Z"
   },
   {
    "duration": 5,
    "start_time": "2023-09-10T19:31:26.609Z"
   },
   {
    "duration": 247,
    "start_time": "2023-09-10T19:31:26.616Z"
   },
   {
    "duration": 3,
    "start_time": "2023-09-10T19:31:26.865Z"
   },
   {
    "duration": 57942,
    "start_time": "2023-09-10T19:31:26.871Z"
   },
   {
    "duration": 88,
    "start_time": "2023-09-10T19:32:24.822Z"
   },
   {
    "duration": 90,
    "start_time": "2023-09-10T19:32:24.912Z"
   },
   {
    "duration": 14,
    "start_time": "2023-09-10T19:32:25.004Z"
   },
   {
    "duration": 0,
    "start_time": "2023-09-10T19:32:25.020Z"
   },
   {
    "duration": 3,
    "start_time": "2023-09-10T19:32:39.148Z"
   },
   {
    "duration": 73755,
    "start_time": "2023-09-10T19:32:40.877Z"
   },
   {
    "duration": 7,
    "start_time": "2023-09-10T19:34:02.708Z"
   },
   {
    "duration": 693419,
    "start_time": "2023-09-10T19:34:04.511Z"
   },
   {
    "duration": 20,
    "start_time": "2023-09-10T19:54:37.104Z"
   },
   {
    "duration": 13,
    "start_time": "2023-09-10T19:55:31.162Z"
   },
   {
    "duration": 6099,
    "start_time": "2023-09-10T20:01:04.411Z"
   },
   {
    "duration": 7,
    "start_time": "2023-09-10T20:04:07.899Z"
   },
   {
    "duration": 4,
    "start_time": "2023-09-10T20:10:47.668Z"
   },
   {
    "duration": 5,
    "start_time": "2023-09-10T20:11:22.487Z"
   },
   {
    "duration": 10,
    "start_time": "2023-09-10T20:11:55.715Z"
   },
   {
    "duration": 4,
    "start_time": "2023-09-10T20:16:23.318Z"
   },
   {
    "duration": 3,
    "start_time": "2023-09-10T20:16:27.951Z"
   },
   {
    "duration": 4,
    "start_time": "2023-09-10T20:16:35.878Z"
   },
   {
    "duration": 15,
    "start_time": "2023-09-10T20:16:37.841Z"
   },
   {
    "duration": 2167,
    "start_time": "2023-09-10T20:17:54.750Z"
   },
   {
    "duration": 1009,
    "start_time": "2023-09-10T20:17:56.919Z"
   },
   {
    "duration": 41442,
    "start_time": "2023-09-10T20:17:57.930Z"
   },
   {
    "duration": 127,
    "start_time": "2023-09-10T20:18:39.374Z"
   },
   {
    "duration": 157,
    "start_time": "2023-09-10T20:18:39.503Z"
   },
   {
    "duration": 149,
    "start_time": "2023-09-10T20:18:39.709Z"
   },
   {
    "duration": 52,
    "start_time": "2023-09-10T20:18:39.860Z"
   },
   {
    "duration": 19,
    "start_time": "2023-09-10T20:18:39.914Z"
   },
   {
    "duration": 124,
    "start_time": "2023-09-10T20:18:39.935Z"
   },
   {
    "duration": 80,
    "start_time": "2023-09-10T20:18:40.061Z"
   },
   {
    "duration": 135,
    "start_time": "2023-09-10T20:18:40.143Z"
   },
   {
    "duration": 140,
    "start_time": "2023-09-10T20:18:40.279Z"
   },
   {
    "duration": 261,
    "start_time": "2023-09-10T20:18:40.421Z"
   },
   {
    "duration": 60,
    "start_time": "2023-09-10T20:18:40.685Z"
   },
   {
    "duration": 806,
    "start_time": "2023-09-10T20:18:40.747Z"
   },
   {
    "duration": 483,
    "start_time": "2023-09-10T20:18:41.555Z"
   },
   {
    "duration": 74,
    "start_time": "2023-09-10T20:18:42.039Z"
   },
   {
    "duration": 63,
    "start_time": "2023-09-10T20:18:42.115Z"
   },
   {
    "duration": 77,
    "start_time": "2023-09-10T20:18:42.180Z"
   },
   {
    "duration": 6,
    "start_time": "2023-09-10T20:18:42.259Z"
   },
   {
    "duration": 133,
    "start_time": "2023-09-10T20:18:42.266Z"
   },
   {
    "duration": 87,
    "start_time": "2023-09-10T20:18:42.401Z"
   },
   {
    "duration": 144,
    "start_time": "2023-09-10T20:18:42.491Z"
   },
   {
    "duration": 5,
    "start_time": "2023-09-10T20:18:42.637Z"
   },
   {
    "duration": 105,
    "start_time": "2023-09-10T20:18:42.645Z"
   },
   {
    "duration": 47,
    "start_time": "2023-09-10T20:18:42.752Z"
   },
   {
    "duration": 271,
    "start_time": "2023-09-10T20:18:42.801Z"
   },
   {
    "duration": 7,
    "start_time": "2023-09-10T20:18:43.073Z"
   },
   {
    "duration": 4,
    "start_time": "2023-09-10T20:18:43.082Z"
   },
   {
    "duration": 112751,
    "start_time": "2023-09-10T20:18:43.088Z"
   },
   {
    "duration": 4,
    "start_time": "2023-09-10T20:20:35.840Z"
   },
   {
    "duration": 6,
    "start_time": "2023-09-10T20:20:35.846Z"
   },
   {
    "duration": 9,
    "start_time": "2023-09-10T20:20:35.853Z"
   },
   {
    "duration": 55158,
    "start_time": "2023-09-10T20:20:35.864Z"
   },
   {
    "duration": 6,
    "start_time": "2023-09-10T20:21:31.111Z"
   },
   {
    "duration": 92,
    "start_time": "2023-09-10T20:21:31.119Z"
   },
   {
    "duration": 1182312,
    "start_time": "2023-09-10T20:21:31.214Z"
   },
   {
    "duration": 5,
    "start_time": "2023-09-10T20:41:13.528Z"
   },
   {
    "duration": 15,
    "start_time": "2023-09-10T20:41:13.535Z"
   },
   {
    "duration": 5957,
    "start_time": "2023-09-10T20:41:13.552Z"
   },
   {
    "duration": 63,
    "start_time": "2023-10-09T17:40:10.057Z"
   }
  ],
  "kernelspec": {
   "display_name": "Python 3 (ipykernel)",
   "language": "python",
   "name": "python3"
  },
  "language_info": {
   "codemirror_mode": {
    "name": "ipython",
    "version": 3
   },
   "file_extension": ".py",
   "mimetype": "text/x-python",
   "name": "python",
   "nbconvert_exporter": "python",
   "pygments_lexer": "ipython3",
   "version": "3.9.5"
  },
  "toc": {
   "base_numbering": 1,
   "nav_menu": {},
   "number_sections": true,
   "sideBar": true,
   "skip_h1_title": true,
   "title_cell": "Table of Contents",
   "title_sidebar": "Contents",
   "toc_cell": false,
   "toc_position": {},
   "toc_section_display": true,
   "toc_window_display": false
  }
 },
 "nbformat": 4,
 "nbformat_minor": 2
}
